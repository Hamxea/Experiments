{
  "nbformat": 4,
  "nbformat_minor": 0,
  "metadata": {
    "colab": {
      "name": "_With_Word2Vec_Pre_trained_Embedding.ipynb",
      "version": "0.3.2",
      "provenance": [],
      "collapsed_sections": [],
      "toc_visible": true,
      "include_colab_link": true
    },
    "language_info": {
      "codemirror_mode": {
        "name": "ipython",
        "version": 3
      },
      "file_extension": ".py",
      "mimetype": "text/x-python",
      "name": "python",
      "nbconvert_exporter": "python",
      "pygments_lexer": "ipython3",
      "version": "3.7.3"
    },
    "kernelspec": {
      "display_name": "Python 3",
      "language": "python",
      "name": "python3"
    },
    "accelerator": "TPU"
  },
  "cells": [
    {
      "cell_type": "markdown",
      "metadata": {
        "id": "view-in-github",
        "colab_type": "text"
      },
      "source": [
        "<a href=\"https://colab.research.google.com/github/Hamxea/Experiments/blob/master/_With_Word2Vec_Pre_trained_Embedding.ipynb\" target=\"_parent\"><img src=\"https://colab.research.google.com/assets/colab-badge.svg\" alt=\"Open In Colab\"/></a>"
      ]
    },
    {
      "cell_type": "markdown",
      "metadata": {
        "colab_type": "text",
        "id": "JnB0s1tPejbl"
      },
      "source": [
        "# Multi-Label Text Classification of Text Document or News\n"
      ]
    },
    {
      "cell_type": "markdown",
      "metadata": {
        "colab_type": "text",
        "id": "fKccKTR_ejbm"
      },
      "source": [
        " ### DATASET\n",
        "\n",
        "Toxic Comment Classification dataset. a multi-label text classfication data consisting of many wikipedia comments which have been labeled by humans according to their relative toxicity comments labels such as \"toxic\", \"severe_toxic\", \"obscene\", \"threat\", \"insult\", and  \"identity_hate\". The dataset has approximately ~160k observation in total, ~125k with zero labels (toxicity) of any type, and approximately ~35k classified in one or more toxicity categories.\n",
        "\n",
        "\n",
        "\n",
        "\n",
        "*   Dataset Link: https://www.kaggle.com/c/jigsaw-toxic-comment-classification-challenge\n",
        "\n",
        "\n"
      ]
    },
    {
      "cell_type": "markdown",
      "metadata": {
        "colab_type": "text",
        "id": "h4oWa1Aqejbn"
      },
      "source": [
        "\n",
        "#### DATA CHARACTERISTICS (TRAIN DATASET)\n",
        "* Number of data points\t159571\n",
        "* Number data points of type toxic\t15294\n",
        "* Number data points of type severe_tocic\t1595\n",
        "* Number data points of type obscene\t8449\n",
        "* Number data points of type threat\t478\n",
        "* Number data points of type insult\t7877\n",
        "* Number data points of type identity_hate\t1405\n",
        "* Observations in one or more class\t35098\n",
        "* Unclassified observation\t124473\n"
      ]
    },
    {
      "cell_type": "markdown",
      "metadata": {
        "colab_type": "text",
        "id": "NoB57aB6ejbo"
      },
      "source": [
        "### Import necessary libraries for the experiment"
      ]
    },
    {
      "cell_type": "code",
      "metadata": {
        "colab_type": "code",
        "id": "BXuDj-0Vejbp",
        "outputId": "b90fe51d-a085-43e6-86fd-09957f336830",
        "colab": {
          "base_uri": "https://localhost:8080/",
          "height": 247
        }
      },
      "source": [
        "# importing libraries\n",
        "import tensorflow as tf\n",
        "from keras import initializers, regularizers, constraints, optimizers, layers, callbacks\n",
        "from keras.callbacks import EarlyStopping,ModelCheckpoint\n",
        "from keras.preprocessing.text import Tokenizer\n",
        "from keras.preprocessing.sequence import pad_sequences\n",
        "from keras.preprocessing import text, sequence\n",
        "from keras import initializers, regularizers, constraints, optimizers, layers\n",
        "from keras.models import Model, Input, Sequential\n",
        "from keras.layers import Dense, Input, LSTM, SimpleRNN, Embedding, Dropout, SpatialDropout1D, Activation, Conv1D,GRU\n",
        "from keras.layers import Conv1D, Bidirectional, GlobalMaxPool1D, MaxPooling1D, BatchNormalization, Add, Flatten\n",
        "from keras.layers import GlobalMaxPooling1D, GlobalAveragePooling1D, concatenate, SpatialDropout1D\n",
        "from keras.optimizers import Adam\n",
        "from keras.utils.vis_utils import plot_model\n",
        "from sklearn.model_selection  import train_test_split\n",
        "#from sklearn.cross_validation import train_test_split\n",
        "\n",
        "\n",
        "# For custom metrics\n",
        "import keras.backend as K\n",
        "from keras.utils.vis_utils import plot_model\n",
        "from keras.callbacks import EarlyStopping \n",
        "\n",
        "\n",
        "import pandas as pd\n",
        "import numpy as np\n",
        " \n",
        "import matplotlib.pyplot as plt\n",
        "\n",
        "plt.style.use('seaborn')\n",
        "\n",
        "import seaborn as sns\n",
        "from IPython.display import Image\n",
        "\n",
        "from tqdm import tqdm\n",
        "from nltk.corpus import stopwords\n",
        "from nltk.tokenize import RegexpTokenizer \n",
        "import os, re, csv, math, codecs\n",
        "from nltk.tokenize import word_tokenize\n",
        "import string\n",
        "import gensim\n",
        "import os\n",
        "import re\n",
        "\n",
        "sns.set_style(\"whitegrid\")\n",
        "np.random.seed(0)\n",
        "\n",
        "import plotly.plotly as py\n",
        "import plotly.graph_objs as go\n",
        "import plotly\n",
        "plotly.tools.set_credentials_file(username='hamzasharoon', api_key='9le0c8M5GUNRAKyJoIt2')\n",
        "\n",
        "\n",
        "# Install dependencies\n",
        "!apt install graphviz\n",
        "!pip install pydot pydot-ng\n",
        "!echo \"Double check with Python 3\"\n",
        "!python -c \"import pydot\""
      ],
      "execution_count": 0,
      "outputs": [
        {
          "output_type": "stream",
          "text": [
            "'apt' is not recognized as an internal or external command,\n",
            "operable program or batch file.\n"
          ],
          "name": "stderr"
        },
        {
          "output_type": "stream",
          "text": [
            "Requirement already satisfied: pydot in d:\\program files\\anaconda\\lib\\site-packages (1.4.1)\n",
            "Requirement already satisfied: pydot-ng in d:\\program files\\anaconda\\lib\\site-packages (2.0.0)\n",
            "Requirement already satisfied: pyparsing>=2.1.4 in d:\\program files\\anaconda\\lib\\site-packages (from pydot) (2.3.1)\n",
            "\"Double check with Python 3\"\n"
          ],
          "name": "stdout"
        }
      ]
    },
    {
      "cell_type": "code",
      "metadata": {
        "colab_type": "code",
        "id": "ClGBLAyTyw5C",
        "colab": {}
      },
      "source": [
        "#from google.colab import files\n",
        "#uploaded = files.upload()\n",
        "\n",
        "#from google.colab import drive\n",
        "#!kaggle competitions download -c Toxic Comment Classification Challenge -p /content/gdrive/My\\ Drive/kaggle/Colab Notebooks/Dataset"
      ],
      "execution_count": 0,
      "outputs": []
    },
    {
      "cell_type": "markdown",
      "metadata": {
        "colab_type": "text",
        "id": "Wbd_vQHxejbu"
      },
      "source": [
        "### Loading the necessary data files and data Preparation"
      ]
    },
    {
      "cell_type": "code",
      "metadata": {
        "colab_type": "code",
        "id": "6mdP52kqu-Kt",
        "outputId": "7c523df2-e827-4fe3-e0dc-0a50b922b9f3",
        "colab": {
          "base_uri": "https://localhost:8080/",
          "height": 347
        }
      },
      "source": [
        "#Train data\n",
        "train = pd.read_csv('D:/çankaya/2ndYEAR/Thesis/Experiments/Data_Toxic Comment Classification/train.csv')\n",
        "train.head(10)"
      ],
      "execution_count": 0,
      "outputs": [
        {
          "output_type": "execute_result",
          "data": {
            "text/html": [
              "<div>\n",
              "<style scoped>\n",
              "    .dataframe tbody tr th:only-of-type {\n",
              "        vertical-align: middle;\n",
              "    }\n",
              "\n",
              "    .dataframe tbody tr th {\n",
              "        vertical-align: top;\n",
              "    }\n",
              "\n",
              "    .dataframe thead th {\n",
              "        text-align: right;\n",
              "    }\n",
              "</style>\n",
              "<table border=\"1\" class=\"dataframe\">\n",
              "  <thead>\n",
              "    <tr style=\"text-align: right;\">\n",
              "      <th></th>\n",
              "      <th>id</th>\n",
              "      <th>comment_text</th>\n",
              "      <th>toxic</th>\n",
              "      <th>severe_toxic</th>\n",
              "      <th>obscene</th>\n",
              "      <th>threat</th>\n",
              "      <th>insult</th>\n",
              "      <th>identity_hate</th>\n",
              "    </tr>\n",
              "  </thead>\n",
              "  <tbody>\n",
              "    <tr>\n",
              "      <th>0</th>\n",
              "      <td>0000997932d777bf</td>\n",
              "      <td>Explanation\\nWhy the edits made under my usern...</td>\n",
              "      <td>0</td>\n",
              "      <td>0</td>\n",
              "      <td>0</td>\n",
              "      <td>0</td>\n",
              "      <td>0</td>\n",
              "      <td>0</td>\n",
              "    </tr>\n",
              "    <tr>\n",
              "      <th>1</th>\n",
              "      <td>000103f0d9cfb60f</td>\n",
              "      <td>D'aww! He matches this background colour I'm s...</td>\n",
              "      <td>0</td>\n",
              "      <td>0</td>\n",
              "      <td>0</td>\n",
              "      <td>0</td>\n",
              "      <td>0</td>\n",
              "      <td>0</td>\n",
              "    </tr>\n",
              "    <tr>\n",
              "      <th>2</th>\n",
              "      <td>000113f07ec002fd</td>\n",
              "      <td>Hey man, I'm really not trying to edit war. It...</td>\n",
              "      <td>0</td>\n",
              "      <td>0</td>\n",
              "      <td>0</td>\n",
              "      <td>0</td>\n",
              "      <td>0</td>\n",
              "      <td>0</td>\n",
              "    </tr>\n",
              "    <tr>\n",
              "      <th>3</th>\n",
              "      <td>0001b41b1c6bb37e</td>\n",
              "      <td>\"\\nMore\\nI can't make any real suggestions on ...</td>\n",
              "      <td>0</td>\n",
              "      <td>0</td>\n",
              "      <td>0</td>\n",
              "      <td>0</td>\n",
              "      <td>0</td>\n",
              "      <td>0</td>\n",
              "    </tr>\n",
              "    <tr>\n",
              "      <th>4</th>\n",
              "      <td>0001d958c54c6e35</td>\n",
              "      <td>You, sir, are my hero. Any chance you remember...</td>\n",
              "      <td>0</td>\n",
              "      <td>0</td>\n",
              "      <td>0</td>\n",
              "      <td>0</td>\n",
              "      <td>0</td>\n",
              "      <td>0</td>\n",
              "    </tr>\n",
              "    <tr>\n",
              "      <th>5</th>\n",
              "      <td>00025465d4725e87</td>\n",
              "      <td>\"\\n\\nCongratulations from me as well, use the ...</td>\n",
              "      <td>0</td>\n",
              "      <td>0</td>\n",
              "      <td>0</td>\n",
              "      <td>0</td>\n",
              "      <td>0</td>\n",
              "      <td>0</td>\n",
              "    </tr>\n",
              "    <tr>\n",
              "      <th>6</th>\n",
              "      <td>0002bcb3da6cb337</td>\n",
              "      <td>COCKSUCKER BEFORE YOU PISS AROUND ON MY WORK</td>\n",
              "      <td>1</td>\n",
              "      <td>1</td>\n",
              "      <td>1</td>\n",
              "      <td>0</td>\n",
              "      <td>1</td>\n",
              "      <td>0</td>\n",
              "    </tr>\n",
              "    <tr>\n",
              "      <th>7</th>\n",
              "      <td>00031b1e95af7921</td>\n",
              "      <td>Your vandalism to the Matt Shirvington article...</td>\n",
              "      <td>0</td>\n",
              "      <td>0</td>\n",
              "      <td>0</td>\n",
              "      <td>0</td>\n",
              "      <td>0</td>\n",
              "      <td>0</td>\n",
              "    </tr>\n",
              "    <tr>\n",
              "      <th>8</th>\n",
              "      <td>00037261f536c51d</td>\n",
              "      <td>Sorry if the word 'nonsense' was offensive to ...</td>\n",
              "      <td>0</td>\n",
              "      <td>0</td>\n",
              "      <td>0</td>\n",
              "      <td>0</td>\n",
              "      <td>0</td>\n",
              "      <td>0</td>\n",
              "    </tr>\n",
              "    <tr>\n",
              "      <th>9</th>\n",
              "      <td>00040093b2687caa</td>\n",
              "      <td>alignment on this subject and which are contra...</td>\n",
              "      <td>0</td>\n",
              "      <td>0</td>\n",
              "      <td>0</td>\n",
              "      <td>0</td>\n",
              "      <td>0</td>\n",
              "      <td>0</td>\n",
              "    </tr>\n",
              "  </tbody>\n",
              "</table>\n",
              "</div>"
            ],
            "text/plain": [
              "                 id                                       comment_text  toxic  \\\n",
              "0  0000997932d777bf  Explanation\\nWhy the edits made under my usern...      0   \n",
              "1  000103f0d9cfb60f  D'aww! He matches this background colour I'm s...      0   \n",
              "2  000113f07ec002fd  Hey man, I'm really not trying to edit war. It...      0   \n",
              "3  0001b41b1c6bb37e  \"\\nMore\\nI can't make any real suggestions on ...      0   \n",
              "4  0001d958c54c6e35  You, sir, are my hero. Any chance you remember...      0   \n",
              "5  00025465d4725e87  \"\\n\\nCongratulations from me as well, use the ...      0   \n",
              "6  0002bcb3da6cb337       COCKSUCKER BEFORE YOU PISS AROUND ON MY WORK      1   \n",
              "7  00031b1e95af7921  Your vandalism to the Matt Shirvington article...      0   \n",
              "8  00037261f536c51d  Sorry if the word 'nonsense' was offensive to ...      0   \n",
              "9  00040093b2687caa  alignment on this subject and which are contra...      0   \n",
              "\n",
              "   severe_toxic  obscene  threat  insult  identity_hate  \n",
              "0             0        0       0       0              0  \n",
              "1             0        0       0       0              0  \n",
              "2             0        0       0       0              0  \n",
              "3             0        0       0       0              0  \n",
              "4             0        0       0       0              0  \n",
              "5             0        0       0       0              0  \n",
              "6             1        1       0       1              0  \n",
              "7             0        0       0       0              0  \n",
              "8             0        0       0       0              0  \n",
              "9             0        0       0       0              0  "
            ]
          },
          "metadata": {
            "tags": []
          },
          "execution_count": 3
        }
      ]
    },
    {
      "cell_type": "markdown",
      "metadata": {
        "colab_type": "text",
        "id": "yemWuxUUwGbQ"
      },
      "source": [
        "### Clean the Train data, specifically remove punctuations"
      ]
    },
    {
      "cell_type": "code",
      "metadata": {
        "colab_type": "code",
        "id": "bXBAuHzkegFw",
        "outputId": "9f3666bb-4186-483e-f2c9-1a7bd50ce3a2",
        "colab": {
          "base_uri": "https://localhost:8080/",
          "height": 347
        }
      },
      "source": [
        "totalContentCleaned = []\n",
        "punctDict = {}\n",
        "for punct in string.punctuation:\n",
        "    punctDict[punct] = None\n",
        "transString = str.maketrans(punctDict)\n",
        "# since we intent to remove any punctuation with ''\n",
        "for sen in train['comment_text']:\n",
        "    \n",
        "    #cleanedString = re.sub('[^a-zA-Z]+', '', sen)\n",
        "    \n",
        "    p = sen.translate(transString)\n",
        "    totalContentCleaned.append(p)\n",
        "    \n",
        "\n",
        "train['comment_text'] = totalContentCleaned\n",
        "# we can save the file to csv if we want in local machine\n",
        "#df.to_csv(os.path.join(os.path.abspath('data'), 'train_cleaned.csv'), index = False)\n",
        "\n",
        "\n",
        "\n",
        "train.head(10)"
      ],
      "execution_count": 0,
      "outputs": [
        {
          "output_type": "execute_result",
          "data": {
            "text/html": [
              "<div>\n",
              "<style scoped>\n",
              "    .dataframe tbody tr th:only-of-type {\n",
              "        vertical-align: middle;\n",
              "    }\n",
              "\n",
              "    .dataframe tbody tr th {\n",
              "        vertical-align: top;\n",
              "    }\n",
              "\n",
              "    .dataframe thead th {\n",
              "        text-align: right;\n",
              "    }\n",
              "</style>\n",
              "<table border=\"1\" class=\"dataframe\">\n",
              "  <thead>\n",
              "    <tr style=\"text-align: right;\">\n",
              "      <th></th>\n",
              "      <th>id</th>\n",
              "      <th>comment_text</th>\n",
              "      <th>toxic</th>\n",
              "      <th>severe_toxic</th>\n",
              "      <th>obscene</th>\n",
              "      <th>threat</th>\n",
              "      <th>insult</th>\n",
              "      <th>identity_hate</th>\n",
              "    </tr>\n",
              "  </thead>\n",
              "  <tbody>\n",
              "    <tr>\n",
              "      <th>0</th>\n",
              "      <td>0000997932d777bf</td>\n",
              "      <td>Explanation\\nWhy the edits made under my usern...</td>\n",
              "      <td>0</td>\n",
              "      <td>0</td>\n",
              "      <td>0</td>\n",
              "      <td>0</td>\n",
              "      <td>0</td>\n",
              "      <td>0</td>\n",
              "    </tr>\n",
              "    <tr>\n",
              "      <th>1</th>\n",
              "      <td>000103f0d9cfb60f</td>\n",
              "      <td>Daww He matches this background colour Im seem...</td>\n",
              "      <td>0</td>\n",
              "      <td>0</td>\n",
              "      <td>0</td>\n",
              "      <td>0</td>\n",
              "      <td>0</td>\n",
              "      <td>0</td>\n",
              "    </tr>\n",
              "    <tr>\n",
              "      <th>2</th>\n",
              "      <td>000113f07ec002fd</td>\n",
              "      <td>Hey man Im really not trying to edit war Its j...</td>\n",
              "      <td>0</td>\n",
              "      <td>0</td>\n",
              "      <td>0</td>\n",
              "      <td>0</td>\n",
              "      <td>0</td>\n",
              "      <td>0</td>\n",
              "    </tr>\n",
              "    <tr>\n",
              "      <th>3</th>\n",
              "      <td>0001b41b1c6bb37e</td>\n",
              "      <td>\\nMore\\nI cant make any real suggestions on im...</td>\n",
              "      <td>0</td>\n",
              "      <td>0</td>\n",
              "      <td>0</td>\n",
              "      <td>0</td>\n",
              "      <td>0</td>\n",
              "      <td>0</td>\n",
              "    </tr>\n",
              "    <tr>\n",
              "      <th>4</th>\n",
              "      <td>0001d958c54c6e35</td>\n",
              "      <td>You sir are my hero Any chance you remember wh...</td>\n",
              "      <td>0</td>\n",
              "      <td>0</td>\n",
              "      <td>0</td>\n",
              "      <td>0</td>\n",
              "      <td>0</td>\n",
              "      <td>0</td>\n",
              "    </tr>\n",
              "    <tr>\n",
              "      <th>5</th>\n",
              "      <td>00025465d4725e87</td>\n",
              "      <td>\\n\\nCongratulations from me as well use the to...</td>\n",
              "      <td>0</td>\n",
              "      <td>0</td>\n",
              "      <td>0</td>\n",
              "      <td>0</td>\n",
              "      <td>0</td>\n",
              "      <td>0</td>\n",
              "    </tr>\n",
              "    <tr>\n",
              "      <th>6</th>\n",
              "      <td>0002bcb3da6cb337</td>\n",
              "      <td>COCKSUCKER BEFORE YOU PISS AROUND ON MY WORK</td>\n",
              "      <td>1</td>\n",
              "      <td>1</td>\n",
              "      <td>1</td>\n",
              "      <td>0</td>\n",
              "      <td>1</td>\n",
              "      <td>0</td>\n",
              "    </tr>\n",
              "    <tr>\n",
              "      <th>7</th>\n",
              "      <td>00031b1e95af7921</td>\n",
              "      <td>Your vandalism to the Matt Shirvington article...</td>\n",
              "      <td>0</td>\n",
              "      <td>0</td>\n",
              "      <td>0</td>\n",
              "      <td>0</td>\n",
              "      <td>0</td>\n",
              "      <td>0</td>\n",
              "    </tr>\n",
              "    <tr>\n",
              "      <th>8</th>\n",
              "      <td>00037261f536c51d</td>\n",
              "      <td>Sorry if the word nonsense was offensive to yo...</td>\n",
              "      <td>0</td>\n",
              "      <td>0</td>\n",
              "      <td>0</td>\n",
              "      <td>0</td>\n",
              "      <td>0</td>\n",
              "      <td>0</td>\n",
              "    </tr>\n",
              "    <tr>\n",
              "      <th>9</th>\n",
              "      <td>00040093b2687caa</td>\n",
              "      <td>alignment on this subject and which are contra...</td>\n",
              "      <td>0</td>\n",
              "      <td>0</td>\n",
              "      <td>0</td>\n",
              "      <td>0</td>\n",
              "      <td>0</td>\n",
              "      <td>0</td>\n",
              "    </tr>\n",
              "  </tbody>\n",
              "</table>\n",
              "</div>"
            ],
            "text/plain": [
              "                 id                                       comment_text  toxic  \\\n",
              "0  0000997932d777bf  Explanation\\nWhy the edits made under my usern...      0   \n",
              "1  000103f0d9cfb60f  Daww He matches this background colour Im seem...      0   \n",
              "2  000113f07ec002fd  Hey man Im really not trying to edit war Its j...      0   \n",
              "3  0001b41b1c6bb37e  \\nMore\\nI cant make any real suggestions on im...      0   \n",
              "4  0001d958c54c6e35  You sir are my hero Any chance you remember wh...      0   \n",
              "5  00025465d4725e87  \\n\\nCongratulations from me as well use the to...      0   \n",
              "6  0002bcb3da6cb337       COCKSUCKER BEFORE YOU PISS AROUND ON MY WORK      1   \n",
              "7  00031b1e95af7921  Your vandalism to the Matt Shirvington article...      0   \n",
              "8  00037261f536c51d  Sorry if the word nonsense was offensive to yo...      0   \n",
              "9  00040093b2687caa  alignment on this subject and which are contra...      0   \n",
              "\n",
              "   severe_toxic  obscene  threat  insult  identity_hate  \n",
              "0             0        0       0       0              0  \n",
              "1             0        0       0       0              0  \n",
              "2             0        0       0       0              0  \n",
              "3             0        0       0       0              0  \n",
              "4             0        0       0       0              0  \n",
              "5             0        0       0       0              0  \n",
              "6             1        1       0       1              0  \n",
              "7             0        0       0       0              0  \n",
              "8             0        0       0       0              0  \n",
              "9             0        0       0       0              0  "
            ]
          },
          "metadata": {
            "tags": []
          },
          "execution_count": 4
        }
      ]
    },
    {
      "cell_type": "code",
      "metadata": {
        "colab_type": "code",
        "id": "bThKgInKejb0",
        "outputId": "440bf1eb-1d9c-4743-a2d4-bdf0876fedc2",
        "colab": {
          "base_uri": "https://localhost:8080/",
          "height": 347
        }
      },
      "source": [
        "#Test data\n",
        "df_test = pd.read_csv('D:/çankaya/2ndYEAR/Thesis/Experiments/Data_Toxic Comment Classification/test.csv')\n",
        "df_test.head(10)"
      ],
      "execution_count": 0,
      "outputs": [
        {
          "output_type": "execute_result",
          "data": {
            "text/html": [
              "<div>\n",
              "<style scoped>\n",
              "    .dataframe tbody tr th:only-of-type {\n",
              "        vertical-align: middle;\n",
              "    }\n",
              "\n",
              "    .dataframe tbody tr th {\n",
              "        vertical-align: top;\n",
              "    }\n",
              "\n",
              "    .dataframe thead th {\n",
              "        text-align: right;\n",
              "    }\n",
              "</style>\n",
              "<table border=\"1\" class=\"dataframe\">\n",
              "  <thead>\n",
              "    <tr style=\"text-align: right;\">\n",
              "      <th></th>\n",
              "      <th>id</th>\n",
              "      <th>comment_text</th>\n",
              "    </tr>\n",
              "  </thead>\n",
              "  <tbody>\n",
              "    <tr>\n",
              "      <th>0</th>\n",
              "      <td>00001cee341fdb12</td>\n",
              "      <td>Yo bitch Ja Rule is more succesful then you'll...</td>\n",
              "    </tr>\n",
              "    <tr>\n",
              "      <th>1</th>\n",
              "      <td>0000247867823ef7</td>\n",
              "      <td>== From RfC == \\n\\n The title is fine as it is...</td>\n",
              "    </tr>\n",
              "    <tr>\n",
              "      <th>2</th>\n",
              "      <td>00013b17ad220c46</td>\n",
              "      <td>\" \\n\\n == Sources == \\n\\n * Zawe Ashton on Lap...</td>\n",
              "    </tr>\n",
              "    <tr>\n",
              "      <th>3</th>\n",
              "      <td>00017563c3f7919a</td>\n",
              "      <td>:If you have a look back at the source, the in...</td>\n",
              "    </tr>\n",
              "    <tr>\n",
              "      <th>4</th>\n",
              "      <td>00017695ad8997eb</td>\n",
              "      <td>I don't anonymously edit articles at all.</td>\n",
              "    </tr>\n",
              "    <tr>\n",
              "      <th>5</th>\n",
              "      <td>0001ea8717f6de06</td>\n",
              "      <td>Thank you for understanding. I think very high...</td>\n",
              "    </tr>\n",
              "    <tr>\n",
              "      <th>6</th>\n",
              "      <td>00024115d4cbde0f</td>\n",
              "      <td>Please do not add nonsense to Wikipedia. Such ...</td>\n",
              "    </tr>\n",
              "    <tr>\n",
              "      <th>7</th>\n",
              "      <td>000247e83dcc1211</td>\n",
              "      <td>:Dear god this site is horrible.</td>\n",
              "    </tr>\n",
              "    <tr>\n",
              "      <th>8</th>\n",
              "      <td>00025358d4737918</td>\n",
              "      <td>\" \\n Only a fool can believe in such numbers. ...</td>\n",
              "    </tr>\n",
              "    <tr>\n",
              "      <th>9</th>\n",
              "      <td>00026d1092fe71cc</td>\n",
              "      <td>== Double Redirects == \\n\\n When fixing double...</td>\n",
              "    </tr>\n",
              "  </tbody>\n",
              "</table>\n",
              "</div>"
            ],
            "text/plain": [
              "                 id                                       comment_text\n",
              "0  00001cee341fdb12  Yo bitch Ja Rule is more succesful then you'll...\n",
              "1  0000247867823ef7  == From RfC == \\n\\n The title is fine as it is...\n",
              "2  00013b17ad220c46  \" \\n\\n == Sources == \\n\\n * Zawe Ashton on Lap...\n",
              "3  00017563c3f7919a  :If you have a look back at the source, the in...\n",
              "4  00017695ad8997eb          I don't anonymously edit articles at all.\n",
              "5  0001ea8717f6de06  Thank you for understanding. I think very high...\n",
              "6  00024115d4cbde0f  Please do not add nonsense to Wikipedia. Such ...\n",
              "7  000247e83dcc1211                   :Dear god this site is horrible.\n",
              "8  00025358d4737918  \" \\n Only a fool can believe in such numbers. ...\n",
              "9  00026d1092fe71cc  == Double Redirects == \\n\\n When fixing double..."
            ]
          },
          "metadata": {
            "tags": []
          },
          "execution_count": 5
        }
      ]
    },
    {
      "cell_type": "markdown",
      "metadata": {
        "colab_type": "text",
        "id": "gkNgoN8pwPtA"
      },
      "source": [
        "### Clean the Test data, specifically remove punctuations"
      ]
    },
    {
      "cell_type": "code",
      "metadata": {
        "colab_type": "code",
        "id": "qAtY_WxPe03X",
        "outputId": "de2636cd-b6bf-4f63-9ce3-70d9e31e0e85",
        "colab": {
          "base_uri": "https://localhost:8080/",
          "height": 347
        }
      },
      "source": [
        "totalContentCleaned = []\n",
        "punctDict = {}\n",
        "for punct in string.punctuation:\n",
        "    punctDict[punct] = None\n",
        "transString = str.maketrans(punctDict)\n",
        "# since we intent to remove any punctuation with ''\n",
        "for sen in df_test['comment_text']:\n",
        "    \n",
        "    #cleanedString = re.sub('[^a-zA-Z]+', '', sen)\n",
        "    \n",
        "    p = sen.translate(transString)\n",
        "    totalContentCleaned.append(p)\n",
        "    \n",
        "\n",
        "df_test['comment_text'] = totalContentCleaned\n",
        "# we can save the file to csv if we want in local machine\n",
        "#df.to_csv(os.path.join(os.path.abspath('data'), 'train_cleaned.csv'), index = False)\n",
        "\n",
        "\n",
        "\n",
        "df_test.head(10)"
      ],
      "execution_count": 0,
      "outputs": [
        {
          "output_type": "execute_result",
          "data": {
            "text/html": [
              "<div>\n",
              "<style scoped>\n",
              "    .dataframe tbody tr th:only-of-type {\n",
              "        vertical-align: middle;\n",
              "    }\n",
              "\n",
              "    .dataframe tbody tr th {\n",
              "        vertical-align: top;\n",
              "    }\n",
              "\n",
              "    .dataframe thead th {\n",
              "        text-align: right;\n",
              "    }\n",
              "</style>\n",
              "<table border=\"1\" class=\"dataframe\">\n",
              "  <thead>\n",
              "    <tr style=\"text-align: right;\">\n",
              "      <th></th>\n",
              "      <th>id</th>\n",
              "      <th>comment_text</th>\n",
              "    </tr>\n",
              "  </thead>\n",
              "  <tbody>\n",
              "    <tr>\n",
              "      <th>0</th>\n",
              "      <td>00001cee341fdb12</td>\n",
              "      <td>Yo bitch Ja Rule is more succesful then youll ...</td>\n",
              "    </tr>\n",
              "    <tr>\n",
              "      <th>1</th>\n",
              "      <td>0000247867823ef7</td>\n",
              "      <td>From RfC  \\n\\n The title is fine as it is IMO</td>\n",
              "    </tr>\n",
              "    <tr>\n",
              "      <th>2</th>\n",
              "      <td>00013b17ad220c46</td>\n",
              "      <td>\\n\\n  Sources  \\n\\n  Zawe Ashton on Lapland —...</td>\n",
              "    </tr>\n",
              "    <tr>\n",
              "      <th>3</th>\n",
              "      <td>00017563c3f7919a</td>\n",
              "      <td>If you have a look back at the source the info...</td>\n",
              "    </tr>\n",
              "    <tr>\n",
              "      <th>4</th>\n",
              "      <td>00017695ad8997eb</td>\n",
              "      <td>I dont anonymously edit articles at all</td>\n",
              "    </tr>\n",
              "    <tr>\n",
              "      <th>5</th>\n",
              "      <td>0001ea8717f6de06</td>\n",
              "      <td>Thank you for understanding I think very highl...</td>\n",
              "    </tr>\n",
              "    <tr>\n",
              "      <th>6</th>\n",
              "      <td>00024115d4cbde0f</td>\n",
              "      <td>Please do not add nonsense to Wikipedia Such e...</td>\n",
              "    </tr>\n",
              "    <tr>\n",
              "      <th>7</th>\n",
              "      <td>000247e83dcc1211</td>\n",
              "      <td>Dear god this site is horrible</td>\n",
              "    </tr>\n",
              "    <tr>\n",
              "      <th>8</th>\n",
              "      <td>00025358d4737918</td>\n",
              "      <td>\\n Only a fool can believe in such numbers \\n...</td>\n",
              "    </tr>\n",
              "    <tr>\n",
              "      <th>9</th>\n",
              "      <td>00026d1092fe71cc</td>\n",
              "      <td>Double Redirects  \\n\\n When fixing double red...</td>\n",
              "    </tr>\n",
              "  </tbody>\n",
              "</table>\n",
              "</div>"
            ],
            "text/plain": [
              "                 id                                       comment_text\n",
              "0  00001cee341fdb12  Yo bitch Ja Rule is more succesful then youll ...\n",
              "1  0000247867823ef7      From RfC  \\n\\n The title is fine as it is IMO\n",
              "2  00013b17ad220c46   \\n\\n  Sources  \\n\\n  Zawe Ashton on Lapland —...\n",
              "3  00017563c3f7919a  If you have a look back at the source the info...\n",
              "4  00017695ad8997eb            I dont anonymously edit articles at all\n",
              "5  0001ea8717f6de06  Thank you for understanding I think very highl...\n",
              "6  00024115d4cbde0f  Please do not add nonsense to Wikipedia Such e...\n",
              "7  000247e83dcc1211                     Dear god this site is horrible\n",
              "8  00025358d4737918   \\n Only a fool can believe in such numbers \\n...\n",
              "9  00026d1092fe71cc   Double Redirects  \\n\\n When fixing double red..."
            ]
          },
          "metadata": {
            "tags": []
          },
          "execution_count": 6
        }
      ]
    },
    {
      "cell_type": "code",
      "metadata": {
        "colab_type": "code",
        "id": "PAj6D9IZejb5",
        "outputId": "299e42b0-7657-4c88-a00a-9b9e125cccf7",
        "colab": {
          "base_uri": "https://localhost:8080/",
          "height": 347
        }
      },
      "source": [
        "df_test_labels = pd.read_csv('D:/çankaya/2ndYEAR/Thesis/Experiments/Data_Toxic Comment Classification/test_labels.csv')\n",
        "\n",
        "df_test_labels.head(10)"
      ],
      "execution_count": 0,
      "outputs": [
        {
          "output_type": "execute_result",
          "data": {
            "text/html": [
              "<div>\n",
              "<style scoped>\n",
              "    .dataframe tbody tr th:only-of-type {\n",
              "        vertical-align: middle;\n",
              "    }\n",
              "\n",
              "    .dataframe tbody tr th {\n",
              "        vertical-align: top;\n",
              "    }\n",
              "\n",
              "    .dataframe thead th {\n",
              "        text-align: right;\n",
              "    }\n",
              "</style>\n",
              "<table border=\"1\" class=\"dataframe\">\n",
              "  <thead>\n",
              "    <tr style=\"text-align: right;\">\n",
              "      <th></th>\n",
              "      <th>id</th>\n",
              "      <th>toxic</th>\n",
              "      <th>severe_toxic</th>\n",
              "      <th>obscene</th>\n",
              "      <th>threat</th>\n",
              "      <th>insult</th>\n",
              "      <th>identity_hate</th>\n",
              "    </tr>\n",
              "  </thead>\n",
              "  <tbody>\n",
              "    <tr>\n",
              "      <th>0</th>\n",
              "      <td>00001cee341fdb12</td>\n",
              "      <td>-1</td>\n",
              "      <td>-1</td>\n",
              "      <td>-1</td>\n",
              "      <td>-1</td>\n",
              "      <td>-1</td>\n",
              "      <td>-1</td>\n",
              "    </tr>\n",
              "    <tr>\n",
              "      <th>1</th>\n",
              "      <td>0000247867823ef7</td>\n",
              "      <td>-1</td>\n",
              "      <td>-1</td>\n",
              "      <td>-1</td>\n",
              "      <td>-1</td>\n",
              "      <td>-1</td>\n",
              "      <td>-1</td>\n",
              "    </tr>\n",
              "    <tr>\n",
              "      <th>2</th>\n",
              "      <td>00013b17ad220c46</td>\n",
              "      <td>-1</td>\n",
              "      <td>-1</td>\n",
              "      <td>-1</td>\n",
              "      <td>-1</td>\n",
              "      <td>-1</td>\n",
              "      <td>-1</td>\n",
              "    </tr>\n",
              "    <tr>\n",
              "      <th>3</th>\n",
              "      <td>00017563c3f7919a</td>\n",
              "      <td>-1</td>\n",
              "      <td>-1</td>\n",
              "      <td>-1</td>\n",
              "      <td>-1</td>\n",
              "      <td>-1</td>\n",
              "      <td>-1</td>\n",
              "    </tr>\n",
              "    <tr>\n",
              "      <th>4</th>\n",
              "      <td>00017695ad8997eb</td>\n",
              "      <td>-1</td>\n",
              "      <td>-1</td>\n",
              "      <td>-1</td>\n",
              "      <td>-1</td>\n",
              "      <td>-1</td>\n",
              "      <td>-1</td>\n",
              "    </tr>\n",
              "    <tr>\n",
              "      <th>5</th>\n",
              "      <td>0001ea8717f6de06</td>\n",
              "      <td>0</td>\n",
              "      <td>0</td>\n",
              "      <td>0</td>\n",
              "      <td>0</td>\n",
              "      <td>0</td>\n",
              "      <td>0</td>\n",
              "    </tr>\n",
              "    <tr>\n",
              "      <th>6</th>\n",
              "      <td>00024115d4cbde0f</td>\n",
              "      <td>-1</td>\n",
              "      <td>-1</td>\n",
              "      <td>-1</td>\n",
              "      <td>-1</td>\n",
              "      <td>-1</td>\n",
              "      <td>-1</td>\n",
              "    </tr>\n",
              "    <tr>\n",
              "      <th>7</th>\n",
              "      <td>000247e83dcc1211</td>\n",
              "      <td>0</td>\n",
              "      <td>0</td>\n",
              "      <td>0</td>\n",
              "      <td>0</td>\n",
              "      <td>0</td>\n",
              "      <td>0</td>\n",
              "    </tr>\n",
              "    <tr>\n",
              "      <th>8</th>\n",
              "      <td>00025358d4737918</td>\n",
              "      <td>-1</td>\n",
              "      <td>-1</td>\n",
              "      <td>-1</td>\n",
              "      <td>-1</td>\n",
              "      <td>-1</td>\n",
              "      <td>-1</td>\n",
              "    </tr>\n",
              "    <tr>\n",
              "      <th>9</th>\n",
              "      <td>00026d1092fe71cc</td>\n",
              "      <td>-1</td>\n",
              "      <td>-1</td>\n",
              "      <td>-1</td>\n",
              "      <td>-1</td>\n",
              "      <td>-1</td>\n",
              "      <td>-1</td>\n",
              "    </tr>\n",
              "  </tbody>\n",
              "</table>\n",
              "</div>"
            ],
            "text/plain": [
              "                 id  toxic  severe_toxic  obscene  threat  insult  \\\n",
              "0  00001cee341fdb12     -1            -1       -1      -1      -1   \n",
              "1  0000247867823ef7     -1            -1       -1      -1      -1   \n",
              "2  00013b17ad220c46     -1            -1       -1      -1      -1   \n",
              "3  00017563c3f7919a     -1            -1       -1      -1      -1   \n",
              "4  00017695ad8997eb     -1            -1       -1      -1      -1   \n",
              "5  0001ea8717f6de06      0             0        0       0       0   \n",
              "6  00024115d4cbde0f     -1            -1       -1      -1      -1   \n",
              "7  000247e83dcc1211      0             0        0       0       0   \n",
              "8  00025358d4737918     -1            -1       -1      -1      -1   \n",
              "9  00026d1092fe71cc     -1            -1       -1      -1      -1   \n",
              "\n",
              "   identity_hate  \n",
              "0             -1  \n",
              "1             -1  \n",
              "2             -1  \n",
              "3             -1  \n",
              "4             -1  \n",
              "5              0  \n",
              "6             -1  \n",
              "7              0  \n",
              "8             -1  \n",
              "9             -1  "
            ]
          },
          "metadata": {
            "tags": []
          },
          "execution_count": 7
        }
      ]
    },
    {
      "cell_type": "code",
      "metadata": {
        "colab_type": "code",
        "id": "wB71FX4Lejb_",
        "outputId": "84834a0d-cf61-411e-806d-e197ba6921a1",
        "colab": {
          "base_uri": "https://localhost:8080/",
          "height": 347
        }
      },
      "source": [
        "test_labels = df_test_labels[(df_test_labels[['toxic','severe_toxic', 'obscene', 'threat', \n",
        "                                        'insult', 'identity_hate']] != -1).all(axis=1)]\n",
        "test_labels.head(10)"
      ],
      "execution_count": 0,
      "outputs": [
        {
          "output_type": "execute_result",
          "data": {
            "text/html": [
              "<div>\n",
              "<style scoped>\n",
              "    .dataframe tbody tr th:only-of-type {\n",
              "        vertical-align: middle;\n",
              "    }\n",
              "\n",
              "    .dataframe tbody tr th {\n",
              "        vertical-align: top;\n",
              "    }\n",
              "\n",
              "    .dataframe thead th {\n",
              "        text-align: right;\n",
              "    }\n",
              "</style>\n",
              "<table border=\"1\" class=\"dataframe\">\n",
              "  <thead>\n",
              "    <tr style=\"text-align: right;\">\n",
              "      <th></th>\n",
              "      <th>id</th>\n",
              "      <th>toxic</th>\n",
              "      <th>severe_toxic</th>\n",
              "      <th>obscene</th>\n",
              "      <th>threat</th>\n",
              "      <th>insult</th>\n",
              "      <th>identity_hate</th>\n",
              "    </tr>\n",
              "  </thead>\n",
              "  <tbody>\n",
              "    <tr>\n",
              "      <th>5</th>\n",
              "      <td>0001ea8717f6de06</td>\n",
              "      <td>0</td>\n",
              "      <td>0</td>\n",
              "      <td>0</td>\n",
              "      <td>0</td>\n",
              "      <td>0</td>\n",
              "      <td>0</td>\n",
              "    </tr>\n",
              "    <tr>\n",
              "      <th>7</th>\n",
              "      <td>000247e83dcc1211</td>\n",
              "      <td>0</td>\n",
              "      <td>0</td>\n",
              "      <td>0</td>\n",
              "      <td>0</td>\n",
              "      <td>0</td>\n",
              "      <td>0</td>\n",
              "    </tr>\n",
              "    <tr>\n",
              "      <th>11</th>\n",
              "      <td>0002f87b16116a7f</td>\n",
              "      <td>0</td>\n",
              "      <td>0</td>\n",
              "      <td>0</td>\n",
              "      <td>0</td>\n",
              "      <td>0</td>\n",
              "      <td>0</td>\n",
              "    </tr>\n",
              "    <tr>\n",
              "      <th>13</th>\n",
              "      <td>0003e1cccfd5a40a</td>\n",
              "      <td>0</td>\n",
              "      <td>0</td>\n",
              "      <td>0</td>\n",
              "      <td>0</td>\n",
              "      <td>0</td>\n",
              "      <td>0</td>\n",
              "    </tr>\n",
              "    <tr>\n",
              "      <th>14</th>\n",
              "      <td>00059ace3e3e9a53</td>\n",
              "      <td>0</td>\n",
              "      <td>0</td>\n",
              "      <td>0</td>\n",
              "      <td>0</td>\n",
              "      <td>0</td>\n",
              "      <td>0</td>\n",
              "    </tr>\n",
              "    <tr>\n",
              "      <th>16</th>\n",
              "      <td>000663aff0fffc80</td>\n",
              "      <td>0</td>\n",
              "      <td>0</td>\n",
              "      <td>0</td>\n",
              "      <td>0</td>\n",
              "      <td>0</td>\n",
              "      <td>0</td>\n",
              "    </tr>\n",
              "    <tr>\n",
              "      <th>17</th>\n",
              "      <td>000689dd34e20979</td>\n",
              "      <td>0</td>\n",
              "      <td>0</td>\n",
              "      <td>0</td>\n",
              "      <td>0</td>\n",
              "      <td>0</td>\n",
              "      <td>0</td>\n",
              "    </tr>\n",
              "    <tr>\n",
              "      <th>19</th>\n",
              "      <td>000844b52dee5f3f</td>\n",
              "      <td>0</td>\n",
              "      <td>0</td>\n",
              "      <td>0</td>\n",
              "      <td>0</td>\n",
              "      <td>0</td>\n",
              "      <td>0</td>\n",
              "    </tr>\n",
              "    <tr>\n",
              "      <th>21</th>\n",
              "      <td>00091c35fa9d0465</td>\n",
              "      <td>1</td>\n",
              "      <td>0</td>\n",
              "      <td>0</td>\n",
              "      <td>0</td>\n",
              "      <td>0</td>\n",
              "      <td>0</td>\n",
              "    </tr>\n",
              "    <tr>\n",
              "      <th>22</th>\n",
              "      <td>000968ce11f5ee34</td>\n",
              "      <td>0</td>\n",
              "      <td>0</td>\n",
              "      <td>0</td>\n",
              "      <td>0</td>\n",
              "      <td>0</td>\n",
              "      <td>0</td>\n",
              "    </tr>\n",
              "  </tbody>\n",
              "</table>\n",
              "</div>"
            ],
            "text/plain": [
              "                  id  toxic  severe_toxic  obscene  threat  insult  \\\n",
              "5   0001ea8717f6de06      0             0        0       0       0   \n",
              "7   000247e83dcc1211      0             0        0       0       0   \n",
              "11  0002f87b16116a7f      0             0        0       0       0   \n",
              "13  0003e1cccfd5a40a      0             0        0       0       0   \n",
              "14  00059ace3e3e9a53      0             0        0       0       0   \n",
              "16  000663aff0fffc80      0             0        0       0       0   \n",
              "17  000689dd34e20979      0             0        0       0       0   \n",
              "19  000844b52dee5f3f      0             0        0       0       0   \n",
              "21  00091c35fa9d0465      1             0        0       0       0   \n",
              "22  000968ce11f5ee34      0             0        0       0       0   \n",
              "\n",
              "    identity_hate  \n",
              "5               0  \n",
              "7               0  \n",
              "11              0  \n",
              "13              0  \n",
              "14              0  \n",
              "16              0  \n",
              "17              0  \n",
              "19              0  \n",
              "21              0  \n",
              "22              0  "
            ]
          },
          "metadata": {
            "tags": []
          },
          "execution_count": 8
        }
      ]
    },
    {
      "cell_type": "markdown",
      "metadata": {
        "colab_type": "text",
        "id": "Z4WMHSsEejcF"
      },
      "source": [
        "### Merge the df_test and test_labels into 1 dataframe (test)"
      ]
    },
    {
      "cell_type": "code",
      "metadata": {
        "colab_type": "code",
        "id": "IN1JvMJxejcH",
        "outputId": "0ef69a69-bbeb-4881-eade-3a5ea0a39dc3",
        "colab": {
          "base_uri": "https://localhost:8080/",
          "height": 347
        }
      },
      "source": [
        "#Merge the df_test and test_labels into 1 dataframe (test)\n",
        "test = pd.merge(test_labels, df_test, on='id', how='inner')\n",
        "test.head(10)"
      ],
      "execution_count": 0,
      "outputs": [
        {
          "output_type": "execute_result",
          "data": {
            "text/html": [
              "<div>\n",
              "<style scoped>\n",
              "    .dataframe tbody tr th:only-of-type {\n",
              "        vertical-align: middle;\n",
              "    }\n",
              "\n",
              "    .dataframe tbody tr th {\n",
              "        vertical-align: top;\n",
              "    }\n",
              "\n",
              "    .dataframe thead th {\n",
              "        text-align: right;\n",
              "    }\n",
              "</style>\n",
              "<table border=\"1\" class=\"dataframe\">\n",
              "  <thead>\n",
              "    <tr style=\"text-align: right;\">\n",
              "      <th></th>\n",
              "      <th>id</th>\n",
              "      <th>toxic</th>\n",
              "      <th>severe_toxic</th>\n",
              "      <th>obscene</th>\n",
              "      <th>threat</th>\n",
              "      <th>insult</th>\n",
              "      <th>identity_hate</th>\n",
              "      <th>comment_text</th>\n",
              "    </tr>\n",
              "  </thead>\n",
              "  <tbody>\n",
              "    <tr>\n",
              "      <th>0</th>\n",
              "      <td>0001ea8717f6de06</td>\n",
              "      <td>0</td>\n",
              "      <td>0</td>\n",
              "      <td>0</td>\n",
              "      <td>0</td>\n",
              "      <td>0</td>\n",
              "      <td>0</td>\n",
              "      <td>Thank you for understanding I think very highl...</td>\n",
              "    </tr>\n",
              "    <tr>\n",
              "      <th>1</th>\n",
              "      <td>000247e83dcc1211</td>\n",
              "      <td>0</td>\n",
              "      <td>0</td>\n",
              "      <td>0</td>\n",
              "      <td>0</td>\n",
              "      <td>0</td>\n",
              "      <td>0</td>\n",
              "      <td>Dear god this site is horrible</td>\n",
              "    </tr>\n",
              "    <tr>\n",
              "      <th>2</th>\n",
              "      <td>0002f87b16116a7f</td>\n",
              "      <td>0</td>\n",
              "      <td>0</td>\n",
              "      <td>0</td>\n",
              "      <td>0</td>\n",
              "      <td>0</td>\n",
              "      <td>0</td>\n",
              "      <td>Somebody will invariably try to add Religion ...</td>\n",
              "    </tr>\n",
              "    <tr>\n",
              "      <th>3</th>\n",
              "      <td>0003e1cccfd5a40a</td>\n",
              "      <td>0</td>\n",
              "      <td>0</td>\n",
              "      <td>0</td>\n",
              "      <td>0</td>\n",
              "      <td>0</td>\n",
              "      <td>0</td>\n",
              "      <td>\\n\\n It says it right there that it IS a type...</td>\n",
              "    </tr>\n",
              "    <tr>\n",
              "      <th>4</th>\n",
              "      <td>00059ace3e3e9a53</td>\n",
              "      <td>0</td>\n",
              "      <td>0</td>\n",
              "      <td>0</td>\n",
              "      <td>0</td>\n",
              "      <td>0</td>\n",
              "      <td>0</td>\n",
              "      <td>\\n\\n  Before adding a new product to the list...</td>\n",
              "    </tr>\n",
              "    <tr>\n",
              "      <th>5</th>\n",
              "      <td>000663aff0fffc80</td>\n",
              "      <td>0</td>\n",
              "      <td>0</td>\n",
              "      <td>0</td>\n",
              "      <td>0</td>\n",
              "      <td>0</td>\n",
              "      <td>0</td>\n",
              "      <td>this other one from 1897</td>\n",
              "    </tr>\n",
              "    <tr>\n",
              "      <th>6</th>\n",
              "      <td>000689dd34e20979</td>\n",
              "      <td>0</td>\n",
              "      <td>0</td>\n",
              "      <td>0</td>\n",
              "      <td>0</td>\n",
              "      <td>0</td>\n",
              "      <td>0</td>\n",
              "      <td>Reason for banning throwing  \\n\\n This articl...</td>\n",
              "    </tr>\n",
              "    <tr>\n",
              "      <th>7</th>\n",
              "      <td>000844b52dee5f3f</td>\n",
              "      <td>0</td>\n",
              "      <td>0</td>\n",
              "      <td>0</td>\n",
              "      <td>0</td>\n",
              "      <td>0</td>\n",
              "      <td>0</td>\n",
              "      <td>blocked from editing Wikipedia</td>\n",
              "    </tr>\n",
              "    <tr>\n",
              "      <th>8</th>\n",
              "      <td>00091c35fa9d0465</td>\n",
              "      <td>1</td>\n",
              "      <td>0</td>\n",
              "      <td>0</td>\n",
              "      <td>0</td>\n",
              "      <td>0</td>\n",
              "      <td>0</td>\n",
              "      <td>Arabs are committing genocide in Iraq but no ...</td>\n",
              "    </tr>\n",
              "    <tr>\n",
              "      <th>9</th>\n",
              "      <td>000968ce11f5ee34</td>\n",
              "      <td>0</td>\n",
              "      <td>0</td>\n",
              "      <td>0</td>\n",
              "      <td>0</td>\n",
              "      <td>0</td>\n",
              "      <td>0</td>\n",
              "      <td>Please stop If you continue to vandalize Wikip...</td>\n",
              "    </tr>\n",
              "  </tbody>\n",
              "</table>\n",
              "</div>"
            ],
            "text/plain": [
              "                 id  toxic  severe_toxic  obscene  threat  insult  \\\n",
              "0  0001ea8717f6de06      0             0        0       0       0   \n",
              "1  000247e83dcc1211      0             0        0       0       0   \n",
              "2  0002f87b16116a7f      0             0        0       0       0   \n",
              "3  0003e1cccfd5a40a      0             0        0       0       0   \n",
              "4  00059ace3e3e9a53      0             0        0       0       0   \n",
              "5  000663aff0fffc80      0             0        0       0       0   \n",
              "6  000689dd34e20979      0             0        0       0       0   \n",
              "7  000844b52dee5f3f      0             0        0       0       0   \n",
              "8  00091c35fa9d0465      1             0        0       0       0   \n",
              "9  000968ce11f5ee34      0             0        0       0       0   \n",
              "\n",
              "   identity_hate                                       comment_text  \n",
              "0              0  Thank you for understanding I think very highl...  \n",
              "1              0                     Dear god this site is horrible  \n",
              "2              0   Somebody will invariably try to add Religion ...  \n",
              "3              0   \\n\\n It says it right there that it IS a type...  \n",
              "4              0   \\n\\n  Before adding a new product to the list...  \n",
              "5              0                           this other one from 1897  \n",
              "6              0   Reason for banning throwing  \\n\\n This articl...  \n",
              "7              0                  blocked from editing Wikipedia     \n",
              "8              0   Arabs are committing genocide in Iraq but no ...  \n",
              "9              0  Please stop If you continue to vandalize Wikip...  "
            ]
          },
          "metadata": {
            "tags": []
          },
          "execution_count": 9
        }
      ]
    },
    {
      "cell_type": "markdown",
      "metadata": {
        "colab_type": "text",
        "id": "yMHnqLRhejcO"
      },
      "source": [
        "### Number of records in the train and test data"
      ]
    },
    {
      "cell_type": "code",
      "metadata": {
        "colab_type": "code",
        "id": "N0shTlrPejcQ",
        "outputId": "b410aced-ec90-4a2d-bb84-4887440283df",
        "colab": {
          "base_uri": "https://localhost:8080/",
          "height": 52
        }
      },
      "source": [
        "print(\"Train data shape\", train.shape)\n",
        "print(\"Test data shape\", test.shape)"
      ],
      "execution_count": 0,
      "outputs": [
        {
          "output_type": "stream",
          "text": [
            "Train data shape (159571, 8)\n",
            "Test data shape (63930, 8)\n"
          ],
          "name": "stdout"
        }
      ]
    },
    {
      "cell_type": "code",
      "metadata": {
        "colab_type": "code",
        "id": "dl8sCOPEejcX",
        "outputId": "3cba4541-e863-41fb-96b9-0c61a58a8047",
        "colab": {
          "base_uri": "https://localhost:8080/",
          "height": 87
        }
      },
      "source": [
        "# check that there are no missing values in either training set\n",
        "print('The dataset has', train.isna().sum().sum(), 'missing values in train data.')\n",
        "print('The dataset has', test.isna().sum().sum(), 'missing values in test data.')\n",
        "\n",
        "# check if there are any duplicates\n",
        "print('The dataset has', train.duplicated().sum(), 'duplicates in train data.')\n",
        "print('The dataset has', test.duplicated().sum(), 'duplicates in test data.')"
      ],
      "execution_count": 0,
      "outputs": [
        {
          "output_type": "stream",
          "text": [
            "The dataset has 0 missing values in train data.\n",
            "The dataset has 0 missing values in test data.\n",
            "The dataset has 0 duplicates in train data.\n",
            "The dataset has 0 duplicates in test data.\n"
          ],
          "name": "stdout"
        }
      ]
    },
    {
      "cell_type": "markdown",
      "metadata": {
        "colab_type": "text",
        "id": "OcndCtd4ejcj"
      },
      "source": [
        "### CORRELATION BETWEEN DATA LABELS"
      ]
    },
    {
      "cell_type": "code",
      "metadata": {
        "colab_type": "code",
        "id": "xYT_uhvEejcl",
        "outputId": "67b17d6e-645a-4f2f-bf1b-99cc3a974d0b",
        "colab": {
          "base_uri": "https://localhost:8080/",
          "height": 417
        }
      },
      "source": [
        "fig, ax = plt.subplots(figsize=(10, 6))\n",
        "fig.suptitle('Correlation Matrix')\n",
        "sns.heatmap(train.corr(), annot=True, cmap=\"Greens\", linewidths=.5, ax=ax);"
      ],
      "execution_count": 0,
      "outputs": [
        {
          "output_type": "display_data",
          "data": {
            "image/png": "[encoded data removed]",
            "text/plain": [
              "<Figure size 720x432 with 2 Axes>"
            ]
          },
          "metadata": {
            "tags": [],
            "needs_background": "light"
          }
        }
      ]
    },
    {
      "cell_type": "markdown",
      "metadata": {
        "colab_type": "text",
        "id": "4MQuxIYfejcq"
      },
      "source": [
        "The correlation figure below shows that Toxic\" comments are clearly correlated with both \"obscene\" and \"insult\" comments. Interestingly, \"toxic\" and \"severe_toxic\" are only weakly correlated. While we can also observe that, \"Obscene\" comments and \"insult\" comments are also highly correlated, which makes perfect sense."
      ]
    },
    {
      "cell_type": "markdown",
      "metadata": {
        "colab_type": "text",
        "id": "FHcTJeqwejcr"
      },
      "source": [
        "### DATA PREPROCESSING\n",
        "Deep Neural Networks input layers make use of input variables to feed the network for training the model. But in this task (experiment), we're dealing with words text. How do we represent these words in order to feed our model?\n",
        "\n",
        "In our experiment, we used densed representation of those text (comments) and their semanticity together. The advantage of using this approach is the best way for fitting neural networks onto a text data (as in our case), as well as less memory usage compared to other sparse representation approaches.\n",
        "\n",
        "\n",
        "#### Word Embedding\n",
        "Two ways to feed embeddings to neural networks:\n",
        "   * Using your own word embeddings by training\n",
        "   * Using pre-trained embedding (e.g Word2vec, lad2vec, Glove etc)\n",
        "   \n"
      ]
    },
    {
      "cell_type": "code",
      "metadata": {
        "colab_type": "code",
        "id": "LL_5zSxjejcs",
        "colab": {}
      },
      "source": [
        "#Convert text to vectors using keras preprocessing library tools\n",
        "\n",
        "X_train = train[\"comment_text\"].values\n",
        "X_test  = test[\"comment_text\"].values\n",
        "\n",
        "y_train = train[[\"toxic\", \"severe_toxic\", \"obscene\", \"threat\", \"insult\", \"identity_hate\"]].values\n",
        "y_test  = test[[\"toxic\", \"severe_toxic\", \"obscene\", \"threat\", \"insult\", \"identity_hate\"]].values"
      ],
      "execution_count": 0,
      "outputs": []
    },
    {
      "cell_type": "markdown",
      "metadata": {
        "colab_type": "text",
        "id": "uwqi-osSejcv"
      },
      "source": [
        "\n",
        "\n",
        "\n",
        "\n",
        "\n",
        "For the first embedding, we used keras preprocessing (Text Preprocessing) libraries. This class allows to vectorize a text corpus, by turning each text into either a sequence of integers (each integer being the index of a token in a dictionary) or into a vector where the coefficient for each token could be binary, based on word count, based on tf-idf"
      ]
    },
    {
      "cell_type": "code",
      "metadata": {
        "colab_type": "code",
        "id": "H0rNWt-8ejcz",
        "colab": {}
      },
      "source": [
        "num_words = 20000 #Max. workds to use per toxic comment\n",
        "max_features = 200000 #Max. number of unique words in embeddinbg vector\n",
        "max_len = 200 #Max. number of words per toxic comment to be use\n",
        "embedding_dims = 128 #embedding vector output dimension \n",
        "num_epochs = 15 # (before 5)number of epochs (number of times that the model is exposed to the training dataset)\n",
        "val_split = 0.1\n",
        "batch_size2 = 256 #(before 32)The **batch size** is the number of training examples in one forward/backward pass.\n",
        "                  # In general, larger batch sizes result in faster progress in training, but don't always converge as quickly. \n",
        "                  #Smaller batch sizes train slower, but can converge faster. And the higher the batch size, the more memory space you’ll need."
      ],
      "execution_count": 0,
      "outputs": []
    },
    {
      "cell_type": "code",
      "metadata": {
        "colab_type": "code",
        "id": "cTMhD2dpejcw",
        "outputId": "70bd051e-3386-4bb6-b40c-73a73bc2aea7",
        "colab": {
          "base_uri": "https://localhost:8080/",
          "height": 52
        }
      },
      "source": [
        "#toxic comments Tokenization\n",
        "tokenizer = tokenizer = Tokenizer(num_words)\n",
        "tokenizer.fit_on_texts(list(X_train))\n",
        "\n",
        "#Convert tokenized toxic commnent to sequnces\n",
        "X_train = tokenizer.texts_to_sequences(X_train)\n",
        "X_test = tokenizer.texts_to_sequences(X_test)\n",
        " \n",
        "# padding the sequences\n",
        "X_train = sequence.pad_sequences(X_train, max_len)\n",
        "X_test  = sequence.pad_sequences(X_test,  max_len)\n",
        "\n",
        "print('X_train shape:', X_train.shape)\n",
        "print('X_test shape: ', X_test.shape)"
      ],
      "execution_count": 0,
      "outputs": [
        {
          "output_type": "stream",
          "text": [
            "X_train shape: (159571, 200)\n",
            "X_test shape:  (63930, 200)\n"
          ],
          "name": "stdout"
        }
      ]
    },
    {
      "cell_type": "markdown",
      "metadata": {
        "colab_type": "text",
        "id": "vGxTYdg-WthP"
      },
      "source": [
        "##We use cross validation to split arrays or matrices of train data into random train and validation subsets"
      ]
    },
    {
      "cell_type": "code",
      "metadata": {
        "colab_type": "code",
        "id": "-9HAHH8FWrgE",
        "outputId": "dbb683e7-0cc7-4c95-9f64-8031e6dc6db5",
        "colab": {
          "base_uri": "https://localhost:8080/",
          "height": 87
        }
      },
      "source": [
        "X_tra, X_val, y_tra, y_val = train_test_split(X_train, y_train, train_size =0.9, random_state=233)"
      ],
      "execution_count": 0,
      "outputs": [
        {
          "output_type": "stream",
          "text": [
            "D:\\Program Files\\Anaconda\\lib\\site-packages\\sklearn\\model_selection\\_split.py:2179: FutureWarning:\n",
            "\n",
            "From version 0.21, test_size will always complement train_size unless both are specified.\n",
            "\n"
          ],
          "name": "stderr"
        }
      ]
    },
    {
      "cell_type": "code",
      "metadata": {
        "colab_type": "code",
        "id": "OAe9eO3YyOO-",
        "colab": {}
      },
      "source": [
        "early = EarlyStopping(monitor=\"val_loss\", mode=\"min\", patience=4)"
      ],
      "execution_count": 0,
      "outputs": []
    },
    {
      "cell_type": "markdown",
      "metadata": {
        "colab_type": "text",
        "id": "tQlxRa2xeymU"
      },
      "source": [
        "#### Using Precision, Recall, F1-Measure, AUC, mean etc evaluaiton metrics to evaluate our model"
      ]
    },
    {
      "cell_type": "code",
      "metadata": {
        "colab_type": "code",
        "id": "8g3jDUzie2RN",
        "colab": {}
      },
      "source": [
        "#Import necessary libraries\n",
        "4# demonstration of calculating metrics for a neural network model using sklearn\n",
        "from sklearn.datasets import make_circles\n",
        "from sklearn.metrics import accuracy_score\n",
        "from sklearn.metrics import precision_score\n",
        "from sklearn.metrics import recall_score\n",
        "from sklearn.metrics import f1_score\n",
        "from sklearn.metrics import cohen_kappa_score\n",
        "from sklearn.metrics import roc_auc_score\n",
        "from sklearn.metrics import confusion_matrix\n",
        "\n",
        "\n",
        "def precision(y_true, y_pred):\n",
        "    '''Calculates the precision, a metric for multi-label classification of\n",
        "    how many selected items are relevant.\n",
        "    '''\n",
        "    true_positives = K.sum(K.round(K.clip(y_true * y_pred, 0, 1)))\n",
        "    predicted_positives = K.sum(K.round(K.clip(y_pred, 0, 1)))\n",
        "    precision = true_positives / (predicted_positives + K.epsilon())\n",
        "    return precision\n",
        "\n",
        "\n",
        "def recall(y_true, y_pred):\n",
        "    '''Calculates the recall, a metric for multi-label classification of\n",
        "    how many relevant items are selected.\n",
        "    '''\n",
        "    true_positives = K.sum(K.round(K.clip(y_true * y_pred, 0, 1)))\n",
        "    possible_positives = K.sum(K.round(K.clip(y_true, 0, 1)))\n",
        "    recall = true_positives / (possible_positives + K.epsilon())\n",
        "    return recall\n",
        "\n",
        "  #Customized the evaluation to analyse the model in terms of accuracy and mean value accuracy\n",
        "def mean_pred(y_true, y_pred):\n",
        "    return K.mean(y_pred)\n",
        "\n",
        "def fbeta_score(y_true, y_pred, beta=1):\n",
        "    '''Calculates the F score, the weighted harmonic mean of precision and recall.\n",
        "    This is useful for multi-label classification, where input samples can be\n",
        "    classified as sets of labels. By only using accuracy (precision) a model\n",
        "    would achieve a perfect score by simply assigning every class to every\n",
        "    input. In order to avoid this, a metric should penalize incorrect class\n",
        "    assignments as well (recall). The F-beta score (ranged from 0.0 to 1.0)\n",
        "    computes this, as a weighted mean of the proportion of correct class\n",
        "    assignments vs. the proportion of incorrect class assignments.\n",
        "    With beta = 1, this is equivalent to a F-measure. With beta < 1, assigning\n",
        "    correct classes becomes more important, and with beta > 1 the metric is\n",
        "    instead weighted towards penalizing incorrect class assignments.\n",
        "    '''\n",
        "    if beta < 0:\n",
        "        raise ValueError('The lowest choosable beta is zero (only precision).')\n",
        "        \n",
        "    # If there are no true positives, fix the F score at 0 like sklearn.\n",
        "    if K.sum(K.round(K.clip(y_true, 0, 1))) == 0:\n",
        "        return 0\n",
        "\n",
        "    p = precision(y_true, y_pred)\n",
        "    r = recall(y_true, y_pred)\n",
        "    bb = beta ** 2\n",
        "    fbeta_score = (1 + bb) * (p * r) / (bb * p + r + K.epsilon())\n",
        "    return fbeta_score\n",
        "\n",
        "def auroc(y_true, y_pred):\n",
        "    auc = tf.metrics.auc(y_true, y_pred)[1]\n",
        "    K.get_session().run(tf.local_variables_initializer())\n",
        "    return auc\n",
        "\n",
        "\n",
        "def fmeasure(y_true, y_pred):\n",
        "    '''Calculates the f-measure, the harmonic mean of precision and recall.\n",
        "    '''\n",
        "    return fbeta_score(y_true, y_pred, beta=1)\n",
        "\n",
        "\n",
        "fscore = f1score = fmeasure"
      ],
      "execution_count": 0,
      "outputs": []
    },
    {
      "cell_type": "markdown",
      "metadata": {
        "colab_type": "text",
        "id": "8tUlj_-X1Cz1"
      },
      "source": [
        "# B) \"Word2Vec\" as a pre-Trained Embedding"
      ]
    },
    {
      "cell_type": "markdown",
      "metadata": {
        "colab_type": "text",
        "id": "thDluqVPiOpm"
      },
      "source": [
        "Firstly, we separately learnt word embeddings and then pass to the embedding layer. This approach allows to use  pre-trained (Word2Vec) word embedding and also saves the time in training the classification model.\n",
        "\n",
        "In this part of experiment, we used Geness implementaion of Word2Vec."
      ]
    },
    {
      "cell_type": "markdown",
      "metadata": {
        "colab_type": "text",
        "id": "D9NglSpbiZao"
      },
      "source": [
        "### Create the word tokens in order to prepare the Text corpus for leanring the embedding"
      ]
    },
    {
      "cell_type": "code",
      "metadata": {
        "colab_type": "code",
        "id": "N-5q2yi0MrdQ",
        "outputId": "19dbef3a-056e-48a7-9cde-116b83e5af24",
        "colab": {
          "base_uri": "https://localhost:8080/",
          "height": 105
        }
      },
      "source": [
        "import nltk\n",
        "nltk.download('punkt')\n",
        "nltk.download('stopwords')"
      ],
      "execution_count": 0,
      "outputs": [
        {
          "output_type": "stream",
          "text": [
            "[nltk_data] Downloading package punkt to\n",
            "[nltk_data]     C:\\Users\\hamza.mohammed\\AppData\\Roaming\\nltk_data...\n",
            "[nltk_data]   Package punkt is already up-to-date!\n",
            "[nltk_data] Downloading package stopwords to\n",
            "[nltk_data]     C:\\Users\\hamza.mohammed\\AppData\\Roaming\\nltk_data...\n",
            "[nltk_data]   Package stopwords is already up-to-date!\n"
          ],
          "name": "stderr"
        },
        {
          "output_type": "execute_result",
          "data": {
            "text/plain": [
              "True"
            ]
          },
          "metadata": {
            "tags": []
          },
          "execution_count": 19
        }
      ]
    },
    {
      "cell_type": "code",
      "metadata": {
        "colab_type": "code",
        "id": "q22sYHKGiddC",
        "outputId": "6993e15d-8034-494e-f039-c8da66987b4c",
        "colab": {
          "base_uri": "https://localhost:8080/",
          "height": 34
        }
      },
      "source": [
        "toxicComments_lines = list()\n",
        "lines = train['comment_text'].values.tolist()\n",
        "\n",
        "for line in lines:\n",
        "    tokens = word_tokenize(line)\n",
        "    \n",
        "    #convert to lower case\n",
        "    tokens = [w.lower() for w in tokens]\n",
        "    \n",
        "    #remove punctuation from each word\n",
        "    table =  str.maketrans('', '', string.punctuation)\n",
        "    stripped = [w.translate(table) for w in tokens]\n",
        "    \n",
        "    #remove remaining tpkens gthat are not alphabetic\n",
        "    words = [word for word in stripped if word.isalpha()]\n",
        "    \n",
        "    #filter out stop words\n",
        "    stop_words = set(stopwords.words('english'))\n",
        "    words = [w for w in words if not w in stop_words]\n",
        "    toxicComments_lines.append(words)\n",
        "\n",
        "\n",
        "len(toxicComments_lines)"
      ],
      "execution_count": 0,
      "outputs": [
        {
          "output_type": "execute_result",
          "data": {
            "text/plain": [
              "159571"
            ]
          },
          "metadata": {
            "tags": []
          },
          "execution_count": 20
        }
      ]
    },
    {
      "cell_type": "markdown",
      "metadata": {
        "colab_type": "text",
        "id": "unnnArHDihiL"
      },
      "source": [
        "### Train the Word2Vec"
      ]
    },
    {
      "cell_type": "code",
      "metadata": {
        "colab_type": "code",
        "id": "usSFc7OmiobO",
        "outputId": "8049eea8-5f90-40e4-c25c-48fef31f2202",
        "colab": {
          "base_uri": "https://localhost:8080/",
          "height": 34
        }
      },
      "source": [
        "#train word2vec mode\n",
        "embedding_dims = 128 #embedding vector output dimension \n",
        "max_len = 200 #Max. number of words per toxic comment to be use\n",
        "word2VecModel = gensim.models.Word2Vec(sentences=toxicComments_lines, size= embedding_dims, window=5, workers=4, min_count=1)\n",
        "#vocab size\n",
        "wors = list(word2VecModel.wv.vocab)\n",
        "print('Vocabulary size: %d' % len(words))"
      ],
      "execution_count": 0,
      "outputs": [
        {
          "output_type": "stream",
          "text": [
            "Vocabulary size: 19\n"
          ],
          "name": "stdout"
        }
      ]
    },
    {
      "cell_type": "markdown",
      "metadata": {
        "colab_type": "text",
        "id": "SnIWOASsitYa"
      },
      "source": [
        "#### Test Word2Vec Model of the toxic comment corpus. We tried some word embeddings from the model learnt from the wikipedia toxic comment tran dataset"
      ]
    },
    {
      "cell_type": "code",
      "metadata": {
        "colab_type": "code",
        "id": "IcgwO8Wfisfm",
        "outputId": "99db5a44-8e18-44c1-ea61-2c8715f1f23a",
        "colab": {
          "base_uri": "https://localhost:8080/",
          "height": 265
        }
      },
      "source": [
        "word2VecModel.wv.most_similar('shit')"
      ],
      "execution_count": 0,
      "outputs": [
        {
          "output_type": "execute_result",
          "data": {
            "text/plain": [
              "[('ass', 0.8239984512329102),\n",
              " ('worthless', 0.8036755323410034),\n",
              " ('crap', 0.7981623411178589),\n",
              " ('fucking', 0.7737396955490112),\n",
              " ('garbage', 0.757102370262146),\n",
              " ('scum', 0.7314730882644653),\n",
              " ('lame', 0.7310490608215332),\n",
              " ('goddamn', 0.7293782234191895),\n",
              " ('retards', 0.7286981344223022),\n",
              " ('asshole', 0.728614866733551)]"
            ]
          },
          "metadata": {
            "tags": []
          },
          "execution_count": 22
        }
      ]
    },
    {
      "cell_type": "code",
      "metadata": {
        "colab_type": "code",
        "id": "iw62A32ki2D4",
        "outputId": "b6c51fde-0853-480c-95bc-52a44830fcac",
        "colab": {
          "base_uri": "https://localhost:8080/",
          "height": 194
        }
      },
      "source": [
        "#Let's see the reulst of semantically reasonable word vetors (king - man + woman)\n",
        "word2VecModel.wv.most_similar_cosmul(positive=['woman', 'king'], negative=['man'])"
      ],
      "execution_count": 0,
      "outputs": [
        {
          "output_type": "execute_result",
          "data": {
            "text/plain": [
              "[('prince', 1.1039408445358276),\n",
              " ('pasais', 1.0856211185455322),\n",
              " ('kings', 1.0659501552581787),\n",
              " ('khan', 1.050336241722107),\n",
              " ('micklewhite', 1.04874587059021),\n",
              " ('princess', 1.0480540990829468),\n",
              " ('mary', 1.0480247735977173),\n",
              " ('emperor', 1.0473953485488892),\n",
              " ('jordan', 1.0459847450256348),\n",
              " ('grandfather', 1.0456427335739136)]"
            ]
          },
          "metadata": {
            "tags": []
          },
          "execution_count": 23
        }
      ]
    },
    {
      "cell_type": "code",
      "metadata": {
        "colab_type": "code",
        "id": "nNH_fcpPi4ef",
        "outputId": "9b84418f-1dde-43c4-a69f-7f870cc89484",
        "colab": {
          "base_uri": "https://localhost:8080/",
          "height": 176
        }
      },
      "source": [
        "#Let us find the odd word woman, king, queen, movie = ?\n",
        "#add word out\n",
        "print(word2VecModel.wv.doesnt_match(\"woman king queen movie\".split()))"
      ],
      "execution_count": 0,
      "outputs": [
        {
          "output_type": "stream",
          "text": [
            "D:\\Program Files\\Anaconda\\lib\\site-packages\\gensim\\models\\keyedvectors.py:858: FutureWarning:\n",
            "\n",
            "arrays to stack must be passed as a \"sequence\" type such as list or tuple. Support for non-sequence iterables such as generators is deprecated as of NumPy 1.16 and will raise an error in the future.\n",
            "\n"
          ],
          "name": "stderr"
        },
        {
          "output_type": "stream",
          "text": [
            "movie\n"
          ],
          "name": "stdout"
        }
      ]
    },
    {
      "cell_type": "markdown",
      "metadata": {
        "colab_type": "text",
        "id": "WHgNZtRFi-Y2"
      },
      "source": [
        "#### Save the Word2Vec Corpus locally"
      ]
    },
    {
      "cell_type": "code",
      "metadata": {
        "colab_type": "code",
        "id": "CWsk46-IFrpm",
        "colab": {}
      },
      "source": [
        ""
      ],
      "execution_count": 0,
      "outputs": []
    },
    {
      "cell_type": "code",
      "metadata": {
        "colab_type": "code",
        "id": "v0c4qsY6i__S",
        "colab": {}
      },
      "source": [
        "#save model\n",
        "filename = 'toxic_embedding_word2vec.txt'\n",
        "word2VecModel.wv.save_word2vec_format(filename, binary=False)"
      ],
      "execution_count": 0,
      "outputs": []
    },
    {
      "cell_type": "markdown",
      "metadata": {
        "colab_type": "text",
        "id": "P4obkfWHjM6Y"
      },
      "source": [
        "### Use the Pre-Trained Embedding (Word2Vec) in our models (CNN, and RNN)"
      ]
    },
    {
      "cell_type": "code",
      "metadata": {
        "colab_type": "code",
        "id": "aAtdEnVRjOgx",
        "colab": {}
      },
      "source": [
        "word2Vec_embeddings_index = {}\n",
        "word2vec_file = open(os.path.join('', 'toxic_embedding_word2vec.txt'), encoding = \"utf-8\")\n",
        "\n",
        "for line in word2vec_file:\n",
        "    values = line.split()\n",
        "    word = values[0]\n",
        "    coefficient = np.asarray(values[1:])\n",
        "    word2Vec_embeddings_index[word] = coefficient\n",
        "word2vec_file.close()"
      ],
      "execution_count": 0,
      "outputs": []
    },
    {
      "cell_type": "markdown",
      "metadata": {
        "colab_type": "text",
        "id": "bI0rRFgZjT95"
      },
      "source": [
        "#### Convert the word embedding into tokenized vector"
      ]
    },
    {
      "cell_type": "code",
      "metadata": {
        "colab_type": "code",
        "id": "vI-e9hy-jViP",
        "outputId": "2d1c33ef-4ab5-4351-c0eb-c3b606139f3c",
        "colab": {
          "base_uri": "https://localhost:8080/",
          "height": 70
        }
      },
      "source": [
        "#vectorize the text samples into a 2D integer tensor\n",
        "tokenizer_obj = Tokenizer()\n",
        "tokenizer_obj.fit_on_texts(toxicComments_lines)\n",
        "sequences = tokenizer_obj.texts_to_sequences(toxicComments_lines)\n",
        "\n",
        "#pad sequences\n",
        "word_index = tokenizer_obj.word_index\n",
        "print('Found %s uniquue tokens.' % len(word_index))\n",
        "\n",
        "toxicComments_pad = pad_sequences(sequences, maxlen=max_len)\n",
        "comments_tag = train[[\"toxic\", \"severe_toxic\", \"obscene\", \"threat\", \"insult\", \"identity_hate\"]].values\n",
        "print('Shape of toxic comments tensor', toxicComments_pad.shape)\n",
        "print('Shape of comment tensor', comments_tag.shape)"
      ],
      "execution_count": 0,
      "outputs": [
        {
          "output_type": "stream",
          "text": [
            "Found 216407 uniquue tokens.\n",
            "Shape of toxic comments tensor (159571, 200)\n",
            "Shape of comment tensor (159571, 6)\n"
          ],
          "name": "stdout"
        }
      ]
    },
    {
      "cell_type": "markdown",
      "metadata": {
        "colab_type": "text",
        "id": "4JuiKGE2jdqF"
      },
      "source": [
        "#### We mapped the embeddings from the loaded word2vec model so that each word to the tokenizer_obj.word_index vocabulary and create a matrix with of word vectors."
      ]
    },
    {
      "cell_type": "code",
      "metadata": {
        "colab_type": "code",
        "id": "Q8e9mWPQjfn4",
        "colab": {},
        "outputId": "b507f979-7360-4ef9-eb45-53118b0ec6e2"
      },
      "source": [
        "num_words = len(word_index)+1\n",
        "word2Vec_embedding_matrix = np.zeros((num_words, embedding_dims))\n",
        "\n",
        "for word, i  in word_index.items():\n",
        "    if i > num_words:\n",
        "        continue\n",
        "    word2Vec_embedding_vector = word2Vec_embeddings_index.get(word)\n",
        "    if word2Vec_embedding_vector is not None:\n",
        "        #words not found in embedding index will be all-zeros.\n",
        "        word2Vec_embedding_matrix[i] = word2Vec_embedding_vector\n",
        "\n",
        "print(num_words)\n",
        "print(word2Vec_embedding_matrix.shape[0])\n",
        "print(word2Vec_embedding_matrix.shape[1])"
      ],
      "execution_count": 0,
      "outputs": [
        {
          "output_type": "stream",
          "text": [
            "216408\n",
            "216408\n",
            "128\n"
          ],
          "name": "stdout"
        }
      ]
    },
    {
      "cell_type": "markdown",
      "metadata": {
        "colab_type": "text",
        "id": "O5g3oMqWjk4P"
      },
      "source": [
        "## 1) Convolutional Neural Network (CNN) with Word2Vec"
      ]
    },
    {
      "cell_type": "code",
      "metadata": {
        "colab_type": "code",
        "id": "-4vRilk0jsGS",
        "colab": {},
        "outputId": "05118bdb-68d6-4d0b-dfa7-adf080da72a0"
      },
      "source": [
        "CNN_Word2Vec_model = Sequential([\n",
        "    Embedding(input_dim =word2Vec_embedding_matrix.shape[0], input_length=max_len, output_dim=word2Vec_embedding_matrix.shape[1],weights=[word2Vec_embedding_matrix], trainable=False),\n",
        "    SpatialDropout1D(0.5),\n",
        "    # ... 100 filters with a kernel size of 4 so that each convolution will consider a window of 4 word embeddings\n",
        "    Conv1D(filters=100, kernel_size=4, padding='same', activation='relu'),\n",
        "    #**batch normalization layer** normalizes the activations of the previous layer at each batch, \n",
        "    #i.e. applies a transformation that maintains the mean activation close to 0 and the activation standard deviation close to 1. \n",
        "    #It will be added after the activation function between a convolutional and a max-pooling layer.\n",
        "    BatchNormalization(),\n",
        "    GlobalMaxPool1D(),\n",
        "    Dropout(0.5),\n",
        "    Dense(50, activation = 'relu'),\n",
        "    Dense(6, activation = 'sigmoid')\n",
        "])"
      ],
      "execution_count": 0,
      "outputs": [
        {
          "output_type": "stream",
          "text": [
            "WARNING:tensorflow:From D:\\Program Files\\Anaconda\\lib\\site-packages\\tensorflow\\python\\framework\\op_def_library.py:263: colocate_with (from tensorflow.python.framework.ops) is deprecated and will be removed in a future version.\n",
            "Instructions for updating:\n",
            "Colocations handled automatically by placer.\n",
            "WARNING:tensorflow:From D:\\Program Files\\Anaconda\\lib\\site-packages\\keras\\backend\\tensorflow_backend.py:3445: calling dropout (from tensorflow.python.ops.nn_ops) with keep_prob is deprecated and will be removed in a future version.\n",
            "Instructions for updating:\n",
            "Please use `rate` instead of `keep_prob`. Rate should be set to `rate = 1 - keep_prob`.\n"
          ],
          "name": "stdout"
        }
      ]
    },
    {
      "cell_type": "code",
      "metadata": {
        "colab_type": "code",
        "id": "ufAM3SM4jw9D",
        "colab": {},
        "outputId": "443e3ba8-849b-4fa7-e2bb-aedbf68506f3"
      },
      "source": [
        "#Customized the evaluation to analyse the model in terms of accuracy and mean value accuracy\n",
        "def mean_pred(y_true, y_pred):\n",
        "    return K.mean(y_pred)\n",
        "\n",
        "CNN_Word2Vec_model.compile(loss='binary_crossentropy', optimizer=Adam(0.01), metrics=['accuracy', mean_pred, fmeasure, precision, auroc, recall])"
      ],
      "execution_count": 0,
      "outputs": [
        {
          "output_type": "stream",
          "text": [
            "WARNING:tensorflow:From D:\\Program Files\\Anaconda\\lib\\site-packages\\tensorflow\\python\\ops\\metrics_impl.py:526: to_float (from tensorflow.python.ops.math_ops) is deprecated and will be removed in a future version.\n",
            "Instructions for updating:\n",
            "Use tf.cast instead.\n",
            "WARNING:tensorflow:From D:\\Program Files\\Anaconda\\lib\\site-packages\\tensorflow\\python\\ops\\metrics_impl.py:788: div (from tensorflow.python.ops.math_ops) is deprecated and will be removed in a future version.\n",
            "Instructions for updating:\n",
            "Deprecated in favor of operator or tf.math.divide.\n"
          ],
          "name": "stdout"
        }
      ]
    },
    {
      "cell_type": "markdown",
      "metadata": {
        "colab_type": "text",
        "id": "ji8FaidL2SU5"
      },
      "source": [
        "\n",
        "#### Visualize the Orchestrated CNN-Glove Model Architecture"
      ]
    },
    {
      "cell_type": "code",
      "metadata": {
        "colab_type": "code",
        "id": "enZRJY0HjzGs",
        "colab": {},
        "outputId": "f1f52cd6-8422-482f-beeb-b897806a5440"
      },
      "source": [
        "CNN_Word2Vec_model.summary()"
      ],
      "execution_count": 0,
      "outputs": [
        {
          "output_type": "stream",
          "text": [
            "_________________________________________________________________\n",
            "Layer (type)                 Output Shape              Param #   \n",
            "=================================================================\n",
            "embedding_1 (Embedding)      (None, 200, 128)          27700224  \n",
            "_________________________________________________________________\n",
            "spatial_dropout1d_1 (Spatial (None, 200, 128)          0         \n",
            "_________________________________________________________________\n",
            "conv1d_1 (Conv1D)            (None, 200, 100)          51300     \n",
            "_________________________________________________________________\n",
            "batch_normalization_1 (Batch (None, 200, 100)          400       \n",
            "_________________________________________________________________\n",
            "global_max_pooling1d_1 (Glob (None, 100)               0         \n",
            "_________________________________________________________________\n",
            "dropout_1 (Dropout)          (None, 100)               0         \n",
            "_________________________________________________________________\n",
            "dense_1 (Dense)              (None, 50)                5050      \n",
            "_________________________________________________________________\n",
            "dense_2 (Dense)              (None, 6)                 306       \n",
            "=================================================================\n",
            "Total params: 27,757,280\n",
            "Trainable params: 56,856\n",
            "Non-trainable params: 27,700,424\n",
            "_________________________________________________________________\n"
          ],
          "name": "stdout"
        }
      ]
    },
    {
      "cell_type": "code",
      "metadata": {
        "colab_type": "code",
        "id": "6QMA1u6lwOC_",
        "colab": {}
      },
      "source": [
        "#plot the CNN_Word2Vec_model architecture\n",
        "\n",
        "#plot_model(CNN_Word2Vec_model, to_file='CNN_Word2Vec_model_plot.png', show_shapes=True, show_layer_names=True)\n",
        "#Image(retina=True, filename='CNN_Word2Vec_model_plot.png')"
      ],
      "execution_count": 0,
      "outputs": []
    },
    {
      "cell_type": "code",
      "metadata": {
        "colab_type": "code",
        "id": "wPPdjq3Wj1hF",
        "colab": {},
        "outputId": "299209ea-1c56-4d65-ae9b-de2ac0c786f4"
      },
      "source": [
        "CNN_Word2Vec_model_fit = CNN_Word2Vec_model.fit(X_tra, y_tra, batch_size=batch_size2, epochs=num_epochs, validation_data=(X_val, y_val))"
      ],
      "execution_count": 0,
      "outputs": [
        {
          "output_type": "stream",
          "text": [
            "WARNING:tensorflow:From D:\\Program Files\\Anaconda\\lib\\site-packages\\tensorflow\\python\\ops\\math_ops.py:3066: to_int32 (from tensorflow.python.ops.math_ops) is deprecated and will be removed in a future version.\n",
            "Instructions for updating:\n",
            "Use tf.cast instead.\n",
            "Train on 143613 samples, validate on 15958 samples\n",
            "Epoch 1/15\n",
            "143613/143613 [==============================] - 178s 1ms/step - loss: 0.1558 - acc: 0.9622 - mean_pred: 0.0384 - fmeasure: 0.0873 - precision: 0.4368 - auroc: 0.7424 - recall: 0.0528 - val_loss: 0.1097 - val_acc: 0.9656 - val_mean_pred: 0.0406 - val_fmeasure: 0.1507 - val_precision: 0.8721 - val_auroc: 0.8069 - val_recall: 0.0849\n",
            "Epoch 2/15\n",
            "143613/143613 [==============================] - 176s 1ms/step - loss: 0.1089 - acc: 0.9678 - mean_pred: 0.0373 - fmeasure: 0.2876 - precision: 0.7421 - auroc: 0.8297 - recall: 0.1850 - val_loss: 0.0943 - val_acc: 0.9703 - val_mean_pred: 0.0371 - val_fmeasure: 0.3547 - val_precision: 0.8956 - val_auroc: 0.8463 - val_recall: 0.2295\n",
            "Epoch 3/15\n",
            "143613/143613 [==============================] - 185s 1ms/step - loss: 0.1015 - acc: 0.9695 - mean_pred: 0.0369 - fmeasure: 0.3609 - precision: 0.7603 - auroc: 0.8569 - recall: 0.2440 - val_loss: 0.0896 - val_acc: 0.9718 - val_mean_pred: 0.0390 - val_fmeasure: 0.4212 - val_precision: 0.8665 - val_auroc: 0.8651 - val_recall: 0.2862\n",
            "Epoch 4/15\n",
            "143613/143613 [==============================] - 180s 1ms/step - loss: 0.0983 - acc: 0.9704 - mean_pred: 0.0371 - fmeasure: 0.3936 - precision: 0.7666 - auroc: 0.8710 - recall: 0.2724 - val_loss: 0.0859 - val_acc: 0.9727 - val_mean_pred: 0.0301 - val_fmeasure: 0.4399 - val_precision: 0.8992 - val_auroc: 0.8762 - val_recall: 0.2996\n",
            "Epoch 5/15\n",
            "143613/143613 [==============================] - 180s 1ms/step - loss: 0.0963 - acc: 0.9709 - mean_pred: 0.0369 - fmeasure: 0.4076 - precision: 0.7830 - auroc: 0.8801 - recall: 0.2832 - val_loss: 0.0833 - val_acc: 0.9735 - val_mean_pred: 0.0356 - val_fmeasure: 0.4863 - val_precision: 0.8518 - val_auroc: 0.8837 - val_recall: 0.3490\n",
            "Epoch 6/15\n",
            "143613/143613 [==============================] - 181s 1ms/step - loss: 0.0939 - acc: 0.9713 - mean_pred: 0.0367 - fmeasure: 0.4228 - precision: 0.7815 - auroc: 0.8868 - recall: 0.2977 - val_loss: 0.0823 - val_acc: 0.9737 - val_mean_pred: 0.0369 - val_fmeasure: 0.4802 - val_precision: 0.8864 - val_auroc: 0.8896 - val_recall: 0.3377\n",
            "Epoch 7/15\n",
            "143613/143613 [==============================] - 173s 1ms/step - loss: 0.0925 - acc: 0.9716 - mean_pred: 0.0367 - fmeasure: 0.4359 - precision: 0.7851 - auroc: 0.8919 - recall: 0.3091 - val_loss: 0.0810 - val_acc: 0.9742 - val_mean_pred: 0.0384 - val_fmeasure: 0.5135 - val_precision: 0.8361 - val_auroc: 0.8942 - val_recall: 0.3771\n",
            "Epoch 8/15\n",
            "143613/143613 [==============================] - 182s 1ms/step - loss: 0.0915 - acc: 0.9719 - mean_pred: 0.0367 - fmeasure: 0.4425 - precision: 0.7814 - auroc: 0.8961 - recall: 0.3164 - val_loss: 0.0799 - val_acc: 0.9743 - val_mean_pred: 0.0342 - val_fmeasure: 0.4938 - val_precision: 0.8969 - val_auroc: 0.8979 - val_recall: 0.3493\n",
            "Epoch 9/15\n",
            "143613/143613 [==============================] - 187s 1ms/step - loss: 0.0904 - acc: 0.9721 - mean_pred: 0.0366 - fmeasure: 0.4527 - precision: 0.7884 - auroc: 0.8995 - recall: 0.3248 - val_loss: 0.0805 - val_acc: 0.9739 - val_mean_pred: 0.0334 - val_fmeasure: 0.4858 - val_precision: 0.8855 - val_auroc: 0.9009 - val_recall: 0.3431\n",
            "Epoch 10/15\n",
            "143613/143613 [==============================] - 184s 1ms/step - loss: 0.0902 - acc: 0.9722 - mean_pred: 0.0366 - fmeasure: 0.4563 - precision: 0.7905 - auroc: 0.9022 - recall: 0.3279 - val_loss: 0.0792 - val_acc: 0.9743 - val_mean_pred: 0.0333 - val_fmeasure: 0.5094 - val_precision: 0.8553 - val_auroc: 0.9035 - val_recall: 0.3720\n",
            "Epoch 11/15\n",
            "143613/143613 [==============================] - 180s 1ms/step - loss: 0.0899 - acc: 0.9723 - mean_pred: 0.0365 - fmeasure: 0.4563 - precision: 0.7870 - auroc: 0.9046 - recall: 0.3292 - val_loss: 0.0787 - val_acc: 0.9744 - val_mean_pred: 0.0335 - val_fmeasure: 0.5041 - val_precision: 0.8785 - val_auroc: 0.9056 - val_recall: 0.3615\n",
            "Epoch 12/15\n",
            "143613/143613 [==============================] - 178s 1ms/step - loss: 0.0894 - acc: 0.9722 - mean_pred: 0.0366 - fmeasure: 0.4582 - precision: 0.7833 - auroc: 0.9065 - recall: 0.3314 - val_loss: 0.0813 - val_acc: 0.9734 - val_mean_pred: 0.0291 - val_fmeasure: 0.4602 - val_precision: 0.9074 - val_auroc: 0.9074 - val_recall: 0.3171\n",
            "Epoch 13/15\n",
            "143613/143613 [==============================] - 182s 1ms/step - loss: 0.0892 - acc: 0.9723 - mean_pred: 0.0365 - fmeasure: 0.4592 - precision: 0.7871 - auroc: 0.9082 - recall: 0.3324 - val_loss: 0.0779 - val_acc: 0.9745 - val_mean_pred: 0.0299 - val_fmeasure: 0.5131 - val_precision: 0.8684 - val_auroc: 0.9090 - val_recall: 0.3722\n",
            "Epoch 14/15\n",
            "143613/143613 [==============================] - 182s 1ms/step - loss: 0.0887 - acc: 0.9726 - mean_pred: 0.0365 - fmeasure: 0.4668 - precision: 0.7913 - auroc: 0.9097 - recall: 0.3389 - val_loss: 0.0780 - val_acc: 0.9752 - val_mean_pred: 0.0404 - val_fmeasure: 0.5423 - val_precision: 0.8436 - val_auroc: 0.9103 - val_recall: 0.4080\n",
            "Epoch 15/15\n",
            "143613/143613 [==============================] - 183s 1ms/step - loss: 0.0883 - acc: 0.9727 - mean_pred: 0.0366 - fmeasure: 0.4721 - precision: 0.7878 - auroc: 0.9110 - recall: 0.3448 - val_loss: 0.0773 - val_acc: 0.9746 - val_mean_pred: 0.0317 - val_fmeasure: 0.5054 - val_precision: 0.8886 - val_auroc: 0.9115 - val_recall: 0.3609\n"
          ],
          "name": "stdout"
        }
      ]
    },
    {
      "cell_type": "markdown",
      "metadata": {
        "colab_type": "text",
        "id": "prmcneNW3Fms"
      },
      "source": [
        "#### Evaluate the CNN+Word2Vec Model accuracy of our trained model"
      ]
    },
    {
      "cell_type": "code",
      "metadata": {
        "colab_type": "code",
        "id": "k8vAeqffj4R8",
        "colab": {},
        "outputId": "5c0c61d1-9204-46de-97f2-6581784b4e3f"
      },
      "source": [
        "CNN_Word2Vec_train_score = CNN_Word2Vec_model.evaluate(X_train, y_train, batch_size=batch_size2, verbose=1)\n",
        "print('Train Loss:', CNN_Word2Vec_train_score[0])\n",
        "print('Train Accuracy:', CNN_Word2Vec_train_score[1])"
      ],
      "execution_count": 0,
      "outputs": [
        {
          "output_type": "stream",
          "text": [
            ""
          ],
          "name": "stdout"
        },
        {
          "output_type": "stream",
          "text": [
            "159571/159571 [==============================] - 83s 518us/step\n",
            "Train Loss: 0.07369316441043337\n",
            "Train Accuracy: 0.9756545209005203\n"
          ],
          "name": "stdout"
        }
      ]
    },
    {
      "cell_type": "markdown",
      "metadata": {
        "colab_type": "text",
        "id": "iNAxfDw929u1"
      },
      "source": [
        "#### Evaluate the CNN+Word2Vec accuracy base our test samples"
      ]
    },
    {
      "cell_type": "code",
      "metadata": {
        "colab_type": "code",
        "id": "Q733bGk7j6wf",
        "colab": {},
        "outputId": "3f76e675-5c53-46e5-8eb3-26315abc16ab"
      },
      "source": [
        "CNN_Word2Vec_test_score = CNN_Word2Vec_model.evaluate(X_test, y_test, batch_size=batch_size2, verbose=1)\n",
        "print('Test Loss:', CNN_Word2Vec_test_score[0])\n",
        "print('Test Accuracy:', CNN_Word2Vec_test_score[1])"
      ],
      "execution_count": 0,
      "outputs": [
        {
          "output_type": "stream",
          "text": [
            ""
          ],
          "name": "stdout"
        },
        {
          "output_type": "stream",
          "text": [
            "63930/63930 [==============================] - 33s 517us/step\n",
            "Test Loss: 0.09204543822927316\n",
            "Test Accuracy: 0.9701809297065938\n"
          ],
          "name": "stdout"
        }
      ]
    },
    {
      "cell_type": "code",
      "metadata": {
        "colab_type": "code",
        "id": "A_S65elrj9nt",
        "colab": {},
        "outputId": "e9937004-fcd1-40f6-d0e8-5d8224508dce"
      },
      "source": [
        "#Predicting......\n",
        "print('Predicting....')\n",
        "y_pred = CNN_Word2Vec_model.predict(X_test,batch_size=batch_size2,verbose=1)"
      ],
      "execution_count": 0,
      "outputs": [
        {
          "output_type": "stream",
          "text": [
            "Predicting....\n",
            "63930/63930 [==============================] - 32s 500us/step\n"
          ],
          "name": "stdout"
        }
      ]
    },
    {
      "cell_type": "markdown",
      "metadata": {
        "colab_type": "text",
        "id": "lK6Dcg2H3TZD"
      },
      "source": [
        "#### Plot Training & Validation Accuracy with the Loss values of the CNN-Word2Vec Model"
      ]
    },
    {
      "cell_type": "code",
      "metadata": {
        "colab_type": "code",
        "id": "7ZwqACJEkBal",
        "colab": {},
        "outputId": "19e1b61b-6b6e-432a-ec41-46ce6cc45cbb"
      },
      "source": [
        "# Plot training & validation accuracy values\n",
        "plt.plot(CNN_Word2Vec_model_fit.history['acc'])\n",
        "plt.plot(CNN_Word2Vec_model_fit.history['val_acc'])\n",
        "plt.title('CNN-Word2Vec Model accuracy')\n",
        "plt.ylabel('Accuracy')\n",
        "plt.xlabel('Epoch')\n",
        "plt.legend(['Training Accuracy', 'Validation Accuracy'], loc='upper left')\n",
        "plt.show()\n"
      ],
      "execution_count": 0,
      "outputs": [
        {
          "output_type": "display_data",
          "data": {
            "image/png": "[encoded data removed]",
            "text/plain": [
              "<Figure size 432x288 with 1 Axes>"
            ]
          },
          "metadata": {
            "tags": [],
            "needs_background": "light"
          }
        }
      ]
    },
    {
      "cell_type": "code",
      "metadata": {
        "colab_type": "code",
        "id": "0K4SBNuHkHbE",
        "colab": {},
        "outputId": "1f8ba7e5-387b-4119-94a3-588723262339"
      },
      "source": [
        "# Plot training & validation loss values\n",
        "plt.plot(CNN_Word2Vec_model_fit.history['loss'])\n",
        "plt.plot(CNN_Word2Vec_model_fit.history['val_loss'])\n",
        "plt.title('CNN-Word2Vec Model loss')\n",
        "plt.ylabel('Loss')\n",
        "plt.xlabel('Epoch')\n",
        "plt.legend(['Training Loss', 'Validation Loss'], loc='lower right')\n",
        "plt.show()"
      ],
      "execution_count": 0,
      "outputs": [
        {
          "output_type": "display_data",
          "data": {
            "image/png": "[encoded data removed]",
            "text/plain": [
              "<Figure size 432x288 with 1 Axes>"
            ]
          },
          "metadata": {
            "tags": [],
            "needs_background": "light"
          }
        }
      ]
    },
    {
      "cell_type": "markdown",
      "metadata": {
        "colab_type": "text",
        "id": "JVrSxJL4kMGO"
      },
      "source": [
        "## 2) Recurrent Neural Network (RNN) with Word2Vec"
      ]
    },
    {
      "cell_type": "code",
      "metadata": {
        "colab_type": "code",
        "id": "ZT3M69FVkRKr",
        "colab": {}
      },
      "source": [
        "RNN_Word2Vec_model = Sequential([\n",
        "    Embedding(input_dim =word2Vec_embedding_matrix.shape[0], input_length=max_len, output_dim=word2Vec_embedding_matrix.shape[1],weights=[word2Vec_embedding_matrix], trainable=False),\n",
        "    SpatialDropout1D(0.5),\n",
        "    #Fully-connected RNN where the output is to be fed back to input.\n",
        "    SimpleRNN(25, return_sequences=True),\n",
        "    #**batch normalization layer** normalizes the activations of the previous layer at each batch, \n",
        "    #i.e. applies a transformation that maintains the mean activation close to 0 and the activation standard deviation close to 1. \n",
        "    BatchNormalization(),\n",
        "    Dropout(0.5),\n",
        "    GlobalMaxPool1D(),\n",
        "    Dense(50, activation = 'relu'),\n",
        "    Dense(6, activation = 'sigmoid')\n",
        "])"
      ],
      "execution_count": 0,
      "outputs": []
    },
    {
      "cell_type": "code",
      "metadata": {
        "colab_type": "code",
        "id": "eVEfBpTikW83",
        "colab": {}
      },
      "source": [
        "#Customized the evaluation to analyse the model in terms of accuracy and mean value accuracy\n",
        "def mean_pred(y_true, y_pred):\n",
        "    return K.mean(y_pred)\n",
        "\n",
        "RNN_Word2Vec_model.compile(loss='binary_crossentropy', optimizer=Adam(0.01), metrics=['accuracy', mean_pred, fmeasure, precision, auroc, ])"
      ],
      "execution_count": 0,
      "outputs": []
    },
    {
      "cell_type": "markdown",
      "metadata": {
        "colab_type": "text",
        "id": "wFrJ4D-F3qv3"
      },
      "source": [
        "####Visualize the Orchestrated RNN-Word2Vec Model Architecture"
      ]
    },
    {
      "cell_type": "code",
      "metadata": {
        "colab_type": "code",
        "id": "flnM-ghykYEw",
        "colab": {},
        "outputId": "a923f596-2bdd-4568-8074-0267e3e52450"
      },
      "source": [
        "RNN_Word2Vec_model.summary()"
      ],
      "execution_count": 0,
      "outputs": [
        {
          "output_type": "stream",
          "text": [
            "_________________________________________________________________\n",
            "Layer (type)                 Output Shape              Param #   \n",
            "=================================================================\n",
            "embedding_4 (Embedding)      (None, 200, 128)          27700224  \n",
            "_________________________________________________________________\n",
            "spatial_dropout1d_4 (Spatial (None, 200, 128)          0         \n",
            "_________________________________________________________________\n",
            "simple_rnn_1 (SimpleRNN)     (None, 200, 25)           3850      \n",
            "_________________________________________________________________\n",
            "batch_normalization_2 (Batch (None, 200, 25)           100       \n",
            "_________________________________________________________________\n",
            "dropout_2 (Dropout)          (None, 200, 25)           0         \n",
            "_________________________________________________________________\n",
            "global_max_pooling1d_2 (Glob (None, 25)                0         \n",
            "_________________________________________________________________\n",
            "dense_3 (Dense)              (None, 50)                1300      \n",
            "_________________________________________________________________\n",
            "dense_4 (Dense)              (None, 6)                 306       \n",
            "=================================================================\n",
            "Total params: 27,705,780\n",
            "Trainable params: 5,506\n",
            "Non-trainable params: 27,700,274\n",
            "_________________________________________________________________\n"
          ],
          "name": "stdout"
        }
      ]
    },
    {
      "cell_type": "code",
      "metadata": {
        "colab_type": "code",
        "id": "Qi9EK0MVwW5a",
        "colab": {}
      },
      "source": [
        "#plot the RNN_Word2Vec_model architecture\n",
        "\n",
        "#plot_model(RNN_Word2Vec_model, to_file='RNN_Word2Vec_model_plot.png', show_shapes=True, show_layer_names=True)\n",
        "#Image(retina=True, filename='RNN_Word2Vec_model_plot.png')"
      ],
      "execution_count": 0,
      "outputs": []
    },
    {
      "cell_type": "code",
      "metadata": {
        "colab_type": "code",
        "id": "2GALxf3TkaiD",
        "colab": {},
        "outputId": "4932e937-3792-422c-f2dd-ac1f400635da"
      },
      "source": [
        "RNN_Word2Vec_model_fit = RNN_Word2Vec_model.fit(X_tra, y_tra, batch_size=batch_size2, epochs=num_epochs, validation_data=(X_val, y_val))"
      ],
      "execution_count": 0,
      "outputs": [
        {
          "output_type": "stream",
          "text": [
            "Train on 143613 samples, validate on 15958 samples\n",
            "Epoch 1/15\n",
            "143613/143613 [==============================] - 66s 458us/step - loss: 0.1421 - acc: 0.9619 - mean_pred: 0.0374 - fmeasure: 0.0033 - precision: 0.0520 - auroc: 0.7461 - val_loss: 0.2119 - val_acc: 0.9627 - val_mean_pred: 0.1511 - val_fmeasure: 0.0282 - val_precision: 0.1969 - val_auroc: 0.7666\n",
            "Epoch 2/15\n",
            "143613/143613 [==============================] - 67s 469us/step - loss: 0.1348 - acc: 0.9636 - mean_pred: 0.0366 - fmeasure: 0.0098 - precision: 0.1444 - auroc: 0.7659 - val_loss: 0.1974 - val_acc: 0.9627 - val_mean_pred: 0.1331 - val_fmeasure: 0.0236 - val_precision: 0.1745 - val_auroc: 0.7686\n",
            "Epoch 3/15\n",
            "143613/143613 [==============================] - 67s 470us/step - loss: 0.1338 - acc: 0.9636 - mean_pred: 0.0366 - fmeasure: 0.0090 - precision: 0.1442 - auroc: 0.7698 - val_loss: 0.2043 - val_acc: 0.9627 - val_mean_pred: 0.1439 - val_fmeasure: 0.0258 - val_precision: 0.1865 - val_auroc: 0.7719\n",
            "Epoch 4/15\n",
            "143613/143613 [==============================] - 65s 451us/step - loss: 0.1328 - acc: 0.9635 - mean_pred: 0.0366 - fmeasure: 0.0100 - precision: 0.1430 - auroc: 0.7733 - val_loss: 0.2113 - val_acc: 0.9627 - val_mean_pred: 0.1505 - val_fmeasure: 0.0236 - val_precision: 0.2092 - val_auroc: 0.7746\n",
            "Epoch 5/15\n",
            "143613/143613 [==============================] - 65s 453us/step - loss: 0.1321 - acc: 0.9636 - mean_pred: 0.0368 - fmeasure: 0.0101 - precision: 0.1473 - auroc: 0.7754 - val_loss: 0.1845 - val_acc: 0.9627 - val_mean_pred: 0.1222 - val_fmeasure: 0.0262 - val_precision: 0.2119 - val_auroc: 0.7772\n",
            "Epoch 6/15\n",
            "143613/143613 [==============================] - 63s 438us/step - loss: 0.1315 - acc: 0.9636 - mean_pred: 0.0367 - fmeasure: 0.0132 - precision: 0.1471 - auroc: 0.7786 - val_loss: 0.1732 - val_acc: 0.9627 - val_mean_pred: 0.1100 - val_fmeasure: 0.0268 - val_precision: 0.2051 - val_auroc: 0.7804\n",
            "Epoch 7/15\n",
            "143613/143613 [==============================] - 63s 436us/step - loss: 0.1314 - acc: 0.9636 - mean_pred: 0.0367 - fmeasure: 0.0167 - precision: 0.1787 - auroc: 0.7817 - val_loss: 0.1739 - val_acc: 0.9628 - val_mean_pred: 0.1113 - val_fmeasure: 0.0261 - val_precision: 0.1932 - val_auroc: 0.7832\n",
            "Epoch 8/15\n",
            "143613/143613 [==============================] - 64s 449us/step - loss: 0.1307 - acc: 0.9634 - mean_pred: 0.0368 - fmeasure: 0.0000e+00 - precision: 0.0000e+00 - auroc: 0.7938 - val_loss: 0.1499 - val_acc: 0.9624 - val_mean_pred: 0.0721 - val_fmeasure: 0.0000e+00 - val_precision: 0.0000e+00 - val_auroc: 0.7945\n",
            "Epoch 15/15\n",
            "  5376/143613 [>.............................] - ETA: 1:00 - loss: 0.1275 - acc: 0.9641 - mean_pred: 0.0376 - fmeasure: 0.0000e+00 - precision: 0.0000e+00 - auroc: 0.7944"
          ],
          "name": "stdout"
        }
      ]
    },
    {
      "cell_type": "markdown",
      "metadata": {
        "colab_type": "text",
        "id": "IO01dJfA38Oe"
      },
      "source": [
        "#### Evaluate the RNN+Word2Vec Model accuracy of our trained model"
      ]
    },
    {
      "cell_type": "code",
      "metadata": {
        "colab_type": "code",
        "id": "uh28E29zkdiN",
        "colab": {},
        "outputId": "73213fc4-df0b-45c9-fe44-1a747e190a40"
      },
      "source": [
        "RNN_Word2Vec_train_score = RNN_Word2Vec_model.evaluate(X_tra, y_tra, batch_size=batch_size2, verbose=1)\n",
        "print('Train Loss:', RNN_Word2Vec_train_score[0])\n",
        "print('Train Accuracy:', RNN_Word2Vec_train_score[1])"
      ],
      "execution_count": 0,
      "outputs": [
        {
          "output_type": "stream",
          "text": [
            ""
          ],
          "name": "stdout"
        },
        {
          "output_type": "stream",
          "text": [
            "143613/143613 [==============================] - 32s 225us/step\n",
            "Train Loss: 0.14188053491089206\n",
            "Train Accuracy: 0.9634422635366053\n"
          ],
          "name": "stdout"
        }
      ]
    },
    {
      "cell_type": "markdown",
      "metadata": {
        "colab_type": "text",
        "id": "8K91j4vQ4PgV"
      },
      "source": [
        "#### Evaluate the RNN+Word2Vec accuracy base our test samples"
      ]
    },
    {
      "cell_type": "code",
      "metadata": {
        "colab_type": "code",
        "id": "GLgq6Bsnko_S",
        "colab": {},
        "outputId": "86ba22fe-3748-412e-fcbc-6df43b88c0d0"
      },
      "source": [
        "RNN_Word2Vec_test_score = RNN_Word2Vec_model.evaluate(X_test, y_test, batch_size=batch_size2, verbose=1)\n",
        "print('Test Loss:', RNN_Word2Vec_test_score[0])\n",
        "print('Test Accuracy:', RNN_Word2Vec_test_score[1])"
      ],
      "execution_count": 0,
      "outputs": [
        {
          "output_type": "stream",
          "text": [
            ""
          ],
          "name": "stdout"
        },
        {
          "output_type": "stream",
          "text": [
            "63930/63930 [==============================] - 14s 225us/step\n",
            "Test Loss: 0.14499791420421634\n",
            "Test Accuracy: 0.9622608067376613\n"
          ],
          "name": "stdout"
        }
      ]
    },
    {
      "cell_type": "code",
      "metadata": {
        "colab_type": "code",
        "id": "buWNvKc3krrk",
        "colab": {},
        "outputId": "787e32dc-0413-411e-eedf-124db83b1d13"
      },
      "source": [
        "#Predicting......\n",
        "print('Predicting....')\n",
        "y_pred = RNN_Word2Vec_model.predict(X_test,batch_size=batch_size2,verbose=1)"
      ],
      "execution_count": 0,
      "outputs": [
        {
          "output_type": "stream",
          "text": [
            "Predicting....\n",
            "63930/63930 [==============================] - 14s 220us/step\n"
          ],
          "name": "stdout"
        }
      ]
    },
    {
      "cell_type": "markdown",
      "metadata": {
        "colab_type": "text",
        "id": "TtT_9kHK4sGI"
      },
      "source": [
        "#### Plot Training & Validation Accuracy with the Loss values of the RNN-Word2Vec Model"
      ]
    },
    {
      "cell_type": "code",
      "metadata": {
        "colab_type": "code",
        "id": "gUE8UHRMks0K",
        "colab": {},
        "outputId": "490d5ad2-3794-435a-a67d-0b6beb946d25"
      },
      "source": [
        "# Plot training & validation accuracy values\n",
        "plt.plot(RNN_Word2Vec_model_fit.history['acc'])\n",
        "plt.plot(RNN_Word2Vec_model_fit.history['val_acc'])\n",
        "plt.title('RNN-Word2Vec Model accuracy')\n",
        "plt.ylabel('Accuracy')\n",
        "plt.xlabel('Epoch')\n",
        "plt.legend(['Training Accuracy', 'Validation Accuracy'], loc='upper left')\n",
        "plt.show()"
      ],
      "execution_count": 0,
      "outputs": [
        {
          "output_type": "display_data",
          "data": {
            "image/png": "[encoded data removed]",
            "text/plain": [
              "<Figure size 576x396 with 1 Axes>"
            ]
          },
          "metadata": {
            "tags": []
          }
        }
      ]
    },
    {
      "cell_type": "code",
      "metadata": {
        "colab_type": "code",
        "id": "dWKszgsNkytT",
        "colab": {},
        "outputId": "7e144b05-858d-4b64-af20-920f2b8e3560"
      },
      "source": [
        "# Plot training & validation loss values\n",
        "plt.plot(RNN_Word2Vec_model_fit.history['loss'])\n",
        "plt.plot(RNN_Word2Vec_model_fit.history['val_loss'])\n",
        "plt.title('RNN-Word2Vec Model loss')\n",
        "plt.ylabel('Loss')\n",
        "plt.xlabel('Epoch')\n",
        "plt.legend(['Training Loss', 'Validation Loss'], loc='lower right')\n",
        "plt.show()"
      ],
      "execution_count": 0,
      "outputs": [
        {
          "output_type": "display_data",
          "data": {
            "image/png": "[encoded data removed]",
            "text/plain": [
              "<Figure size 576x396 with 1 Axes>"
            ]
          },
          "metadata": {
            "tags": []
          }
        }
      ]
    },
    {
      "cell_type": "markdown",
      "metadata": {
        "colab_type": "text",
        "id": "rDsStmTN5VUh"
      },
      "source": [
        "## 3) LSTM with Word2Vec"
      ]
    },
    {
      "cell_type": "code",
      "metadata": {
        "colab_type": "code",
        "id": "icnPw7-f5dTW",
        "colab": {}
      },
      "source": [
        "LSTM_Word2Vec_model = Sequential([\n",
        "    Embedding(input_dim =word2Vec_embedding_matrix.shape[0], input_length=max_len, output_dim=word2Vec_embedding_matrix.shape[1],weights=[word2Vec_embedding_matrix], trainable=False),\n",
        "    SpatialDropout1D(0.5),\n",
        "    #Bidirectional layer will enable our model to predict a missing word in a sequence, \n",
        "    #So, using this feature will enable the model to look at the context on both the left and the right.\n",
        "    LSTM(25, return_sequences=True),\n",
        "    #**batch normalization layer** normalizes the activations of the previous layer at each batch, \n",
        "    #i.e. applies a transformation that maintains the mean activation close to 0 and the activation standard deviation close to 1. \n",
        "    BatchNormalization(),\n",
        "    Dropout(0.5),\n",
        "    GlobalMaxPool1D(),\n",
        "    Dense(50, activation = 'relu'),\n",
        "    Dense(6, activation = 'sigmoid')\n",
        "])\n",
        "\n",
        "LSTM_Word2Vec_model.compile(loss='binary_crossentropy', optimizer=Adam(0.01), metrics=['accuracy', mean_pred, fmeasure, precision, auroc, recall])"
      ],
      "execution_count": 0,
      "outputs": []
    },
    {
      "cell_type": "markdown",
      "metadata": {
        "colab_type": "text",
        "id": "O6S9EHRj6NDD"
      },
      "source": [
        "### Visualize the Orchestrated LSTM-Word2Vec Model Architecture"
      ]
    },
    {
      "cell_type": "code",
      "metadata": {
        "colab_type": "code",
        "id": "A7A8SPrK6RIr",
        "colab": {},
        "outputId": "3007bf14-37f0-4a32-d209-efb966e25bf8"
      },
      "source": [
        "LSTM_Word2Vec_model.summary()\n",
        "#plot the CNN_GLove model architecture\n",
        "\n",
        "#plot_model(LSTM_Word2Vec_model, to_file='LSTM_Word2Vec_model_plot.png', show_shapes=True, show_layer_names=True)\n",
        "#Image(retina=True, filename='LSTM_Word2Vec_model_plot.png')"
      ],
      "execution_count": 0,
      "outputs": [
        {
          "output_type": "stream",
          "text": [
            "_________________________________________________________________\n",
            "Layer (type)                 Output Shape              Param #   \n",
            "=================================================================\n",
            "embedding_5 (Embedding)      (None, 200, 128)          27700224  \n",
            "_________________________________________________________________\n",
            "spatial_dropout1d_5 (Spatial (None, 200, 128)          0         \n",
            "_________________________________________________________________\n",
            "lstm_1 (LSTM)                (None, 200, 25)           15400     \n",
            "_________________________________________________________________\n",
            "batch_normalization_3 (Batch (None, 200, 25)           100       \n",
            "_________________________________________________________________\n",
            "dropout_3 (Dropout)          (None, 200, 25)           0         \n",
            "_________________________________________________________________\n",
            "global_max_pooling1d_3 (Glob (None, 25)                0         \n",
            "_________________________________________________________________\n",
            "dense_5 (Dense)              (None, 50)                1300      \n",
            "_________________________________________________________________\n",
            "dense_6 (Dense)              (None, 6)                 306       \n",
            "=================================================================\n",
            "Total params: 27,717,330\n",
            "Trainable params: 17,056\n",
            "Non-trainable params: 27,700,274\n",
            "_________________________________________________________________\n"
          ],
          "name": "stdout"
        }
      ]
    },
    {
      "cell_type": "code",
      "metadata": {
        "colab_type": "code",
        "id": "pqo1KJPo6ZTU",
        "colab": {},
        "outputId": "ccb39575-e445-499b-e6dc-099ef576484d"
      },
      "source": [
        "LSTM_Word2Vec_model_fit = LSTM_Word2Vec_model.fit(X_tra, y_tra, batch_size=batch_size2, epochs=num_epochs, validation_data=(X_val, y_val))"
      ],
      "execution_count": 0,
      "outputs": [
        {
          "output_type": "stream",
          "text": [
            "Train on 143613 samples, validate on 15958 samples\n",
            "Epoch 1/15\n",
            "143613/143613 [==============================] - 127s 887us/step - loss: 0.1228 - acc: 0.9643 - mean_pred: 0.0377 - fmeasure: 0.1556 - precision: 0.5306 - auroc: 0.8034 - recall: 0.0996 - val_loss: 0.1322 - val_acc: 0.9671 - val_mean_pred: 0.0833 - val_fmeasure: 0.2211 - val_precision: 0.8977 - val_auroc: 0.8486 - val_recall: 0.1305\n",
            "Epoch 2/15\n",
            "143613/143613 [==============================] - 126s 875us/step - loss: 0.1011 - acc: 0.9699 - mean_pred: 0.0368 - fmeasure: 0.3650 - precision: 0.7808 - auroc: 0.8610 - recall: 0.2460 - val_loss: 0.1109 - val_acc: 0.9711 - val_mean_pred: 0.0704 - val_fmeasure: 0.3898 - val_precision: 0.8829 - val_auroc: 0.8719 - val_recall: 0.2566\n",
            "Epoch 3/15\n",
            "143613/143613 [==============================] - 128s 890us/step - loss: 0.0985 - acc: 0.9705 - mean_pred: 0.0367 - fmeasure: 0.3797 - precision: 0.7857 - auroc: 0.8775 - recall: 0.2579 - val_loss: 0.1177 - val_acc: 0.9725 - val_mean_pred: 0.0824 - val_fmeasure: 0.4582 - val_precision: 0.8401 - val_auroc: 0.8814 - val_recall: 0.3224\n",
            "Epoch 4/15\n",
            "143613/143613 [==============================] - 129s 901us/step - loss: 0.0963 - acc: 0.9710 - mean_pred: 0.0367 - fmeasure: 0.3981 - precision: 0.8014 - auroc: 0.8844 - recall: 0.2719 - val_loss: 0.1159 - val_acc: 0.9724 - val_mean_pred: 0.0805 - val_fmeasure: 0.4531 - val_precision: 0.8439 - val_auroc: 0.8871 - val_recall: 0.3168\n",
            "Epoch 5/15\n",
            "143613/143613 [==============================] - 129s 898us/step - loss: 0.0958 - acc: 0.9709 - mean_pred: 0.0367 - fmeasure: 0.3981 - precision: 0.7944 - auroc: 0.8891 - recall: 0.2729 - val_loss: 0.1115 - val_acc: 0.9727 - val_mean_pred: 0.0780 - val_fmeasure: 0.4890 - val_precision: 0.7946 - val_auroc: 0.8910 - val_recall: 0.3588\n",
            "Epoch 6/15\n",
            " 90624/143613 [=================>............] - ETA: 44s - loss: 0.0920 - acc: 0.9717 - mean_pred: 0.0366 - fmeasure: 0.4275 - precision: 0.7965 - auroc: 0.9052 - recall: 0.2994"
          ],
          "name": "stdout"
        }
      ]
    },
    {
      "cell_type": "markdown",
      "metadata": {
        "colab_type": "text",
        "id": "MXKJt-RB5xNu"
      },
      "source": [
        "### Evaluate the LSTM+Word2Vec train and test score"
      ]
    },
    {
      "cell_type": "code",
      "metadata": {
        "colab_type": "code",
        "id": "IZ5vfY8e518g",
        "colab": {},
        "outputId": "c3b44c5f-23b9-4fcd-b98c-0ef39e862579"
      },
      "source": [
        "#train\n",
        "LSTM_Word2Vec_train_score = LSTM_Word2Vec_model.evaluate(X_train, y_train, batch_size=batch_size2, verbose=1)\n",
        "print('Train Loss:', LSTM_Word2Vec_train_score[0])\n",
        "print('Train Accuracy:', LSTM_Word2Vec_train_score[1])\n",
        "\n",
        "#test\n",
        "LSTM_Word2Vec_test_score = LSTM_Word2Vec_model.evaluate(X_test, y_test, batch_size=batch_size2, verbose=1)\n",
        "print('Test Loss:', LSTM_Word2Vec_test_score[0])\n",
        "print('Test Accuracy:', LSTM_Word2Vec_test_score[1])"
      ],
      "execution_count": 0,
      "outputs": [
        {
          "output_type": "stream",
          "text": [
            ""
          ],
          "name": "stdout"
        },
        {
          "output_type": "stream",
          "text": [
            "159571/159571 [==============================] - 78s 487us/step\n",
            "Train Loss: 0.09723319408679866\n",
            "Train Accuracy: 0.9736710783405389\n",
            "63930/63930 [==============================] - 30s 471us/step\n",
            "Test Loss: 0.11545219609859719\n",
            "Test Accuracy: 0.9675113443624949\n"
          ],
          "name": "stdout"
        }
      ]
    },
    {
      "cell_type": "markdown",
      "metadata": {
        "colab_type": "text",
        "id": "AqPS6z_K6Djl"
      },
      "source": [
        "### Plot Training & Validation Accuracy with the Loss values of the LSTM-Word2Vec Model"
      ]
    },
    {
      "cell_type": "code",
      "metadata": {
        "colab_type": "code",
        "id": "NaBV1VcE6Hvu",
        "colab": {},
        "outputId": "59f8889b-8f37-4be6-db08-35f6fdf9f996"
      },
      "source": [
        "### Plot Training & Validation Accuracy with the Loss values of the LSTM-Glove Model# Plot training & validation accuracy values\n",
        "plt.plot(LSTM_Word2Vec_model_fit.history['acc'])\n",
        "plt.plot(LSTM_Word2Vec_model_fit.history['val_acc'])\n",
        "plt.title('LSTM-Word2Vec Model accuracy')\n",
        "plt.ylabel('Accuracy')\n",
        "plt.xlabel('Epoch')\n",
        "plt.legend(['Training Accuracy', 'Validation Accuracy'], loc='upper left')\n",
        "plt.show()\n",
        "\n",
        "# Plot training & validation loss values\n",
        "plt.plot(LSTM_Word2Vec_model_fit.history['loss'])\n",
        "plt.plot(LSTM_Word2Vec_model_fit.history['val_loss'])\n",
        "plt.title('LSTM-Word2Vec Model loss')\n",
        "plt.ylabel('Loss')\n",
        "plt.xlabel('Epoch')\n",
        "plt.legend(['Training Loss', 'Validation Loss'], loc='lower right')\n",
        "plt.show()"
      ],
      "execution_count": 0,
      "outputs": [
        {
          "output_type": "display_data",
          "data": {
            "image/png": "[encoded data removed]",
            "text/plain": [
              "<Figure size 576x396 with 1 Axes>"
            ]
          },
          "metadata": {
            "tags": []
          }
        },
        {
          "output_type": "display_data",
          "data": {
            "image/png": "[encoded data removed]",
            "text/plain": [
              "<Figure size 576x396 with 1 Axes>"
            ]
          },
          "metadata": {
            "tags": []
          }
        }
      ]
    },
    {
      "cell_type": "markdown",
      "metadata": {
        "colab_type": "text",
        "id": "CAoPxPyC6k0Z"
      },
      "source": [
        "## 4) Bidirecitional LSTM with Word2Vec"
      ]
    },
    {
      "cell_type": "code",
      "metadata": {
        "colab_type": "code",
        "id": "l8vGHPma6oL3",
        "colab": {}
      },
      "source": [
        "Bil_LSTM_Word2Vec_model = Sequential([\n",
        "    Embedding(input_dim =word2Vec_embedding_matrix.shape[0], input_length=max_len, output_dim=word2Vec_embedding_matrix.shape[1],weights=[word2Vec_embedding_matrix], trainable=False),\n",
        "    SpatialDropout1D(0.5),\n",
        "    #Bidirectional layer will enable our model to predict a missing word in a sequence, \n",
        "    #So, using this feature will enable the model to look at the context on both the left and the right.\n",
        "    Bidirectional(LSTM(25, return_sequences=True)),\n",
        "    #**batch normalization layer** normalizes the activations of the previous layer at each batch, \n",
        "    #i.e. applies a transformation that maintains the mean activation close to 0 and the activation standard deviation close to 1. \n",
        "    BatchNormalization(),\n",
        "    Dropout(0.5),\n",
        "    GlobalMaxPool1D(),\n",
        "    Dense(50, activation = 'relu'),\n",
        "    Dense(6, activation = 'sigmoid')\n",
        "])\n",
        "\n",
        "\n",
        "Bil_LSTM_Word2Vec_model.compile(loss='binary_crossentropy', optimizer=Adam(0.01), metrics=['accuracy', mean_pred, fmeasure, precision, auroc, recall])"
      ],
      "execution_count": 0,
      "outputs": []
    },
    {
      "cell_type": "markdown",
      "metadata": {
        "colab_type": "text",
        "id": "pOYKBcnB6wSk"
      },
      "source": [
        "### Visualize the Orchestrated Bidirectional LSTM-Word2Vec Model Architecture"
      ]
    },
    {
      "cell_type": "code",
      "metadata": {
        "colab_type": "code",
        "id": "hpBMXnAa6zcr",
        "colab": {},
        "outputId": "f0049bd8-b0c2-42e7-b2bf-e0266fb3f00d"
      },
      "source": [
        "Bil_LSTM_Word2Vec_model.summary()\n",
        "#plot the CNN_GLove model architecture\n",
        "\n",
        "#plot_model(Bil_LSTM_Word2Vec_model, to_file='Bil_LSTM_Word2Vec_model_plot.png', show_shapes=True, show_layer_names=True)\n",
        "#Image(retina=True, filename='Bil_LSTM_Word2Vec_model_plot.png')"
      ],
      "execution_count": 0,
      "outputs": [
        {
          "output_type": "stream",
          "text": [
            "_________________________________________________________________\n",
            "Layer (type)                 Output Shape              Param #   \n",
            "=================================================================\n",
            "embedding_6 (Embedding)      (None, 200, 128)          27700224  \n",
            "_________________________________________________________________\n",
            "spatial_dropout1d_6 (Spatial (None, 200, 128)          0         \n",
            "_________________________________________________________________\n",
            "bidirectional_1 (Bidirection (None, 200, 50)           30800     \n",
            "_________________________________________________________________\n",
            "batch_normalization_4 (Batch (None, 200, 50)           200       \n",
            "_________________________________________________________________\n",
            "dropout_4 (Dropout)          (None, 200, 50)           0         \n",
            "_________________________________________________________________\n",
            "global_max_pooling1d_4 (Glob (None, 50)                0         \n",
            "_________________________________________________________________\n",
            "dense_7 (Dense)              (None, 50)                2550      \n",
            "_________________________________________________________________\n",
            "dense_8 (Dense)              (None, 6)                 306       \n",
            "=================================================================\n",
            "Total params: 27,734,080\n",
            "Trainable params: 33,756\n",
            "Non-trainable params: 27,700,324\n",
            "_________________________________________________________________\n"
          ],
          "name": "stdout"
        }
      ]
    },
    {
      "cell_type": "code",
      "metadata": {
        "colab_type": "code",
        "id": "g13Nld-m6_d1",
        "colab": {},
        "outputId": "361899f8-b52d-4bfd-a710-8464ed568a5c"
      },
      "source": [
        "Bil_LSTM_Word2Vec_model_fit = Bil_LSTM_Word2Vec_model.fit(X_tra, y_tra, batch_size=batch_size2, epochs=num_epochs, validation_data=(X_val, y_val))"
      ],
      "execution_count": 0,
      "outputs": [
        {
          "output_type": "stream",
          "text": [
            "Train on 143613 samples, validate on 15958 samples\n",
            "Epoch 1/15\n",
            "143613/143613 [==============================] - 331s 2ms/step - loss: 0.1250 - acc: 0.9651 - mean_pred: 0.0378 - fmeasure: 0.2337 - precision: 0.6094 - auroc: 0.7957 - recall: 0.1574 - val_loss: 0.1482 - val_acc: 0.9723 - val_mean_pred: 0.1159 - val_fmeasure: 0.5067 - val_precision: 0.7372 - val_auroc: 0.8556 - val_recall: 0.3932\n",
            "Epoch 2/15\n",
            "143613/143613 [==============================] - 306s 2ms/step - loss: 0.0950 - acc: 0.9709 - mean_pred: 0.0366 - fmeasure: 0.4134 - precision: 0.7653 - auroc: 0.8695 - recall: 0.2915 - val_loss: 0.1373 - val_acc: 0.9734 - val_mean_pred: 0.1099 - val_fmeasure: 0.5400 - val_precision: 0.7438 - val_auroc: 0.8796 - val_recall: 0.4293\n",
            "Epoch 3/15\n",
            "143613/143613 [==============================] - 302s 2ms/step - loss: 0.0911 - acc: 0.9717 - mean_pred: 0.0367 - fmeasure: 0.4415 - precision: 0.7733 - auroc: 0.8854 - recall: 0.3181 - val_loss: 0.1044 - val_acc: 0.9739 - val_mean_pred: 0.0726 - val_fmeasure: 0.4991 - val_precision: 0.8437 - val_auroc: 0.8914 - val_recall: 0.3624\n",
            "Epoch 4/15\n",
            "143613/143613 [==============================] - 302s 2ms/step - loss: 0.0897 - acc: 0.9723 - mean_pred: 0.0367 - fmeasure: 0.4579 - precision: 0.7950 - auroc: 0.8953 - recall: 0.3297 - val_loss: 0.1237 - val_acc: 0.9748 - val_mean_pred: 0.0960 - val_fmeasure: 0.5379 - val_precision: 0.8203 - val_auroc: 0.8980 - val_recall: 0.4066\n",
            "Epoch 5/15\n",
            "143613/143613 [==============================] - 289s 2ms/step - loss: 0.0883 - acc: 0.9727 - mean_pred: 0.0367 - fmeasure: 0.4665 - precision: 0.7927 - auroc: 0.9002 - recall: 0.3386 - val_loss: 0.1216 - val_acc: 0.9750 - val_mean_pred: 0.0951 - val_fmeasure: 0.5474 - val_precision: 0.8172 - val_auroc: 0.9020 - val_recall: 0.4166\n",
            "Epoch 6/15\n",
            "143613/143613 [==============================] - 288s 2ms/step - loss: 0.0877 - acc: 0.9726 - mean_pred: 0.0367 - fmeasure: 0.4644 - precision: 0.7941 - auroc: 0.9036 - recall: 0.3368 - val_loss: 0.0991 - val_acc: 0.9752 - val_mean_pred: 0.0721 - val_fmeasure: 0.5509 - val_precision: 0.8187 - val_auroc: 0.9054 - val_recall: 0.4219\n",
            "Epoch 7/15\n",
            "143613/143613 [==============================] - 287s 2ms/step - loss: 0.0875 - acc: 0.9730 - mean_pred: 0.0367 - fmeasure: 0.4766 - precision: 0.8028 - auroc: 0.9068 - recall: 0.3479 - val_loss: 0.0943 - val_acc: 0.9750 - val_mean_pred: 0.0664 - val_fmeasure: 0.5367 - val_precision: 0.8315 - val_auroc: 0.9081 - val_recall: 0.4031\n",
            "Epoch 8/15\n",
            "143613/143613 [==============================] - 289s 2ms/step - loss: 0.0857 - acc: 0.9733 - mean_pred: 0.0365 - fmeasure: 0.4890 - precision: 0.7989 - auroc: 0.9125 - recall: 0.3594 - val_loss: 0.1080 - val_acc: 0.9747 - val_mean_pred: 0.0839 - val_fmeasure: 0.5825 - val_precision: 0.7404 - val_auroc: 0.9132 - val_recall: 0.4857\n",
            "Epoch 11/15\n",
            "143613/143613 [==============================] - 293s 2ms/step - loss: 0.0851 - acc: 0.9734 - mean_pred: 0.0366 - fmeasure: 0.4932 - precision: 0.7993 - auroc: 0.9139 - recall: 0.3645 - val_loss: 0.1033 - val_acc: 0.9742 - val_mean_pred: 0.0796 - val_fmeasure: 0.5852 - val_precision: 0.7185 - val_auroc: 0.9146 - val_recall: 0.4983\n",
            "Epoch 12/15\n",
            "143613/143613 [==============================] - 295s 2ms/step - loss: 0.0858 - acc: 0.9733 - mean_pred: 0.0368 - fmeasure: 0.4860 - precision: 0.7942 - auroc: 0.9151 - recall: 0.3590 - val_loss: 0.1014 - val_acc: 0.9749 - val_mean_pred: 0.0758 - val_fmeasure: 0.5862 - val_precision: 0.7480 - val_auroc: 0.9156 - val_recall: 0.4866\n",
            "Epoch 13/15\n",
            "143613/143613 [==============================] - 297s 2ms/step - loss: 0.0854 - acc: 0.9734 - mean_pred: 0.0366 - fmeasure: 0.4915 - precision: 0.7907 - auroc: 0.9167 - recall: 0.3638 - val_loss: 0.1086 - val_acc: 0.9732 - val_mean_pred: 0.0843 - val_fmeasure: 0.5934 - val_precision: 0.6772 - val_auroc: 0.9170 - val_recall: 0.5328\n",
            "Epoch 15/15\n",
            "143613/143613 [==============================] - 290s 2ms/step - loss: 0.0857 - acc: 0.9735 - mean_pred: 0.0366 - fmeasure: 0.4911 - precision: 0.7966 - auroc: 0.9173 - recall: 0.3628 - val_loss: 0.0949 - val_acc: 0.9753 - val_mean_pred: 0.0643 - val_fmeasure: 0.5673 - val_precision: 0.7970 - val_auroc: 0.9177 - val_recall: 0.4451\n"
          ],
          "name": "stdout"
        }
      ]
    },
    {
      "cell_type": "markdown",
      "metadata": {
        "colab_type": "text",
        "id": "fYu67EZr7j2l"
      },
      "source": [
        ""
      ]
    },
    {
      "cell_type": "code",
      "metadata": {
        "colab_type": "code",
        "id": "gCP_XdnG7j-6",
        "colab": {},
        "outputId": "6f5dc9e9-edef-40b5-e5c2-1d3c0d28919a"
      },
      "source": [
        "#train\n",
        "Bil_LSTM_Word2Vec_train_score = Bil_LSTM_Word2Vec_model.evaluate(X_train, y_train, batch_size=batch_size2, verbose=1)\n",
        "print('Train Loss:', LSTM_Word2Vec_train_score[0])\n",
        "print('Train Accuracy:', LSTM_Word2Vec_train_score[1])\n",
        "\n",
        "#test\n",
        "Bil_LSTM_Word2Vec_test_score = Bil_LSTM_Word2Vec_model.evaluate(X_test, y_test, batch_size=batch_size2, verbose=1)\n",
        "print('Test Loss:', LSTM_Word2Vec_test_score[0])\n",
        "print('Test Accuracy:', LSTM_Word2Vec_test_score[1])"
      ],
      "execution_count": 0,
      "outputs": [
        {
          "output_type": "stream",
          "text": [
            ""
          ],
          "name": "stdout"
        },
        {
          "output_type": "stream",
          "text": [
            "159571/159571 [==============================] - 139s 872us/step\n",
            "Train Loss: 0.09178723680201413\n",
            "Train Accuracy: 0.9764284703648329\n",
            "63930/63930 [==============================] - 54s 850us/step\n",
            "Test Loss: 0.10655896985580267\n",
            "Test Accuracy: 0.9687653227309637\n"
          ],
          "name": "stdout"
        }
      ]
    },
    {
      "cell_type": "markdown",
      "metadata": {
        "colab_type": "text",
        "id": "eI16XUai7FNZ"
      },
      "source": [
        "### Plot Training & Validation Accuracy with the Loss values of the Bidirectional LSTM-Word2Vec Model\n"
      ]
    },
    {
      "cell_type": "code",
      "metadata": {
        "colab_type": "code",
        "id": "XR1AxeOZ7JlT",
        "colab": {},
        "outputId": "ee48ab5b-128c-48b8-fa43-a76b328bac30"
      },
      "source": [
        "\n",
        "# Plot training & validation accuracy values\n",
        "plt.plot(Bil_LSTM_Word2Vec_model_fit.history['acc'])\n",
        "plt.plot(Bil_LSTM_Word2Vec_model_fit.history['val_acc'])\n",
        "plt.title('Bidirecitonal LSTM-Word2Vec Model accuracy')\n",
        "plt.ylabel('Accuracy')\n",
        "plt.xlabel('Epoch')\n",
        "plt.legend(['Training Accuracy', 'Validation Accuracy'], loc='upper left')\n",
        "plt.show()\n",
        "\n",
        "# Plot training & validation loss values\n",
        "plt.plot(Bil_LSTM_Word2Vec_model_fit.history['loss'])\n",
        "plt.plot(Bil_LSTM_Word2Vec_model_fit.history['val_loss'])\n",
        "plt.title('Bidirecitonal LSTM-Word2Vec Model loss')\n",
        "plt.ylabel('Loss')\n",
        "plt.xlabel('Epoch')\n",
        "plt.legend(['Training Loss', 'Validation Loss'], loc='lower right')\n",
        "plt.show()"
      ],
      "execution_count": 0,
      "outputs": [
        {
          "output_type": "display_data",
          "data": {
            "image/png": "[encoded data removed]",
            "text/plain": [
              "<Figure size 576x396 with 1 Axes>"
            ]
          },
          "metadata": {
            "tags": []
          }
        },
        {
          "output_type": "display_data",
          "data": {
            "image/png": "[encoded data removed]",
            "text/plain": [
              "<Figure size 576x396 with 1 Axes>"
            ]
          },
          "metadata": {
            "tags": []
          }
        }
      ]
    },
    {
      "cell_type": "markdown",
      "metadata": {
        "colab_type": "text",
        "id": "BSXqTvWy8OgK"
      },
      "source": [
        "## 5) Gated Recurrent (GRU) with Word2Vec"
      ]
    },
    {
      "cell_type": "code",
      "metadata": {
        "colab_type": "code",
        "id": "h_4GSFY88SEZ",
        "colab": {}
      },
      "source": [
        "sequence_input = Input(shape=(max_len, ))\n",
        "model = Embedding(input_dim =word2Vec_embedding_matrix.shape[0], input_length=max_len, output_dim=word2Vec_embedding_matrix.shape[1],weights=[word2Vec_embedding_matrix], trainable=False)(sequence_input)\n",
        "model = SpatialDropout1D(0.2)(model)\n",
        "model = GRU(128, return_sequences=True,dropout=0.1,recurrent_dropout=0.1)(model)\n",
        "model = Conv1D(64, kernel_size = 3, padding = \"valid\", kernel_initializer = \"glorot_uniform\")(model)\n",
        "avg_pool = GlobalAveragePooling1D()(model)\n",
        "max_pool = GlobalMaxPooling1D()(model)\n",
        "model = concatenate([avg_pool, max_pool]) \n",
        "preds = Dense(6, activation=\"sigmoid\")(model)\n",
        "GRU_Word2Vec_model = Model(sequence_input, preds)\n",
        "GRU_Word2Vec_model.compile(loss='binary_crossentropy',optimizer=Adam(lr=1e-3),metrics=['accuracy', mean_pred, fmeasure, precision, auroc, recall])\n"
      ],
      "execution_count": 0,
      "outputs": []
    },
    {
      "cell_type": "markdown",
      "metadata": {
        "colab_type": "text",
        "id": "-03OfHyc8bk9"
      },
      "source": [
        "### Visualize the Orchestrated GRU+Word2Vec Model Architecture"
      ]
    },
    {
      "cell_type": "code",
      "metadata": {
        "colab_type": "code",
        "id": "eJ5XgJTk8gn1",
        "colab": {},
        "outputId": "2e62ea57-2dcc-45c1-a5a8-e7c7a58db4af"
      },
      "source": [
        "GRU_Word2Vec_model.summary()\n",
        "\n",
        "#plot the GRU model architecture\n",
        "\n",
        "#plot_model(GRU_Word2Vec_model, to_file='GRU_Word2Vec_model_plot.png', show_shapes=True, show_layer_names=True)\n",
        "#Image(retina=True, filename='GRU_Word2Vec_model_plot.png')"
      ],
      "execution_count": 0,
      "outputs": [
        {
          "output_type": "stream",
          "text": [
            "__________________________________________________________________________________________________\n",
            "Layer (type)                    Output Shape         Param #     Connected to                     \n",
            "==================================================================================================\n",
            "input_1 (InputLayer)            (None, 200)          0                                            \n",
            "__________________________________________________________________________________________________\n",
            "embedding_7 (Embedding)         (None, 200, 128)     27700224    input_1[0][0]                    \n",
            "__________________________________________________________________________________________________\n",
            "spatial_dropout1d_7 (SpatialDro (None, 200, 128)     0           embedding_7[0][0]                \n",
            "__________________________________________________________________________________________________\n",
            "gru_1 (GRU)                     (None, 200, 128)     98688       spatial_dropout1d_7[0][0]        \n",
            "__________________________________________________________________________________________________\n",
            "conv1d_2 (Conv1D)               (None, 198, 64)      24640       gru_1[0][0]                      \n",
            "__________________________________________________________________________________________________\n",
            "global_average_pooling1d_1 (Glo (None, 64)           0           conv1d_2[0][0]                   \n",
            "__________________________________________________________________________________________________\n",
            "global_max_pooling1d_5 (GlobalM (None, 64)           0           conv1d_2[0][0]                   \n",
            "__________________________________________________________________________________________________\n",
            "concatenate_1 (Concatenate)     (None, 128)          0           global_average_pooling1d_1[0][0] \n",
            "                                                                 global_max_pooling1d_5[0][0]     \n",
            "__________________________________________________________________________________________________\n",
            "dense_9 (Dense)                 (None, 6)            774         concatenate_1[0][0]              \n",
            "==================================================================================================\n",
            "Total params: 27,824,326\n",
            "Trainable params: 124,102\n",
            "Non-trainable params: 27,700,224\n",
            "__________________________________________________________________________________________________\n"
          ],
          "name": "stdout"
        }
      ]
    },
    {
      "cell_type": "code",
      "metadata": {
        "colab_type": "code",
        "id": "VkPgJqDb8rw1",
        "colab": {},
        "outputId": "8759a6be-d4d2-458b-9049-fd7c4b55ca65"
      },
      "source": [
        "GRU_Word2Vec_model_fit = GRU_Word2Vec_model.fit(X_tra, y_tra, batch_size=batch_size2, epochs=num_epochs, validation_data=(X_val, y_val))"
      ],
      "execution_count": 0,
      "outputs": [
        {
          "output_type": "stream",
          "text": [
            "Train on 143613 samples, validate on 15958 samples\n",
            "Epoch 1/15\n",
            "143613/143613 [==============================] - 1050s 7ms/step - loss: 0.1063 - acc: 0.9679 - mean_pred: 0.0412 - fmeasure: 0.3304 - precision: 0.6705 - auroc: 0.8155 - recall: 0.2403 - val_loss: 0.0772 - val_acc: 0.9752 - val_mean_pred: 0.0360 - val_fmeasure: 0.5629 - val_precision: 0.8001 - val_auroc: 0.8954 - val_recall: 0.4409\n",
            "Epoch 2/15\n",
            "143613/143613 [==============================] - 1207s 8ms/step - loss: 0.0752 - acc: 0.9761 - mean_pred: 0.0368 - fmeasure: 0.5725 - precision: 0.8065 - auroc: 0.9136 - recall: 0.4521 - val_loss: 0.0691 - val_acc: 0.9771 - val_mean_pred: 0.0412 - val_fmeasure: 0.6390 - val_precision: 0.7652 - val_auroc: 0.9253 - val_recall: 0.5542\n",
            "Epoch 3/15\n",
            "143613/143613 [==============================] - 1227s 9ms/step - loss: 0.0683 - acc: 0.9779 - mean_pred: 0.0367 - fmeasure: 0.6193 - precision: 0.8158 - auroc: 0.9322 - recall: 0.5070 - val_loss: 0.0641 - val_acc: 0.9790 - val_mean_pred: 0.0388 - val_fmeasure: 0.6649 - val_precision: 0.8071 - val_auroc: 0.9378 - val_recall: 0.5710\n",
            "Epoch 4/15\n",
            "143613/143613 [==============================] - 1180s 8ms/step - loss: 0.0641 - acc: 0.9790 - mean_pred: 0.0367 - fmeasure: 0.6469 - precision: 0.8240 - auroc: 0.9417 - recall: 0.5408 - val_loss: 0.0628 - val_acc: 0.9792 - val_mean_pred: 0.0383 - val_fmeasure: 0.6808 - val_precision: 0.7855 - val_auroc: 0.9451 - val_recall: 0.6067\n",
            "Epoch 5/15\n",
            "143613/143613 [==============================] - 1200s 8ms/step - loss: 0.0610 - acc: 0.9798 - mean_pred: 0.0367 - fmeasure: 0.6663 - precision: 0.8256 - auroc: 0.9478 - recall: 0.5662 - val_loss: 0.0612 - val_acc: 0.9802 - val_mean_pred: 0.0341 - val_fmeasure: 0.6804 - val_precision: 0.8300 - val_auroc: 0.9500 - val_recall: 0.5817\n",
            "Epoch 6/15\n",
            "143613/143613 [==============================] - 1216s 8ms/step - loss: 0.0585 - acc: 0.9805 - mean_pred: 0.0366 - fmeasure: 0.6814 - precision: 0.8301 - auroc: 0.9520 - recall: 0.5853 - val_loss: 0.0605 - val_acc: 0.9801 - val_mean_pred: 0.0342 - val_fmeasure: 0.6841 - val_precision: 0.8209 - val_auroc: 0.9537 - val_recall: 0.5928\n",
            "Epoch 7/15\n",
            "143613/143613 [==============================] - 1225s 9ms/step - loss: 0.0570 - acc: 0.9808 - mean_pred: 0.0366 - fmeasure: 0.6863 - precision: 0.8263 - auroc: 0.9553 - recall: 0.5928 - val_loss: 0.0604 - val_acc: 0.9803 - val_mean_pred: 0.0414 - val_fmeasure: 0.7101 - val_precision: 0.7766 - val_auroc: 0.9566 - val_recall: 0.6599\n",
            "Epoch 8/15\n",
            "143613/143613 [==============================] - 1233s 9ms/step - loss: 0.0555 - acc: 0.9812 - mean_pred: 0.0366 - fmeasure: 0.6970 - precision: 0.8318 - auroc: 0.9578 - recall: 0.6067 - val_loss: 0.0603 - val_acc: 0.9801 - val_mean_pred: 0.0417 - val_fmeasure: 0.7137 - val_precision: 0.7616 - val_auroc: 0.9589 - val_recall: 0.6761\n",
            "Epoch 9/15\n",
            "143613/143613 [==============================] - 1208s 8ms/step - loss: 0.0547 - acc: 0.9814 - mean_pred: 0.0366 - fmeasure: 0.7018 - precision: 0.8319 - auroc: 0.9599 - recall: 0.6142 - val_loss: 0.0609 - val_acc: 0.9796 - val_mean_pred: 0.0451 - val_fmeasure: 0.7137 - val_precision: 0.7422 - val_auroc: 0.9608 - val_recall: 0.6924\n",
            "Epoch 10/15\n",
            "143613/143613 [==============================] - 1229s 9ms/step - loss: 0.0532 - acc: 0.9818 - mean_pred: 0.0366 - fmeasure: 0.7092 - precision: 0.8353 - auroc: 0.9617 - recall: 0.6233 - val_loss: 0.0614 - val_acc: 0.9790 - val_mean_pred: 0.0443 - val_fmeasure: 0.7081 - val_precision: 0.7301 - val_auroc: 0.9624 - val_recall: 0.6922\n",
            "Epoch 11/15\n",
            "143613/143613 [==============================] - 1202s 8ms/step - loss: 0.0525 - acc: 0.9820 - mean_pred: 0.0366 - fmeasure: 0.7148 - precision: 0.8352 - auroc: 0.9632 - recall: 0.6322 - val_loss: 0.0590 - val_acc: 0.9801 - val_mean_pred: 0.0419 - val_fmeasure: 0.7129 - val_precision: 0.7604 - val_auroc: 0.9638 - val_recall: 0.6761\n",
            "Epoch 12/15\n",
            "143613/143613 [==============================] - 1202s 8ms/step - loss: 0.0515 - acc: 0.9823 - mean_pred: 0.0366 - fmeasure: 0.7193 - precision: 0.8383 - auroc: 0.9644 - recall: 0.6367 - val_loss: 0.0588 - val_acc: 0.9806 - val_mean_pred: 0.0381 - val_fmeasure: 0.7097 - val_precision: 0.7881 - val_auroc: 0.9649 - val_recall: 0.6501\n",
            "Epoch 13/15\n",
            "143613/143613 [==============================] - 1219s 8ms/step - loss: 0.0505 - acc: 0.9824 - mean_pred: 0.0366 - fmeasure: 0.7233 - precision: 0.8378 - auroc: 0.9655 - recall: 0.6427 - val_loss: 0.0589 - val_acc: 0.9808 - val_mean_pred: 0.0358 - val_fmeasure: 0.7086 - val_precision: 0.8056 - val_auroc: 0.9660 - val_recall: 0.6379\n",
            "Epoch 14/15\n",
            "143613/143613 [==============================] - 1193s 8ms/step - loss: 0.0498 - acc: 0.9826 - mean_pred: 0.0366 - fmeasure: 0.7260 - precision: 0.8408 - auroc: 0.9665 - recall: 0.6466 - val_loss: 0.0598 - val_acc: 0.9799 - val_mean_pred: 0.0411 - val_fmeasure: 0.7112 - val_precision: 0.7550 - val_auroc: 0.9670 - val_recall: 0.6764\n",
            "Epoch 15/15\n",
            "143613/143613 [==============================] - 1198s 8ms/step - loss: 0.0488 - acc: 0.9830 - mean_pred: 0.0366 - fmeasure: 0.7337 - precision: 0.8420 - auroc: 0.9674 - recall: 0.6562 - val_loss: 0.0586 - val_acc: 0.9806 - val_mean_pred: 0.0395 - val_fmeasure: 0.7158 - val_precision: 0.7768 - val_auroc: 0.9678 - val_recall: 0.6675\n"
          ],
          "name": "stdout"
        }
      ]
    },
    {
      "cell_type": "markdown",
      "metadata": {
        "colab_type": "text",
        "id": "vJ9O6m_aCX1d"
      },
      "source": [
        "### Evaluate the GRU+Word2Vec Model train and test score"
      ]
    },
    {
      "cell_type": "code",
      "metadata": {
        "colab_type": "code",
        "id": "uRtKCX_GCcBD",
        "colab": {},
        "outputId": "558d01fd-e0b8-4b01-8e2b-cc219f58f492"
      },
      "source": [
        "#Train\n",
        "GRU_Word2Vec_train_score = GRU_Word2Vec_model.evaluate(X_tra, y_tra, batch_size=batch_size2, verbose=1)\n",
        "print('Train Loss:', GRU_Word2Vec_train_score[0])\n",
        "print('Train Accuracy:', GRU_Word2Vec_train_score[1])\n",
        "\n",
        "#Test\n",
        "GRU_Word2Vec_test_score = GRU_Word2Vec_model.evaluate(X_test, y_test, batch_size=batch_size2, verbose=1)\n",
        "print('Test Loss:', GRU_Word2Vec_test_score[0])\n",
        "print('Test Accuracy:', GRU_Word2Vec_test_score[1])"
      ],
      "execution_count": 0,
      "outputs": [
        {
          "output_type": "stream",
          "text": [
            ""
          ],
          "name": "stdout"
        },
        {
          "output_type": "stream",
          "text": [
            "143613/143613 [==============================] - 303s 2ms/step\n",
            "Train Loss: 0.04070346302665297\n",
            "Train Accuracy: 0.9855154772578372\n",
            "63930/63930 [==============================] - 135s 2ms/step\n",
            "Test Loss: 0.09123550877569428\n",
            "Test Accuracy: 0.9681213885317307\n"
          ],
          "name": "stdout"
        }
      ]
    },
    {
      "cell_type": "markdown",
      "metadata": {
        "colab_type": "text",
        "id": "cuGXJb7s8yRo"
      },
      "source": [
        "### Plot Training & Validation Accuracy with the Loss values of the GRU+ Word2Vec Model"
      ]
    },
    {
      "cell_type": "code",
      "metadata": {
        "colab_type": "code",
        "id": "fOZKDDsmDIS7",
        "colab": {},
        "outputId": "dce12c62-408e-4350-8dd3-90febb6ceafd"
      },
      "source": [
        "# Plot training & validation accuracy values\n",
        "plt.plot(GRU_Word2Vec_model_fit.history['acc'])\n",
        "plt.plot(GRU_Word2Vec_model_fit.history['val_acc'])\n",
        "plt.title('Gated Recurrent Unit (GRU) with Word2Vec Model accuracy')\n",
        "plt.ylabel('Accuracy')\n",
        "plt.xlabel('Epoch')\n",
        "plt.legend(['Training Accuracy', 'Validation Accuracy'], loc='upper left')\n",
        "plt.show()\n",
        "\n",
        "# Plot training & validation loss values\n",
        "plt.plot(GRU_Word2Vec_model_fit.history['loss'])\n",
        "plt.plot(GRU_Word2Vec_model_fit.history['val_loss'])\n",
        "plt.title('Bidirectional Gated Recurrent Unit (GRU) with Word2Vec Model loss')\n",
        "plt.ylabel('Loss')\n",
        "plt.xlabel('Epoch')\n",
        "plt.legend(['Training Loss', 'Validation Loss'], loc='lower right')\n",
        "plt.show()"
      ],
      "execution_count": 0,
      "outputs": [
        {
          "output_type": "display_data",
          "data": {
            "image/png": "[encoded data removed]",
            "text/plain": [
              "<Figure size 576x396 with 1 Axes>"
            ]
          },
          "metadata": {
            "tags": []
          }
        },
        {
          "output_type": "display_data",
          "data": {
            "image/png": "[encoded data removed]",
            "text/plain": [
              "<Figure size 576x396 with 1 Axes>"
            ]
          },
          "metadata": {
            "tags": []
          }
        }
      ]
    },
    {
      "cell_type": "markdown",
      "metadata": {
        "colab_type": "text",
        "id": "IZ9nxeOADSvV"
      },
      "source": [
        "## 6) Bidirectional Gated Recurrent (GRU) + Word2Vec"
      ]
    },
    {
      "cell_type": "code",
      "metadata": {
        "colab_type": "code",
        "id": "pvRcwl9CDWaq",
        "colab": {}
      },
      "source": [
        "sequence_input = Input(shape=(max_len, ))\n",
        "model = Embedding(input_dim =word2Vec_embedding_matrix.shape[0], input_length=max_len, output_dim=word2Vec_embedding_matrix.shape[1],weights=[word2Vec_embedding_matrix], trainable=False)(sequence_input)\n",
        "model = SpatialDropout1D(0.2)(model)\n",
        "model = Bidirectional(GRU(128, return_sequences=True,dropout=0.1,recurrent_dropout=0.1))(model)\n",
        "model = Conv1D(64, kernel_size = 3, padding = \"valid\", kernel_initializer = \"glorot_uniform\")(model)\n",
        "avg_pool = GlobalAveragePooling1D()(model)\n",
        "max_pool = GlobalMaxPooling1D()(model)\n",
        "model = concatenate([avg_pool, max_pool]) \n",
        "preds = Dense(6, activation=\"sigmoid\")(model)\n",
        "Bil_GRU_Word2Vec_model = Model(sequence_input, preds)\n",
        "Bil_GRU_Word2Vec_model.compile(loss='binary_crossentropy',optimizer=Adam(lr=1e-3),metrics=['accuracy', mean_pred, fmeasure, precision, auroc, recall])"
      ],
      "execution_count": 0,
      "outputs": []
    },
    {
      "cell_type": "markdown",
      "metadata": {
        "colab_type": "text",
        "id": "bf8J5uY0DdMw"
      },
      "source": [
        "### Visualize the Orchestrated Bidirectional GRU+Word2Vec Model Architecture\n",
        "\n",
        "\n"
      ]
    },
    {
      "cell_type": "code",
      "metadata": {
        "colab_type": "code",
        "id": "dCKyC29LDhC6",
        "colab": {},
        "outputId": "45fff285-73f8-46b6-bc24-14df9f088ae3"
      },
      "source": [
        "Bil_GRU_Word2Vec_model.summary()\n",
        "\n",
        "#plot the GRU model architecture\n",
        "\n",
        "#plot_model(Bil_GRU_Word2Vec_model, to_file='Bil_GRU_Word2vec_model_plot.png', show_shapes=True, show_layer_names=True)\n",
        "#Image(retina=True, filename='Bil_GRU_Word2Vec_model_plot.png') "
      ],
      "execution_count": 0,
      "outputs": [
        {
          "output_type": "stream",
          "text": [
            "__________________________________________________________________________________________________\n",
            "Layer (type)                    Output Shape         Param #     Connected to                     \n",
            "==================================================================================================\n",
            "input_3 (InputLayer)            (None, 200)          0                                            \n",
            "__________________________________________________________________________________________________\n",
            "embedding_9 (Embedding)         (None, 200, 128)     27700224    input_3[0][0]                    \n",
            "__________________________________________________________________________________________________\n",
            "spatial_dropout1d_9 (SpatialDro (None, 200, 128)     0           embedding_9[0][0]                \n",
            "__________________________________________________________________________________________________\n",
            "bidirectional_3 (Bidirectional) (None, 200, 256)     197376      spatial_dropout1d_9[0][0]        \n",
            "__________________________________________________________________________________________________\n",
            "conv1d_4 (Conv1D)               (None, 198, 64)      49216       bidirectional_3[0][0]            \n",
            "__________________________________________________________________________________________________\n",
            "global_average_pooling1d_3 (Glo (None, 64)           0           conv1d_4[0][0]                   \n",
            "__________________________________________________________________________________________________\n",
            "global_max_pooling1d_7 (GlobalM (None, 64)           0           conv1d_4[0][0]                   \n",
            "__________________________________________________________________________________________________\n",
            "concatenate_3 (Concatenate)     (None, 128)          0           global_average_pooling1d_3[0][0] \n",
            "                                                                 global_max_pooling1d_7[0][0]     \n",
            "__________________________________________________________________________________________________\n",
            "dense_11 (Dense)                (None, 6)            774         concatenate_3[0][0]              \n",
            "==================================================================================================\n",
            "Total params: 27,947,590\n",
            "Trainable params: 247,366\n",
            "Non-trainable params: 27,700,224\n",
            "__________________________________________________________________________________________________\n"
          ],
          "name": "stdout"
        }
      ]
    },
    {
      "cell_type": "code",
      "metadata": {
        "colab_type": "code",
        "id": "w7knCoAID24C",
        "colab": {},
        "outputId": "12fe49d1-02d8-4a9f-fb68-14a2802c0c70"
      },
      "source": [
        "Bil_GRU_Word2Vec_model_fit = Bil_GRU_Word2Vec_model.fit(X_tra, y_tra, batch_size=batch_size2, epochs=num_epochs, validation_data=(X_val, y_val))"
      ],
      "execution_count": 0,
      "outputs": [
        {
          "output_type": "stream",
          "text": [
            "Train on 143613 samples, validate on 15958 samples\n",
            "Epoch 1/15\n",
            "143613/143613 [==============================] - 4910s 34ms/step - loss: 0.0961 - acc: 0.9706 - mean_pred: 0.0397 - fmeasure: 0.4134 - precision: 0.7010 - auroc: 0.8466 - recall: 0.3145 - val_loss: 0.0717 - val_acc: 0.9772 - val_mean_pred: 0.0385 - val_fmeasure: 0.6212 - val_precision: 0.7955 - val_auroc: 0.9144 - val_recall: 0.5151\n",
            "Epoch 2/15\n",
            "143613/143613 [==============================] - 5294s 37ms/step - loss: 0.0705 - acc: 0.9773 - mean_pred: 0.0369 - fmeasure: 0.6056 - precision: 0.8124 - auroc: 0.9280 - recall: 0.4921 - val_loss: 0.0661 - val_acc: 0.9787 - val_mean_pred: 0.0401 - val_fmeasure: 0.6667 - val_precision: 0.7866 - val_auroc: 0.9368 - val_recall: 0.5837\n",
            "Epoch 3/15\n",
            "143613/143613 [==============================] - 5246s 37ms/step - loss: 0.0642 - acc: 0.9789 - mean_pred: 0.0367 - fmeasure: 0.6440 - precision: 0.8222 - auroc: 0.9421 - recall: 0.5370 - val_loss: 0.0616 - val_acc: 0.9796 - val_mean_pred: 0.0386 - val_fmeasure: 0.6835 - val_precision: 0.8027 - val_auroc: 0.9465 - val_recall: 0.5991\n",
            "Epoch 4/15\n",
            "143613/143613 [==============================] - 5419s 38ms/step - loss: 0.0602 - acc: 0.9799 - mean_pred: 0.0367 - fmeasure: 0.6686 - precision: 0.8254 - auroc: 0.9496 - recall: 0.5696 - val_loss: 0.0594 - val_acc: 0.9804 - val_mean_pred: 0.0394 - val_fmeasure: 0.6999 - val_precision: 0.8016 - val_auroc: 0.9524 - val_recall: 0.6251\n",
            "Epoch 5/15\n",
            "143613/143613 [==============================] - 5406s 38ms/step - loss: 0.0578 - acc: 0.9805 - mean_pred: 0.0367 - fmeasure: 0.6802 - precision: 0.8262 - auroc: 0.9547 - recall: 0.5855 - val_loss: 0.0604 - val_acc: 0.9800 - val_mean_pred: 0.0453 - val_fmeasure: 0.7097 - val_precision: 0.7604 - val_auroc: 0.9565 - val_recall: 0.6689\n",
            "Epoch 6/15\n",
            "143613/143613 [==============================] - 5344s 37ms/step - loss: 0.0551 - acc: 0.9811 - mean_pred: 0.0367 - fmeasure: 0.6957 - precision: 0.8261 - auroc: 0.9583 - recall: 0.6070 - val_loss: 0.0586 - val_acc: 0.9805 - val_mean_pred: 0.0414 - val_fmeasure: 0.7142 - val_precision: 0.7729 - val_auroc: 0.9597 - val_recall: 0.6678\n",
            "Epoch 7/15\n",
            "143613/143613 [==============================] - 5290s 37ms/step - loss: 0.0536 - acc: 0.9816 - mean_pred: 0.0366 - fmeasure: 0.7064 - precision: 0.8336 - auroc: 0.9610 - recall: 0.6200 - val_loss: 0.0584 - val_acc: 0.9807 - val_mean_pred: 0.0364 - val_fmeasure: 0.7045 - val_precision: 0.8082 - val_auroc: 0.9621 - val_recall: 0.6273\n",
            "Epoch 8/15\n",
            "143613/143613 [==============================] - 5365s 37ms/step - loss: 0.0521 - acc: 0.9820 - mean_pred: 0.0367 - fmeasure: 0.7143 - precision: 0.8337 - auroc: 0.9631 - recall: 0.6313 - val_loss: 0.0591 - val_acc: 0.9803 - val_mean_pred: 0.0386 - val_fmeasure: 0.7095 - val_precision: 0.7782 - val_auroc: 0.9640 - val_recall: 0.6563\n",
            "Epoch 9/15\n",
            "143613/143613 [==============================] - 5374s 37ms/step - loss: 0.0503 - acc: 0.9824 - mean_pred: 0.0366 - fmeasure: 0.7221 - precision: 0.8358 - auroc: 0.9649 - recall: 0.6414 - val_loss: 0.0588 - val_acc: 0.9806 - val_mean_pred: 0.0371 - val_fmeasure: 0.7076 - val_precision: 0.7941 - val_auroc: 0.9657 - val_recall: 0.6419\n",
            "Epoch 10/15\n",
            "143613/143613 [==============================] - 5376s 37ms/step - loss: 0.0490 - acc: 0.9827 - mean_pred: 0.0366 - fmeasure: 0.7275 - precision: 0.8385 - auroc: 0.9664 - recall: 0.6495 - val_loss: 0.0584 - val_acc: 0.9807 - val_mean_pred: 0.0384 - val_fmeasure: 0.7128 - val_precision: 0.7827 - val_auroc: 0.9671 - val_recall: 0.6576\n",
            "Epoch 11/15\n",
            "143613/143613 [==============================] - 5393s 38ms/step - loss: 0.0483 - acc: 0.9830 - mean_pred: 0.0366 - fmeasure: 0.7353 - precision: 0.8417 - auroc: 0.9678 - recall: 0.6586 - val_loss: 0.0602 - val_acc: 0.9799 - val_mean_pred: 0.0379 - val_fmeasure: 0.7029 - val_precision: 0.7693 - val_auroc: 0.9683 - val_recall: 0.6506\n",
            "Epoch 12/15\n",
            "143613/143613 [==============================] - 5413s 38ms/step - loss: 0.0476 - acc: 0.9832 - mean_pred: 0.0366 - fmeasure: 0.7381 - precision: 0.8403 - auroc: 0.9689 - recall: 0.6635 - val_loss: 0.0598 - val_acc: 0.9799 - val_mean_pred: 0.0406 - val_fmeasure: 0.7076 - val_precision: 0.7596 - val_auroc: 0.9694 - val_recall: 0.6661\n",
            "Epoch 13/15\n",
            "143613/143613 [==============================] - 5403s 38ms/step - loss: 0.0462 - acc: 0.9836 - mean_pred: 0.0366 - fmeasure: 0.7459 - precision: 0.8476 - auroc: 0.9699 - recall: 0.6722 - val_loss: 0.0597 - val_acc: 0.9800 - val_mean_pred: 0.0399 - val_fmeasure: 0.7106 - val_precision: 0.7558 - val_auroc: 0.9704 - val_recall: 0.6737\n",
            "Epoch 14/15\n",
            "143613/143613 [==============================] - 5411s 38ms/step - loss: 0.0450 - acc: 0.9838 - mean_pred: 0.0367 - fmeasure: 0.7506 - precision: 0.8475 - auroc: 0.9709 - recall: 0.6798 - val_loss: 0.0596 - val_acc: 0.9806 - val_mean_pred: 0.0379 - val_fmeasure: 0.7150 - val_precision: 0.7736 - val_auroc: 0.9713 - val_recall: 0.6683\n",
            "Epoch 15/15\n",
            "143613/143613 [==============================] - 5390s 38ms/step - loss: 0.0435 - acc: 0.9842 - mean_pred: 0.0366 - fmeasure: 0.7565 - precision: 0.8492 - auroc: 0.9718 - recall: 0.6872 - val_loss: 0.0613 - val_acc: 0.9806 - val_mean_pred: 0.0346 - val_fmeasure: 0.7034 - val_precision: 0.8009 - val_auroc: 0.9722 - val_recall: 0.6309\n"
          ],
          "name": "stdout"
        }
      ]
    },
    {
      "cell_type": "markdown",
      "metadata": {
        "colab_type": "text",
        "id": "3j0Uf_3CD9pI"
      },
      "source": [
        "### Evaluate the GRU+Word2Vec Model train and test score"
      ]
    },
    {
      "cell_type": "code",
      "metadata": {
        "colab_type": "code",
        "id": "Q9vJoSUgEBte",
        "colab": {},
        "outputId": "96045a48-f299-4c6c-b917-2432adb83246"
      },
      "source": [
        "#Train\n",
        "Bil_GRU_Word2Vec_train_score = Bil_GRU_Word2Vec_model.evaluate(X_train, y_train, batch_size=batch_size2, verbose=1)\n",
        "print('Train Loss:', Bil_GRU_Word2Vec_train_score[0])\n",
        "print('Train Accuracy:', Bil_GRU_Word2Vec_train_score[1])\n",
        "\n",
        "#Test\n",
        "Bil_GRU_Word2Vec_test_score = Bil_GRU_Word2Vec_model.evaluate(X_test, y_test, batch_size=batch_size2, verbose=1)\n",
        "print('Test Loss:', Bil_GRU_Word2Vec_test_score[0])\n",
        "print('Test Accuracy:', Bil_GRU_Word2Vec_test_score[1])"
      ],
      "execution_count": 0,
      "outputs": [
        {
          "output_type": "stream",
          "text": [
            ""
          ],
          "name": "stdout"
        },
        {
          "output_type": "stream",
          "text": [
            "159571/159571 [==============================] - 1140s 7ms/step\n",
            "Train Loss: 0.03580597654456746\n",
            "Train Accuracy: 0.9870632353361694\n",
            "63930/63930 [==============================] - 454s 7ms/step\n",
            "Test Loss: 0.0889850829968463\n",
            "Test Accuracy: 0.970366034350372\n"
          ],
          "name": "stdout"
        }
      ]
    },
    {
      "cell_type": "markdown",
      "metadata": {
        "colab_type": "text",
        "id": "kA0bwd7BEoTh"
      },
      "source": [
        "### Plot Training & Validation Accuracy with the Loss values of the Bil GRU + Word2Vec Model"
      ]
    },
    {
      "cell_type": "code",
      "metadata": {
        "colab_type": "code",
        "id": "TUQxDlcAEr7f",
        "colab": {},
        "outputId": "afa9a823-e961-4f15-99eb-1c81f113c78a"
      },
      "source": [
        "# Plot training & validation accuracy values\n",
        "plt.plot(Bil_GRU_Word2Vec_model_fit.history['acc'])\n",
        "plt.plot(Bil_GRU_Word2Vec_model_fit.history['val_acc'])\n",
        "plt.title(' Bidirectional Gated Recurrent Unit (GRU) with Word2Vec Model accuracy')\n",
        "plt.ylabel('Accuracy')\n",
        "plt.xlabel('Epoch')\n",
        "plt.legend(['Training Accuracy', 'Validation Accuracy'], loc='upper left')\n",
        "plt.show()\n",
        "\n",
        "# Plot training & validation loss values\n",
        "plt.plot(Bil_GRU_Word2Vec_model_fit.history['loss'])\n",
        "plt.plot(Bil_GRU_Word2Vec_model_fit.history['val_loss'])\n",
        "plt.title('Bidirectional Gated Recurrent Unit (GRU) with Word2Vec Model loss')\n",
        "plt.ylabel('Loss')\n",
        "plt.xlabel('Epoch')\n",
        "plt.legend(['Training Loss', 'Validation Loss'], loc='lower right')\n",
        "plt.show()"
      ],
      "execution_count": 0,
      "outputs": [
        {
          "output_type": "display_data",
          "data": {
            "image/png": "[encoded data removed]",
            "text/plain": [
              "<Figure size 576x396 with 1 Axes>"
            ]
          },
          "metadata": {
            "tags": []
          }
        },
        {
          "output_type": "display_data",
          "data": {
            "image/png": "[encoded data removed]",
            "text/plain": [
              "<Figure size 576x396 with 1 Axes>"
            ]
          },
          "metadata": {
            "tags": []
          }
        }
      ]
    },
    {
      "cell_type": "markdown",
      "metadata": {
        "colab_type": "text",
        "id": "db28Tpnvejiq"
      },
      "source": [
        "# Evaluation of Experiment With Word2Vec Pre-trained Embedding"
      ]
    },
    {
      "cell_type": "markdown",
      "metadata": {
        "colab_type": "text",
        "id": "oh7FUzQnZ7BJ"
      },
      "source": [
        "#### Computing the highest of the evaluation matrics (per model) "
      ]
    },
    {
      "cell_type": "code",
      "metadata": {
        "colab_type": "code",
        "id": "zK_Xn0hNAKJo",
        "colab": {},
        "outputId": "47461998-fc1e-4029-9ee6-40e57bcc4d49"
      },
      "source": [
        "trace = go.Table(\n",
        "    header=dict(values=['Model', 'Loss', 'Accuracy', 'mean_pred', 'F-Measure', 'Precision', 'AUC'],\n",
        "                line = dict(color='#7D7F80'),\n",
        "                fill = dict(color='#a1c3d1'),\n",
        "                align = ['left'] * 5),\n",
        "    cells=dict(values=[['CNN with word2Vec', 'RNNs with word2Vec', 'LSTM with word2Vec', ' Bidirectional LSTM with word2Vec', 'GRU with word2Vec', 'Bidirectional GRU with word2Vec'],\n",
        "                       [\n",
        "                        #Loss Evaluation\n",
        "                        round(np.max(CNN_Word2Vec_model_fit.history['loss']), 3), round(np.max(RNN_Word2Vec_model_fit.history['loss']), 3), \n",
        "                        round(np.max(LSTM_Word2Vec_model_fit.history['loss']), 3), round(np.max(Bil_LSTM_Word2Vec_model_fit.history['loss']), 3), round(np.max(GRU_Word2Vec_model_fit.history['loss']), 3),\n",
        "                        round(np.max(Bil_GRU_Word2Vec_model_fit.history['loss']), 3)],\n",
        "                        \n",
        "                        #Accuracy Evaluation\n",
        "                        [round(np.max(CNN_Word2Vec_model_fit.history['acc']), 3), round(np.max(RNN_Word2Vec_model_fit.history['acc']), 3), \n",
        "                        round(np.max(LSTM_Word2Vec_model_fit.history['acc']), 3), round(np.max(Bil_LSTM_Word2Vec_model_fit.history['acc']), 3), round(np.max(GRU_Word2Vec_model_fit.history['acc']), 3),\n",
        "                        round(np.max(Bil_GRU_Word2Vec_model_fit.history['acc']), 3)],\n",
        "               \n",
        "                        #mean_pred Evaluation\n",
        "                        [round(np.max(CNN_Word2Vec_model_fit.history['mean_pred']), 3), round(np.max(RNN_Word2Vec_model_fit.history['mean_pred']), 3), \n",
        "                        round(np.max(LSTM_Word2Vec_model_fit.history['mean_pred']), 3), round(np.max(Bil_LSTM_Word2Vec_model_fit.history['mean_pred']), 3), round(np.max(GRU_Word2Vec_model_fit.history['mean_pred']), 3),\n",
        "                        round(np.max(Bil_GRU_Word2Vec_model_fit.history['mean_pred']), 3)],\n",
        "\t\t\t\t\t\t\n",
        "                        #F1-Measure Evaluation fmeasure\n",
        "                        [round(np.max(CNN_Word2Vec_model_fit.history['fmeasure']), 3), round(np.max(RNN_Word2Vec_model_fit.history['fmeasure']), 3), \n",
        "                        round(np.max(LSTM_Word2Vec_model_fit.history['fmeasure']), 3), round(np.max(Bil_LSTM_Word2Vec_model_fit.history['fmeasure']), 3), round(np.max(GRU_Word2Vec_model_fit.history['fmeasure']), 3),\n",
        "                        round(np.max(Bil_GRU_Word2Vec_model_fit.history['fmeasure']), 3)],\n",
        "\t\t\t\t\t\t             \n",
        "                        #Precision Evaluation precision\n",
        "                        [round(np.max(CNN_Word2Vec_model_fit.history['precision']), 3), round(np.max(RNN_Word2Vec_model_fit.history['precision']), 3), \n",
        "                        round(np.max(LSTM_Word2Vec_model_fit.history['precision']), 3), round(np.max(Bil_LSTM_Word2Vec_model_fit.history['precision']), 3), round(np.max(GRU_Word2Vec_model_fit.history['precision']), 3),\n",
        "                        round(np.max(Bil_GRU_Word2Vec_model_fit.history['precision']), 3)],\n",
        "\t\t\t\t\t\t\n",
        "                        #ROC AUC Evaluation auroc\n",
        "                        [round(np.max(CNN_Word2Vec_model_fit.history['auroc']), 3), round(np.max(RNN_Word2Vec_model_fit.history['auroc']), 3), \n",
        "                        round(np.max(LSTM_Word2Vec_model_fit.history['auroc']), 3), round(np.max(Bil_LSTM_Word2Vec_model_fit.history['auroc']), 3), round(np.max(GRU_Word2Vec_model_fit.history['auroc']), 3),\n",
        "                        round(np.max(Bil_GRU_Word2Vec_model_fit.history['auroc']), 3)]\n",
        "                       \n",
        "                       ],\n",
        "               line = dict(color='#7D7F80'),\n",
        "               fill = dict(color='#EDFAFF'),\n",
        "               align = ['left'] * 5))\n",
        "\n",
        "layout = dict(width=800, height=400)\n",
        "data = [trace]\n",
        "fig = dict(data=data, layout=layout)\n",
        "py.iplot(data, filename = 'Word2Vec_pre-trained_embedding_with the max of the evaluation matrics (per model) _table')"
      ],
      "execution_count": 0,
      "outputs": [
        {
          "output_type": "stream",
          "text": [
            "D:\\Program Files\\Anaconda\\lib\\site-packages\\IPython\\core\\display.py:689: UserWarning:\n",
            "\n",
            "Consider using IPython.display.IFrame instead\n",
            "\n"
          ],
          "name": "stderr"
        },
        {
          "output_type": "execute_result",
          "data": {
            "text/html": [
              "<iframe id=\"igraph\" scrolling=\"no\" style=\"border:none;\" seamless=\"seamless\" src=\"https://plot.ly/~hamzasharoon/15.embed\" height=\"525px\" width=\"100%\"></iframe>"
            ],
            "text/plain": [
              "<chart_studio.tools.PlotlyDisplay object>"
            ]
          },
          "metadata": {
            "tags": []
          },
          "execution_count": 110
        }
      ]
    },
    {
      "cell_type": "markdown",
      "metadata": {
        "colab_type": "text",
        "id": "T6TsVU-zZ-wi"
      },
      "source": [
        "#### Computing the mean average of the evaluation matrics (per model) "
      ]
    },
    {
      "cell_type": "code",
      "metadata": {
        "colab_type": "code",
        "id": "9eNLjhkoaEsX",
        "colab": {},
        "outputId": "8a1f43f4-f257-4dd0-b583-6f23ea464459"
      },
      "source": [
        "trace = go.Table(\n",
        "    header=dict(values=['Model', 'Loss', 'Accuracy', 'mean_pred', 'F-Measure', 'Precision', 'AUC'],\n",
        "                line = dict(color='#7D7F80'),\n",
        "                fill = dict(color='#a1c3d1'),\n",
        "                align = ['left'] * 5),\n",
        "    cells=dict(values=[['CNN with Word2Vec', 'RNNs with Word2Vec', 'LSTM with Word2Vec', ' Bidirectional LSTM with Word2Vec', 'GRU with Word2Vec', 'Bidirectional GRU with Word2Vec'],\n",
        "                       [\n",
        "                        #Loss Evaluation\n",
        "                        round(np.mean(CNN_Word2Vec_model_fit.history['loss']), 3), round(np.mean(RNN_Word2Vec_model_fit.history['loss']), 3), \n",
        "                        round(np.mean(LSTM_Word2Vec_model_fit.history['loss']), 3), round(np.mean(Bil_LSTM_Word2Vec_model_fit.history['loss']), 3), round(np.mean(GRU_Word2Vec_model_fit.history['loss']), 3),\n",
        "                        round(np.mean(Bil_GRU_Word2Vec_model_fit.history['loss']), 3)],\n",
        "                        \n",
        "                        #Accuracy Evaluation\n",
        "                        [round(np.mean(CNN_Word2Vec_model_fit.history['acc']), 3), round(np.mean(RNN_Word2Vec_model_fit.history['acc']), 3), \n",
        "                        round(np.mean(LSTM_Word2Vec_model_fit.history['loss']), 3), round(np.mean(Bil_LSTM_Word2Vec_model_fit.history['loss']), 3), round(np.mean(GRU_Word2Vec_model_fit.history['loss']), 3),\n",
        "                        round(np.mean(Bil_GRU_Word2Vec_model_fit.history['acc']), 3)],\n",
        "               \n",
        "                        #mean_pred Evaluation\n",
        "                        [round(np.mean(CNN_Word2Vec_model_fit.history['mean_pred']), 3), round(np.mean(RNN_Word2Vec_model_fit.history['mean_pred']), 3), \n",
        "                        round(np.mean(LSTM_Word2Vec_model_fit.history['mean_pred']), 3), round(np.mean(Bil_LSTM_Word2Vec_model_fit.history['mean_pred']), 3), round(np.mean(GRU_Word2Vec_model_fit.history['mean_pred']), 3),\n",
        "                        round(np.mean(Bil_GRU_Word2Vec_model_fit.history['mean_pred']), 3)],\n",
        "\t\t\t\t\t\t\n",
        "                        #F1-Measure Evaluation fmeasure\n",
        "                        [round(np.mean(CNN_Word2Vec_model_fit.history['fmeasure']), 3), round(np.mean(RNN_Word2Vec_model_fit.history['fmeasure']), 3), \n",
        "                        round(np.mean(LSTM_Word2Vec_model_fit.history['fmeasure']), 3), round(np.mean(Bil_LSTM_Word2Vec_model_fit.history['fmeasure']), 3), round(np.mean(GRU_Word2Vec_model_fit.history['fmeasure']), 3),\n",
        "                        round(np.mean(Bil_GRU_Word2Vec_model_fit.history['fmeasure']), 3)],\n",
        "\t\t\t\t\t\t             \n",
        "                        #Precision Evaluation precision\n",
        "                        [round(np.mean(CNN_Word2Vec_model_fit.history['precision']), 3), round(np.mean(RNN_Word2Vec_model_fit.history['precision']), 3), \n",
        "                        round(np.mean(LSTM_Word2Vec_model_fit.history['precision']), 3), round(np.mean(Bil_LSTM_Word2Vec_model_fit.history['precision']), 3), round(np.mean(GRU_Word2Vec_model_fit.history['precision']), 3),\n",
        "                        round(np.mean(Bil_GRU_Word2Vec_model_fit.history['precision']), 3)],\n",
        "\t\t\t\t\t\t\n",
        "                        #ROC AUC Evaluation auroc\n",
        "                        [round(np.mean(CNN_Word2Vec_model_fit.history['auroc']), 3), round(np.mean(RNN_Word2Vec_model_fit.history['auroc']), 3), \n",
        "                        round(np.mean(LSTM_Word2Vec_model_fit.history['auroc']), 3), round(np.mean(Bil_LSTM_Word2Vec_model_fit.history['auroc']), 3), round(np.mean(GRU_Word2Vec_model_fit.history['auroc']), 3),\n",
        "                        round(np.mean(Bil_GRU_Word2Vec_model_fit.history['auroc']), 3)]\n",
        "                                              ],\n",
        "               line = dict(color='#7D7F80'),\n",
        "               fill = dict(color='#EDFAFF'),\n",
        "               align = ['left'] * 5))\n",
        "\n",
        "layout = dict(width=800, height=400)\n",
        "data = [trace]\n",
        "fig = dict(data=data, layout=layout)\n",
        "py.iplot(data, filename = 'Word2Vec_trained_embedding_with the max of the evaluation matrics (per model) _table')"
      ],
      "execution_count": 0,
      "outputs": [
        {
          "output_type": "stream",
          "text": [
            "D:\\Program Files\\Anaconda\\lib\\site-packages\\IPython\\core\\display.py:689: UserWarning:\n",
            "\n",
            "Consider using IPython.display.IFrame instead\n",
            "\n"
          ],
          "name": "stderr"
        },
        {
          "output_type": "execute_result",
          "data": {
            "text/html": [
              "<iframe id=\"igraph\" scrolling=\"no\" style=\"border:none;\" seamless=\"seamless\" src=\"https://plot.ly/~hamzasharoon/17.embed\" height=\"525px\" width=\"100%\"></iframe>"
            ],
            "text/plain": [
              "<chart_studio.tools.PlotlyDisplay object>"
            ]
          },
          "metadata": {
            "tags": []
          },
          "execution_count": 114
        }
      ]
    },
    {
      "cell_type": "code",
      "metadata": {
        "colab_type": "code",
        "id": "3bnSuPk7bHug",
        "colab": {}
      },
      "source": [
        "Image('multi-label_with the mean average of the evaluation matrics (per model) _table.png')"
      ],
      "execution_count": 0,
      "outputs": []
    },
    {
      "cell_type": "code",
      "metadata": {
        "colab_type": "code",
        "id": "v8fXF_dmejiq",
        "colab": {},
        "outputId": "6fdaaeaa-aab0-4f11-8737-131151ac18f4"
      },
      "source": [
        "# concat all training, validation and testing accuracy scores\n",
        "\n",
        "CNN_Word2Vec_Accuracy = ['Convolutional Neural Network (CNN) with Word2Vec', \n",
        "                np.mean(CNN_Word2Vec_model_fit.history['acc']), \n",
        "                np.mean(CNN_Word2Vec_model_fit.history['val_acc']), \n",
        "                CNN_Word2Vec_test_score[1]]\n",
        "\n",
        "RNN_Word2Vec_Accuracy = ['Recurrent Neural Networks (RNNs) with Word2Vec', \n",
        "                np.mean(RNN_Word2Vec_model_fit.history['acc']), \n",
        "                np.mean(RNN_Word2Vec_model_fit.history['val_acc']), \n",
        "                RNN_Word2Vec_test_score[1]]\n",
        "\n",
        "LSTM_Word2Vec_Accuracy = ['LSTM with Word2Vec', \n",
        "                  np.mean(LSTM_Word2Vec_model_fit.history['acc']), \n",
        "                  np.mean(LSTM_Word2Vec_model_fit.history['val_acc']), \n",
        "                  LSTM_Word2Vec_test_score[1]]\n",
        "\n",
        "Bidirectional_LSTM_Word2Vec_Accuracy = ['Bidirectional LSTM with Word2Vec', \n",
        "                    np.mean(Bil_LSTM_Word2Vec_model_fit.history['acc']), \n",
        "                    np.mean(Bil_LSTM_Word2Vec_model_fit.history['val_acc']), \n",
        "                    Bil_LSTM_Word2Vec_test_score[1]]\n",
        "\n",
        "GRU_Word2Vec_Accuracy = ['GRU Word2Vec', \n",
        "                    np.mean(GRU_Word2Vec_model_fit.history['acc']), \n",
        "                    np.mean(GRU_Word2Vec_model_fit.history['val_acc']), \n",
        "                    GRU_Word2Vec_test_score[1]]\n",
        "\n",
        "Bidirectional_GRU_Word2Vec_Accuracy = ['Bidirectional GRU with Word2Vec', \n",
        "                    np.mean(Bil_GRU_Word2Vec_model_fit.history['acc']), \n",
        "                    np.mean(Bil_GRU_Word2Vec_model_fit.history['val_acc']), \n",
        "                    Bil_GRU_Word2Vec_test_score[1]]\n",
        "\n",
        "\n",
        "# create dataframe\n",
        "experimentalResult = pd.DataFrame([CNN_Word2Vec_Accuracy])\n",
        "# append all other scores\n",
        "experimentalResult = experimentalResult.append([CNN_Word2Vec_Accuracy, RNN_Word2Vec_Accuracy, LSTM_Word2Vec_Accuracy, Bidirectional_LSTM_Word2Vec_Accuracy, \n",
        "                                                GRU_Word2Vec_Accuracy, Bidirectional_GRU_Word2Vec_Accuracy])\n",
        "\n",
        "\n",
        "# beautify the new dataframe\n",
        "experimentalResult.columns = ['Model', 'Training Accuracy', 'Validation Accuracy', 'Testing Accuracy']\n",
        "experimentalResult.set_index(['Model'], inplace=True)\n",
        "experimentalResult\n",
        "print(experimentalResult)"
      ],
      "execution_count": 0,
      "outputs": [
        {
          "output_type": "stream",
          "text": [
            "                                                  Training Accuracy  \\\n",
            "Model                                                                 \n",
            "Convolutional Neural Network (CNN) with Word2Vec           0.970797   \n",
            "Convolutional Neural Network (CNN) with Word2Vec           0.970797   \n",
            "Recurrent Neural Networks (RNNs) with Word2Vec             0.963426   \n",
            "LSTM with Word2Vec                                         0.970907   \n",
            "Bidirectional LSTM with Word2Vec                           0.972333   \n",
            "GRU Word2Vec                                               0.979919   \n",
            "Bidirectional GRU with Word2Vec                            0.980991   \n",
            "\n",
            "                                                  Validation Accuracy  \\\n",
            "Model                                                                   \n",
            "Convolutional Neural Network (CNN) with Word2Vec             0.973095   \n",
            "Convolutional Neural Network (CNN) with Word2Vec             0.973095   \n",
            "Recurrent Neural Networks (RNNs) with Word2Vec               0.962660   \n",
            "LSTM with Word2Vec                                           0.972349   \n",
            "Bidirectional LSTM with Word2Vec                             0.974332   \n",
            "GRU Word2Vec                                                 0.979459   \n",
            "Bidirectional GRU with Word2Vec                              0.979977   \n",
            "\n",
            "                                                  Testing Accuracy  \n",
            "Model                                                               \n",
            "Convolutional Neural Network (CNN) with Word2Vec          0.970181  \n",
            "Convolutional Neural Network (CNN) with Word2Vec          0.970181  \n",
            "Recurrent Neural Networks (RNNs) with Word2Vec            0.962261  \n",
            "LSTM with Word2Vec                                        0.967511  \n",
            "Bidirectional LSTM with Word2Vec                          0.968765  \n",
            "GRU Word2Vec                                              0.968121  \n",
            "Bidirectional GRU with Word2Vec                           0.970366  \n"
          ],
          "name": "stdout"
        }
      ]
    }
  ]
}