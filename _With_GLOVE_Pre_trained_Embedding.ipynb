{
  "nbformat": 4,
  "nbformat_minor": 0,
  "metadata": {
    "colab": {
      "name": "_With_GLOVE_Pre_trained_Embedding.ipynb",
      "version": "0.3.2",
      "provenance": [],
      "collapsed_sections": [
        "6lWFdG2uejgL"
      ],
      "toc_visible": true,
      "include_colab_link": true
    },
    "language_info": {
      "codemirror_mode": {
        "name": "ipython",
        "version": 3
      },
      "file_extension": ".py",
      "mimetype": "text/x-python",
      "name": "python",
      "nbconvert_exporter": "python",
      "pygments_lexer": "ipython3",
      "version": "3.7.3"
    },
    "kernelspec": {
      "display_name": "Python 3",
      "language": "python",
      "name": "python3"
    },
    "accelerator": "TPU"
  },
  "cells": [
    {
      "cell_type": "markdown",
      "metadata": {
        "id": "view-in-github",
        "colab_type": "text"
      },
      "source": [
        "<a href=\"https://colab.research.google.com/github/Hamxea/Experiments/blob/master/_With_GLOVE_Pre_trained_Embedding.ipynb\" target=\"_parent\"><img src=\"https://colab.research.google.com/assets/colab-badge.svg\" alt=\"Open In Colab\"/></a>"
      ]
    },
    {
      "cell_type": "markdown",
      "metadata": {
        "colab_type": "text",
        "id": "JnB0s1tPejbl"
      },
      "source": [
        "# Multi-Label Text Classification of Text Document or News\n"
      ]
    },
    {
      "cell_type": "markdown",
      "metadata": {
        "colab_type": "text",
        "id": "fKccKTR_ejbm"
      },
      "source": [
        " ### DATASET\n",
        "\n",
        "Toxic Comment Classification dataset. a multi-label text classfication data consisting of many wikipedia comments which have been labeled by humans according to their relative toxicity comments labels such as \"toxic\", \"severe_toxic\", \"obscene\", \"threat\", \"insult\", and  \"identity_hate\". The dataset has approximately ~160k observation in total, ~125k with zero labels (toxicity) of any type, and approximately ~35k classified in one or more toxicity categories.\n",
        "\n",
        "\n",
        "\n",
        "\n",
        "*   Dataset Link: https://www.kaggle.com/c/jigsaw-toxic-comment-classification-challenge\n",
        "\n",
        "\n"
      ]
    },
    {
      "cell_type": "markdown",
      "metadata": {
        "colab_type": "text",
        "id": "h4oWa1Aqejbn"
      },
      "source": [
        "\n",
        "#### DATA CHARACTERISTICS (TRAIN DATASET)\n",
        "* Number of data points\t159571\n",
        "* Number data points of type toxic\t15294\n",
        "* Number data points of type severe_tocic\t1595\n",
        "* Number data points of type obscene\t8449\n",
        "* Number data points of type threat\t478\n",
        "* Number data points of type insult\t7877\n",
        "* Number data points of type identity_hate\t1405\n",
        "* Observations in one or more class\t35098\n",
        "* Unclassified observation\t124473\n"
      ]
    },
    {
      "cell_type": "markdown",
      "metadata": {
        "colab_type": "text",
        "id": "NoB57aB6ejbo"
      },
      "source": [
        "### Import necessary libraries for the experiment"
      ]
    },
    {
      "cell_type": "code",
      "metadata": {
        "colab_type": "code",
        "id": "BXuDj-0Vejbp",
        "outputId": "4d54bc5b-9b6e-46ad-e28e-744e63b08f42",
        "colab": {
          "base_uri": "https://localhost:8080/",
          "height": 238
        }
      },
      "source": [
        "# importing libraries\n",
        "import tensorflow as tf\n",
        "from keras import initializers, regularizers, constraints, optimizers, layers, callbacks\n",
        "from keras.callbacks import EarlyStopping,ModelCheckpoint\n",
        "from keras.preprocessing.text import Tokenizer\n",
        "from keras.preprocessing.sequence import pad_sequences\n",
        "from keras.preprocessing import text, sequence\n",
        "from keras import initializers, regularizers, constraints, optimizers, layers\n",
        "from keras.models import Model, Input, Sequential\n",
        "from keras.layers import Dense, Input, LSTM, SimpleRNN, Embedding, Dropout, SpatialDropout1D, Activation, Conv1D,GRU\n",
        "from keras.layers import Conv1D, Bidirectional, GlobalMaxPool1D, MaxPooling1D, BatchNormalization, Add, Flatten\n",
        "from keras.layers import GlobalMaxPooling1D, GlobalAveragePooling1D, concatenate, SpatialDropout1D\n",
        "from keras.optimizers import Adam\n",
        "from keras.utils.vis_utils import plot_model\n",
        "from sklearn.model_selection  import train_test_split\n",
        "#from sklearn.cross_validation import train_test_split\n",
        "\n",
        "\n",
        "# For custom metrics\n",
        "import keras.backend as K\n",
        "from keras.utils.vis_utils import plot_model\n",
        "from keras.callbacks import EarlyStopping \n",
        "\n",
        "\n",
        "import pandas as pd\n",
        "import numpy as np\n",
        " \n",
        "import matplotlib.pyplot as plt\n",
        "\n",
        "plt.style.use('seaborn')\n",
        "\n",
        "import seaborn as sns\n",
        "from IPython.display import Image\n",
        "\n",
        "from tqdm import tqdm\n",
        "from nltk.corpus import stopwords\n",
        "from nltk.tokenize import RegexpTokenizer \n",
        "import os, re, csv, math, codecs\n",
        "from nltk.tokenize import word_tokenize\n",
        "import string\n",
        "import gensim\n",
        "import os\n",
        "import re\n",
        "\n",
        "sns.set_style(\"whitegrid\")\n",
        "np.random.seed(0)\n",
        "\n",
        "import plotly.plotly as py\n",
        "import plotly.graph_objs as go\n",
        "import plotly\n",
        "plotly.tools.set_credentials_file(username='hamzasharoon', api_key='9le0c8M5GUNRAKyJoIt2')\n",
        "\n",
        "\n",
        "# Install dependencies\n",
        "!apt install graphviz\n",
        "!pip install pydot pydot-ng\n",
        "!echo \"Double check with Python 3\"\n",
        "!python -c \"import pydot\""
      ],
      "execution_count": 0,
      "outputs": [
        {
          "output_type": "stream",
          "text": [
            "'apt' is not recognized as an internal or external command,\n",
            "operable program or batch file.\n"
          ],
          "name": "stderr"
        },
        {
          "output_type": "stream",
          "text": [
            "Requirement already satisfied: pydot in d:\\program files\\anaconda\\lib\\site-packages (1.4.1)\n",
            "Requirement already satisfied: pydot-ng in d:\\program files\\anaconda\\lib\\site-packages (2.0.0)\n",
            "Requirement already satisfied: pyparsing>=2.1.4 in d:\\program files\\anaconda\\lib\\site-packages (from pydot) (2.3.1)\n",
            "\"Double check with Python 3\"\n"
          ],
          "name": "stdout"
        }
      ]
    },
    {
      "cell_type": "code",
      "metadata": {
        "colab_type": "code",
        "id": "ClGBLAyTyw5C",
        "colab": {}
      },
      "source": [
        "#from google.colab import files\n",
        "#uploaded = files.upload()\n",
        "\n",
        "#from google.colab import drive\n",
        "#!kaggle competitions download -c Toxic Comment Classification Challenge -p /content/gdrive/My\\ Drive/kaggle/Colab Notebooks/Dataset"
      ],
      "execution_count": 0,
      "outputs": []
    },
    {
      "cell_type": "markdown",
      "metadata": {
        "colab_type": "text",
        "id": "Wbd_vQHxejbu"
      },
      "source": [
        "### Loading the necessary data files and data Preparation"
      ]
    },
    {
      "cell_type": "code",
      "metadata": {
        "colab_type": "code",
        "id": "6mdP52kqu-Kt",
        "outputId": "03b519b4-d49d-46eb-beb1-329af3303b7b",
        "colab": {
          "base_uri": "https://localhost:8080/",
          "height": 529
        }
      },
      "source": [
        "#Train data\n",
        "train = pd.read_csv('D:/çankaya/2ndYEAR/Thesis/Experiments/Data_Toxic Comment Classification/train.csv')\n",
        "train.head(10)"
      ],
      "execution_count": 0,
      "outputs": [
        {
          "output_type": "execute_result",
          "data": {
            "text/html": [
              "<div>\n",
              "<style scoped>\n",
              "    .dataframe tbody tr th:only-of-type {\n",
              "        vertical-align: middle;\n",
              "    }\n",
              "\n",
              "    .dataframe tbody tr th {\n",
              "        vertical-align: top;\n",
              "    }\n",
              "\n",
              "    .dataframe thead th {\n",
              "        text-align: right;\n",
              "    }\n",
              "</style>\n",
              "<table border=\"1\" class=\"dataframe\">\n",
              "  <thead>\n",
              "    <tr style=\"text-align: right;\">\n",
              "      <th></th>\n",
              "      <th>id</th>\n",
              "      <th>comment_text</th>\n",
              "      <th>toxic</th>\n",
              "      <th>severe_toxic</th>\n",
              "      <th>obscene</th>\n",
              "      <th>threat</th>\n",
              "      <th>insult</th>\n",
              "      <th>identity_hate</th>\n",
              "    </tr>\n",
              "  </thead>\n",
              "  <tbody>\n",
              "    <tr>\n",
              "      <th>0</th>\n",
              "      <td>0000997932d777bf</td>\n",
              "      <td>Explanation\\nWhy the edits made under my usern...</td>\n",
              "      <td>0</td>\n",
              "      <td>0</td>\n",
              "      <td>0</td>\n",
              "      <td>0</td>\n",
              "      <td>0</td>\n",
              "      <td>0</td>\n",
              "    </tr>\n",
              "    <tr>\n",
              "      <th>1</th>\n",
              "      <td>000103f0d9cfb60f</td>\n",
              "      <td>D'aww! He matches this background colour I'm s...</td>\n",
              "      <td>0</td>\n",
              "      <td>0</td>\n",
              "      <td>0</td>\n",
              "      <td>0</td>\n",
              "      <td>0</td>\n",
              "      <td>0</td>\n",
              "    </tr>\n",
              "    <tr>\n",
              "      <th>2</th>\n",
              "      <td>000113f07ec002fd</td>\n",
              "      <td>Hey man, I'm really not trying to edit war. It...</td>\n",
              "      <td>0</td>\n",
              "      <td>0</td>\n",
              "      <td>0</td>\n",
              "      <td>0</td>\n",
              "      <td>0</td>\n",
              "      <td>0</td>\n",
              "    </tr>\n",
              "    <tr>\n",
              "      <th>3</th>\n",
              "      <td>0001b41b1c6bb37e</td>\n",
              "      <td>\"\\nMore\\nI can't make any real suggestions on ...</td>\n",
              "      <td>0</td>\n",
              "      <td>0</td>\n",
              "      <td>0</td>\n",
              "      <td>0</td>\n",
              "      <td>0</td>\n",
              "      <td>0</td>\n",
              "    </tr>\n",
              "    <tr>\n",
              "      <th>4</th>\n",
              "      <td>0001d958c54c6e35</td>\n",
              "      <td>You, sir, are my hero. Any chance you remember...</td>\n",
              "      <td>0</td>\n",
              "      <td>0</td>\n",
              "      <td>0</td>\n",
              "      <td>0</td>\n",
              "      <td>0</td>\n",
              "      <td>0</td>\n",
              "    </tr>\n",
              "    <tr>\n",
              "      <th>5</th>\n",
              "      <td>00025465d4725e87</td>\n",
              "      <td>\"\\n\\nCongratulations from me as well, use the ...</td>\n",
              "      <td>0</td>\n",
              "      <td>0</td>\n",
              "      <td>0</td>\n",
              "      <td>0</td>\n",
              "      <td>0</td>\n",
              "      <td>0</td>\n",
              "    </tr>\n",
              "    <tr>\n",
              "      <th>6</th>\n",
              "      <td>0002bcb3da6cb337</td>\n",
              "      <td>COCKSUCKER BEFORE YOU PISS AROUND ON MY WORK</td>\n",
              "      <td>1</td>\n",
              "      <td>1</td>\n",
              "      <td>1</td>\n",
              "      <td>0</td>\n",
              "      <td>1</td>\n",
              "      <td>0</td>\n",
              "    </tr>\n",
              "    <tr>\n",
              "      <th>7</th>\n",
              "      <td>00031b1e95af7921</td>\n",
              "      <td>Your vandalism to the Matt Shirvington article...</td>\n",
              "      <td>0</td>\n",
              "      <td>0</td>\n",
              "      <td>0</td>\n",
              "      <td>0</td>\n",
              "      <td>0</td>\n",
              "      <td>0</td>\n",
              "    </tr>\n",
              "    <tr>\n",
              "      <th>8</th>\n",
              "      <td>00037261f536c51d</td>\n",
              "      <td>Sorry if the word 'nonsense' was offensive to ...</td>\n",
              "      <td>0</td>\n",
              "      <td>0</td>\n",
              "      <td>0</td>\n",
              "      <td>0</td>\n",
              "      <td>0</td>\n",
              "      <td>0</td>\n",
              "    </tr>\n",
              "    <tr>\n",
              "      <th>9</th>\n",
              "      <td>00040093b2687caa</td>\n",
              "      <td>alignment on this subject and which are contra...</td>\n",
              "      <td>0</td>\n",
              "      <td>0</td>\n",
              "      <td>0</td>\n",
              "      <td>0</td>\n",
              "      <td>0</td>\n",
              "      <td>0</td>\n",
              "    </tr>\n",
              "  </tbody>\n",
              "</table>\n",
              "</div>"
            ],
            "text/plain": [
              "                 id                                       comment_text  toxic  \\\n",
              "0  0000997932d777bf  Explanation\\nWhy the edits made under my usern...      0   \n",
              "1  000103f0d9cfb60f  D'aww! He matches this background colour I'm s...      0   \n",
              "2  000113f07ec002fd  Hey man, I'm really not trying to edit war. It...      0   \n",
              "3  0001b41b1c6bb37e  \"\\nMore\\nI can't make any real suggestions on ...      0   \n",
              "4  0001d958c54c6e35  You, sir, are my hero. Any chance you remember...      0   \n",
              "5  00025465d4725e87  \"\\n\\nCongratulations from me as well, use the ...      0   \n",
              "6  0002bcb3da6cb337       COCKSUCKER BEFORE YOU PISS AROUND ON MY WORK      1   \n",
              "7  00031b1e95af7921  Your vandalism to the Matt Shirvington article...      0   \n",
              "8  00037261f536c51d  Sorry if the word 'nonsense' was offensive to ...      0   \n",
              "9  00040093b2687caa  alignment on this subject and which are contra...      0   \n",
              "\n",
              "   severe_toxic  obscene  threat  insult  identity_hate  \n",
              "0             0        0       0       0              0  \n",
              "1             0        0       0       0              0  \n",
              "2             0        0       0       0              0  \n",
              "3             0        0       0       0              0  \n",
              "4             0        0       0       0              0  \n",
              "5             0        0       0       0              0  \n",
              "6             1        1       0       1              0  \n",
              "7             0        0       0       0              0  \n",
              "8             0        0       0       0              0  \n",
              "9             0        0       0       0              0  "
            ]
          },
          "metadata": {
            "tags": []
          },
          "execution_count": 28
        }
      ]
    },
    {
      "cell_type": "markdown",
      "metadata": {
        "colab_type": "text",
        "id": "yemWuxUUwGbQ"
      },
      "source": [
        "### Clean the Train data, specifically remove punctuations"
      ]
    },
    {
      "cell_type": "code",
      "metadata": {
        "colab_type": "code",
        "id": "bXBAuHzkegFw",
        "outputId": "1569539d-73da-4fc1-a0e3-128a8d10b269",
        "colab": {
          "base_uri": "https://localhost:8080/",
          "height": 529
        }
      },
      "source": [
        "totalContentCleaned = []\n",
        "punctDict = {}\n",
        "for punct in string.punctuation:\n",
        "    punctDict[punct] = None\n",
        "transString = str.maketrans(punctDict)\n",
        "# since we intent to remove any punctuation with ''\n",
        "for sen in train['comment_text']:\n",
        "    \n",
        "    #cleanedString = re.sub('[^a-zA-Z]+', '', sen)\n",
        "    \n",
        "    p = sen.translate(transString)\n",
        "    totalContentCleaned.append(p)\n",
        "    \n",
        "\n",
        "train['comment_text'] = totalContentCleaned\n",
        "# we can save the file to csv if we want in local machine\n",
        "#df.to_csv(os.path.join(os.path.abspath('data'), 'train_cleaned.csv'), index = False)\n",
        "\n",
        "\n",
        "\n",
        "train.head(10)"
      ],
      "execution_count": 0,
      "outputs": [
        {
          "output_type": "execute_result",
          "data": {
            "text/html": [
              "<div>\n",
              "<style scoped>\n",
              "    .dataframe tbody tr th:only-of-type {\n",
              "        vertical-align: middle;\n",
              "    }\n",
              "\n",
              "    .dataframe tbody tr th {\n",
              "        vertical-align: top;\n",
              "    }\n",
              "\n",
              "    .dataframe thead th {\n",
              "        text-align: right;\n",
              "    }\n",
              "</style>\n",
              "<table border=\"1\" class=\"dataframe\">\n",
              "  <thead>\n",
              "    <tr style=\"text-align: right;\">\n",
              "      <th></th>\n",
              "      <th>id</th>\n",
              "      <th>comment_text</th>\n",
              "      <th>toxic</th>\n",
              "      <th>severe_toxic</th>\n",
              "      <th>obscene</th>\n",
              "      <th>threat</th>\n",
              "      <th>insult</th>\n",
              "      <th>identity_hate</th>\n",
              "    </tr>\n",
              "  </thead>\n",
              "  <tbody>\n",
              "    <tr>\n",
              "      <th>0</th>\n",
              "      <td>0000997932d777bf</td>\n",
              "      <td>Explanation\\nWhy the edits made under my usern...</td>\n",
              "      <td>0</td>\n",
              "      <td>0</td>\n",
              "      <td>0</td>\n",
              "      <td>0</td>\n",
              "      <td>0</td>\n",
              "      <td>0</td>\n",
              "    </tr>\n",
              "    <tr>\n",
              "      <th>1</th>\n",
              "      <td>000103f0d9cfb60f</td>\n",
              "      <td>Daww He matches this background colour Im seem...</td>\n",
              "      <td>0</td>\n",
              "      <td>0</td>\n",
              "      <td>0</td>\n",
              "      <td>0</td>\n",
              "      <td>0</td>\n",
              "      <td>0</td>\n",
              "    </tr>\n",
              "    <tr>\n",
              "      <th>2</th>\n",
              "      <td>000113f07ec002fd</td>\n",
              "      <td>Hey man Im really not trying to edit war Its j...</td>\n",
              "      <td>0</td>\n",
              "      <td>0</td>\n",
              "      <td>0</td>\n",
              "      <td>0</td>\n",
              "      <td>0</td>\n",
              "      <td>0</td>\n",
              "    </tr>\n",
              "    <tr>\n",
              "      <th>3</th>\n",
              "      <td>0001b41b1c6bb37e</td>\n",
              "      <td>\\nMore\\nI cant make any real suggestions on im...</td>\n",
              "      <td>0</td>\n",
              "      <td>0</td>\n",
              "      <td>0</td>\n",
              "      <td>0</td>\n",
              "      <td>0</td>\n",
              "      <td>0</td>\n",
              "    </tr>\n",
              "    <tr>\n",
              "      <th>4</th>\n",
              "      <td>0001d958c54c6e35</td>\n",
              "      <td>You sir are my hero Any chance you remember wh...</td>\n",
              "      <td>0</td>\n",
              "      <td>0</td>\n",
              "      <td>0</td>\n",
              "      <td>0</td>\n",
              "      <td>0</td>\n",
              "      <td>0</td>\n",
              "    </tr>\n",
              "    <tr>\n",
              "      <th>5</th>\n",
              "      <td>00025465d4725e87</td>\n",
              "      <td>\\n\\nCongratulations from me as well use the to...</td>\n",
              "      <td>0</td>\n",
              "      <td>0</td>\n",
              "      <td>0</td>\n",
              "      <td>0</td>\n",
              "      <td>0</td>\n",
              "      <td>0</td>\n",
              "    </tr>\n",
              "    <tr>\n",
              "      <th>6</th>\n",
              "      <td>0002bcb3da6cb337</td>\n",
              "      <td>COCKSUCKER BEFORE YOU PISS AROUND ON MY WORK</td>\n",
              "      <td>1</td>\n",
              "      <td>1</td>\n",
              "      <td>1</td>\n",
              "      <td>0</td>\n",
              "      <td>1</td>\n",
              "      <td>0</td>\n",
              "    </tr>\n",
              "    <tr>\n",
              "      <th>7</th>\n",
              "      <td>00031b1e95af7921</td>\n",
              "      <td>Your vandalism to the Matt Shirvington article...</td>\n",
              "      <td>0</td>\n",
              "      <td>0</td>\n",
              "      <td>0</td>\n",
              "      <td>0</td>\n",
              "      <td>0</td>\n",
              "      <td>0</td>\n",
              "    </tr>\n",
              "    <tr>\n",
              "      <th>8</th>\n",
              "      <td>00037261f536c51d</td>\n",
              "      <td>Sorry if the word nonsense was offensive to yo...</td>\n",
              "      <td>0</td>\n",
              "      <td>0</td>\n",
              "      <td>0</td>\n",
              "      <td>0</td>\n",
              "      <td>0</td>\n",
              "      <td>0</td>\n",
              "    </tr>\n",
              "    <tr>\n",
              "      <th>9</th>\n",
              "      <td>00040093b2687caa</td>\n",
              "      <td>alignment on this subject and which are contra...</td>\n",
              "      <td>0</td>\n",
              "      <td>0</td>\n",
              "      <td>0</td>\n",
              "      <td>0</td>\n",
              "      <td>0</td>\n",
              "      <td>0</td>\n",
              "    </tr>\n",
              "  </tbody>\n",
              "</table>\n",
              "</div>"
            ],
            "text/plain": [
              "                 id                                       comment_text  toxic  \\\n",
              "0  0000997932d777bf  Explanation\\nWhy the edits made under my usern...      0   \n",
              "1  000103f0d9cfb60f  Daww He matches this background colour Im seem...      0   \n",
              "2  000113f07ec002fd  Hey man Im really not trying to edit war Its j...      0   \n",
              "3  0001b41b1c6bb37e  \\nMore\\nI cant make any real suggestions on im...      0   \n",
              "4  0001d958c54c6e35  You sir are my hero Any chance you remember wh...      0   \n",
              "5  00025465d4725e87  \\n\\nCongratulations from me as well use the to...      0   \n",
              "6  0002bcb3da6cb337       COCKSUCKER BEFORE YOU PISS AROUND ON MY WORK      1   \n",
              "7  00031b1e95af7921  Your vandalism to the Matt Shirvington article...      0   \n",
              "8  00037261f536c51d  Sorry if the word nonsense was offensive to yo...      0   \n",
              "9  00040093b2687caa  alignment on this subject and which are contra...      0   \n",
              "\n",
              "   severe_toxic  obscene  threat  insult  identity_hate  \n",
              "0             0        0       0       0              0  \n",
              "1             0        0       0       0              0  \n",
              "2             0        0       0       0              0  \n",
              "3             0        0       0       0              0  \n",
              "4             0        0       0       0              0  \n",
              "5             0        0       0       0              0  \n",
              "6             1        1       0       1              0  \n",
              "7             0        0       0       0              0  \n",
              "8             0        0       0       0              0  \n",
              "9             0        0       0       0              0  "
            ]
          },
          "metadata": {
            "tags": []
          },
          "execution_count": 29
        }
      ]
    },
    {
      "cell_type": "code",
      "metadata": {
        "colab_type": "code",
        "id": "bThKgInKejb0",
        "outputId": "57947280-1488-4ddc-95c1-126a14ec0fb0",
        "colab": {
          "base_uri": "https://localhost:8080/",
          "height": 359
        }
      },
      "source": [
        "#Test data\n",
        "df_test = pd.read_csv('D:/çankaya/2ndYEAR/Thesis/Experiments/Data_Toxic Comment Classification/test.csv')\n",
        "df_test.head(10)"
      ],
      "execution_count": 0,
      "outputs": [
        {
          "output_type": "execute_result",
          "data": {
            "text/html": [
              "<div>\n",
              "<style scoped>\n",
              "    .dataframe tbody tr th:only-of-type {\n",
              "        vertical-align: middle;\n",
              "    }\n",
              "\n",
              "    .dataframe tbody tr th {\n",
              "        vertical-align: top;\n",
              "    }\n",
              "\n",
              "    .dataframe thead th {\n",
              "        text-align: right;\n",
              "    }\n",
              "</style>\n",
              "<table border=\"1\" class=\"dataframe\">\n",
              "  <thead>\n",
              "    <tr style=\"text-align: right;\">\n",
              "      <th></th>\n",
              "      <th>id</th>\n",
              "      <th>comment_text</th>\n",
              "    </tr>\n",
              "  </thead>\n",
              "  <tbody>\n",
              "    <tr>\n",
              "      <th>0</th>\n",
              "      <td>00001cee341fdb12</td>\n",
              "      <td>Yo bitch Ja Rule is more succesful then you'll...</td>\n",
              "    </tr>\n",
              "    <tr>\n",
              "      <th>1</th>\n",
              "      <td>0000247867823ef7</td>\n",
              "      <td>== From RfC == \\n\\n The title is fine as it is...</td>\n",
              "    </tr>\n",
              "    <tr>\n",
              "      <th>2</th>\n",
              "      <td>00013b17ad220c46</td>\n",
              "      <td>\" \\n\\n == Sources == \\n\\n * Zawe Ashton on Lap...</td>\n",
              "    </tr>\n",
              "    <tr>\n",
              "      <th>3</th>\n",
              "      <td>00017563c3f7919a</td>\n",
              "      <td>:If you have a look back at the source, the in...</td>\n",
              "    </tr>\n",
              "    <tr>\n",
              "      <th>4</th>\n",
              "      <td>00017695ad8997eb</td>\n",
              "      <td>I don't anonymously edit articles at all.</td>\n",
              "    </tr>\n",
              "    <tr>\n",
              "      <th>5</th>\n",
              "      <td>0001ea8717f6de06</td>\n",
              "      <td>Thank you for understanding. I think very high...</td>\n",
              "    </tr>\n",
              "    <tr>\n",
              "      <th>6</th>\n",
              "      <td>00024115d4cbde0f</td>\n",
              "      <td>Please do not add nonsense to Wikipedia. Such ...</td>\n",
              "    </tr>\n",
              "    <tr>\n",
              "      <th>7</th>\n",
              "      <td>000247e83dcc1211</td>\n",
              "      <td>:Dear god this site is horrible.</td>\n",
              "    </tr>\n",
              "    <tr>\n",
              "      <th>8</th>\n",
              "      <td>00025358d4737918</td>\n",
              "      <td>\" \\n Only a fool can believe in such numbers. ...</td>\n",
              "    </tr>\n",
              "    <tr>\n",
              "      <th>9</th>\n",
              "      <td>00026d1092fe71cc</td>\n",
              "      <td>== Double Redirects == \\n\\n When fixing double...</td>\n",
              "    </tr>\n",
              "  </tbody>\n",
              "</table>\n",
              "</div>"
            ],
            "text/plain": [
              "                 id                                       comment_text\n",
              "0  00001cee341fdb12  Yo bitch Ja Rule is more succesful then you'll...\n",
              "1  0000247867823ef7  == From RfC == \\n\\n The title is fine as it is...\n",
              "2  00013b17ad220c46  \" \\n\\n == Sources == \\n\\n * Zawe Ashton on Lap...\n",
              "3  00017563c3f7919a  :If you have a look back at the source, the in...\n",
              "4  00017695ad8997eb          I don't anonymously edit articles at all.\n",
              "5  0001ea8717f6de06  Thank you for understanding. I think very high...\n",
              "6  00024115d4cbde0f  Please do not add nonsense to Wikipedia. Such ...\n",
              "7  000247e83dcc1211                   :Dear god this site is horrible.\n",
              "8  00025358d4737918  \" \\n Only a fool can believe in such numbers. ...\n",
              "9  00026d1092fe71cc  == Double Redirects == \\n\\n When fixing double..."
            ]
          },
          "metadata": {
            "tags": []
          },
          "execution_count": 30
        }
      ]
    },
    {
      "cell_type": "markdown",
      "metadata": {
        "colab_type": "text",
        "id": "gkNgoN8pwPtA"
      },
      "source": [
        "### Clean the Test data, specifically remove punctuations"
      ]
    },
    {
      "cell_type": "code",
      "metadata": {
        "colab_type": "code",
        "id": "qAtY_WxPe03X",
        "outputId": "39a3005d-f936-4850-bb77-18c70cdc49b2",
        "colab": {
          "base_uri": "https://localhost:8080/",
          "height": 359
        }
      },
      "source": [
        "totalContentCleaned = []\n",
        "punctDict = {}\n",
        "for punct in string.punctuation:\n",
        "    punctDict[punct] = None\n",
        "transString = str.maketrans(punctDict)\n",
        "# since we intent to remove any punctuation with ''\n",
        "for sen in df_test['comment_text']:\n",
        "    \n",
        "    #cleanedString = re.sub('[^a-zA-Z]+', '', sen)\n",
        "    \n",
        "    p = sen.translate(transString)\n",
        "    totalContentCleaned.append(p)\n",
        "    \n",
        "\n",
        "df_test['comment_text'] = totalContentCleaned\n",
        "# we can save the file to csv if we want in local machine\n",
        "#df.to_csv(os.path.join(os.path.abspath('data'), 'train_cleaned.csv'), index = False)\n",
        "\n",
        "\n",
        "\n",
        "df_test.head(10)"
      ],
      "execution_count": 0,
      "outputs": [
        {
          "output_type": "execute_result",
          "data": {
            "text/html": [
              "<div>\n",
              "<style scoped>\n",
              "    .dataframe tbody tr th:only-of-type {\n",
              "        vertical-align: middle;\n",
              "    }\n",
              "\n",
              "    .dataframe tbody tr th {\n",
              "        vertical-align: top;\n",
              "    }\n",
              "\n",
              "    .dataframe thead th {\n",
              "        text-align: right;\n",
              "    }\n",
              "</style>\n",
              "<table border=\"1\" class=\"dataframe\">\n",
              "  <thead>\n",
              "    <tr style=\"text-align: right;\">\n",
              "      <th></th>\n",
              "      <th>id</th>\n",
              "      <th>comment_text</th>\n",
              "    </tr>\n",
              "  </thead>\n",
              "  <tbody>\n",
              "    <tr>\n",
              "      <th>0</th>\n",
              "      <td>00001cee341fdb12</td>\n",
              "      <td>Yo bitch Ja Rule is more succesful then youll ...</td>\n",
              "    </tr>\n",
              "    <tr>\n",
              "      <th>1</th>\n",
              "      <td>0000247867823ef7</td>\n",
              "      <td>From RfC  \\n\\n The title is fine as it is IMO</td>\n",
              "    </tr>\n",
              "    <tr>\n",
              "      <th>2</th>\n",
              "      <td>00013b17ad220c46</td>\n",
              "      <td>\\n\\n  Sources  \\n\\n  Zawe Ashton on Lapland —...</td>\n",
              "    </tr>\n",
              "    <tr>\n",
              "      <th>3</th>\n",
              "      <td>00017563c3f7919a</td>\n",
              "      <td>If you have a look back at the source the info...</td>\n",
              "    </tr>\n",
              "    <tr>\n",
              "      <th>4</th>\n",
              "      <td>00017695ad8997eb</td>\n",
              "      <td>I dont anonymously edit articles at all</td>\n",
              "    </tr>\n",
              "    <tr>\n",
              "      <th>5</th>\n",
              "      <td>0001ea8717f6de06</td>\n",
              "      <td>Thank you for understanding I think very highl...</td>\n",
              "    </tr>\n",
              "    <tr>\n",
              "      <th>6</th>\n",
              "      <td>00024115d4cbde0f</td>\n",
              "      <td>Please do not add nonsense to Wikipedia Such e...</td>\n",
              "    </tr>\n",
              "    <tr>\n",
              "      <th>7</th>\n",
              "      <td>000247e83dcc1211</td>\n",
              "      <td>Dear god this site is horrible</td>\n",
              "    </tr>\n",
              "    <tr>\n",
              "      <th>8</th>\n",
              "      <td>00025358d4737918</td>\n",
              "      <td>\\n Only a fool can believe in such numbers \\n...</td>\n",
              "    </tr>\n",
              "    <tr>\n",
              "      <th>9</th>\n",
              "      <td>00026d1092fe71cc</td>\n",
              "      <td>Double Redirects  \\n\\n When fixing double red...</td>\n",
              "    </tr>\n",
              "  </tbody>\n",
              "</table>\n",
              "</div>"
            ],
            "text/plain": [
              "                 id                                       comment_text\n",
              "0  00001cee341fdb12  Yo bitch Ja Rule is more succesful then youll ...\n",
              "1  0000247867823ef7      From RfC  \\n\\n The title is fine as it is IMO\n",
              "2  00013b17ad220c46   \\n\\n  Sources  \\n\\n  Zawe Ashton on Lapland —...\n",
              "3  00017563c3f7919a  If you have a look back at the source the info...\n",
              "4  00017695ad8997eb            I dont anonymously edit articles at all\n",
              "5  0001ea8717f6de06  Thank you for understanding I think very highl...\n",
              "6  00024115d4cbde0f  Please do not add nonsense to Wikipedia Such e...\n",
              "7  000247e83dcc1211                     Dear god this site is horrible\n",
              "8  00025358d4737918   \\n Only a fool can believe in such numbers \\n...\n",
              "9  00026d1092fe71cc   Double Redirects  \\n\\n When fixing double red..."
            ]
          },
          "metadata": {
            "tags": []
          },
          "execution_count": 31
        }
      ]
    },
    {
      "cell_type": "code",
      "metadata": {
        "colab_type": "code",
        "id": "PAj6D9IZejb5",
        "outputId": "9deca97c-445d-4e72-ead1-db8dae6956c2",
        "colab": {
          "base_uri": "https://localhost:8080/",
          "height": 359
        }
      },
      "source": [
        "df_test_labels = pd.read_csv('D:/çankaya/2ndYEAR/Thesis/Experiments/Data_Toxic Comment Classification/test_labels.csv')\n",
        "\n",
        "df_test_labels.head(10)"
      ],
      "execution_count": 0,
      "outputs": [
        {
          "output_type": "execute_result",
          "data": {
            "text/html": [
              "<div>\n",
              "<style scoped>\n",
              "    .dataframe tbody tr th:only-of-type {\n",
              "        vertical-align: middle;\n",
              "    }\n",
              "\n",
              "    .dataframe tbody tr th {\n",
              "        vertical-align: top;\n",
              "    }\n",
              "\n",
              "    .dataframe thead th {\n",
              "        text-align: right;\n",
              "    }\n",
              "</style>\n",
              "<table border=\"1\" class=\"dataframe\">\n",
              "  <thead>\n",
              "    <tr style=\"text-align: right;\">\n",
              "      <th></th>\n",
              "      <th>id</th>\n",
              "      <th>toxic</th>\n",
              "      <th>severe_toxic</th>\n",
              "      <th>obscene</th>\n",
              "      <th>threat</th>\n",
              "      <th>insult</th>\n",
              "      <th>identity_hate</th>\n",
              "    </tr>\n",
              "  </thead>\n",
              "  <tbody>\n",
              "    <tr>\n",
              "      <th>0</th>\n",
              "      <td>00001cee341fdb12</td>\n",
              "      <td>-1</td>\n",
              "      <td>-1</td>\n",
              "      <td>-1</td>\n",
              "      <td>-1</td>\n",
              "      <td>-1</td>\n",
              "      <td>-1</td>\n",
              "    </tr>\n",
              "    <tr>\n",
              "      <th>1</th>\n",
              "      <td>0000247867823ef7</td>\n",
              "      <td>-1</td>\n",
              "      <td>-1</td>\n",
              "      <td>-1</td>\n",
              "      <td>-1</td>\n",
              "      <td>-1</td>\n",
              "      <td>-1</td>\n",
              "    </tr>\n",
              "    <tr>\n",
              "      <th>2</th>\n",
              "      <td>00013b17ad220c46</td>\n",
              "      <td>-1</td>\n",
              "      <td>-1</td>\n",
              "      <td>-1</td>\n",
              "      <td>-1</td>\n",
              "      <td>-1</td>\n",
              "      <td>-1</td>\n",
              "    </tr>\n",
              "    <tr>\n",
              "      <th>3</th>\n",
              "      <td>00017563c3f7919a</td>\n",
              "      <td>-1</td>\n",
              "      <td>-1</td>\n",
              "      <td>-1</td>\n",
              "      <td>-1</td>\n",
              "      <td>-1</td>\n",
              "      <td>-1</td>\n",
              "    </tr>\n",
              "    <tr>\n",
              "      <th>4</th>\n",
              "      <td>00017695ad8997eb</td>\n",
              "      <td>-1</td>\n",
              "      <td>-1</td>\n",
              "      <td>-1</td>\n",
              "      <td>-1</td>\n",
              "      <td>-1</td>\n",
              "      <td>-1</td>\n",
              "    </tr>\n",
              "    <tr>\n",
              "      <th>5</th>\n",
              "      <td>0001ea8717f6de06</td>\n",
              "      <td>0</td>\n",
              "      <td>0</td>\n",
              "      <td>0</td>\n",
              "      <td>0</td>\n",
              "      <td>0</td>\n",
              "      <td>0</td>\n",
              "    </tr>\n",
              "    <tr>\n",
              "      <th>6</th>\n",
              "      <td>00024115d4cbde0f</td>\n",
              "      <td>-1</td>\n",
              "      <td>-1</td>\n",
              "      <td>-1</td>\n",
              "      <td>-1</td>\n",
              "      <td>-1</td>\n",
              "      <td>-1</td>\n",
              "    </tr>\n",
              "    <tr>\n",
              "      <th>7</th>\n",
              "      <td>000247e83dcc1211</td>\n",
              "      <td>0</td>\n",
              "      <td>0</td>\n",
              "      <td>0</td>\n",
              "      <td>0</td>\n",
              "      <td>0</td>\n",
              "      <td>0</td>\n",
              "    </tr>\n",
              "    <tr>\n",
              "      <th>8</th>\n",
              "      <td>00025358d4737918</td>\n",
              "      <td>-1</td>\n",
              "      <td>-1</td>\n",
              "      <td>-1</td>\n",
              "      <td>-1</td>\n",
              "      <td>-1</td>\n",
              "      <td>-1</td>\n",
              "    </tr>\n",
              "    <tr>\n",
              "      <th>9</th>\n",
              "      <td>00026d1092fe71cc</td>\n",
              "      <td>-1</td>\n",
              "      <td>-1</td>\n",
              "      <td>-1</td>\n",
              "      <td>-1</td>\n",
              "      <td>-1</td>\n",
              "      <td>-1</td>\n",
              "    </tr>\n",
              "  </tbody>\n",
              "</table>\n",
              "</div>"
            ],
            "text/plain": [
              "                 id  toxic  severe_toxic  obscene  threat  insult  \\\n",
              "0  00001cee341fdb12     -1            -1       -1      -1      -1   \n",
              "1  0000247867823ef7     -1            -1       -1      -1      -1   \n",
              "2  00013b17ad220c46     -1            -1       -1      -1      -1   \n",
              "3  00017563c3f7919a     -1            -1       -1      -1      -1   \n",
              "4  00017695ad8997eb     -1            -1       -1      -1      -1   \n",
              "5  0001ea8717f6de06      0             0        0       0       0   \n",
              "6  00024115d4cbde0f     -1            -1       -1      -1      -1   \n",
              "7  000247e83dcc1211      0             0        0       0       0   \n",
              "8  00025358d4737918     -1            -1       -1      -1      -1   \n",
              "9  00026d1092fe71cc     -1            -1       -1      -1      -1   \n",
              "\n",
              "   identity_hate  \n",
              "0             -1  \n",
              "1             -1  \n",
              "2             -1  \n",
              "3             -1  \n",
              "4             -1  \n",
              "5              0  \n",
              "6             -1  \n",
              "7              0  \n",
              "8             -1  \n",
              "9             -1  "
            ]
          },
          "metadata": {
            "tags": []
          },
          "execution_count": 32
        }
      ]
    },
    {
      "cell_type": "code",
      "metadata": {
        "colab_type": "code",
        "id": "wB71FX4Lejb_",
        "outputId": "dcd6767f-5c3a-447a-d7a4-9679c606970e",
        "colab": {
          "base_uri": "https://localhost:8080/",
          "height": 359
        }
      },
      "source": [
        "test_labels = df_test_labels[(df_test_labels[['toxic','severe_toxic', 'obscene', 'threat', \n",
        "                                        'insult', 'identity_hate']] != -1).all(axis=1)]\n",
        "test_labels.head(10)"
      ],
      "execution_count": 0,
      "outputs": [
        {
          "output_type": "execute_result",
          "data": {
            "text/html": [
              "<div>\n",
              "<style scoped>\n",
              "    .dataframe tbody tr th:only-of-type {\n",
              "        vertical-align: middle;\n",
              "    }\n",
              "\n",
              "    .dataframe tbody tr th {\n",
              "        vertical-align: top;\n",
              "    }\n",
              "\n",
              "    .dataframe thead th {\n",
              "        text-align: right;\n",
              "    }\n",
              "</style>\n",
              "<table border=\"1\" class=\"dataframe\">\n",
              "  <thead>\n",
              "    <tr style=\"text-align: right;\">\n",
              "      <th></th>\n",
              "      <th>id</th>\n",
              "      <th>toxic</th>\n",
              "      <th>severe_toxic</th>\n",
              "      <th>obscene</th>\n",
              "      <th>threat</th>\n",
              "      <th>insult</th>\n",
              "      <th>identity_hate</th>\n",
              "    </tr>\n",
              "  </thead>\n",
              "  <tbody>\n",
              "    <tr>\n",
              "      <th>5</th>\n",
              "      <td>0001ea8717f6de06</td>\n",
              "      <td>0</td>\n",
              "      <td>0</td>\n",
              "      <td>0</td>\n",
              "      <td>0</td>\n",
              "      <td>0</td>\n",
              "      <td>0</td>\n",
              "    </tr>\n",
              "    <tr>\n",
              "      <th>7</th>\n",
              "      <td>000247e83dcc1211</td>\n",
              "      <td>0</td>\n",
              "      <td>0</td>\n",
              "      <td>0</td>\n",
              "      <td>0</td>\n",
              "      <td>0</td>\n",
              "      <td>0</td>\n",
              "    </tr>\n",
              "    <tr>\n",
              "      <th>11</th>\n",
              "      <td>0002f87b16116a7f</td>\n",
              "      <td>0</td>\n",
              "      <td>0</td>\n",
              "      <td>0</td>\n",
              "      <td>0</td>\n",
              "      <td>0</td>\n",
              "      <td>0</td>\n",
              "    </tr>\n",
              "    <tr>\n",
              "      <th>13</th>\n",
              "      <td>0003e1cccfd5a40a</td>\n",
              "      <td>0</td>\n",
              "      <td>0</td>\n",
              "      <td>0</td>\n",
              "      <td>0</td>\n",
              "      <td>0</td>\n",
              "      <td>0</td>\n",
              "    </tr>\n",
              "    <tr>\n",
              "      <th>14</th>\n",
              "      <td>00059ace3e3e9a53</td>\n",
              "      <td>0</td>\n",
              "      <td>0</td>\n",
              "      <td>0</td>\n",
              "      <td>0</td>\n",
              "      <td>0</td>\n",
              "      <td>0</td>\n",
              "    </tr>\n",
              "    <tr>\n",
              "      <th>16</th>\n",
              "      <td>000663aff0fffc80</td>\n",
              "      <td>0</td>\n",
              "      <td>0</td>\n",
              "      <td>0</td>\n",
              "      <td>0</td>\n",
              "      <td>0</td>\n",
              "      <td>0</td>\n",
              "    </tr>\n",
              "    <tr>\n",
              "      <th>17</th>\n",
              "      <td>000689dd34e20979</td>\n",
              "      <td>0</td>\n",
              "      <td>0</td>\n",
              "      <td>0</td>\n",
              "      <td>0</td>\n",
              "      <td>0</td>\n",
              "      <td>0</td>\n",
              "    </tr>\n",
              "    <tr>\n",
              "      <th>19</th>\n",
              "      <td>000844b52dee5f3f</td>\n",
              "      <td>0</td>\n",
              "      <td>0</td>\n",
              "      <td>0</td>\n",
              "      <td>0</td>\n",
              "      <td>0</td>\n",
              "      <td>0</td>\n",
              "    </tr>\n",
              "    <tr>\n",
              "      <th>21</th>\n",
              "      <td>00091c35fa9d0465</td>\n",
              "      <td>1</td>\n",
              "      <td>0</td>\n",
              "      <td>0</td>\n",
              "      <td>0</td>\n",
              "      <td>0</td>\n",
              "      <td>0</td>\n",
              "    </tr>\n",
              "    <tr>\n",
              "      <th>22</th>\n",
              "      <td>000968ce11f5ee34</td>\n",
              "      <td>0</td>\n",
              "      <td>0</td>\n",
              "      <td>0</td>\n",
              "      <td>0</td>\n",
              "      <td>0</td>\n",
              "      <td>0</td>\n",
              "    </tr>\n",
              "  </tbody>\n",
              "</table>\n",
              "</div>"
            ],
            "text/plain": [
              "                  id  toxic  severe_toxic  obscene  threat  insult  \\\n",
              "5   0001ea8717f6de06      0             0        0       0       0   \n",
              "7   000247e83dcc1211      0             0        0       0       0   \n",
              "11  0002f87b16116a7f      0             0        0       0       0   \n",
              "13  0003e1cccfd5a40a      0             0        0       0       0   \n",
              "14  00059ace3e3e9a53      0             0        0       0       0   \n",
              "16  000663aff0fffc80      0             0        0       0       0   \n",
              "17  000689dd34e20979      0             0        0       0       0   \n",
              "19  000844b52dee5f3f      0             0        0       0       0   \n",
              "21  00091c35fa9d0465      1             0        0       0       0   \n",
              "22  000968ce11f5ee34      0             0        0       0       0   \n",
              "\n",
              "    identity_hate  \n",
              "5               0  \n",
              "7               0  \n",
              "11              0  \n",
              "13              0  \n",
              "14              0  \n",
              "16              0  \n",
              "17              0  \n",
              "19              0  \n",
              "21              0  \n",
              "22              0  "
            ]
          },
          "metadata": {
            "tags": []
          },
          "execution_count": 33
        }
      ]
    },
    {
      "cell_type": "markdown",
      "metadata": {
        "colab_type": "text",
        "id": "Z4WMHSsEejcF"
      },
      "source": [
        "### Merge the df_test and test_labels into 1 dataframe (test)"
      ]
    },
    {
      "cell_type": "code",
      "metadata": {
        "colab_type": "code",
        "id": "IN1JvMJxejcH",
        "outputId": "bebb7eeb-7fda-478d-b57c-f77e15ddccb8",
        "colab": {
          "base_uri": "https://localhost:8080/",
          "height": 461
        }
      },
      "source": [
        "#Merge the df_test and test_labels into 1 dataframe (test)\n",
        "test = pd.merge(test_labels, df_test, on='id', how='inner')\n",
        "test.head(10)"
      ],
      "execution_count": 0,
      "outputs": [
        {
          "output_type": "execute_result",
          "data": {
            "text/html": [
              "<div>\n",
              "<style scoped>\n",
              "    .dataframe tbody tr th:only-of-type {\n",
              "        vertical-align: middle;\n",
              "    }\n",
              "\n",
              "    .dataframe tbody tr th {\n",
              "        vertical-align: top;\n",
              "    }\n",
              "\n",
              "    .dataframe thead th {\n",
              "        text-align: right;\n",
              "    }\n",
              "</style>\n",
              "<table border=\"1\" class=\"dataframe\">\n",
              "  <thead>\n",
              "    <tr style=\"text-align: right;\">\n",
              "      <th></th>\n",
              "      <th>id</th>\n",
              "      <th>toxic</th>\n",
              "      <th>severe_toxic</th>\n",
              "      <th>obscene</th>\n",
              "      <th>threat</th>\n",
              "      <th>insult</th>\n",
              "      <th>identity_hate</th>\n",
              "      <th>comment_text</th>\n",
              "    </tr>\n",
              "  </thead>\n",
              "  <tbody>\n",
              "    <tr>\n",
              "      <th>0</th>\n",
              "      <td>0001ea8717f6de06</td>\n",
              "      <td>0</td>\n",
              "      <td>0</td>\n",
              "      <td>0</td>\n",
              "      <td>0</td>\n",
              "      <td>0</td>\n",
              "      <td>0</td>\n",
              "      <td>Thank you for understanding I think very highl...</td>\n",
              "    </tr>\n",
              "    <tr>\n",
              "      <th>1</th>\n",
              "      <td>000247e83dcc1211</td>\n",
              "      <td>0</td>\n",
              "      <td>0</td>\n",
              "      <td>0</td>\n",
              "      <td>0</td>\n",
              "      <td>0</td>\n",
              "      <td>0</td>\n",
              "      <td>Dear god this site is horrible</td>\n",
              "    </tr>\n",
              "    <tr>\n",
              "      <th>2</th>\n",
              "      <td>0002f87b16116a7f</td>\n",
              "      <td>0</td>\n",
              "      <td>0</td>\n",
              "      <td>0</td>\n",
              "      <td>0</td>\n",
              "      <td>0</td>\n",
              "      <td>0</td>\n",
              "      <td>Somebody will invariably try to add Religion ...</td>\n",
              "    </tr>\n",
              "    <tr>\n",
              "      <th>3</th>\n",
              "      <td>0003e1cccfd5a40a</td>\n",
              "      <td>0</td>\n",
              "      <td>0</td>\n",
              "      <td>0</td>\n",
              "      <td>0</td>\n",
              "      <td>0</td>\n",
              "      <td>0</td>\n",
              "      <td>\\n\\n It says it right there that it IS a type...</td>\n",
              "    </tr>\n",
              "    <tr>\n",
              "      <th>4</th>\n",
              "      <td>00059ace3e3e9a53</td>\n",
              "      <td>0</td>\n",
              "      <td>0</td>\n",
              "      <td>0</td>\n",
              "      <td>0</td>\n",
              "      <td>0</td>\n",
              "      <td>0</td>\n",
              "      <td>\\n\\n  Before adding a new product to the list...</td>\n",
              "    </tr>\n",
              "    <tr>\n",
              "      <th>5</th>\n",
              "      <td>000663aff0fffc80</td>\n",
              "      <td>0</td>\n",
              "      <td>0</td>\n",
              "      <td>0</td>\n",
              "      <td>0</td>\n",
              "      <td>0</td>\n",
              "      <td>0</td>\n",
              "      <td>this other one from 1897</td>\n",
              "    </tr>\n",
              "    <tr>\n",
              "      <th>6</th>\n",
              "      <td>000689dd34e20979</td>\n",
              "      <td>0</td>\n",
              "      <td>0</td>\n",
              "      <td>0</td>\n",
              "      <td>0</td>\n",
              "      <td>0</td>\n",
              "      <td>0</td>\n",
              "      <td>Reason for banning throwing  \\n\\n This articl...</td>\n",
              "    </tr>\n",
              "    <tr>\n",
              "      <th>7</th>\n",
              "      <td>000844b52dee5f3f</td>\n",
              "      <td>0</td>\n",
              "      <td>0</td>\n",
              "      <td>0</td>\n",
              "      <td>0</td>\n",
              "      <td>0</td>\n",
              "      <td>0</td>\n",
              "      <td>blocked from editing Wikipedia</td>\n",
              "    </tr>\n",
              "    <tr>\n",
              "      <th>8</th>\n",
              "      <td>00091c35fa9d0465</td>\n",
              "      <td>1</td>\n",
              "      <td>0</td>\n",
              "      <td>0</td>\n",
              "      <td>0</td>\n",
              "      <td>0</td>\n",
              "      <td>0</td>\n",
              "      <td>Arabs are committing genocide in Iraq but no ...</td>\n",
              "    </tr>\n",
              "    <tr>\n",
              "      <th>9</th>\n",
              "      <td>000968ce11f5ee34</td>\n",
              "      <td>0</td>\n",
              "      <td>0</td>\n",
              "      <td>0</td>\n",
              "      <td>0</td>\n",
              "      <td>0</td>\n",
              "      <td>0</td>\n",
              "      <td>Please stop If you continue to vandalize Wikip...</td>\n",
              "    </tr>\n",
              "  </tbody>\n",
              "</table>\n",
              "</div>"
            ],
            "text/plain": [
              "                 id  toxic  severe_toxic  obscene  threat  insult  \\\n",
              "0  0001ea8717f6de06      0             0        0       0       0   \n",
              "1  000247e83dcc1211      0             0        0       0       0   \n",
              "2  0002f87b16116a7f      0             0        0       0       0   \n",
              "3  0003e1cccfd5a40a      0             0        0       0       0   \n",
              "4  00059ace3e3e9a53      0             0        0       0       0   \n",
              "5  000663aff0fffc80      0             0        0       0       0   \n",
              "6  000689dd34e20979      0             0        0       0       0   \n",
              "7  000844b52dee5f3f      0             0        0       0       0   \n",
              "8  00091c35fa9d0465      1             0        0       0       0   \n",
              "9  000968ce11f5ee34      0             0        0       0       0   \n",
              "\n",
              "   identity_hate                                       comment_text  \n",
              "0              0  Thank you for understanding I think very highl...  \n",
              "1              0                     Dear god this site is horrible  \n",
              "2              0   Somebody will invariably try to add Religion ...  \n",
              "3              0   \\n\\n It says it right there that it IS a type...  \n",
              "4              0   \\n\\n  Before adding a new product to the list...  \n",
              "5              0                           this other one from 1897  \n",
              "6              0   Reason for banning throwing  \\n\\n This articl...  \n",
              "7              0                  blocked from editing Wikipedia     \n",
              "8              0   Arabs are committing genocide in Iraq but no ...  \n",
              "9              0  Please stop If you continue to vandalize Wikip...  "
            ]
          },
          "metadata": {
            "tags": []
          },
          "execution_count": 34
        }
      ]
    },
    {
      "cell_type": "markdown",
      "metadata": {
        "colab_type": "text",
        "id": "yMHnqLRhejcO"
      },
      "source": [
        "### Number of records in the train and test data"
      ]
    },
    {
      "cell_type": "code",
      "metadata": {
        "colab_type": "code",
        "id": "N0shTlrPejcQ",
        "outputId": "6e0e977f-b7b8-42fb-a36a-05386e6f6c34",
        "colab": {
          "base_uri": "https://localhost:8080/",
          "height": 51
        }
      },
      "source": [
        "print(\"Train data shape\", train.shape)\n",
        "print(\"Test data shape\", test.shape)"
      ],
      "execution_count": 0,
      "outputs": [
        {
          "output_type": "stream",
          "text": [
            "Train data shape (159571, 8)\n",
            "Test data shape (63930, 8)\n"
          ],
          "name": "stdout"
        }
      ]
    },
    {
      "cell_type": "code",
      "metadata": {
        "colab_type": "code",
        "id": "dl8sCOPEejcX",
        "outputId": "ec0c3538-8913-4b0c-80bc-fad2c593a0f0",
        "colab": {
          "base_uri": "https://localhost:8080/",
          "height": 85
        }
      },
      "source": [
        "# check that there are no missing values in either training set\n",
        "print('The dataset has', train.isna().sum().sum(), 'missing values in train data.')\n",
        "print('The dataset has', test.isna().sum().sum(), 'missing values in test data.')\n",
        "\n",
        "# check if there are any duplicates\n",
        "print('The dataset has', train.duplicated().sum(), 'duplicates in train data.')\n",
        "print('The dataset has', test.duplicated().sum(), 'duplicates in test data.')"
      ],
      "execution_count": 0,
      "outputs": [
        {
          "output_type": "stream",
          "text": [
            "The dataset has 0 missing values in train data.\n",
            "The dataset has 0 missing values in test data.\n",
            "The dataset has 0 duplicates in train data.\n",
            "The dataset has 0 duplicates in test data.\n"
          ],
          "name": "stdout"
        }
      ]
    },
    {
      "cell_type": "markdown",
      "metadata": {
        "colab_type": "text",
        "id": "OcndCtd4ejcj"
      },
      "source": [
        "### CORRELATION BETWEEN DATA LABELS"
      ]
    },
    {
      "cell_type": "code",
      "metadata": {
        "colab_type": "code",
        "id": "xYT_uhvEejcl",
        "outputId": "e962e4fe-f947-4339-d86b-1927f07691ba",
        "colab": {
          "base_uri": "https://localhost:8080/",
          "height": 418
        }
      },
      "source": [
        "fig, ax = plt.subplots(figsize=(10, 6))\n",
        "fig.suptitle('Correlation Matrix')\n",
        "sns.heatmap(train.corr(), annot=True, cmap=\"Greens\", linewidths=.5, ax=ax);"
      ],
      "execution_count": 0,
      "outputs": [
        {
          "output_type": "display_data",
          "data": {
            "image/png": "[encoded data removed]",
            "text/plain": [
              "<Figure size 720x432 with 2 Axes>"
            ]
          },
          "metadata": {
            "tags": []
          }
        }
      ]
    },
    {
      "cell_type": "markdown",
      "metadata": {
        "colab_type": "text",
        "id": "4MQuxIYfejcq"
      },
      "source": [
        "The correlation figure below shows that Toxic\" comments are clearly correlated with both \"obscene\" and \"insult\" comments. Interestingly, \"toxic\" and \"severe_toxic\" are only weakly correlated. While we can also observe that, \"Obscene\" comments and \"insult\" comments are also highly correlated, which makes perfect sense."
      ]
    },
    {
      "cell_type": "markdown",
      "metadata": {
        "colab_type": "text",
        "id": "FHcTJeqwejcr"
      },
      "source": [
        "### DATA PREPROCESSING\n",
        "Deep Neural Networks input layers make use of input variables to feed the network for training the model. But in this task (experiment), we're dealing with words text. How do we represent these words in order to feed our model?\n",
        "\n",
        "In our experiment, we used densed representation of those text (comments) and their semanticity together. The advantage of using this approach is the best way for fitting neural networks onto a text data (as in our case), as well as less memory usage compared to other sparse representation approaches.\n",
        "\n",
        "\n",
        "#### Word Embedding\n",
        "Two ways to feed embeddings to neural networks:\n",
        "   * Using your own word embeddings by training\n",
        "   * Using pre-trained embedding (e.g Word2vec, lad2vec, Glove etc)\n",
        "   \n"
      ]
    },
    {
      "cell_type": "code",
      "metadata": {
        "colab_type": "code",
        "id": "LL_5zSxjejcs",
        "colab": {}
      },
      "source": [
        "#Convert text to vectors using keras preprocessing library tools\n",
        "\n",
        "X_train = train[\"comment_text\"].values\n",
        "X_test  = test[\"comment_text\"].values\n",
        "\n",
        "y_train = train[[\"toxic\", \"severe_toxic\", \"obscene\", \"threat\", \"insult\", \"identity_hate\"]].values\n",
        "y_test  = test[[\"toxic\", \"severe_toxic\", \"obscene\", \"threat\", \"insult\", \"identity_hate\"]].values"
      ],
      "execution_count": 0,
      "outputs": []
    },
    {
      "cell_type": "markdown",
      "metadata": {
        "colab_type": "text",
        "id": "uwqi-osSejcv"
      },
      "source": [
        "\n",
        "\n",
        "\n",
        "\n",
        "\n",
        "For the first embedding, we used keras preprocessing (Text Preprocessing) libraries. This class allows to vectorize a text corpus, by turning each text into either a sequence of integers (each integer being the index of a token in a dictionary) or into a vector where the coefficient for each token could be binary, based on word count, based on tf-idf"
      ]
    },
    {
      "cell_type": "code",
      "metadata": {
        "colab_type": "code",
        "id": "H0rNWt-8ejcz",
        "colab": {}
      },
      "source": [
        "num_words = 20000 #Max. workds to use per toxic comment\n",
        "max_features = 200000 #Max. number of unique words in embeddinbg vector\n",
        "max_len = 200 #Max. number of words per toxic comment to be use\n",
        "embedding_dims = 128 #embedding vector output dimension \n",
        "num_epochs = 15 # (before 5)number of epochs (number of times that the model is exposed to the training dataset)\n",
        "val_split = 0.1\n",
        "batch_size2 = 256 #(before 32)The **batch size** is the number of training examples in one forward/backward pass.\n",
        "                  # In general, larger batch sizes result in faster progress in training, but don't always converge as quickly. \n",
        "                  #Smaller batch sizes train slower, but can converge faster. And the higher the batch size, the more memory space you’ll need."
      ],
      "execution_count": 0,
      "outputs": []
    },
    {
      "cell_type": "code",
      "metadata": {
        "colab_type": "code",
        "id": "cTMhD2dpejcw",
        "outputId": "e3d645e1-dcfb-4c64-856e-d48ba49691e7",
        "colab": {
          "base_uri": "https://localhost:8080/",
          "height": 51
        }
      },
      "source": [
        "#toxic comments Tokenization\n",
        "tokenizer = tokenizer = Tokenizer(num_words)\n",
        "tokenizer.fit_on_texts(list(X_train))\n",
        "\n",
        "#Convert tokenized toxic commnent to sequnces\n",
        "X_train = tokenizer.texts_to_sequences(X_train)\n",
        "X_test = tokenizer.texts_to_sequences(X_test)\n",
        " \n",
        "# padding the sequences\n",
        "X_train = sequence.pad_sequences(X_train, max_len)\n",
        "X_test  = sequence.pad_sequences(X_test,  max_len)\n",
        "\n",
        "print('X_train shape:', X_train.shape)\n",
        "print('X_test shape: ', X_test.shape)"
      ],
      "execution_count": 0,
      "outputs": [
        {
          "output_type": "stream",
          "text": [
            "X_train shape: (159571, 200)\n",
            "X_test shape:  (63930, 200)\n"
          ],
          "name": "stdout"
        }
      ]
    },
    {
      "cell_type": "markdown",
      "metadata": {
        "colab_type": "text",
        "id": "vGxTYdg-WthP"
      },
      "source": [
        "##We use cross validation to split arrays or matrices of train data into random train and validation subsets"
      ]
    },
    {
      "cell_type": "code",
      "metadata": {
        "colab_type": "code",
        "id": "-9HAHH8FWrgE",
        "colab": {},
        "outputId": "1b6fcd34-bc33-4b91-d301-b16a639ee5b2"
      },
      "source": [
        "X_tra, X_val, y_tra, y_val = train_test_split(X_train, y_train, train_size =0.9, random_state=233)"
      ],
      "execution_count": 0,
      "outputs": [
        {
          "output_type": "stream",
          "text": [
            "D:\\Program Files\\Anaconda\\lib\\site-packages\\sklearn\\model_selection\\_split.py:2179: FutureWarning:\n",
            "\n",
            "From version 0.21, test_size will always complement train_size unless both are specified.\n",
            "\n"
          ],
          "name": "stderr"
        }
      ]
    },
    {
      "cell_type": "markdown",
      "metadata": {
        "colab_type": "text",
        "id": "ELlEnN6GejdS"
      },
      "source": [
        "## METHODS ( CNN, RNN, LSTM, all  using Glove)"
      ]
    },
    {
      "cell_type": "markdown",
      "metadata": {
        "colab_type": "text",
        "id": "0evQXvGIx-Zg"
      },
      "source": [
        "#### We used early callback functionality that allows you to specify the performance measure to monitor, the trigger, and once triggered. It will stop the training process."
      ]
    },
    {
      "cell_type": "code",
      "metadata": {
        "colab_type": "code",
        "id": "OAe9eO3YyOO-",
        "colab": {}
      },
      "source": [
        "early = EarlyStopping(monitor=\"val_loss\", mode=\"min\", patience=4)"
      ],
      "execution_count": 0,
      "outputs": []
    },
    {
      "cell_type": "markdown",
      "metadata": {
        "colab_type": "text",
        "id": "tQlxRa2xeymU"
      },
      "source": [
        "#### Using Precision, Recall, F1-Measure, AUC, mean etc evaluaiton metrics to evaluate our model"
      ]
    },
    {
      "cell_type": "code",
      "metadata": {
        "colab_type": "code",
        "id": "8g3jDUzie2RN",
        "colab": {}
      },
      "source": [
        "#Import necessary libraries\n",
        "4# demonstration of calculating metrics for a neural network model using sklearn\n",
        "from sklearn.datasets import make_circles\n",
        "from sklearn.metrics import accuracy_score\n",
        "from sklearn.metrics import precision_score\n",
        "from sklearn.metrics import recall_score\n",
        "from sklearn.metrics import f1_score\n",
        "from sklearn.metrics import cohen_kappa_score\n",
        "from sklearn.metrics import roc_auc_score\n",
        "from sklearn.metrics import confusion_matrix\n",
        "\n",
        "\n",
        "def precision(y_true, y_pred):\n",
        "    '''Calculates the precision, a metric for multi-label classification of\n",
        "    how many selected items are relevant.\n",
        "    '''\n",
        "    true_positives = K.sum(K.round(K.clip(y_true * y_pred, 0, 1)))\n",
        "    predicted_positives = K.sum(K.round(K.clip(y_pred, 0, 1)))\n",
        "    precision = true_positives / (predicted_positives + K.epsilon())\n",
        "    return precision\n",
        "\n",
        "\n",
        "def recall(y_true, y_pred):\n",
        "    '''Calculates the recall, a metric for multi-label classification of\n",
        "    how many relevant items are selected.\n",
        "    '''\n",
        "    true_positives = K.sum(K.round(K.clip(y_true * y_pred, 0, 1)))\n",
        "    possible_positives = K.sum(K.round(K.clip(y_true, 0, 1)))\n",
        "    recall = true_positives / (possible_positives + K.epsilon())\n",
        "    return recall\n",
        "\n",
        "#Customized the evaluation to analyse the model in terms of accuracy and mean value accuracy\n",
        "def mean_pred(y_true, y_pred):\n",
        "    return K.mean(y_pred)\n",
        "\n",
        "def fbeta_score(y_true, y_pred, beta=1):\n",
        "    '''Calculates the F score, the weighted harmonic mean of precision and recall.\n",
        "    This is useful for multi-label classification, where input samples can be\n",
        "    classified as sets of labels. By only using accuracy (precision) a model\n",
        "    would achieve a perfect score by simply assigning every class to every\n",
        "    input. In order to avoid this, a metric should penalize incorrect class\n",
        "    assignments as well (recall). The F-beta score (ranged from 0.0 to 1.0)\n",
        "    computes this, as a weighted mean of the proportion of correct class\n",
        "    assignments vs. the proportion of incorrect class assignments.\n",
        "    With beta = 1, this is equivalent to a F-measure. With beta < 1, assigning\n",
        "    correct classes becomes more important, and with beta > 1 the metric is\n",
        "    instead weighted towards penalizing incorrect class assignments.\n",
        "    '''\n",
        "    if beta < 0:\n",
        "        raise ValueError('The lowest choosable beta is zero (only precision).')\n",
        "        \n",
        "    # If there are no true positives, fix the F score at 0 like sklearn.\n",
        "    if K.sum(K.round(K.clip(y_true, 0, 1))) == 0:\n",
        "        return 0\n",
        "\n",
        "    p = precision(y_true, y_pred)\n",
        "    r = recall(y_true, y_pred)\n",
        "    bb = beta ** 2\n",
        "    fbeta_score = (1 + bb) * (p * r) / (bb * p + r + K.epsilon())\n",
        "    return fbeta_score\n",
        "\n",
        "def auroc(y_true, y_pred):\n",
        "    auc = tf.metrics.auc(y_true, y_pred)[1]\n",
        "    K.get_session().run(tf.local_variables_initializer())\n",
        "    return auc\n",
        "\n",
        "\n",
        "def fmeasure(y_true, y_pred):\n",
        "    '''Calculates the f-measure, the harmonic mean of precision and recall.\n",
        "    '''\n",
        "    return fbeta_score(y_true, y_pred, beta=1)\n",
        "\n",
        "\n",
        "fscore = f1score = fmeasure"
      ],
      "execution_count": 0,
      "outputs": []
    },
    {
      "cell_type": "markdown",
      "metadata": {
        "colab_type": "text",
        "id": "6lWFdG2uejgL"
      },
      "source": [
        "## USING PRE-TRAINED EMBEDDING (GLOVE)"
      ]
    },
    {
      "cell_type": "markdown",
      "metadata": {
        "colab_type": "text",
        "id": "BXJAQEogejgM"
      },
      "source": [
        "## A) \"Glove\" as a pre-trained Embedding"
      ]
    },
    {
      "cell_type": "markdown",
      "metadata": {
        "colab_type": "text",
        "id": "iSKIyBVbejgh"
      },
      "source": [
        "#### Prepare the pre-trained embedding layer"
      ]
    },
    {
      "cell_type": "markdown",
      "metadata": {
        "colab_type": "text",
        "id": "o2NVoopbejgj"
      },
      "source": [
        "Load glove embedding corpus"
      ]
    },
    {
      "cell_type": "code",
      "metadata": {
        "colab_type": "code",
        "id": "okYLw1HSejgk",
        "outputId": "b980733f-9c2c-4798-aa79-659a97bb641c",
        "colab": {
          "base_uri": "https://localhost:8080/",
          "height": 34
        }
      },
      "source": [
        "glove_file = open('D:/çankaya/2ndYEAR/Thesis/Experiments/Data_Toxic Comment Classification/glove.6B.100d.txt', encoding=\"utf8\")\n",
        "embeddings_index = dict()\n",
        "for line in glove_file:\n",
        "    val = line.split(' ')\n",
        "    word = val[0]\n",
        "    coefs = np.asarray(val[1:], dtype='float32')\n",
        "    embeddings_index[word] = coefs\n",
        "glove_file.close()\n",
        "\n",
        "print('Loaded %s word vectors.' % len(embeddings_index))"
      ],
      "execution_count": 0,
      "outputs": [
        {
          "output_type": "stream",
          "text": [
            "Loaded 400000 word vectors.\n"
          ],
          "name": "stdout"
        }
      ]
    },
    {
      "cell_type": "markdown",
      "metadata": {
        "colab_type": "text",
        "id": "OTAsNvo8ejgn"
      },
      "source": [
        "#### Prepare the embedding matrix vectors in order to feed/pass the neural network"
      ]
    },
    {
      "cell_type": "code",
      "metadata": {
        "colab_type": "code",
        "id": "GrtLyPSOejgo",
        "colab": {}
      },
      "source": [
        "# create a weight matrix\n",
        "embedding_matrix = np.zeros((len(tokenizer.word_index)+1, 100))\n",
        "\n",
        "for word, i in tokenizer.word_index.items():\n",
        "    embedding_vector = embeddings_index.get(word)\n",
        "    if embedding_vector is not None:\n",
        "        embedding_matrix[i] = embedding_vector"
      ],
      "execution_count": 0,
      "outputs": []
    },
    {
      "cell_type": "markdown",
      "metadata": {
        "colab_type": "text",
        "id": "esr3C21fejgr"
      },
      "source": [
        "## 1) Convolutional Neural Network (CNN) with Glove"
      ]
    },
    {
      "cell_type": "code",
      "metadata": {
        "colab_type": "code",
        "id": "-WAtTqG_ejgs",
        "colab": {}
      },
      "source": [
        "CNN_Glove_model = Sequential([\n",
        "    Embedding(input_dim =embedding_matrix.shape[0], input_length=max_len, output_dim=embedding_matrix.shape[1],weights=[embedding_matrix], trainable=False),\n",
        "    SpatialDropout1D(0.5),\n",
        "    # ... 100 filters with a kernel size of 4 so that each convolution will consider a window of 4 word embeddings\n",
        "    Conv1D(filters=100, kernel_size=4, padding='same', activation='relu'),\n",
        "    #**batch normalization layer** normalizes the activations of the previous layer at each batch, \n",
        "    #i.e. applies a transformation that maintains the mean activation close to 0 and the activation standard deviation close to 1. \n",
        "    #It will be added after the activation function between a convolutional and a max-pooling layer.\n",
        "    BatchNormalization(),\n",
        "    GlobalMaxPool1D(),\n",
        "    Dropout(0.5),\n",
        "    Dense(50, activation = 'relu'),\n",
        "    Dense(6, activation = 'sigmoid')\n",
        "])"
      ],
      "execution_count": 0,
      "outputs": []
    },
    {
      "cell_type": "code",
      "metadata": {
        "colab_type": "code",
        "id": "Ax47pBijejgv",
        "colab": {}
      },
      "source": [
        "CNN_Glove_model.compile(loss='binary_crossentropy', optimizer=Adam(0.01), metrics=['accuracy', mean_pred, fmeasure, precision, auroc, recall])"
      ],
      "execution_count": 0,
      "outputs": []
    },
    {
      "cell_type": "markdown",
      "metadata": {
        "colab_type": "text",
        "id": "5gNpZ61pejgz"
      },
      "source": [
        "### Visualize the Orchestrated CNN-Glove Model Architecture"
      ]
    },
    {
      "cell_type": "code",
      "metadata": {
        "colab_type": "code",
        "id": "-ZCm_OM4ejg0",
        "outputId": "3b350e72-0eb3-4a8a-a04f-8bfc80e4e688",
        "colab": {
          "base_uri": "https://localhost:8080/",
          "height": 408
        }
      },
      "source": [
        "CNN_Glove_model.summary()"
      ],
      "execution_count": 0,
      "outputs": [
        {
          "output_type": "stream",
          "text": [
            "_________________________________________________________________\n",
            "Layer (type)                 Output Shape              Param #   \n",
            "=================================================================\n",
            "embedding_2 (Embedding)      (None, 200, 100)          25761300  \n",
            "_________________________________________________________________\n",
            "spatial_dropout1d_2 (Spatial (None, 200, 100)          0         \n",
            "_________________________________________________________________\n",
            "conv1d_2 (Conv1D)            (None, 200, 100)          40100     \n",
            "_________________________________________________________________\n",
            "batch_normalization_2 (Batch (None, 200, 100)          400       \n",
            "_________________________________________________________________\n",
            "global_max_pooling1d_2 (Glob (None, 100)               0         \n",
            "_________________________________________________________________\n",
            "dropout_2 (Dropout)          (None, 100)               0         \n",
            "_________________________________________________________________\n",
            "dense_3 (Dense)              (None, 50)                5050      \n",
            "_________________________________________________________________\n",
            "dense_4 (Dense)              (None, 6)                 306       \n",
            "=================================================================\n",
            "Total params: 25,807,156\n",
            "Trainable params: 45,656\n",
            "Non-trainable params: 25,761,500\n",
            "_________________________________________________________________\n"
          ],
          "name": "stdout"
        }
      ]
    },
    {
      "cell_type": "code",
      "metadata": {
        "colab_type": "code",
        "id": "zvA_w6iZejg8",
        "colab": {}
      },
      "source": [
        "#plot the CNN_GLove model architecture\n",
        "\n",
        "#plot_model(CNN_Glove_model, to_file='CNN_Glove_model_plot.png', show_shapes=True, show_layer_names=True)\n",
        "#Image(retina=True, filename='CNN_Glove_model_plot.png')"
      ],
      "execution_count": 0,
      "outputs": []
    },
    {
      "cell_type": "code",
      "metadata": {
        "colab_type": "code",
        "id": "QHt7nKCVejhE",
        "outputId": "f2e15fd0-1d4c-47ac-8fe9-e19b79e138b5",
        "colab": {
          "base_uri": "https://localhost:8080/",
          "height": 564
        }
      },
      "source": [
        "CNN_Glove_model_fit = CNN_Glove_model.fit(X_tra, y_tra, batch_size=batch_size2, epochs=num_epochs, validation_data=(X_val, y_val), callbacks=[early])"
      ],
      "execution_count": 0,
      "outputs": [
        {
          "output_type": "stream",
          "text": [
            "WARNING:tensorflow:From D:\\Program Files\\Anaconda\\lib\\site-packages\\tensorflow\\python\\ops\\math_ops.py:3066: to_int32 (from tensorflow.python.ops.math_ops) is deprecated and will be removed in a future version.\n",
            "Instructions for updating:\n",
            "Use tf.cast instead.\n",
            "Train on 143613 samples, validate on 15958 samples\n",
            "Epoch 1/15\n",
            "143613/143613 [==============================] - 168s 1ms/step - loss: 0.1218 - acc: 0.9671 - mean_pred: 0.0388 - fmeasure: 0.3965 - precision: 0.6490 - auroc: 0.8173 - recall: 0.3021 - val_loss: 0.0740 - val_acc: 0.9758 - val_mean_pred: 0.0399 - val_fmeasure: 0.5443 - val_precision: 0.8709 - val_auroc: 0.8851 - val_recall: 0.4021\n",
            "Epoch 2/15\n",
            "143613/143613 [==============================] - 168s 1ms/step - loss: 0.0831 - acc: 0.9727 - mean_pred: 0.0370 - fmeasure: 0.5079 - precision: 0.7467 - auroc: 0.9024 - recall: 0.3997 - val_loss: 0.0653 - val_acc: 0.9777 - val_mean_pred: 0.0352 - val_fmeasure: 0.6135 - val_precision: 0.8372 - val_auroc: 0.9141 - val_recall: 0.4887\n",
            "Epoch 3/15\n",
            "143613/143613 [==============================] - 172s 1ms/step - loss: 0.0779 - acc: 0.9740 - mean_pred: 0.0368 - fmeasure: 0.5390 - precision: 0.7584 - auroc: 0.9213 - recall: 0.4315 - val_loss: 0.0634 - val_acc: 0.9785 - val_mean_pred: 0.0374 - val_fmeasure: 0.6390 - val_precision: 0.8294 - val_auroc: 0.9264 - val_recall: 0.5247\n",
            "Epoch 4/15\n",
            "143613/143613 [==============================] - 169s 1ms/step - loss: 0.0751 - acc: 0.9746 - mean_pred: 0.0368 - fmeasure: 0.5612 - precision: 0.7613 - auroc: 0.9303 - recall: 0.4570 - val_loss: 0.0604 - val_acc: 0.9784 - val_mean_pred: 0.0328 - val_fmeasure: 0.6246 - val_precision: 0.8561 - val_auroc: 0.9335 - val_recall: 0.4962\n",
            "Epoch 5/15\n",
            "143613/143613 [==============================] - 171s 1ms/step - loss: 0.0728 - acc: 0.9750 - mean_pred: 0.0367 - fmeasure: 0.5690 - precision: 0.7648 - auroc: 0.9362 - recall: 0.4654 - val_loss: 0.0596 - val_acc: 0.9787 - val_mean_pred: 0.0350 - val_fmeasure: 0.6355 - val_precision: 0.8466 - val_auroc: 0.9385 - val_recall: 0.5132\n",
            "Epoch 6/15\n",
            "143613/143613 [==============================] - 170s 1ms/step - loss: 0.0709 - acc: 0.9757 - mean_pred: 0.0365 - fmeasure: 0.5832 - precision: 0.7715 - auroc: 0.9405 - recall: 0.4794 - val_loss: 0.0583 - val_acc: 0.9790 - val_mean_pred: 0.0379 - val_fmeasure: 0.6578 - val_precision: 0.8218 - val_auroc: 0.9422 - val_recall: 0.5539\n",
            "Epoch 7/15\n",
            "143613/143613 [==============================] - 171s 1ms/step - loss: 0.0701 - acc: 0.9759 - mean_pred: 0.0366 - fmeasure: 0.5926 - precision: 0.7722 - auroc: 0.9436 - recall: 0.4906 - val_loss: 0.0571 - val_acc: 0.9795 - val_mean_pred: 0.0363 - val_fmeasure: 0.6656 - val_precision: 0.8193 - val_auroc: 0.9450 - val_recall: 0.5642\n",
            "Epoch 8/15\n",
            "143613/143613 [==============================] - 171s 1ms/step - loss: 0.0699 - acc: 0.9760 - mean_pred: 0.0367 - fmeasure: 0.5909 - precision: 0.7726 - auroc: 0.9461 - recall: 0.4894 - val_loss: 0.0574 - val_acc: 0.9792 - val_mean_pred: 0.0344 - val_fmeasure: 0.6507 - val_precision: 0.8438 - val_auroc: 0.9470 - val_recall: 0.5344\n",
            "Epoch 9/15\n",
            "143613/143613 [==============================] - 171s 1ms/step - loss: 0.0695 - acc: 0.9762 - mean_pred: 0.0366 - fmeasure: 0.5940 - precision: 0.7772 - auroc: 0.9478 - recall: 0.4918 - val_loss: 0.0568 - val_acc: 0.9799 - val_mean_pred: 0.0355 - val_fmeasure: 0.6719 - val_precision: 0.8297 - val_auroc: 0.9486 - val_recall: 0.5679\n",
            "Epoch 10/15\n",
            "143613/143613 [==============================] - 173s 1ms/step - loss: 0.0688 - acc: 0.9762 - mean_pred: 0.0366 - fmeasure: 0.6005 - precision: 0.7699 - auroc: 0.9494 - recall: 0.5027 - val_loss: 0.0571 - val_acc: 0.9791 - val_mean_pred: 0.0309 - val_fmeasure: 0.6403 - val_precision: 0.8594 - val_auroc: 0.9501 - val_recall: 0.5140\n",
            "Epoch 11/15\n",
            "143613/143613 [==============================] - 173s 1ms/step - loss: 0.0685 - acc: 0.9763 - mean_pred: 0.0365 - fmeasure: 0.5973 - precision: 0.7722 - auroc: 0.9507 - recall: 0.4978 - val_loss: 0.0573 - val_acc: 0.9793 - val_mean_pred: 0.0323 - val_fmeasure: 0.6449 - val_precision: 0.8650 - val_auroc: 0.9512 - val_recall: 0.5188\n",
            "Epoch 12/15\n",
            "143613/143613 [==============================] - 173s 1ms/step - loss: 0.0684 - acc: 0.9763 - mean_pred: 0.0367 - fmeasure: 0.6003 - precision: 0.7704 - auroc: 0.9518 - recall: 0.5016 - val_loss: 0.0589 - val_acc: 0.9787 - val_mean_pred: 0.0279 - val_fmeasure: 0.6237 - val_precision: 0.8827 - val_auroc: 0.9522 - val_recall: 0.4874\n",
            "Epoch 13/15\n",
            "143613/143613 [==============================] - 173s 1ms/step - loss: 0.0682 - acc: 0.9763 - mean_pred: 0.0366 - fmeasure: 0.6012 - precision: 0.7740 - auroc: 0.9527 - recall: 0.5016 - val_loss: 0.0554 - val_acc: 0.9798 - val_mean_pred: 0.0332 - val_fmeasure: 0.6628 - val_precision: 0.8479 - val_auroc: 0.9531 - val_recall: 0.5482\n",
            "Epoch 14/15\n",
            "143613/143613 [==============================] - 174s 1ms/step - loss: 0.0681 - acc: 0.9762 - mean_pred: 0.0366 - fmeasure: 0.6006 - precision: 0.7685 - auroc: 0.9535 - recall: 0.5026 - val_loss: 0.0600 - val_acc: 0.9796 - val_mean_pred: 0.0463 - val_fmeasure: 0.6863 - val_precision: 0.7826 - val_auroc: 0.9538 - val_recall: 0.6150\n",
            "Epoch 15/15\n",
            "143613/143613 [==============================] - 172s 1ms/step - loss: 0.0672 - acc: 0.9766 - mean_pred: 0.0367 - fmeasure: 0.6080 - precision: 0.7757 - auroc: 0.9542 - recall: 0.5103 - val_loss: 0.0568 - val_acc: 0.9792 - val_mean_pred: 0.0316 - val_fmeasure: 0.6412 - val_precision: 0.8652 - val_auroc: 0.9545 - val_recall: 0.5141\n"
          ],
          "name": "stdout"
        }
      ]
    },
    {
      "cell_type": "markdown",
      "metadata": {
        "colab_type": "text",
        "id": "shJIVGXhejhQ"
      },
      "source": [
        "### Evaluate the CNN+Glove Model accuracy of our trained model"
      ]
    },
    {
      "cell_type": "code",
      "metadata": {
        "colab_type": "code",
        "id": "bByseHEkejhQ",
        "colab": {},
        "outputId": "9ecfe464-a1b3-4a70-e5cc-533c518dea55"
      },
      "source": [
        "CNN_Glove_train_score = CNN_Glove_model.evaluate(X_train, y_train, batch_size=batch_size2, verbose=1)\n",
        "print('Train Loss:', CNN_Glove_train_score[0])\n",
        "print('Train Accuracy:', CNN_Glove_train_score[1])"
      ],
      "execution_count": 0,
      "outputs": [
        {
          "output_type": "stream",
          "text": [
            ""
          ],
          "name": "stdout"
        },
        {
          "output_type": "stream",
          "text": [
            "159571/159571 [==============================] - 82s 513us/step\n",
            "Train Loss: 0.053541235291188885\n",
            "Train Accuracy: 0.9801530403873068\n"
          ],
          "name": "stdout"
        }
      ]
    },
    {
      "cell_type": "markdown",
      "metadata": {
        "colab_type": "text",
        "id": "dnD4FG1ZejhX"
      },
      "source": [
        "### Evaluate the CNN+Glove accuracy base our test samples"
      ]
    },
    {
      "cell_type": "code",
      "metadata": {
        "colab_type": "code",
        "id": "TTM0ur18ejhZ",
        "colab": {},
        "outputId": "191ded63-662c-42d1-af05-1b7e570f2c8e"
      },
      "source": [
        "CNN_Glove_test_score = CNN_Glove_model.evaluate(X_test, y_test, batch_size=batch_size2, verbose=1)\n",
        "print('Test Loss:', CNN_Glove_test_score[0])\n",
        "print('Test Accuracy:', CNN_Glove_test_score[1])"
      ],
      "execution_count": 0,
      "outputs": [
        {
          "output_type": "stream",
          "text": [
            ""
          ],
          "name": "stdout"
        },
        {
          "output_type": "stream",
          "text": [
            "63930/63930 [==============================] - 32s 504us/step\n",
            "Test Loss: 0.07032455654036042\n",
            "Test Accuracy: 0.9727436331671093\n"
          ],
          "name": "stdout"
        }
      ]
    },
    {
      "cell_type": "code",
      "metadata": {
        "colab_type": "code",
        "id": "ATrgpBBTejhf",
        "colab": {},
        "outputId": "7f5bc740-6a8c-4de4-ee61-6e664520b904"
      },
      "source": [
        "#Predicting......\n",
        "print('Predicting....')\n",
        "y_pred = CNN_Glove_model.predict(X_test,batch_size=batch_size2,verbose=1)"
      ],
      "execution_count": 0,
      "outputs": [
        {
          "output_type": "stream",
          "text": [
            "Predicting....\n",
            "63930/63930 [==============================] - 32s 506us/step\n"
          ],
          "name": "stdout"
        }
      ]
    },
    {
      "cell_type": "markdown",
      "metadata": {
        "colab_type": "text",
        "id": "uwuQDaeIejhp"
      },
      "source": [
        "### Plot Training & Validation Accuracy with the Loss values of the CNN-Glove Model"
      ]
    },
    {
      "cell_type": "code",
      "metadata": {
        "colab_type": "code",
        "id": "GcQfB3rIejhq",
        "colab": {},
        "outputId": "ea3769ea-376e-467c-ec5c-aade2843cf3a"
      },
      "source": [
        "# Plot training & validation accuracy values\n",
        "plt.plot(CNN_Glove_model_fit.history['acc'])\n",
        "plt.plot(CNN_Glove_model_fit.history['val_acc'])\n",
        "plt.title('CNN-Glove Model accuracy')\n",
        "plt.ylabel('Accuracy')\n",
        "plt.xlabel('Epoch')\n",
        "plt.legend(['Training Accuracy', 'Validation Accuracy'], loc='upper left')\n",
        "plt.show()\n",
        "\n",
        "# Plot training & validation loss values\n",
        "plt.plot(CNN_Glove_model_fit.history['loss'])\n",
        "plt.plot(CNN_Glove_model_fit.history['val_loss'])\n",
        "plt.title('CNN-Glove Model loss')\n",
        "plt.ylabel('Loss')\n",
        "plt.xlabel('Epoch')\n",
        "plt.legend(['Training Loss', 'Validation Loss'], loc='lower right')\n",
        "plt.show()"
      ],
      "execution_count": 0,
      "outputs": [
        {
          "output_type": "display_data",
          "data": {
            "image/png": "[encoded data removed]",
            "text/plain": [
              "<Figure size 576x396 with 1 Axes>"
            ]
          },
          "metadata": {
            "tags": []
          }
        },
        {
          "output_type": "display_data",
          "data": {
            "image/png": "[encoded data removed]",
            "text/plain": [
              "<Figure size 576x396 with 1 Axes>"
            ]
          },
          "metadata": {
            "tags": []
          }
        }
      ]
    },
    {
      "cell_type": "markdown",
      "metadata": {
        "colab_type": "text",
        "id": "VH5poTW6ejhv"
      },
      "source": [
        "## 2) Recurrent Neural Network (RNN) with Glove"
      ]
    },
    {
      "cell_type": "code",
      "metadata": {
        "colab_type": "code",
        "id": "j-i4BwjTejhv",
        "colab": {}
      },
      "source": [
        "RNN_Glove_model = Sequential([\n",
        "    Embedding(input_dim =embedding_matrix.shape[0], input_length=max_len, output_dim=embedding_matrix.shape[1],weights=[embedding_matrix], trainable=False),\n",
        "    SpatialDropout1D(0.5),\n",
        "    #Fully-connected RNN where the output is to be fed back to input.\n",
        "    SimpleRNN(25, return_sequences=True),\n",
        "    #**batch normalization layer** normalizes the activations of the previous layer at each batch, \n",
        "    #i.e. applies a transformation that maintains the mean activation close to 0 and the activation standard deviation close to 1. \n",
        "    BatchNormalization(),\n",
        "    Dropout(0.5),\n",
        "    GlobalMaxPool1D(),\n",
        "    Dense(50, activation = 'relu'),\n",
        "    Dense(6, activation = 'sigmoid')\n",
        "])"
      ],
      "execution_count": 0,
      "outputs": []
    },
    {
      "cell_type": "code",
      "metadata": {
        "colab_type": "code",
        "id": "MdHhejTiejiG",
        "colab": {}
      },
      "source": [
        "#Customized the evaluation to analyse the model in terms of accuracy and mean value accuracy\n",
        "def mean_pred(y_true, y_pred):\n",
        "    return K.mean(y_pred)\n",
        "\n",
        "RNN_Glove_model.compile(loss='binary_crossentropy', optimizer=Adam(0.01), metrics=['accuracy', mean_pred, fmeasure, precision, auroc, recall])"
      ],
      "execution_count": 0,
      "outputs": []
    },
    {
      "cell_type": "markdown",
      "metadata": {
        "colab_type": "text",
        "id": "ceJvCqIJejiR"
      },
      "source": [
        "### Visualize the Orchestrated RNN-Glove MODEL Architecture"
      ]
    },
    {
      "cell_type": "code",
      "metadata": {
        "colab_type": "code",
        "id": "JbUgJkaCejiS",
        "colab": {},
        "outputId": "a39e3b5f-7135-4903-ef52-2e7c427390a2"
      },
      "source": [
        "RNN_Glove_model.summary()"
      ],
      "execution_count": 0,
      "outputs": [
        {
          "output_type": "stream",
          "text": [
            "_________________________________________________________________\n",
            "Layer (type)                 Output Shape              Param #   \n",
            "=================================================================\n",
            "embedding_3 (Embedding)      (None, 200, 100)          25761300  \n",
            "_________________________________________________________________\n",
            "spatial_dropout1d_3 (Spatial (None, 200, 100)          0         \n",
            "_________________________________________________________________\n",
            "simple_rnn_1 (SimpleRNN)     (None, 200, 25)           3150      \n",
            "_________________________________________________________________\n",
            "batch_normalization_3 (Batch (None, 200, 25)           100       \n",
            "_________________________________________________________________\n",
            "dropout_3 (Dropout)          (None, 200, 25)           0         \n",
            "_________________________________________________________________\n",
            "global_max_pooling1d_3 (Glob (None, 25)                0         \n",
            "_________________________________________________________________\n",
            "dense_5 (Dense)              (None, 50)                1300      \n",
            "_________________________________________________________________\n",
            "dense_6 (Dense)              (None, 6)                 306       \n",
            "=================================================================\n",
            "Total params: 25,766,156\n",
            "Trainable params: 4,806\n",
            "Non-trainable params: 25,761,350\n",
            "_________________________________________________________________\n"
          ],
          "name": "stdout"
        }
      ]
    },
    {
      "cell_type": "code",
      "metadata": {
        "colab_type": "code",
        "id": "Eon8HZtDejiV",
        "colab": {}
      },
      "source": [
        "#plot the RNN_GLove model architecture\n",
        "\n",
        "#plot_model(RNN_Glove_model, to_file='RNN_Glove_model_plot.png', show_shapes=True, show_layer_names=True)\n",
        "#mage(retina=True, filename='RNN_Glove_model_plot.png')"
      ],
      "execution_count": 0,
      "outputs": []
    },
    {
      "cell_type": "code",
      "metadata": {
        "colab_type": "code",
        "id": "u1NlZQUoejib",
        "colab": {},
        "outputId": "e40e89c9-583a-44c2-a2ec-b663de44dea4"
      },
      "source": [
        "RNN_Glove_model_fit = RNN_Glove_model.fit(X_tra, y_tra, batch_size=batch_size2, epochs=num_epochs, validation_data=(X_val, y_val), callbacks=[early])"
      ],
      "execution_count": 0,
      "outputs": [
        {
          "output_type": "stream",
          "text": [
            "Train on 143613 samples, validate on 15958 samples\n",
            "Epoch 1/15\n",
            "143613/143613 [==============================] - 63s 437us/step - loss: 0.1078 - acc: 0.9666 - mean_pred: 0.0379 - fmeasure: 0.3042 - precision: 0.5783 - auroc: 0.8393 - recall: 0.2260 - val_loss: 0.1085 - val_acc: 0.9721 - val_mean_pred: 0.0740 - val_fmeasure: 0.4185 - val_precision: 0.9031 - val_auroc: 0.8944 - val_recall: 0.2776\n",
            "Epoch 2/15\n",
            "143613/143613 [==============================] - 60s 418us/step - loss: 0.0860 - acc: 0.9717 - mean_pred: 0.0368 - fmeasure: 0.4679 - precision: 0.7491 - auroc: 0.9061 - recall: 0.3563 - val_loss: 0.1182 - val_acc: 0.9681 - val_mean_pred: 0.0823 - val_fmeasure: 0.2572 - val_precision: 0.9665 - val_auroc: 0.9137 - val_recall: 0.1506\n",
            "Epoch 3/15\n",
            "143613/143613 [==============================] - 61s 422us/step - loss: 0.0841 - acc: 0.9722 - mean_pred: 0.0365 - fmeasure: 0.4871 - precision: 0.7490 - auroc: 0.9175 - recall: 0.3757 - val_loss: 0.0867 - val_acc: 0.9744 - val_mean_pred: 0.0543 - val_fmeasure: 0.5104 - val_precision: 0.8511 - val_auroc: 0.9213 - val_recall: 0.3695\n",
            "Epoch 4/15\n",
            "143613/143613 [==============================] - 60s 416us/step - loss: 0.0823 - acc: 0.9728 - mean_pred: 0.0366 - fmeasure: 0.5020 - precision: 0.7524 - auroc: 0.9239 - recall: 0.3885 - val_loss: 0.1054 - val_acc: 0.9762 - val_mean_pred: 0.0784 - val_fmeasure: 0.5829 - val_precision: 0.8283 - val_auroc: 0.9259 - val_recall: 0.4544\n",
            "Epoch 5/15\n",
            "143613/143613 [==============================] - 60s 420us/step - loss: 0.0823 - acc: 0.9723 - mean_pred: 0.0366 - fmeasure: 0.5050 - precision: 0.7222 - auroc: 0.9272 - recall: 0.3998 - val_loss: 0.0981 - val_acc: 0.9754 - val_mean_pred: 0.0673 - val_fmeasure: 0.5411 - val_precision: 0.8582 - val_auroc: 0.9285 - val_recall: 0.4004\n",
            "Epoch 6/15\n",
            "143613/143613 [==============================] - 60s 420us/step - loss: 0.0812 - acc: 0.9731 - mean_pred: 0.0366 - fmeasure: 0.5238 - precision: 0.7418 - auroc: 0.9294 - recall: 0.4144 - val_loss: 0.0907 - val_acc: 0.9769 - val_mean_pred: 0.0664 - val_fmeasure: 0.6067 - val_precision: 0.8116 - val_auroc: 0.9303 - val_recall: 0.4890\n",
            "Epoch 7/15\n",
            "143613/143613 [==============================] - 61s 422us/step - loss: 0.0809 - acc: 0.9731 - mean_pred: 0.0365 - fmeasure: 0.5209 - precision: 0.7428 - auroc: 0.9311 - recall: 0.4110 - val_loss: 0.0906 - val_acc: 0.9772 - val_mean_pred: 0.0650 - val_fmeasure: 0.6098 - val_precision: 0.8238 - val_auroc: 0.9318 - val_recall: 0.4892\n"
          ],
          "name": "stdout"
        }
      ]
    },
    {
      "cell_type": "markdown",
      "metadata": {
        "colab_type": "text",
        "id": "78TSAA6Yejik"
      },
      "source": [
        "### Evaluate the RNN-Glove Model accuracy of our trained model"
      ]
    },
    {
      "cell_type": "code",
      "metadata": {
        "colab_type": "code",
        "id": "YnRgQoyXejil",
        "colab": {},
        "outputId": "7bca9228-0923-4c3a-de86-f78bc17c5740"
      },
      "source": [
        "RNN_Glove_train_score = RNN_Glove_model.evaluate(X_train, y_train, batch_size = batch_size2, verbose = 1)\n",
        "print('Train loss:', RNN_Glove_train_score[0])\n",
        "print('Train accuracy:', RNN_Glove_train_score[1])"
      ],
      "execution_count": 0,
      "outputs": [
        {
          "output_type": "stream",
          "text": [
            ""
          ],
          "name": "stdout"
        },
        {
          "output_type": "stream",
          "text": [
            "159571/159571 [==============================] - 30s 189us/step\n",
            "Train loss: 0.08856856943179002\n",
            "Train accuracy: 0.9777643438741356\n"
          ],
          "name": "stdout"
        }
      ]
    },
    {
      "cell_type": "markdown",
      "metadata": {
        "colab_type": "text",
        "id": "niE14vnrejim"
      },
      "source": [
        "### Evaluate the RNN-Glove accuracy base our test samples"
      ]
    },
    {
      "cell_type": "code",
      "metadata": {
        "colab_type": "code",
        "id": "Cc5KDayqejin",
        "colab": {},
        "outputId": "1bdcc3f3-0f5a-4738-a8f4-961979ee5d39"
      },
      "source": [
        "RNN_Glove_test_score = RNN_Glove_model.evaluate(X_test, y_test, batch_size = batch_size2, verbose = 1)\n",
        "print('Test loss:', RNN_Glove_test_score[0])\n",
        "print('Test accuracy:', RNN_Glove_test_score[1])"
      ],
      "execution_count": 0,
      "outputs": [
        {
          "output_type": "stream",
          "text": [
            ""
          ],
          "name": "stdout"
        },
        {
          "output_type": "stream",
          "text": [
            "63930/63930 [==============================] - 12s 186us/step\n",
            "Test loss: 0.10938522832300039\n",
            "Test accuracy: 0.9692085198648991\n"
          ],
          "name": "stdout"
        }
      ]
    },
    {
      "cell_type": "markdown",
      "metadata": {
        "colab_type": "text",
        "id": "D71PCeroejio"
      },
      "source": [
        "### Plot Training & Validation Accuracy with the Loss values of the RNN-Glove Model"
      ]
    },
    {
      "cell_type": "code",
      "metadata": {
        "colab_type": "code",
        "id": "UUEbY28nejio",
        "colab": {},
        "outputId": "ecade255-3335-4f86-f0ad-5e218f7c6b6f"
      },
      "source": [
        "# Plot training & validation accuracy values\n",
        "plt.plot(RNN_Glove_model_fit.history['acc'])\n",
        "plt.plot(RNN_Glove_model_fit.history['val_acc'])\n",
        "plt.title('RNN-Glove Model accuracy')\n",
        "plt.ylabel('Accuracy')\n",
        "plt.xlabel('Epoch')\n",
        "plt.legend(['Training Accuracy', 'Validation Accuracy'], loc='upper left')\n",
        "plt.show()\n",
        "\n",
        "# Plot training & validation loss values\n",
        "plt.plot(RNN_Glove_model_fit.history['loss'])\n",
        "plt.plot(RNN_Glove_model_fit.history['val_loss'])\n",
        "plt.title('RNN-Glove Model loss')\n",
        "plt.ylabel('Loss')\n",
        "plt.xlabel('Epoch')\n",
        "plt.legend(['Training Loss', 'Validation Loss'], loc='lower right')\n",
        "plt.show()"
      ],
      "execution_count": 0,
      "outputs": [
        {
          "output_type": "display_data",
          "data": {
            "image/png": "[encoded data removed]",
            "text/plain": [
              "<Figure size 576x396 with 1 Axes>"
            ]
          },
          "metadata": {
            "tags": []
          }
        },
        {
          "output_type": "display_data",
          "data": {
            "image/png": "[encoded data removed]",
            "text/plain": [
              "<Figure size 576x396 with 1 Axes>"
            ]
          },
          "metadata": {
            "tags": []
          }
        }
      ]
    },
    {
      "cell_type": "markdown",
      "metadata": {
        "colab_type": "text",
        "id": "BVm2fQ_9S5Jj"
      },
      "source": [
        "## 3) LSTM with Glove"
      ]
    },
    {
      "cell_type": "code",
      "metadata": {
        "colab_type": "code",
        "id": "0bDX39ZtThFh",
        "colab": {}
      },
      "source": [
        "LSTM_Glove_model = Sequential([\n",
        "    Embedding(input_dim =embedding_matrix.shape[0], input_length=max_len, output_dim=embedding_matrix.shape[1],weights=[embedding_matrix], trainable=False),\n",
        "    SpatialDropout1D(0.5),\n",
        "    #Bidirectional layer will enable our model to predict a missing word in a sequence, \n",
        "    #So, using this feature will enable the model to look at the context on both the left and the right.\n",
        "    LSTM(25, return_sequences=True),\n",
        "    #**batch normalization layer** normalizes the activations of the previous layer at each batch, \n",
        "    #i.e. applies a transformation that maintains the mean activation close to 0 and the activation standard deviation close to 1. \n",
        "    BatchNormalization(),\n",
        "    Dropout(0.5),\n",
        "    GlobalMaxPool1D(),\n",
        "    Dense(50, activation = 'relu'),\n",
        "    Dense(6, activation = 'sigmoid')\n",
        "])\n",
        "\n",
        "LSTM_Glove_model.compile(loss='binary_crossentropy', optimizer=Adam(0.01), metrics=['accuracy', mean_pred, fmeasure, precision, auroc, recall])"
      ],
      "execution_count": 0,
      "outputs": []
    },
    {
      "cell_type": "markdown",
      "metadata": {
        "colab_type": "text",
        "id": "3FjZ-2C0T8zr"
      },
      "source": [
        "### Visualize the Orchestrated LSTM-Glove Model Architecture"
      ]
    },
    {
      "cell_type": "code",
      "metadata": {
        "colab_type": "code",
        "id": "C1AnaLocT-kb",
        "colab": {},
        "outputId": "524145d7-adeb-4bd4-f4c2-0b1d67ae543c"
      },
      "source": [
        "LSTM_Glove_model.summary()\n",
        "#plot the CNN_GLove model architecture\n",
        "\n",
        "#plot_model(LSTM_Glove_model, to_file='LSTM_Glove_model_plot.png', show_shapes=True, show_layer_names=True)\n",
        "#Image(retina=True, filename='LSTM_Glove_model_plot.png')"
      ],
      "execution_count": 0,
      "outputs": [
        {
          "output_type": "stream",
          "text": [
            "_________________________________________________________________\n",
            "Layer (type)                 Output Shape              Param #   \n",
            "=================================================================\n",
            "embedding_4 (Embedding)      (None, 200, 100)          25761300  \n",
            "_________________________________________________________________\n",
            "spatial_dropout1d_4 (Spatial (None, 200, 100)          0         \n",
            "_________________________________________________________________\n",
            "lstm_1 (LSTM)                (None, 200, 25)           12600     \n",
            "_________________________________________________________________\n",
            "batch_normalization_4 (Batch (None, 200, 25)           100       \n",
            "_________________________________________________________________\n",
            "dropout_4 (Dropout)          (None, 200, 25)           0         \n",
            "_________________________________________________________________\n",
            "global_max_pooling1d_4 (Glob (None, 25)                0         \n",
            "_________________________________________________________________\n",
            "dense_7 (Dense)              (None, 50)                1300      \n",
            "_________________________________________________________________\n",
            "dense_8 (Dense)              (None, 6)                 306       \n",
            "=================================================================\n",
            "Total params: 25,775,606\n",
            "Trainable params: 14,256\n",
            "Non-trainable params: 25,761,350\n",
            "_________________________________________________________________\n"
          ],
          "name": "stdout"
        }
      ]
    },
    {
      "cell_type": "code",
      "metadata": {
        "colab_type": "code",
        "id": "xGd47f1JUKWz",
        "colab": {},
        "outputId": "af3c4248-7c23-4313-b2c7-8fd52cfc34fd"
      },
      "source": [
        "LSTM_Glove_model_fit = LSTM_Glove_model.fit(X_tra, y_tra, batch_size=batch_size2, epochs=num_epochs, validation_data=(X_val, y_val), callbacks=[early])"
      ],
      "execution_count": 0,
      "outputs": [
        {
          "output_type": "stream",
          "text": [
            "Train on 143613 samples, validate on 15958 samples\n",
            "Epoch 1/15\n",
            "143613/143613 [==============================] - 140s 971us/step - loss: 0.0892 - acc: 0.9713 - mean_pred: 0.0382 - fmeasure: 0.4956 - precision: 0.7303 - auroc: 0.8912 - recall: 0.3913 - val_loss: 0.0798 - val_acc: 0.9761 - val_mean_pred: 0.0504 - val_fmeasure: 0.5502 - val_precision: 0.9010 - val_auroc: 0.9324 - val_recall: 0.4012\n",
            "Epoch 2/15\n",
            "143613/143613 [==============================] - 134s 930us/step - loss: 0.0730 - acc: 0.9752 - mean_pred: 0.0367 - fmeasure: 0.5691 - precision: 0.7643 - auroc: 0.9388 - recall: 0.4632 - val_loss: 0.0798 - val_acc: 0.9785 - val_mean_pred: 0.0606 - val_fmeasure: 0.6408 - val_precision: 0.8283 - val_auroc: 0.9437 - val_recall: 0.5260\n",
            "Epoch 3/15\n",
            "143613/143613 [==============================] - 131s 915us/step - loss: 0.0704 - acc: 0.9758 - mean_pred: 0.0367 - fmeasure: 0.5905 - precision: 0.7715 - auroc: 0.9461 - recall: 0.4888 - val_loss: 0.0736 - val_acc: 0.9783 - val_mean_pred: 0.0535 - val_fmeasure: 0.6207 - val_precision: 0.8664 - val_auroc: 0.9484 - val_recall: 0.4876\n",
            "Epoch 4/15\n",
            "143613/143613 [==============================] - 130s 905us/step - loss: 0.0693 - acc: 0.9762 - mean_pred: 0.0367 - fmeasure: 0.5975 - precision: 0.7717 - auroc: 0.9500 - recall: 0.4959 - val_loss: 0.0893 - val_acc: 0.9794 - val_mean_pred: 0.0751 - val_fmeasure: 0.6717 - val_precision: 0.8113 - val_auroc: 0.9508 - val_recall: 0.5763\n",
            "Epoch 5/15\n",
            "143613/143613 [==============================] - 129s 901us/step - loss: 0.0679 - acc: 0.9763 - mean_pred: 0.0366 - fmeasure: 0.5997 - precision: 0.7746 - auroc: 0.9516 - recall: 0.4977 - val_loss: 0.0861 - val_acc: 0.9784 - val_mean_pred: 0.0741 - val_fmeasure: 0.6834 - val_precision: 0.7411 - val_auroc: 0.9524 - val_recall: 0.6374\n",
            "Epoch 6/15\n",
            "143613/143613 [==============================] - 129s 897us/step - loss: 0.0677 - acc: 0.9764 - mean_pred: 0.0366 - fmeasure: 0.6018 - precision: 0.7762 - auroc: 0.9530 - recall: 0.5008 - val_loss: 0.0810 - val_acc: 0.9791 - val_mean_pred: 0.0681 - val_fmeasure: 0.6807 - val_precision: 0.7745 - val_auroc: 0.9536 - val_recall: 0.6101\n",
            "Epoch 7/15\n",
            "143613/143613 [==============================] - 130s 904us/step - loss: 0.0673 - acc: 0.9767 - mean_pred: 0.0367 - fmeasure: 0.6067 - precision: 0.7819 - auroc: 0.9541 - recall: 0.5052 - val_loss: 0.0702 - val_acc: 0.9796 - val_mean_pred: 0.0557 - val_fmeasure: 0.6885 - val_precision: 0.7841 - val_auroc: 0.9547 - val_recall: 0.6170\n",
            "Epoch 8/15\n",
            "143613/143613 [==============================] - 130s 902us/step - loss: 0.0668 - acc: 0.9768 - mean_pred: 0.0367 - fmeasure: 0.6118 - precision: 0.7799 - auroc: 0.9551 - recall: 0.5125 - val_loss: 0.0743 - val_acc: 0.9794 - val_mean_pred: 0.0619 - val_fmeasure: 0.6833 - val_precision: 0.7835 - val_auroc: 0.9556 - val_recall: 0.6085\n",
            "Epoch 9/15\n",
            "143613/143613 [==============================] - 128s 894us/step - loss: 0.0669 - acc: 0.9767 - mean_pred: 0.0366 - fmeasure: 0.6059 - precision: 0.7844 - auroc: 0.9559 - recall: 0.5024 - val_loss: 0.0644 - val_acc: 0.9799 - val_mean_pred: 0.0498 - val_fmeasure: 0.6796 - val_precision: 0.8128 - val_auroc: 0.9563 - val_recall: 0.5870\n",
            "Epoch 10/15\n",
            "143613/143613 [==============================] - 128s 889us/step - loss: 0.0665 - acc: 0.9769 - mean_pred: 0.0368 - fmeasure: 0.6123 - precision: 0.7820 - auroc: 0.9567 - recall: 0.5109 - val_loss: 0.0700 - val_acc: 0.9796 - val_mean_pred: 0.0546 - val_fmeasure: 0.6792 - val_precision: 0.8088 - val_auroc: 0.9570 - val_recall: 0.5888\n",
            "Epoch 11/15\n",
            "143613/143613 [==============================] - 127s 886us/step - loss: 0.0676 - acc: 0.9766 - mean_pred: 0.0366 - fmeasure: 0.6071 - precision: 0.7805 - auroc: 0.9572 - recall: 0.5059 - val_loss: 0.0683 - val_acc: 0.9796 - val_mean_pred: 0.0506 - val_fmeasure: 0.6686 - val_precision: 0.8295 - val_auroc: 0.9574 - val_recall: 0.5630\n",
            "Epoch 12/15\n",
            "143613/143613 [==============================] - 128s 888us/step - loss: 0.0670 - acc: 0.9767 - mean_pred: 0.0367 - fmeasure: 0.6057 - precision: 0.7826 - auroc: 0.9576 - recall: 0.5023 - val_loss: 0.0633 - val_acc: 0.9790 - val_mean_pred: 0.0448 - val_fmeasure: 0.6548 - val_precision: 0.8312 - val_auroc: 0.9578 - val_recall: 0.5439\n",
            "Epoch 13/15\n",
            " 95488/143613 [==================>...........]"
          ],
          "name": "stdout"
        }
      ]
    },
    {
      "cell_type": "markdown",
      "metadata": {
        "colab_type": "text",
        "id": "iV9YwFdvUZq0"
      },
      "source": [
        "### Evaluate the LSTM+Glove train and test score"
      ]
    },
    {
      "cell_type": "code",
      "metadata": {
        "colab_type": "code",
        "id": "XwjLfexEUaVM",
        "colab": {}
      },
      "source": [
        "#train\n",
        "LSTM_Glove_train_score = LSTM_Glove_model.evaluate(X_tra, y_tra, batch_size=batch_size2, verbose=1)\n",
        "print('Train Loss:', LSTM_Glove_train_score[0])\n",
        "print('Train Accuracy:', LSTM_Glove_train_score[1])\n",
        "\n",
        "#test\n",
        "LSTM_Glove_test_score = LSTM_Glove_model.evaluate(X_test, y_test, batch_size=batch_size2, verbose=1)\n",
        "print('Test Loss:', LSTM_Glove_test_score[0])\n",
        "print('Test Accuracy:', LSTM_Glove_test_score[1])"
      ],
      "execution_count": 0,
      "outputs": []
    },
    {
      "cell_type": "markdown",
      "metadata": {
        "colab_type": "text",
        "id": "t9pkNXgPUvda"
      },
      "source": [
        "### Plot Training & Validation Accuracy with the Loss values of the LSTM-Glove Model\n",
        "\n"
      ]
    },
    {
      "cell_type": "code",
      "metadata": {
        "colab_type": "code",
        "id": "Sae9WHbTU0S2",
        "colab": {}
      },
      "source": [
        "### Plot Training & Validation Accuracy with the Loss values of the LSTM-Glove Model# Plot training & validation accuracy values\n",
        "plt.plot(LSTM_Glove_model_fit.history['acc'])\n",
        "plt.plot(LSTM_Glove_model_fit.history['val_acc'])\n",
        "plt.title('LSTM-Glove Model accuracy')\n",
        "plt.ylabel('Accuracy')\n",
        "plt.xlabel('Epoch')\n",
        "plt.legend(['Training Accuracy', 'Validation Accuracy'], loc='upper left')\n",
        "plt.show()\n",
        "\n",
        "# Plot training & validation loss values\n",
        "plt.plot(LSTM_Glove_model_fit.history['loss'])\n",
        "plt.plot(LSTM_Glove_model_fit.history['val_loss'])\n",
        "plt.title('LSTM-Glove Model loss')\n",
        "plt.ylabel('Loss')\n",
        "plt.xlabel('Epoch')\n",
        "plt.legend(['Training Loss', 'Validation Loss'], loc='lower right')\n",
        "plt.show()"
      ],
      "execution_count": 0,
      "outputs": []
    },
    {
      "cell_type": "markdown",
      "metadata": {
        "colab_type": "text",
        "id": "1kL_R8VRVDiz"
      },
      "source": [
        "## 4) Bidirecitional LSTM with Glove"
      ]
    },
    {
      "cell_type": "code",
      "metadata": {
        "colab_type": "code",
        "id": "hVDo_OkVVOar",
        "colab": {}
      },
      "source": [
        "Bil_LSTM_Glove_model = Sequential([\n",
        "    Embedding(input_dim =embedding_matrix.shape[0], input_length=max_len, output_dim=embedding_matrix.shape[1],weights=[embedding_matrix], trainable=False),\n",
        "    SpatialDropout1D(0.5),\n",
        "    #Bidirectional layer will enable our model to predict a missing word in a sequence, \n",
        "    #So, using this feature will enable the model to look at the context on both the left and the right.\n",
        "    Bidirectional(LSTM(25, return_sequences=True)),\n",
        "    #**batch normalization layer** normalizes the activations of the previous layer at each batch, \n",
        "    #i.e. applies a transformation that maintains the mean activation close to 0 and the activation standard deviation close to 1. \n",
        "    BatchNormalization(),\n",
        "    Dropout(0.5),\n",
        "    GlobalMaxPool1D(),\n",
        "    Dense(50, activation = 'relu'),\n",
        "    Dense(6, activation = 'sigmoid')\n",
        "])\n",
        "\n",
        "\n",
        "Bil_LSTM_Glove_model.compile(loss='binary_crossentropy', optimizer=Adam(0.01), metrics=['accuracy', mean_pred, fmeasure, precision, auroc, recall])"
      ],
      "execution_count": 0,
      "outputs": []
    },
    {
      "cell_type": "markdown",
      "metadata": {
        "colab_type": "text",
        "id": "ddbwj5n7VazE"
      },
      "source": [
        "### Visualize the Orchestrated Bidirectional LSTM-Glove Model Architecture"
      ]
    },
    {
      "cell_type": "code",
      "metadata": {
        "colab_type": "code",
        "id": "AYd0wMzNVp1S",
        "colab": {}
      },
      "source": [
        "Bil_LSTM_Glove_model.summary()\n",
        "#plot the CNN_GLove model architecture\n",
        "\n",
        "#plot_model(Bil_LSTM_Glove_model, to_file='Bil_LSTM_Glove_model_plot.png', show_shapes=True, show_layer_names=True)\n",
        "#Image(retina=True, filename='Bil_LSTM_Glove_model_plot.png')"
      ],
      "execution_count": 0,
      "outputs": []
    },
    {
      "cell_type": "code",
      "metadata": {
        "colab_type": "code",
        "id": "nod9mnwxVqre",
        "colab": {},
        "outputId": "df333426-f785-448e-bd75-551567807248"
      },
      "source": [
        "Bil_LSTM_Glove_model_fit = Bil_LSTM_Glove_model.fit(X_tra, y_tra, batch_size=batch_size2, epochs=num_epochs, validation_data=(X_val, y_val), callbacks=[early])"
      ],
      "execution_count": 0,
      "outputs": [
        {
          "output_type": "stream",
          "text": [
            ""
          ],
          "name": "stdout"
        },
        {
          "output_type": "stream",
          "text": [
            ""
          ],
          "name": "stdout"
        },
        {
          "output_type": "stream",
          "text": [
            "143613/143613 [==============================] - 306s 2ms/step - loss: 0.0659 - acc: 0.9771 - mean_pred: 0.0366 - fmeasure: 0.6162 - precision: 0.7839 - auroc: 0.9478 - recall: 0.5167 - val_loss: 0.0785 - val_acc: 0.9798 - val_mean_pred: 0.0667 - val_fmeasure: 0.6800 - val_precision: 0.8123 - val_auroc: 0.9521 - val_recall: 0.5890\n",
            "Epoch 3/15\n",
            "143613/143613 [==============================] - 301s 2ms/step - loss: 0.0631 - acc: 0.9779 - mean_pred: 0.0367 - fmeasure: 0.6329 - precision: 0.7900 - auroc: 0.9546 - recall: 0.5356 - val_loss: 0.0799 - val_acc: 0.9797 - val_mean_pred: 0.0673 - val_fmeasure: 0.6666 - val_precision: 0.8336 - val_auroc: 0.9565 - val_recall: 0.5601\n",
            "Epoch 4/15\n",
            "143613/143613 [==============================] - 301s 2ms/step - loss: 0.0621 - acc: 0.9782 - mean_pred: 0.0368 - fmeasure: 0.6400 - precision: 0.7974 - auroc: 0.9580 - recall: 0.5441 - val_loss: 0.0788 - val_acc: 0.9795 - val_mean_pred: 0.0650 - val_fmeasure: 0.6638 - val_precision: 0.8314 - val_auroc: 0.9590 - val_recall: 0.5565\n",
            "Epoch 5/15\n",
            "143613/143613 [==============================] - 299s 2ms/step - loss: 0.0618 - acc: 0.9782 - mean_pred: 0.0366 - fmeasure: 0.6425 - precision: 0.7933 - auroc: 0.9598 - recall: 0.5476 - val_loss: 0.0795 - val_acc: 0.9789 - val_mean_pred: 0.0662 - val_fmeasure: 0.6656 - val_precision: 0.7973 - val_auroc: 0.9605 - val_recall: 0.5752\n",
            "Epoch 6/15\n",
            "143613/143613 [==============================] - 297s 2ms/step - loss: 0.0611 - acc: 0.9783 - mean_pred: 0.0367 - fmeasure: 0.6435 - precision: 0.7923 - auroc: 0.9611 - recall: 0.5494 - val_loss: 0.0693 - val_acc: 0.9801 - val_mean_pred: 0.0596 - val_fmeasure: 0.6977 - val_precision: 0.7865 - val_auroc: 0.9618 - val_recall: 0.6303\n",
            "Epoch 7/15\n",
            "143613/143613 [==============================] - 299s 2ms/step - loss: 0.0610 - acc: 0.9785 - mean_pred: 0.0368 - fmeasure: 0.6479 - precision: 0.7914 - auroc: 0.9624 - recall: 0.5555 - val_loss: 0.0643 - val_acc: 0.9762 - val_mean_pred: 0.0361 - val_fmeasure: 0.5531 - val_precision: 0.9050 - val_auroc: 0.9629 - val_recall: 0.4017\n",
            "Epoch 8/15\n",
            "143613/143613 [==============================] - 301s 2ms/step - loss: 0.0633 - acc: 0.9779 - mean_pred: 0.0367 - fmeasure: 0.6349 - precision: 0.7927 - auroc: 0.9631 - recall: 0.5382 - val_loss: 0.0795 - val_acc: 0.9794 - val_mean_pred: 0.0667 - val_fmeasure: 0.6758 - val_precision: 0.7974 - val_auroc: 0.9632 - val_recall: 0.5895\n",
            "Epoch 9/15\n",
            "143613/143613 [==============================] - 303s 2ms/step - loss: 0.0629 - acc: 0.9779 - mean_pred: 0.0366 - fmeasure: 0.6360 - precision: 0.7899 - auroc: 0.9633 - recall: 0.5398 - val_loss: 0.0730 - val_acc: 0.9800 - val_mean_pred: 0.0620 - val_fmeasure: 0.6928 - val_precision: 0.7944 - val_auroc: 0.9634 - val_recall: 0.6180\n",
            "Epoch 10/15\n",
            "143613/143613 [==============================] - 300s 2ms/step - loss: 0.0618 - acc: 0.9782 - mean_pred: 0.0368 - fmeasure: 0.6427 - precision: 0.7890 - auroc: 0.9636 - recall: 0.5497 - val_loss: 0.0640 - val_acc: 0.9783 - val_mean_pred: 0.0426 - val_fmeasure: 0.6141 - val_precision: 0.8899 - val_auroc: 0.9639 - val_recall: 0.4722\n",
            "Epoch 11/15\n",
            "143613/143613 [==============================] - 302s 2ms/step - loss: 0.0620 - acc: 0.9782 - mean_pred: 0.0367 - fmeasure: 0.6417 - precision: 0.7908 - auroc: 0.9641 - recall: 0.5470 - val_loss: 0.0674 - val_acc: 0.9797 - val_mean_pred: 0.0517 - val_fmeasure: 0.6671 - val_precision: 0.8405 - val_auroc: 0.9643 - val_recall: 0.5566\n",
            "Epoch 12/15\n",
            "143613/143613 [==============================] - 301s 2ms/step - loss: 0.0633 - acc: 0.9778 - mean_pred: 0.0369 - fmeasure: 0.6364 - precision: 0.7851 - auroc: 0.9644 - recall: 0.5434 - val_loss: 0.0609 - val_acc: 0.9793 - val_mean_pred: 0.0408 - val_fmeasure: 0.6446 - val_precision: 0.8728 - val_auroc: 0.9645 - val_recall: 0.5136\n",
            "Epoch 13/15\n",
            "143613/143613 [==============================] - 302s 2ms/step - loss: 0.0619 - acc: 0.9782 - mean_pred: 0.0365 - fmeasure: 0.6424 - precision: 0.7899 - auroc: 0.9646 - recall: 0.5484 - val_loss: 0.0656 - val_acc: 0.9796 - val_mean_pred: 0.0519 - val_fmeasure: 0.6785 - val_precision: 0.8023 - val_auroc: 0.9648 - val_recall: 0.5907\n",
            "Epoch 14/15\n",
            "143613/143613 [==============================] - 306s 2ms/step - loss: 0.0618 - acc: 0.9784 - mean_pred: 0.0367 - fmeasure: 0.6454 - precision: 0.7922 - auroc: 0.9649 - recall: 0.5513 - val_loss: 0.0624 - val_acc: 0.9794 - val_mean_pred: 0.0435 - val_fmeasure: 0.6477 - val_precision: 0.8705 - val_auroc: 0.9650 - val_recall: 0.5190\n",
            "Epoch 15/15\n",
            "143613/143613 [==============================] - 304s 2ms/step - loss: 0.0630 - acc: 0.9779 - mean_pred: 0.0367 - fmeasure: 0.6360 - precision: 0.7860 - auroc: 0.9651 - recall: 0.5424 - val_loss: 0.0657 - val_acc: 0.9787 - val_mean_pred: 0.0456 - val_fmeasure: 0.6421 - val_precision: 0.8411 - val_auroc: 0.9652 - val_recall: 0.5227\n"
          ],
          "name": "stdout"
        }
      ]
    },
    {
      "cell_type": "markdown",
      "metadata": {
        "colab_type": "text",
        "id": "RSJQSMmj70uo"
      },
      "source": [
        "### Evaluate the Bidirectional LSTM+Glove train and test score"
      ]
    },
    {
      "cell_type": "code",
      "metadata": {
        "colab_type": "code",
        "id": "gC344t0u701D",
        "colab": {},
        "outputId": "c1dc6ea4-d2dc-4643-aa85-28f20a6146f2"
      },
      "source": [
        "#train\n",
        "Bil_LSTM_Glove_train_score = Bil_LSTM_Glove_model.evaluate(X_tra, y_tra, batch_size=batch_size2, verbose=1)\n",
        "print('Train Loss:', Bil_LSTM_Glove_train_score[0])\n",
        "print('Train Accuracy:', Bil_LSTM_Glove_train_score[1])\n",
        "\n",
        "#test\n",
        "Bil_LSTM_Glove_test_score = Bil_LSTM_Glove_model.evaluate(X_test, y_test, batch_size=batch_size2, verbose=1)\n",
        "print('Test Loss:', Bil_LSTM_Glove_test_score[0])\n",
        "print('Test Accuracy:', Bil_LSTM_Glove_test_score[1])"
      ],
      "execution_count": 0,
      "outputs": [
        {
          "output_type": "stream",
          "text": [
            ""
          ],
          "name": "stdout"
        },
        {
          "output_type": "stream",
          "text": [
            "143613/143613 [==============================] - 74s 513us/step\n",
            "Train Loss: 0.0633185662609191\n",
            "Train Accuracy: 0.9795468878786042\n",
            "63930/63930 [==============================] - 32s 504us/step\n",
            "Test Loss: 0.0821586243839736\n",
            "Test Accuracy: 0.9709135120619486\n"
          ],
          "name": "stdout"
        }
      ]
    },
    {
      "cell_type": "markdown",
      "metadata": {
        "colab_type": "text",
        "id": "3KRdfqbJV7fn"
      },
      "source": [
        "### Plot Training & Validation Accuracy with the Loss values of the Bidirectional LSTM-Glove Model\n"
      ]
    },
    {
      "cell_type": "code",
      "metadata": {
        "colab_type": "code",
        "id": "-FcgxedoV7n3",
        "colab": {},
        "outputId": "9cc9ba4b-5d65-48c9-d321-310956369d6a"
      },
      "source": [
        "\n",
        "# Plot training & validation accuracy values\n",
        "plt.plot(Bil_LSTM_Glove_model_fit.history['acc'])\n",
        "plt.plot(Bil_LSTM_Glove_model_fit.history['val_acc'])\n",
        "plt.title('Bidirecitonal LSTM-Glove Model accuracy')\n",
        "plt.ylabel('Accuracy')\n",
        "plt.xlabel('Epoch')\n",
        "plt.legend(['Training Accuracy', 'Validation Accuracy'], loc='upper left')\n",
        "plt.show()\n",
        "\n",
        "# Plot training & validation loss values\n",
        "plt.plot(Bil_LSTM_Glove_model_fit.history['loss'])\n",
        "plt.plot(Bil_LSTM_Glove_model_fit.history['val_loss'])\n",
        "plt.title('Bidirecitonal LSTM-Glove Model loss')\n",
        "plt.ylabel('Loss')\n",
        "plt.xlabel('Epoch')\n",
        "plt.legend(['Training Loss', 'Validation Loss'], loc='lower right')\n",
        "plt.show()"
      ],
      "execution_count": 0,
      "outputs": [
        {
          "output_type": "display_data",
          "data": {
            "image/png": "[encoded data removed]",
            "text/plain": [
              "<Figure size 576x396 with 1 Axes>"
            ]
          },
          "metadata": {
            "tags": []
          }
        },
        {
          "output_type": "display_data",
          "data": {
            "image/png": "[encoded data removed]",
            "text/plain": [
              "<Figure size 576x396 with 1 Axes>"
            ]
          },
          "metadata": {
            "tags": []
          }
        }
      ]
    },
    {
      "cell_type": "markdown",
      "metadata": {
        "colab_type": "text",
        "id": "HVxDKjfsW7xs"
      },
      "source": [
        "## 5) Gated Recurrent (GRU) with Glove"
      ]
    },
    {
      "cell_type": "code",
      "metadata": {
        "colab_type": "code",
        "id": "tnDqKMgKXTCA",
        "colab": {}
      },
      "source": [
        "sequence_input = Input(shape=(max_len, ))\n",
        "model = Embedding(input_dim =embedding_matrix.shape[0], input_length=max_len, output_dim=embedding_matrix.shape[1],weights=[embedding_matrix], trainable=False)(sequence_input)\n",
        "model = SpatialDropout1D(0.2)(model)\n",
        "model = GRU(128, return_sequences=True,dropout=0.1,recurrent_dropout=0.1)(model)\n",
        "model = Conv1D(64, kernel_size = 3, padding = \"valid\", kernel_initializer = \"glorot_uniform\")(model)\n",
        "avg_pool = GlobalAveragePooling1D()(model)\n",
        "max_pool = GlobalMaxPooling1D()(model)\n",
        "model = concatenate([avg_pool, max_pool]) \n",
        "preds = Dense(6, activation=\"sigmoid\")(model)\n",
        "GRU_Glove_model = Model(sequence_input, preds)\n",
        "GRU_Glove_model.compile(loss='binary_crossentropy',optimizer=Adam(lr=1e-3),metrics=['accuracy', mean_pred, fmeasure, precision, auroc, recall])\n"
      ],
      "execution_count": 0,
      "outputs": []
    },
    {
      "cell_type": "markdown",
      "metadata": {
        "colab_type": "text",
        "id": "obSFemN8XlNo"
      },
      "source": [
        "### Visualize the Orchestrated GRU+Glove MODEL Architecture"
      ]
    },
    {
      "cell_type": "code",
      "metadata": {
        "colab_type": "code",
        "id": "VRtLB7haXuZa",
        "colab": {},
        "outputId": "9be0228d-bb82-461f-f3b5-d8b184376eeb"
      },
      "source": [
        "GRU_Glove_model.summary()\n",
        "\n",
        "#plot the GRU model architecture\n",
        "\n",
        "#plot_model(GRU_Glove_model, to_file='GRU_Glove_model_plot.png', show_shapes=True, show_layer_names=True)\n",
        "#Image(retina=True, filename='GRU_Glove_model_plot.png')"
      ],
      "execution_count": 0,
      "outputs": [
        {
          "output_type": "stream",
          "text": [
            "__________________________________________________________________________________________________\n",
            "Layer (type)                    Output Shape         Param #     Connected to                     \n",
            "==================================================================================================\n",
            "input_1 (InputLayer)            (None, 200)          0                                            \n",
            "__________________________________________________________________________________________________\n",
            "embedding_6 (Embedding)         (None, 200, 100)     25761300    input_1[0][0]                    \n",
            "__________________________________________________________________________________________________\n",
            "spatial_dropout1d_6 (SpatialDro (None, 200, 100)     0           embedding_6[0][0]                \n",
            "__________________________________________________________________________________________________\n",
            "gru_1 (GRU)                     (None, 200, 128)     87936       spatial_dropout1d_6[0][0]        \n",
            "__________________________________________________________________________________________________\n",
            "conv1d_3 (Conv1D)               (None, 198, 64)      24640       gru_1[0][0]                      \n",
            "__________________________________________________________________________________________________\n",
            "global_average_pooling1d_1 (Glo (None, 64)           0           conv1d_3[0][0]                   \n",
            "__________________________________________________________________________________________________\n",
            "global_max_pooling1d_6 (GlobalM (None, 64)           0           conv1d_3[0][0]                   \n",
            "__________________________________________________________________________________________________\n",
            "concatenate_1 (Concatenate)     (None, 128)          0           global_average_pooling1d_1[0][0] \n",
            "                                                                 global_max_pooling1d_6[0][0]     \n",
            "__________________________________________________________________________________________________\n",
            "dense_11 (Dense)                (None, 6)            774         concatenate_1[0][0]              \n",
            "==================================================================================================\n",
            "Total params: 25,874,650\n",
            "Trainable params: 113,350\n",
            "Non-trainable params: 25,761,300\n",
            "__________________________________________________________________________________________________\n"
          ],
          "name": "stdout"
        }
      ]
    },
    {
      "cell_type": "code",
      "metadata": {
        "colab_type": "code",
        "id": "msksCVekX0T1",
        "colab": {},
        "outputId": "f5b09db4-e7e4-4091-9aba-f9734ca4469d"
      },
      "source": [
        "GRU_Glove_model_fit = GRU_Glove_model.fit(X_tra, y_tra, batch_size=batch_size2, epochs=num_epochs, validation_data=(X_val, y_val), callbacks=[early])"
      ],
      "execution_count": 0,
      "outputs": [
        {
          "output_type": "stream",
          "text": [
            "Train on 143613 samples, validate on 15958 samples\n",
            "Epoch 1/15\n",
            "143613/143613 [==============================] - 702s 5ms/step - loss: 0.0810 - acc: 0.9741 - mean_pred: 0.0408 - fmeasure: 0.5253 - precision: 0.7185 - auroc: 0.8802 - recall: 0.4389 - val_loss: 0.0601 - val_acc: 0.9794 - val_mean_pred: 0.0337 - val_fmeasure: 0.6561 - val_precision: 0.8355 - val_auroc: 0.9465 - val_recall: 0.5450\n",
            "Epoch 2/15\n",
            "143613/143613 [==============================] - 767s 5ms/step - loss: 0.0584 - acc: 0.9795 - mean_pred: 0.0367 - fmeasure: 0.6694 - precision: 0.8019 - auroc: 0.9554 - recall: 0.5817 - val_loss: 0.0550 - val_acc: 0.9804 - val_mean_pred: 0.0362 - val_fmeasure: 0.6941 - val_precision: 0.8060 - val_auroc: 0.9611 - val_recall: 0.6134\n",
            "Epoch 3/15\n",
            "143613/143613 [==============================] - 770s 5ms/step - loss: 0.0538 - acc: 0.9806 - mean_pred: 0.0367 - fmeasure: 0.6917 - precision: 0.8069 - auroc: 0.9645 - recall: 0.6124 - val_loss: 0.0530 - val_acc: 0.9811 - val_mean_pred: 0.0323 - val_fmeasure: 0.6918 - val_precision: 0.8566 - val_auroc: 0.9671 - val_recall: 0.5848\n",
            "Epoch 4/15\n",
            "143613/143613 [==============================] - 769s 5ms/step - loss: 0.0513 - acc: 0.9815 - mean_pred: 0.0366 - fmeasure: 0.7108 - precision: 0.8156 - auroc: 0.9690 - recall: 0.6364 - val_loss: 0.0506 - val_acc: 0.9819 - val_mean_pred: 0.0412 - val_fmeasure: 0.7375 - val_precision: 0.7833 - val_auroc: 0.9705 - val_recall: 0.7003\n",
            "Epoch 5/15\n",
            "143613/143613 [==============================] - 777s 5ms/step - loss: 0.0494 - acc: 0.9820 - mean_pred: 0.0366 - fmeasure: 0.7187 - precision: 0.8179 - auroc: 0.9718 - recall: 0.6480 - val_loss: 0.0492 - val_acc: 0.9823 - val_mean_pred: 0.0369 - val_fmeasure: 0.7330 - val_precision: 0.8190 - val_auroc: 0.9728 - val_recall: 0.6658\n",
            "Epoch 6/15\n",
            "143613/143613 [==============================] - 775s 5ms/step - loss: 0.0482 - acc: 0.9823 - mean_pred: 0.0366 - fmeasure: 0.7268 - precision: 0.8190 - auroc: 0.9736 - recall: 0.6604 - val_loss: 0.0486 - val_acc: 0.9825 - val_mean_pred: 0.0333 - val_fmeasure: 0.7234 - val_precision: 0.8535 - val_auroc: 0.9744 - val_recall: 0.6318\n",
            "Epoch 7/15\n",
            "143613/143613 [==============================] - 777s 5ms/step - loss: 0.0471 - acc: 0.9827 - mean_pred: 0.0366 - fmeasure: 0.7336 - precision: 0.8242 - auroc: 0.9750 - recall: 0.6681 - val_loss: 0.0480 - val_acc: 0.9826 - val_mean_pred: 0.0359 - val_fmeasure: 0.7373 - val_precision: 0.8270 - val_auroc: 0.9757 - val_recall: 0.6688\n",
            "Epoch 8/15\n",
            "143613/143613 [==============================] - 780s 5ms/step - loss: 0.0460 - acc: 0.9830 - mean_pred: 0.0366 - fmeasure: 0.7387 - precision: 0.8255 - auroc: 0.9762 - recall: 0.6753 - val_loss: 0.0478 - val_acc: 0.9832 - val_mean_pred: 0.0363 - val_fmeasure: 0.7476 - val_precision: 0.8227 - val_auroc: 0.9767 - val_recall: 0.6880\n",
            "Epoch 9/15\n",
            "143613/143613 [==============================] - 778s 5ms/step - loss: 0.0450 - acc: 0.9833 - mean_pred: 0.0366 - fmeasure: 0.7448 - precision: 0.8284 - auroc: 0.9772 - recall: 0.6825 - val_loss: 0.0476 - val_acc: 0.9828 - val_mean_pred: 0.0364 - val_fmeasure: 0.7432 - val_precision: 0.8172 - val_auroc: 0.9776 - val_recall: 0.6848\n",
            "Epoch 10/15\n",
            "143613/143613 [==============================] - 780s 5ms/step - loss: 0.0444 - acc: 0.9835 - mean_pred: 0.0366 - fmeasure: 0.7485 - precision: 0.8321 - auroc: 0.9779 - recall: 0.6871 - val_loss: 0.0479 - val_acc: 0.9829 - val_mean_pred: 0.0343 - val_fmeasure: 0.7368 - val_precision: 0.8416 - val_auroc: 0.9783 - val_recall: 0.6591\n",
            "Epoch 11/15\n",
            "143613/143613 [==============================] - 780s 5ms/step - loss: 0.0434 - acc: 0.9837 - mean_pred: 0.0366 - fmeasure: 0.7516 - precision: 0.8318 - auroc: 0.9786 - recall: 0.6914 - val_loss: 0.0479 - val_acc: 0.9828 - val_mean_pred: 0.0389 - val_fmeasure: 0.7479 - val_precision: 0.8023 - val_auroc: 0.9789 - val_recall: 0.7042\n",
            "Epoch 12/15\n",
            "143613/143613 [==============================] - 778s 5ms/step - loss: 0.0428 - acc: 0.9841 - mean_pred: 0.0366 - fmeasure: 0.7588 - precision: 0.8366 - auroc: 0.9792 - recall: 0.7004 - val_loss: 0.0482 - val_acc: 0.9823 - val_mean_pred: 0.0418 - val_fmeasure: 0.7507 - val_precision: 0.7750 - val_auroc: 0.9795 - val_recall: 0.7313\n",
            "Epoch 13/15\n",
            "143613/143613 [==============================] - 778s 5ms/step - loss: 0.0420 - acc: 0.9844 - mean_pred: 0.0366 - fmeasure: 0.7638 - precision: 0.8402 - auroc: 0.9798 - recall: 0.7066 - val_loss: 0.0493 - val_acc: 0.9820 - val_mean_pred: 0.0394 - val_fmeasure: 0.7408 - val_precision: 0.7824 - val_auroc: 0.9800 - val_recall: 0.7069\n"
          ],
          "name": "stdout"
        }
      ]
    },
    {
      "cell_type": "markdown",
      "metadata": {
        "colab_type": "text",
        "id": "eUU9Ir6wX51B"
      },
      "source": [
        "### Evaluate the GRU+Glove Model train and test score"
      ]
    },
    {
      "cell_type": "code",
      "metadata": {
        "colab_type": "code",
        "id": "5cL12krrX8VI",
        "colab": {},
        "outputId": "ccc5081c-4aff-4696-9cac-53eb00a877c2"
      },
      "source": [
        "#Train\n",
        "GRU_Glove_train_score = GRU_Glove_model.evaluate(X_tra, y_tra, batch_size=batch_size2, verbose=1)\n",
        "print('Train Loss:', GRU_Glove_train_score[0])\n",
        "print('Train Accuracy:', GRU_Glove_train_score[1])\n",
        "\n",
        "#Test\n",
        "GRU_Glove_test_score = GRU_Glove_model.evaluate(X_test, y_test, batch_size=batch_size2, verbose=1)\n",
        "print('Test Loss:', GRU_Glove_test_score[0])\n",
        "print('Test Accuracy:', GRU_Glove_test_score[1])"
      ],
      "execution_count": 0,
      "outputs": [
        {
          "output_type": "stream",
          "text": [
            ""
          ],
          "name": "stdout"
        },
        {
          "output_type": "stream",
          "text": [
            "143613/143613 [==============================] - 179s 1ms/step\n",
            "Train Loss: 0.03695904369661288\n",
            "Train Accuracy: 0.9860760124242376\n",
            "63930/63930 [==============================] - 79s 1ms/step\n",
            "Test Loss: 0.08320522174861497\n",
            "Test Accuracy: 0.9677981249140813\n"
          ],
          "name": "stdout"
        }
      ]
    },
    {
      "cell_type": "markdown",
      "metadata": {
        "colab_type": "text",
        "id": "BsjUhZyhYI5J"
      },
      "source": [
        "### Plot Training & Validation Accuracy with the Loss values of the GRU+ Glove Model"
      ]
    },
    {
      "cell_type": "code",
      "metadata": {
        "colab_type": "code",
        "id": "T1EmK_UbYNuv",
        "colab": {},
        "outputId": "f3c8a2c5-d12d-4181-e583-d6f9cb0496c5"
      },
      "source": [
        "# Plot training & validation accuracy values\n",
        "plt.plot(GRU_Glove_model_fit.history['acc'])\n",
        "plt.plot(GRU_Glove_model_fit.history['val_acc'])\n",
        "plt.title('Gated Recurrent Unit (GRU) with Glove Model accuracy')\n",
        "plt.ylabel('Accuracy')\n",
        "plt.xlabel('Epoch')\n",
        "plt.legend(['Training Accuracy', 'Validation Accuracy'], loc='upper left')\n",
        "plt.show()\n",
        "\n",
        "# Plot training & validation loss values\n",
        "plt.plot(GRU_Glove_model_fit.history['loss'])\n",
        "plt.plot(GRU_Glove_model_fit.history['val_loss'])\n",
        "plt.title('Bidirectional Gated Recurrent Unit (GRU) with Glove Model loss')\n",
        "plt.ylabel('Loss')\n",
        "plt.xlabel('Epoch')\n",
        "plt.legend(['Training Loss', 'Validation Loss'], loc='lower right')\n",
        "plt.show()"
      ],
      "execution_count": 0,
      "outputs": [
        {
          "output_type": "display_data",
          "data": {
            "image/png": "[encoded data removed]",
            "text/plain": [
              "<Figure size 576x396 with 1 Axes>"
            ]
          },
          "metadata": {
            "tags": []
          }
        },
        {
          "output_type": "display_data",
          "data": {
            "image/png": "[encoded data removed]",
            "text/plain": [
              "<Figure size 576x396 with 1 Axes>"
            ]
          },
          "metadata": {
            "tags": []
          }
        }
      ]
    },
    {
      "cell_type": "markdown",
      "metadata": {
        "colab_type": "text",
        "id": "D4YbRgFJXI0d"
      },
      "source": [
        "## 6) Bidirectional Gated Recurrent (GRU) + Glove"
      ]
    },
    {
      "cell_type": "code",
      "metadata": {
        "colab_type": "code",
        "id": "ZG2cYq2fYm8A",
        "colab": {}
      },
      "source": [
        "sequence_input = Input(shape=(max_len, ))\n",
        "model = Embedding(input_dim =embedding_matrix.shape[0], input_length=max_len, output_dim=embedding_matrix.shape[1],weights=[embedding_matrix], trainable=False)(sequence_input)\n",
        "model = SpatialDropout1D(0.2)(model)\n",
        "model = Bidirectional(GRU(128, return_sequences=True,dropout=0.1,recurrent_dropout=0.1))(model)\n",
        "model = Conv1D(64, kernel_size = 3, padding = \"valid\", kernel_initializer = \"glorot_uniform\")(model)\n",
        "avg_pool = GlobalAveragePooling1D()(model)\n",
        "max_pool = GlobalMaxPooling1D()(model)\n",
        "model = concatenate([avg_pool, max_pool]) \n",
        "preds = Dense(6, activation=\"sigmoid\")(model)\n",
        "Bil_GRU_Glove_model = Model(sequence_input, preds)\n",
        "Bil_GRU_Glove_model.compile(loss='binary_crossentropy',optimizer=Adam(lr=1e-3),metrics=['accuracy', mean_pred, fmeasure, precision, auroc, recall])"
      ],
      "execution_count": 0,
      "outputs": []
    },
    {
      "cell_type": "markdown",
      "metadata": {
        "colab_type": "text",
        "id": "9tLHWL2hY7t1"
      },
      "source": [
        "### Visualize the Orchestrated Bidirectional GRU+Glove Model Architecture\n",
        "\n",
        "\n"
      ]
    },
    {
      "cell_type": "code",
      "metadata": {
        "colab_type": "code",
        "id": "lotUq7XIY-rW",
        "colab": {},
        "outputId": "4e33b90e-76ca-4a56-9830-14a91c18bf56"
      },
      "source": [
        "Bil_GRU_Glove_model.summary()\n",
        "\n",
        "#plot the GRU model architecture\n",
        "\n",
        "#plot_model(Bil_GRU_Glove_model, to_file='Bil_GRU_Glove_model_plot.png', show_shapes=True, show_layer_names=True)\n",
        "#Image(retina=True, filename='Bil_GRU_Glove_model_plot.png') "
      ],
      "execution_count": 0,
      "outputs": [
        {
          "output_type": "stream",
          "text": [
            "__________________________________________________________________________________________________\n",
            "Layer (type)                    Output Shape         Param #     Connected to                     \n",
            "==================================================================================================\n",
            "input_3 (InputLayer)            (None, 200)          0                                            \n",
            "__________________________________________________________________________________________________\n",
            "embedding_7 (Embedding)         (None, 200, 100)     25761300    input_3[0][0]                    \n",
            "__________________________________________________________________________________________________\n",
            "spatial_dropout1d_7 (SpatialDro (None, 200, 100)     0           embedding_7[0][0]                \n",
            "__________________________________________________________________________________________________\n",
            "bidirectional_2 (Bidirectional) (None, 200, 256)     175872      spatial_dropout1d_7[0][0]        \n",
            "__________________________________________________________________________________________________\n",
            "conv1d_4 (Conv1D)               (None, 198, 64)      49216       bidirectional_2[0][0]            \n",
            "__________________________________________________________________________________________________\n",
            "global_average_pooling1d_2 (Glo (None, 64)           0           conv1d_4[0][0]                   \n",
            "__________________________________________________________________________________________________\n",
            "global_max_pooling1d_7 (GlobalM (None, 64)           0           conv1d_4[0][0]                   \n",
            "__________________________________________________________________________________________________\n",
            "concatenate_2 (Concatenate)     (None, 128)          0           global_average_pooling1d_2[0][0] \n",
            "                                                                 global_max_pooling1d_7[0][0]     \n",
            "__________________________________________________________________________________________________\n",
            "dense_12 (Dense)                (None, 6)            774         concatenate_2[0][0]              \n",
            "==================================================================================================\n",
            "Total params: 25,987,162\n",
            "Trainable params: 225,862\n",
            "Non-trainable params: 25,761,300\n",
            "__________________________________________________________________________________________________\n"
          ],
          "name": "stdout"
        }
      ]
    },
    {
      "cell_type": "code",
      "metadata": {
        "colab_type": "code",
        "id": "g0M_XHJqZJf9",
        "colab": {},
        "outputId": "f46d0467-ed93-447d-89bf-084a07fec46d"
      },
      "source": [
        "Bil_GRU_Glove_model_fit = Bil_GRU_Glove_model.fit(X_tra, y_tra, batch_size=batch_size2, epochs=num_epochs, validation_data=(X_val, y_val), callbacks=[early])"
      ],
      "execution_count": 0,
      "outputs": [
        {
          "output_type": "stream",
          "text": [
            "Train on 143613 samples, validate on 15958 samples\n",
            "Epoch 1/15\n",
            "143613/143613 [==============================] - 3240s 23ms/step - loss: 0.0746 - acc: 0.9756 - mean_pred: 0.0401 - fmeasure: 0.5796 - precision: 0.7513 - auroc: 0.8996 - recall: 0.4930 - val_loss: 0.0560 - val_acc: 0.9805 - val_mean_pred: 0.0372 - val_fmeasure: 0.6920 - val_precision: 0.8270 - val_auroc: 0.9548 - val_recall: 0.5991\n",
            "Epoch 2/15\n",
            "143613/143613 [==============================] - 3688s 26ms/step - loss: 0.0552 - acc: 0.9803 - mean_pred: 0.0368 - fmeasure: 0.6881 - precision: 0.8058 - auroc: 0.9621 - recall: 0.6085 - val_loss: 0.0516 - val_acc: 0.9817 - val_mean_pred: 0.0418 - val_fmeasure: 0.7297 - val_precision: 0.7988 - val_auroc: 0.9665 - val_recall: 0.6752\n",
            "Epoch 3/15\n",
            "143613/143613 [==============================] - 3718s 26ms/step - loss: 0.0511 - acc: 0.9814 - mean_pred: 0.0367 - fmeasure: 0.7090 - precision: 0.8140 - auroc: 0.9693 - recall: 0.6357 - val_loss: 0.0496 - val_acc: 0.9823 - val_mean_pred: 0.0404 - val_fmeasure: 0.7411 - val_precision: 0.7984 - val_auroc: 0.9713 - val_recall: 0.6950\n",
            "Epoch 4/15\n",
            "143613/143613 [==============================] - 3741s 26ms/step - loss: 0.0489 - acc: 0.9822 - mean_pred: 0.0367 - fmeasure: 0.7254 - precision: 0.8199 - auroc: 0.9729 - recall: 0.6572 - val_loss: 0.0487 - val_acc: 0.9823 - val_mean_pred: 0.0344 - val_fmeasure: 0.7243 - val_precision: 0.8449 - val_auroc: 0.9740 - val_recall: 0.6372\n",
            "Epoch 5/15\n",
            "143613/143613 [==============================] - 3702s 26ms/step - loss: 0.0471 - acc: 0.9826 - mean_pred: 0.0367 - fmeasure: 0.7328 - precision: 0.8212 - auroc: 0.9751 - recall: 0.6683 - val_loss: 0.0481 - val_acc: 0.9826 - val_mean_pred: 0.0353 - val_fmeasure: 0.7357 - val_precision: 0.8290 - val_auroc: 0.9759 - val_recall: 0.6642\n",
            "Epoch 6/15\n",
            "143613/143613 [==============================] - 3759s 26ms/step - loss: 0.0457 - acc: 0.9831 - mean_pred: 0.0367 - fmeasure: 0.7414 - precision: 0.8272 - auroc: 0.9766 - recall: 0.6788 - val_loss: 0.0477 - val_acc: 0.9826 - val_mean_pred: 0.0344 - val_fmeasure: 0.7303 - val_precision: 0.8472 - val_auroc: 0.9773 - val_recall: 0.6451\n",
            "Epoch 7/15\n",
            "143613/143613 [==============================] - 3716s 26ms/step - loss: 0.0444 - acc: 0.9834 - mean_pred: 0.0366 - fmeasure: 0.7468 - precision: 0.8277 - auroc: 0.9779 - recall: 0.6863 - val_loss: 0.0490 - val_acc: 0.9821 - val_mean_pred: 0.0436 - val_fmeasure: 0.7509 - val_precision: 0.7635 - val_auroc: 0.9784 - val_recall: 0.7422\n",
            "Epoch 8/15\n",
            "143613/143613 [==============================] - 3770s 26ms/step - loss: 0.0433 - acc: 0.9839 - mean_pred: 0.0366 - fmeasure: 0.7566 - precision: 0.8340 - auroc: 0.9789 - recall: 0.6980 - val_loss: 0.0474 - val_acc: 0.9826 - val_mean_pred: 0.0389 - val_fmeasure: 0.7484 - val_precision: 0.7959 - val_auroc: 0.9793 - val_recall: 0.7094\n",
            "Epoch 9/15\n",
            "143613/143613 [==============================] - 3727s 26ms/step - loss: 0.0423 - acc: 0.9842 - mean_pred: 0.0366 - fmeasure: 0.7606 - precision: 0.8371 - auroc: 0.9798 - recall: 0.7029 - val_loss: 0.0470 - val_acc: 0.9825 - val_mean_pred: 0.0392 - val_fmeasure: 0.7465 - val_precision: 0.7965 - val_auroc: 0.9801 - val_recall: 0.7050\n",
            "Epoch 10/15\n",
            "143613/143613 [==============================] - 3757s 26ms/step - loss: 0.0412 - acc: 0.9845 - mean_pred: 0.0366 - fmeasure: 0.7674 - precision: 0.8398 - auroc: 0.9805 - recall: 0.7122 - val_loss: 0.0480 - val_acc: 0.9822 - val_mean_pred: 0.0416 - val_fmeasure: 0.7475 - val_precision: 0.7775 - val_auroc: 0.9808 - val_recall: 0.7233\n",
            "Epoch 11/15\n",
            "143613/143613 [==============================] - 3769s 26ms/step - loss: 0.0402 - acc: 0.9848 - mean_pred: 0.0366 - fmeasure: 0.7719 - precision: 0.8411 - auroc: 0.9811 - recall: 0.7185 - val_loss: 0.0478 - val_acc: 0.9827 - val_mean_pred: 0.0405 - val_fmeasure: 0.7530 - val_precision: 0.7829 - val_auroc: 0.9814 - val_recall: 0.7284\n",
            "Epoch 12/15\n",
            "143613/143613 [==============================] - 3745s 26ms/step - loss: 0.0394 - acc: 0.9852 - mean_pred: 0.0366 - fmeasure: 0.7777 - precision: 0.8455 - auroc: 0.9817 - recall: 0.7254 - val_loss: 0.0482 - val_acc: 0.9823 - val_mean_pred: 0.0376 - val_fmeasure: 0.7432 - val_precision: 0.7924 - val_auroc: 0.9819 - val_recall: 0.7029\n",
            "Epoch 13/15\n",
            "143613/143613 [==============================] - 3771s 26ms/step - loss: 0.0385 - acc: 0.9854 - mean_pred: 0.0366 - fmeasure: 0.7819 - precision: 0.8466 - auroc: 0.9822 - recall: 0.7317 - val_loss: 0.0479 - val_acc: 0.9829 - val_mean_pred: 0.0352 - val_fmeasure: 0.7408 - val_precision: 0.8294 - val_auroc: 0.9824 - val_recall: 0.6718\n"
          ],
          "name": "stdout"
        }
      ]
    },
    {
      "cell_type": "markdown",
      "metadata": {
        "colab_type": "text",
        "id": "roS0Vh0CZPkF"
      },
      "source": [
        "### Evaluate the GRU+Glove Model train and test score"
      ]
    },
    {
      "cell_type": "code",
      "metadata": {
        "colab_type": "code",
        "id": "702PMYUEZSxq",
        "colab": {},
        "outputId": "d91c0013-3c4d-4007-fecf-c1ad2f4844cc"
      },
      "source": [
        "#Train\n",
        "Bil_GRU_Glove_train_score = Bil_GRU_Glove_model.evaluate(X_tra, y_tra, batch_size=batch_size2, verbose=1)\n",
        "print('Train Loss:', Bil_GRU_Glove_train_score[0])\n",
        "print('Train Accuracy:', Bil_GRU_Glove_train_score[1])\n",
        "\n",
        "#Test\n",
        "Bil_GRU_Glove_test_score = Bil_GRU_Glove_model.evaluate(X_test, y_test, batch_size=batch_size2, verbose=1)\n",
        "print('Test Loss:', Bil_GRU_Glove_test_score[0])\n",
        "print('Test Accuracy:', Bil_GRU_Glove_test_score[1])"
      ],
      "execution_count": 0,
      "outputs": [
        {
          "output_type": "stream",
          "text": [
            ""
          ],
          "name": "stdout"
        },
        {
          "output_type": "stream",
          "text": [
            "143613/143613 [==============================] - 669s 5ms/step\n",
            "Train Loss: 0.030472802009554413\n",
            "Train Accuracy: 0.9884051852896358\n",
            "63930/63930 [==============================] - 299s 5ms/step\n",
            "Test Loss: 0.07234466523118521\n",
            "Test Accuracy: 0.9717060375489597\n"
          ],
          "name": "stdout"
        }
      ]
    },
    {
      "cell_type": "markdown",
      "metadata": {
        "colab_type": "text",
        "id": "2gC7ZcIGZfZC"
      },
      "source": [
        "### Plot Training & Validation Accuracy with the Loss values of the Bil GRU + Glove Model"
      ]
    },
    {
      "cell_type": "code",
      "metadata": {
        "colab_type": "code",
        "id": "las_sOPgZiOj",
        "colab": {},
        "outputId": "3966b1c4-2a82-40e9-cdb9-d855248ba4c1"
      },
      "source": [
        "# Plot training & validation accuracy values\n",
        "plt.plot(Bil_GRU_Glove_model_fit.history['acc'])\n",
        "plt.plot(Bil_GRU_Glove_model_fit.history['val_acc'])\n",
        "plt.title(' Bidirectional Gated Recurrent Unit (GRU) with Glove Model accuracy')\n",
        "plt.ylabel('Accuracy')\n",
        "plt.xlabel('Epoch')\n",
        "plt.legend(['Training Accuracy', 'Validation Accuracy'], loc='upper left')\n",
        "plt.show()\n",
        "\n",
        "# Plot training & validation loss values\n",
        "plt.plot(Bil_GRU_Glove_model_fit.history['loss'])\n",
        "plt.plot(Bil_GRU_Glove_model_fit.history['val_loss'])\n",
        "plt.title('Bidirectional Gated Recurrent Unit (GRU) with Glove Model loss')\n",
        "plt.ylabel('Loss')\n",
        "plt.xlabel('Epoch')\n",
        "plt.legend(['Training Loss', 'Validation Loss'], loc='lower right')\n",
        "plt.show()"
      ],
      "execution_count": 0,
      "outputs": [
        {
          "output_type": "display_data",
          "data": {
            "image/png": "[encoded data removed]",
            "text/plain": [
              "<Figure size 576x396 with 1 Axes>"
            ]
          },
          "metadata": {
            "tags": []
          }
        },
        {
          "output_type": "display_data",
          "data": {
            "image/png": "[encoded data removed]",
            "text/plain": [
              "<Figure size 576x396 with 1 Axes>"
            ]
          },
          "metadata": {
            "tags": []
          }
        }
      ]
    },
    {
      "cell_type": "markdown",
      "metadata": {
        "colab_type": "text",
        "id": "P4obkfWHjM6Y"
      },
      "source": [
        "# Evaluation of Experiment With GLOVE Pre-trained Embedding"
      ]
    },
    {
      "cell_type": "markdown",
      "metadata": {
        "colab_type": "text",
        "id": "X6leRBvARyTE"
      },
      "source": [
        "#### Computing the highest of the evaluation matrics (per model) "
      ]
    },
    {
      "cell_type": "code",
      "metadata": {
        "colab_type": "code",
        "id": "59zQj0Xjcjis",
        "colab": {},
        "outputId": "9f154f08-dff6-4e1e-e962-61b7ca873fb3"
      },
      "source": [
        "trace = go.Table(\n",
        "    header=dict(values=['Model', 'Loss', 'Accuracy', 'mean_pred', 'F-Measure', 'Precision', 'AUC', 'Recall'],\n",
        "                line = dict(color='#7D7F80'),\n",
        "                fill = dict(color='#a1c3d1'),\n",
        "                align = ['left'] * 5),\n",
        "    cells=dict(values=[['CNN with Glove', 'RNNs with Glove', 'LSTM with Glove', ' Bidirectional LSTM with Glove', 'GRU with Glove', 'Bidirectional GRU with Glove'],\n",
        "                       [\n",
        "                        #Loss Evaluation\n",
        "                        round(np.max(CNN_Glove_model_fit.history['loss']), 3), round(np.max(RNN_Glove_model_fit.history['loss']), 3), \n",
        "                        round(np.max(LSTM_Glove_model_fit.history['loss']), 3), round(np.max(Bil_LSTM_Glove_model_fit.history['loss']), 3), round(np.max(GRU_Glove_model_fit.history['loss']), 3),\n",
        "                        round(np.max(Bil_GRU_Glove_model_fit.history['loss']), 3)],\n",
        "                        \n",
        "                        #Accuracy Evaluation\n",
        "                        [round(np.max(CNN_Glove_model_fit.history['acc']), 3), round(np.max(RNN_Glove_model_fit.history['acc']), 3), \n",
        "                        round(np.max(LSTM_Glove_model_fit.history['acc']), 3), round(np.max(Bil_LSTM_Glove_model_fit.history['acc']), 3), round(np.max(GRU_Glove_model_fit.history['acc']), 3),\n",
        "                        round(np.max(Bil_GRU_Glove_model_fit.history['acc']), 3)],\n",
        "               \n",
        "                        #mean_pred Evaluation\n",
        "                        [round(np.max(CNN_Glove_model_fit.history['mean_pred']), 3), round(np.max(RNN_Glove_model_fit.history['mean_pred']), 3), \n",
        "                        round(np.max(LSTM_Glove_model_fit.history['mean_pred']), 3), round(np.max(Bil_LSTM_Glove_model_fit.history['mean_pred']), 3), round(np.max(GRU_Glove_model_fit.history['mean_pred']), 3),\n",
        "                        round(np.max(Bil_GRU_Glove_model_fit.history['mean_pred']), 3)],\n",
        "\t\t\t\t\t\t\n",
        "                        #F1-Measure Evaluation fmeasure\n",
        "                        [round(np.max(CNN_Glove_model_fit.history['fmeasure']), 3), round(np.max(RNN_Glove_model_fit.history['fmeasure']), 3), \n",
        "                        round(np.max(LSTM_Glove_model_fit.history['fmeasure']), 3), round(np.max(Bil_LSTM_Glove_model_fit.history['fmeasure']), 3), round(np.max(GRU_Glove_model_fit.history['fmeasure']), 3),\n",
        "                        round(np.max(Bil_GRU_Glove_model_fit.history['fmeasure']), 3)],\n",
        "\t\t\t\t\t\t             \n",
        "                        #Precision Evaluation precision\n",
        "                        [round(np.max(CNN_Glove_model_fit.history['precision']), 3), round(np.max(RNN_Glove_model_fit.history['precision']), 3), \n",
        "                        round(np.max(LSTM_Glove_model_fit.history['precision']), 3), round(np.max(Bil_LSTM_Glove_model_fit.history['precision']), 3), round(np.max(GRU_Glove_model_fit.history['precision']), 3),\n",
        "                        round(np.max(Bil_GRU_Glove_model_fit.history['precision']), 3)],\n",
        "\t\t\t\t\t\t\n",
        "                        #ROC AUC Evaluation auroc\n",
        "                        [round(np.max(CNN_Glove_model_fit.history['auroc']), 3), round(np.max(RNN_Glove_model_fit.history['auroc']), 3), \n",
        "                        round(np.max(LSTM_Glove_model_fit.history['auroc']), 3), round(np.max(Bil_LSTM_Glove_model_fit.history['auroc']), 3), round(np.max(GRU_Glove_model_fit.history['auroc']), 3),\n",
        "                        round(np.max(Bil_GRU_Glove_model_fit.history['auroc']), 3)],\n",
        "                       \n",
        "                        #Recall Evaluation\n",
        "                        [round(np.max(CNN_Glove_model_fit.history['recall']), 3), round(np.max(RNN_Glove_model_fit.history['recall']), 3), \n",
        "                        round(np.max(LSTM_Glove_model_fit.history['recall']), 3), round(np.max(Bil_LSTM_Glove_model_fit.history['recall']), 3), round(np.max(GRU_Glove_model_fit.history['recall']), 3),\n",
        "                        round(np.max(Bil_GRU_Glove_model_fit.history['recall']), 3)]\n",
        "                       ],\n",
        "               line = dict(color='#7D7F80'),\n",
        "               fill = dict(color='#EDFAFF'),\n",
        "               align = ['left'] * 5))\n",
        "\n",
        "layout = dict(width=800, height=400)\n",
        "data = [trace]\n",
        "fig = dict(data=data, layout=layout)\n",
        "py.iplot(data, filename = 'multi-label_with_Glove_trained_embedding_with the max of the evaluation matrics (per model) _table')"
      ],
      "execution_count": 0,
      "outputs": [
        {
          "output_type": "stream",
          "text": [
            "D:\\Program Files\\Anaconda\\lib\\site-packages\\IPython\\core\\display.py:689: UserWarning:\n",
            "\n",
            "Consider using IPython.display.IFrame instead\n",
            "\n"
          ],
          "name": "stderr"
        },
        {
          "output_type": "execute_result",
          "data": {
            "text/html": [
              "<iframe id=\"igraph\" scrolling=\"no\" style=\"border:none;\" seamless=\"seamless\" src=\"https://plot.ly/~hamzasharoon/21.embed\" height=\"525px\" width=\"100%\"></iframe>"
            ],
            "text/plain": [
              "<chart_studio.tools.PlotlyDisplay object>"
            ]
          },
          "metadata": {
            "tags": []
          },
          "execution_count": 85
        }
      ]
    },
    {
      "cell_type": "markdown",
      "metadata": {
        "colab_type": "text",
        "id": "Vm_2yaUnFVm-"
      },
      "source": [
        "#### Computing the mean of the evaluation matrics (per model) "
      ]
    },
    {
      "cell_type": "code",
      "metadata": {
        "colab_type": "code",
        "id": "60iQJxSBebo2",
        "colab": {},
        "outputId": "a9099923-9d28-4af0-8ff6-5b3fe6a59f67"
      },
      "source": [
        "trace = go.Table(\n",
        "    header=dict(values=['Model', 'Loss', 'Accuracy', 'mean_pred', 'F-Measure', 'Precision', 'AUC', 'Recall'],\n",
        "                line = dict(color='#7D7F80'),\n",
        "                fill = dict(color='#a1c3d1'),\n",
        "                align = ['left'] * 5),\n",
        "    cells=dict(values=[['CNN with Glove', 'RNNs with Glove', 'LSTM with Glove', ' Bidirectional LSTM with Glove', 'GRU with Glove', 'Bidirectional GRU with Glove'],\n",
        "                       [\n",
        "                        #Loss Evaluation\n",
        "                        round(np.mean(CNN_Glove_model_fit.history['loss']), 3), round(np.mean(RNN_Glove_model_fit.history['loss']), 3), \n",
        "                        round(np.mean(LSTM_Glove_model_fit.history['loss']), 3), round(np.mean(Bil_LSTM_Glove_model_fit.history['loss']), 3), round(np.mean(GRU_Glove_model_fit.history['loss']), 3),\n",
        "                        round(np.mean(Bil_GRU_Glove_model_fit.history['loss']), 3)],\n",
        "                        \n",
        "                        #Accuracy Evaluation\n",
        "                        [round(np.mean(CNN_Glove_model_fit.history['acc']), 3), round(np.mean(RNN_Glove_model_fit.history['acc']), 3), \n",
        "                        round(np.mean(LSTM_Glove_model_fit.history['acc']), 3), round(np.mean(Bil_LSTM_Glove_model_fit.history['acc']), 3), round(np.mean(GRU_Glove_model_fit.history['acc']), 3),\n",
        "                        round(np.mean(Bil_GRU_Glove_model_fit.history['acc']), 3)],\n",
        "               \n",
        "                        #mean_pred Evaluation\n",
        "                        [round(np.mean(CNN_Glove_model_fit.history['mean_pred']), 3), round(np.mean(RNN_Glove_model_fit.history['mean_pred']), 3), \n",
        "                        round(np.mean(LSTM_Glove_model_fit.history['mean_pred']), 3), round(np.mean(Bil_LSTM_Glove_model_fit.history['mean_pred']), 3), round(np.mean(GRU_Glove_model_fit.history['mean_pred']), 3),\n",
        "                        round(np.mean(Bil_GRU_Glove_model_fit.history['mean_pred']), 3)],\n",
        "\t\t\t\t\t\t\n",
        "                        #F1-Measure Evaluation fmeasure\n",
        "                        [round(np.mean(CNN_Glove_model_fit.history['fmeasure']), 3), round(np.mean(RNN_Glove_model_fit.history['fmeasure']), 3), \n",
        "                        round(np.mean(LSTM_Glove_model_fit.history['fmeasure']), 3), round(np.mean(Bil_LSTM_Glove_model_fit.history['fmeasure']), 3), round(np.mean(GRU_Glove_model_fit.history['fmeasure']), 3),\n",
        "                        round(np.mean(Bil_GRU_Glove_model_fit.history['fmeasure']), 3)],\n",
        "\t\t\t\t\t\t             \n",
        "                        #Precision Evaluation precision\n",
        "                        [round(np.mean(CNN_Glove_model_fit.history['precision']), 3), round(np.mean(RNN_Glove_model_fit.history['precision']), 3), \n",
        "                        round(np.mean(LSTM_Glove_model_fit.history['precision']), 3), round(np.mean(Bil_LSTM_Glove_model_fit.history['precision']), 3), round(np.mean(GRU_Glove_model_fit.history['precision']), 3),\n",
        "                        round(np.mean(Bil_GRU_Glove_model_fit.history['precision']), 3)],\n",
        "\t\t\t\t\t\t\n",
        "                        #ROC AUC Evaluation auroc\n",
        "                        [round(np.mean(CNN_Glove_model_fit.history['auroc']), 3), round(np.mean(RNN_Glove_model_fit.history['auroc']), 3), \n",
        "                        round(np.mean(LSTM_Glove_model_fit.history['auroc']), 3), round(np.mean(Bil_LSTM_Glove_model_fit.history['auroc']), 3), round(np.mean(GRU_Glove_model_fit.history['auroc']), 3),\n",
        "                        round(np.mean(Bil_GRU_Glove_model_fit.history['auroc']), 3)],\n",
        "                       \n",
        "                        #Recall Evaluation\n",
        "                        [round(np.mean(CNN_Glove_model_fit.history['recall']), 3), round(np.mean(RNN_Glove_model_fit.history['recall']), 3), \n",
        "                        round(np.mean(LSTM_Glove_model_fit.history['recall']), 3), round(np.mean(Bil_LSTM_Glove_model_fit.history['recall']), 3), round(np.mean(GRU_Glove_model_fit.history['recall']), 3),\n",
        "                        round(np.mean(Bil_GRU_Glove_model_fit.history['recall']), 3)]\n",
        "                       ],\n",
        "               line = dict(color='#7D7F80'),\n",
        "               fill = dict(color='#EDFAFF'),\n",
        "               align = ['left'] * 5))\n",
        "\n",
        "layout = dict(width=800, height=400)\n",
        "data = [trace]\n",
        "fig = dict(data=data, layout=layout)\n",
        "py.iplot(data, filename = 'with_Glove_trained_embedding_with the Mean value of the evaluation matrics (per model) _table')"
      ],
      "execution_count": 0,
      "outputs": [
        {
          "output_type": "stream",
          "text": [
            "D:\\Program Files\\Anaconda\\lib\\site-packages\\IPython\\core\\display.py:689: UserWarning:\n",
            "\n",
            "Consider using IPython.display.IFrame instead\n",
            "\n"
          ],
          "name": "stderr"
        },
        {
          "output_type": "execute_result",
          "data": {
            "text/html": [
              "<iframe id=\"igraph\" scrolling=\"no\" style=\"border:none;\" seamless=\"seamless\" src=\"https://plot.ly/~hamzasharoon/23.embed\" height=\"525px\" width=\"100%\"></iframe>"
            ],
            "text/plain": [
              "<chart_studio.tools.PlotlyDisplay object>"
            ]
          },
          "metadata": {
            "tags": []
          },
          "execution_count": 88
        }
      ]
    },
    {
      "cell_type": "markdown",
      "metadata": {
        "colab_type": "text",
        "id": "YReLhGyAfp_P"
      },
      "source": [
        "### Score Confusion Table"
      ]
    },
    {
      "cell_type": "code",
      "metadata": {
        "colab_type": "code",
        "id": "_pVa5ywRfvE_",
        "colab": {},
        "outputId": "a0805591-dc3d-448a-baec-0b9d1149bc1d"
      },
      "source": [
        "# concat all training, validation and testing accuracy scores\n",
        "\n",
        "CNN_Glove_Accuracy = ['Convolutional Neural Network (CNN) with Glove', \n",
        "                np.mean(CNN_Glove_model_fit.history['acc']), \n",
        "                np.mean(CNN_Glove_model_fit.history['val_acc']), \n",
        "                CNN_Glove_test_score[1]]\n",
        "\n",
        "RNN_GLove_Accuracy = ['Recurrent Neural Networks (RNNs) with Glove', \n",
        "                np.mean(RNN_Glove_model_fit.history['acc']), \n",
        "                np.mean(RNN_Glove_model_fit.history['val_acc']), \n",
        "                RNN_Glove_test_score[1]]\n",
        "\n",
        "LSTM_Glove_Accuracy = ['LSTM with Glove', \n",
        "                  np.mean(LSTM_Glove_model_fit.history['acc']), \n",
        "                  np.mean(LSTM_Glove_model_fit.history['val_acc']), \n",
        "                  LSTM_Glove_test_score[1]]\n",
        "\n",
        "Bidirectional_LSTM_Glove_Accuracy = ['Bidirectional LSTM with Glove', \n",
        "                    np.mean(Bil_LSTM_Glove_model_fit.history['acc']), \n",
        "                    np.mean(Bil_LSTM_Glove_model_fit.history['val_acc']), \n",
        "                    Bil_LSTM_Glove_test_score[1]]\n",
        "\n",
        "GRU_Glove_Accuracy = ['GRU with Glove', \n",
        "                    np.mean(GRU_Glove_model_fit.history['acc']), \n",
        "                    np.mean(GRU_Glove_model_fit.history['val_acc']), \n",
        "                    GRU_Glove_test_score[1]]\n",
        "\n",
        "Bidirectional_GRU_Glove_Accuracy = ['Bidirectional GRU with Glove', \n",
        "                    np.mean(Bil_GRU_Glove_model_fit.history['acc']), \n",
        "                    np.mean(Bil_GRU_Glove_model_fit.history['val_acc']), \n",
        "                    Bil_GRU_Glove_test_score[1]]\n",
        "\n",
        "\n",
        "# create dataframe\n",
        "experimentalResult = pd.DataFrame([CNN_Glove_Accuracy])\n",
        "# append all other scores\n",
        "experimentalResult = experimentalResult.append([CNN_Glove_Accuracy, RNN_GLove_Accuracy, LSTM_Glove_Accuracy, Bidirectional_LSTM_Glove_Accuracy, \n",
        "                                                GRU_Glove_Accuracy, Bidirectional_GRU_Glove_Accuracy])\n",
        "\n",
        "\n",
        "# beautify the new dataframe\n",
        "experimentalResult.columns = ['Model', 'Training Accuracy', 'Validation Accuracy', 'Testing Accuracy']\n",
        "experimentalResult.set_index(['Model'], inplace=True)\n",
        "experimentalResult\n",
        "print(experimentalResult)"
      ],
      "execution_count": 0,
      "outputs": [
        {
          "output_type": "stream",
          "text": [
            "                                               Training Accuracy  \\\n",
            "Model                                                              \n",
            "Convolutional Neural Network (CNN) with Glove           0.975010   \n",
            "Convolutional Neural Network (CNN) with Glove           0.975010   \n",
            "Recurrent Neural Networks (RNNs) with Glove             0.971694   \n",
            "LSTM with Glove                                         0.976175   \n",
            "Bidirectional LSTM with Glove                           0.977755   \n",
            "GRU with Glove                                          0.981900   \n",
            "Bidirectional GRU with Glove                            0.982814   \n",
            "\n",
            "                                               Validation Accuracy  \\\n",
            "Model                                                                \n",
            "Convolutional Neural Network (CNN) with Glove             0.978831   \n",
            "Convolutional Neural Network (CNN) with Glove             0.978831   \n",
            "Recurrent Neural Networks (RNNs) with Glove               0.974337   \n",
            "LSTM with Glove                                           0.979009   \n",
            "Bidirectional LSTM with Glove                             0.979082   \n",
            "GRU with Glove                                            0.982010   \n",
            "Bidirectional GRU with Glove                              0.982263   \n",
            "\n",
            "                                               Testing Accuracy  \n",
            "Model                                                            \n",
            "Convolutional Neural Network (CNN) with Glove          0.972744  \n",
            "Convolutional Neural Network (CNN) with Glove          0.972744  \n",
            "Recurrent Neural Networks (RNNs) with Glove            0.969209  \n",
            "LSTM with Glove                                        0.964172  \n",
            "Bidirectional LSTM with Glove                          0.970914  \n",
            "GRU with Glove                                         0.967798  \n",
            "Bidirectional GRU with Glove                           0.971706  \n"
          ],
          "name": "stdout"
        }
      ]
    },
    {
      "cell_type": "code",
      "metadata": {
        "id": "kB7Ww5Sh9h0B",
        "colab_type": "code",
        "colab": {}
      },
      "source": [
        ""
      ],
      "execution_count": 0,
      "outputs": []
    }
  ]
}