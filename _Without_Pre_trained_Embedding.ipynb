{
  "nbformat": 4,
  "nbformat_minor": 0,
  "metadata": {
    "colab": {
      "name": "_Without_Pre_trained_Embedding.ipynb",
      "version": "0.3.2",
      "provenance": [],
      "collapsed_sections": [],
      "toc_visible": true,
      "include_colab_link": true
    },
    "language_info": {
      "codemirror_mode": {
        "name": "ipython",
        "version": 3
      },
      "file_extension": ".py",
      "mimetype": "text/x-python",
      "name": "python",
      "nbconvert_exporter": "python",
      "pygments_lexer": "ipython3",
      "version": "3.7.3"
    },
    "kernelspec": {
      "display_name": "Python 3",
      "language": "python",
      "name": "python3"
    },
    "accelerator": "TPU"
  },
  "cells": [
    {
      "cell_type": "markdown",
      "metadata": {
        "id": "view-in-github",
        "colab_type": "text"
      },
      "source": [
        "<a href=\"https://colab.research.google.com/github/Hamxea/Experiments/blob/master/_Without_Pre_trained_Embedding.ipynb\" target=\"_parent\"><img src=\"https://colab.research.google.com/assets/colab-badge.svg\" alt=\"Open In Colab\"/></a>"
      ]
    },
    {
      "cell_type": "markdown",
      "metadata": {
        "colab_type": "text",
        "id": "JnB0s1tPejbl"
      },
      "source": [
        "# Multi-Label Text Classification of Text Document or News\n"
      ]
    },
    {
      "cell_type": "markdown",
      "metadata": {
        "colab_type": "text",
        "id": "fKccKTR_ejbm"
      },
      "source": [
        " ### DATASET\n",
        "\n",
        "Toxic Comment Classification dataset. a multi-label text classfication data consisting of many wikipedia comments which have been labeled by humans according to their relative toxicity comments labels such as \"toxic\", \"severe_toxic\", \"obscene\", \"threat\", \"insult\", and  \"identity_hate\". The dataset has approximately ~160k observation in total, ~125k with zero labels (toxicity) of any type, and approximately ~35k classified in one or more toxicity categories.\n",
        "\n",
        "\n",
        "\n",
        "\n",
        "*   Dataset Link: https://www.kaggle.com/c/jigsaw-toxic-comment-classification-challenge\n",
        "\n",
        "\n"
      ]
    },
    {
      "cell_type": "markdown",
      "metadata": {
        "colab_type": "text",
        "id": "h4oWa1Aqejbn"
      },
      "source": [
        "\n",
        "#### DATA CHARACTERISTICS (TRAIN DATASET)\n",
        "* Number of data points\t159571\n",
        "* Number data points of type toxic\t15294\n",
        "* Number data points of type severe_tocic\t1595\n",
        "* Number data points of type obscene\t8449\n",
        "* Number data points of type threat\t478\n",
        "* Number data points of type insult\t7877\n",
        "* Number data points of type identity_hate\t1405\n",
        "* Observations in one or more class\t35098\n",
        "* Unclassified observation\t124473\n"
      ]
    },
    {
      "cell_type": "markdown",
      "metadata": {
        "colab_type": "text",
        "id": "NoB57aB6ejbo"
      },
      "source": [
        "### Import necessary libraries for the experiment"
      ]
    },
    {
      "cell_type": "code",
      "metadata": {
        "colab_type": "code",
        "id": "BXuDj-0Vejbp",
        "outputId": "bbecd2e2-2fea-4829-ede7-5e48f0d61399",
        "colab": {
          "base_uri": "https://localhost:8080/",
          "height": 238
        }
      },
      "source": [
        "# importing libraries\n",
        "import tensorflow as tf\n",
        "from keras import initializers, regularizers, constraints, optimizers, layers, callbacks\n",
        "from keras.callbacks import EarlyStopping,ModelCheckpoint\n",
        "from keras.preprocessing.text import Tokenizer\n",
        "from keras.preprocessing.sequence import pad_sequences\n",
        "from keras.preprocessing import text, sequence\n",
        "from keras import initializers, regularizers, constraints, optimizers, layers\n",
        "from keras.models import Model, Input, Sequential\n",
        "from keras.layers import Dense, Input, LSTM, SimpleRNN, Embedding, Dropout, SpatialDropout1D, Activation, Conv1D,GRU\n",
        "from keras.layers import Conv1D, Bidirectional, GlobalMaxPool1D, MaxPooling1D, BatchNormalization, Add, Flatten\n",
        "from keras.layers import GlobalMaxPooling1D, GlobalAveragePooling1D, concatenate, SpatialDropout1D\n",
        "from keras.optimizers import Adam\n",
        "from keras.utils.vis_utils import plot_model\n",
        "from sklearn.model_selection  import train_test_split\n",
        "#from sklearn.cross_validation import train_test_split\n",
        "\n",
        "\n",
        "# For custom metrics\n",
        "import keras.backend as K\n",
        "from keras.utils.vis_utils import plot_model\n",
        "from keras.callbacks import EarlyStopping \n",
        "\n",
        "\n",
        "import pandas as pd\n",
        "import numpy as np\n",
        " \n",
        "import matplotlib.pyplot as plt\n",
        "\n",
        "plt.style.use('seaborn')\n",
        "\n",
        "import seaborn as sns\n",
        "from IPython.display import Image\n",
        "\n",
        "from tqdm import tqdm\n",
        "from nltk.corpus import stopwords\n",
        "from nltk.tokenize import RegexpTokenizer \n",
        "import os, re, csv, math, codecs\n",
        "from nltk.tokenize import word_tokenize\n",
        "import string\n",
        "import gensim\n",
        "import os\n",
        "import re\n",
        "\n",
        "sns.set_style(\"whitegrid\")\n",
        "np.random.seed(0)\n",
        "\n",
        "import plotly.plotly as py\n",
        "import plotly.graph_objs as go\n",
        "import plotly\n",
        "plotly.tools.set_credentials_file(username='hamzasharoon', api_key='9le0c8M5GUNRAKyJoIt2')\n",
        "\n",
        "\n",
        "# Install dependencies\n",
        "!apt install graphviz\n",
        "!pip install pydot pydot-ng\n",
        "!echo \"Double check with Python 3\"\n",
        "!python -c \"import pydot\""
      ],
      "execution_count": 0,
      "outputs": [
        {
          "output_type": "stream",
          "text": [
            "Using TensorFlow backend.\n",
            "'apt' is not recognized as an internal or external command,\n",
            "operable program or batch file.\n"
          ],
          "name": "stderr"
        },
        {
          "output_type": "stream",
          "text": [
            "Requirement already satisfied: pydot in d:\\program files\\anaconda\\lib\\site-packages (1.4.1)\n",
            "Requirement already satisfied: pydot-ng in d:\\program files\\anaconda\\lib\\site-packages (2.0.0)\n",
            "Requirement already satisfied: pyparsing>=2.1.4 in d:\\program files\\anaconda\\lib\\site-packages (from pydot) (2.3.1)\n",
            "\"Double check with Python 3\"\n"
          ],
          "name": "stdout"
        }
      ]
    },
    {
      "cell_type": "markdown",
      "metadata": {
        "colab_type": "text",
        "id": "Wbd_vQHxejbu"
      },
      "source": [
        "### Loading the necessary data files and data Preparation"
      ]
    },
    {
      "cell_type": "code",
      "metadata": {
        "colab_type": "code",
        "id": "ClGBLAyTyw5C",
        "colab": {}
      },
      "source": [
        "#from google.colab import files\n",
        "#uploaded = files.upload()\n",
        "\n",
        "#from google.colab import drive\n",
        "#!kaggle competitions download -c Toxic Comment Classification Challenge -p /content/gdrive/My\\ Drive/kaggle/Colab Notebooks/Dataset"
      ],
      "execution_count": 0,
      "outputs": []
    },
    {
      "cell_type": "code",
      "metadata": {
        "colab_type": "code",
        "id": "6mdP52kqu-Kt",
        "colab": {},
        "outputId": "70c4a293-7d88-4393-826b-5ba871953b2d"
      },
      "source": [
        "#Train data\n",
        "train = pd.read_csv('D:/çankaya/2ndYEAR/Thesis/Experiments/Data_Toxic Comment Classification/train.csv')\n",
        "train.head(10)"
      ],
      "execution_count": 0,
      "outputs": [
        {
          "output_type": "execute_result",
          "data": {
            "text/html": [
              "<div>\n",
              "<style scoped>\n",
              "    .dataframe tbody tr th:only-of-type {\n",
              "        vertical-align: middle;\n",
              "    }\n",
              "\n",
              "    .dataframe tbody tr th {\n",
              "        vertical-align: top;\n",
              "    }\n",
              "\n",
              "    .dataframe thead th {\n",
              "        text-align: right;\n",
              "    }\n",
              "</style>\n",
              "<table border=\"1\" class=\"dataframe\">\n",
              "  <thead>\n",
              "    <tr style=\"text-align: right;\">\n",
              "      <th></th>\n",
              "      <th>id</th>\n",
              "      <th>comment_text</th>\n",
              "      <th>toxic</th>\n",
              "      <th>severe_toxic</th>\n",
              "      <th>obscene</th>\n",
              "      <th>threat</th>\n",
              "      <th>insult</th>\n",
              "      <th>identity_hate</th>\n",
              "    </tr>\n",
              "  </thead>\n",
              "  <tbody>\n",
              "    <tr>\n",
              "      <th>0</th>\n",
              "      <td>0000997932d777bf</td>\n",
              "      <td>Explanation\\nWhy the edits made under my usern...</td>\n",
              "      <td>0</td>\n",
              "      <td>0</td>\n",
              "      <td>0</td>\n",
              "      <td>0</td>\n",
              "      <td>0</td>\n",
              "      <td>0</td>\n",
              "    </tr>\n",
              "    <tr>\n",
              "      <th>1</th>\n",
              "      <td>000103f0d9cfb60f</td>\n",
              "      <td>D'aww! He matches this background colour I'm s...</td>\n",
              "      <td>0</td>\n",
              "      <td>0</td>\n",
              "      <td>0</td>\n",
              "      <td>0</td>\n",
              "      <td>0</td>\n",
              "      <td>0</td>\n",
              "    </tr>\n",
              "    <tr>\n",
              "      <th>2</th>\n",
              "      <td>000113f07ec002fd</td>\n",
              "      <td>Hey man, I'm really not trying to edit war. It...</td>\n",
              "      <td>0</td>\n",
              "      <td>0</td>\n",
              "      <td>0</td>\n",
              "      <td>0</td>\n",
              "      <td>0</td>\n",
              "      <td>0</td>\n",
              "    </tr>\n",
              "    <tr>\n",
              "      <th>3</th>\n",
              "      <td>0001b41b1c6bb37e</td>\n",
              "      <td>\"\\nMore\\nI can't make any real suggestions on ...</td>\n",
              "      <td>0</td>\n",
              "      <td>0</td>\n",
              "      <td>0</td>\n",
              "      <td>0</td>\n",
              "      <td>0</td>\n",
              "      <td>0</td>\n",
              "    </tr>\n",
              "    <tr>\n",
              "      <th>4</th>\n",
              "      <td>0001d958c54c6e35</td>\n",
              "      <td>You, sir, are my hero. Any chance you remember...</td>\n",
              "      <td>0</td>\n",
              "      <td>0</td>\n",
              "      <td>0</td>\n",
              "      <td>0</td>\n",
              "      <td>0</td>\n",
              "      <td>0</td>\n",
              "    </tr>\n",
              "    <tr>\n",
              "      <th>5</th>\n",
              "      <td>00025465d4725e87</td>\n",
              "      <td>\"\\n\\nCongratulations from me as well, use the ...</td>\n",
              "      <td>0</td>\n",
              "      <td>0</td>\n",
              "      <td>0</td>\n",
              "      <td>0</td>\n",
              "      <td>0</td>\n",
              "      <td>0</td>\n",
              "    </tr>\n",
              "    <tr>\n",
              "      <th>6</th>\n",
              "      <td>0002bcb3da6cb337</td>\n",
              "      <td>COCKSUCKER BEFORE YOU PISS AROUND ON MY WORK</td>\n",
              "      <td>1</td>\n",
              "      <td>1</td>\n",
              "      <td>1</td>\n",
              "      <td>0</td>\n",
              "      <td>1</td>\n",
              "      <td>0</td>\n",
              "    </tr>\n",
              "    <tr>\n",
              "      <th>7</th>\n",
              "      <td>00031b1e95af7921</td>\n",
              "      <td>Your vandalism to the Matt Shirvington article...</td>\n",
              "      <td>0</td>\n",
              "      <td>0</td>\n",
              "      <td>0</td>\n",
              "      <td>0</td>\n",
              "      <td>0</td>\n",
              "      <td>0</td>\n",
              "    </tr>\n",
              "    <tr>\n",
              "      <th>8</th>\n",
              "      <td>00037261f536c51d</td>\n",
              "      <td>Sorry if the word 'nonsense' was offensive to ...</td>\n",
              "      <td>0</td>\n",
              "      <td>0</td>\n",
              "      <td>0</td>\n",
              "      <td>0</td>\n",
              "      <td>0</td>\n",
              "      <td>0</td>\n",
              "    </tr>\n",
              "    <tr>\n",
              "      <th>9</th>\n",
              "      <td>00040093b2687caa</td>\n",
              "      <td>alignment on this subject and which are contra...</td>\n",
              "      <td>0</td>\n",
              "      <td>0</td>\n",
              "      <td>0</td>\n",
              "      <td>0</td>\n",
              "      <td>0</td>\n",
              "      <td>0</td>\n",
              "    </tr>\n",
              "  </tbody>\n",
              "</table>\n",
              "</div>"
            ],
            "text/plain": [
              "                 id                                       comment_text  toxic  \\\n",
              "0  0000997932d777bf  Explanation\\nWhy the edits made under my usern...      0   \n",
              "1  000103f0d9cfb60f  D'aww! He matches this background colour I'm s...      0   \n",
              "2  000113f07ec002fd  Hey man, I'm really not trying to edit war. It...      0   \n",
              "3  0001b41b1c6bb37e  \"\\nMore\\nI can't make any real suggestions on ...      0   \n",
              "4  0001d958c54c6e35  You, sir, are my hero. Any chance you remember...      0   \n",
              "5  00025465d4725e87  \"\\n\\nCongratulations from me as well, use the ...      0   \n",
              "6  0002bcb3da6cb337       COCKSUCKER BEFORE YOU PISS AROUND ON MY WORK      1   \n",
              "7  00031b1e95af7921  Your vandalism to the Matt Shirvington article...      0   \n",
              "8  00037261f536c51d  Sorry if the word 'nonsense' was offensive to ...      0   \n",
              "9  00040093b2687caa  alignment on this subject and which are contra...      0   \n",
              "\n",
              "   severe_toxic  obscene  threat  insult  identity_hate  \n",
              "0             0        0       0       0              0  \n",
              "1             0        0       0       0              0  \n",
              "2             0        0       0       0              0  \n",
              "3             0        0       0       0              0  \n",
              "4             0        0       0       0              0  \n",
              "5             0        0       0       0              0  \n",
              "6             1        1       0       1              0  \n",
              "7             0        0       0       0              0  \n",
              "8             0        0       0       0              0  \n",
              "9             0        0       0       0              0  "
            ]
          },
          "metadata": {
            "tags": []
          },
          "execution_count": 3
        }
      ]
    },
    {
      "cell_type": "markdown",
      "metadata": {
        "colab_type": "text",
        "id": "yemWuxUUwGbQ"
      },
      "source": [
        "### Clean the Train data, specifically remove punctuations"
      ]
    },
    {
      "cell_type": "code",
      "metadata": {
        "colab_type": "code",
        "id": "bXBAuHzkegFw",
        "colab": {},
        "outputId": "c9490382-cc45-47a5-d206-480e3c66645c"
      },
      "source": [
        "totalContentCleaned = []\n",
        "punctDict = {}\n",
        "for punct in string.punctuation:\n",
        "    punctDict[punct] = None\n",
        "transString = str.maketrans(punctDict)\n",
        "# since we intent to remove any punctuation with ''\n",
        "for sen in train['comment_text']:\n",
        "    \n",
        "    #cleanedString = re.sub('[^a-zA-Z]+', '', sen)\n",
        "    \n",
        "    p = sen.translate(transString)\n",
        "    totalContentCleaned.append(p)\n",
        "    \n",
        "\n",
        "train['comment_text'] = totalContentCleaned\n",
        "# we can save the file to csv if we want in local machine\n",
        "#df.to_csv(os.path.join(os.path.abspath('data'), 'train_cleaned.csv'), index = False)\n",
        "\n",
        "\n",
        "\n",
        "train.head(10)"
      ],
      "execution_count": 0,
      "outputs": [
        {
          "output_type": "execute_result",
          "data": {
            "text/html": [
              "<div>\n",
              "<style scoped>\n",
              "    .dataframe tbody tr th:only-of-type {\n",
              "        vertical-align: middle;\n",
              "    }\n",
              "\n",
              "    .dataframe tbody tr th {\n",
              "        vertical-align: top;\n",
              "    }\n",
              "\n",
              "    .dataframe thead th {\n",
              "        text-align: right;\n",
              "    }\n",
              "</style>\n",
              "<table border=\"1\" class=\"dataframe\">\n",
              "  <thead>\n",
              "    <tr style=\"text-align: right;\">\n",
              "      <th></th>\n",
              "      <th>id</th>\n",
              "      <th>comment_text</th>\n",
              "      <th>toxic</th>\n",
              "      <th>severe_toxic</th>\n",
              "      <th>obscene</th>\n",
              "      <th>threat</th>\n",
              "      <th>insult</th>\n",
              "      <th>identity_hate</th>\n",
              "    </tr>\n",
              "  </thead>\n",
              "  <tbody>\n",
              "    <tr>\n",
              "      <th>0</th>\n",
              "      <td>0000997932d777bf</td>\n",
              "      <td>Explanation\\nWhy the edits made under my usern...</td>\n",
              "      <td>0</td>\n",
              "      <td>0</td>\n",
              "      <td>0</td>\n",
              "      <td>0</td>\n",
              "      <td>0</td>\n",
              "      <td>0</td>\n",
              "    </tr>\n",
              "    <tr>\n",
              "      <th>1</th>\n",
              "      <td>000103f0d9cfb60f</td>\n",
              "      <td>Daww He matches this background colour Im seem...</td>\n",
              "      <td>0</td>\n",
              "      <td>0</td>\n",
              "      <td>0</td>\n",
              "      <td>0</td>\n",
              "      <td>0</td>\n",
              "      <td>0</td>\n",
              "    </tr>\n",
              "    <tr>\n",
              "      <th>2</th>\n",
              "      <td>000113f07ec002fd</td>\n",
              "      <td>Hey man Im really not trying to edit war Its j...</td>\n",
              "      <td>0</td>\n",
              "      <td>0</td>\n",
              "      <td>0</td>\n",
              "      <td>0</td>\n",
              "      <td>0</td>\n",
              "      <td>0</td>\n",
              "    </tr>\n",
              "    <tr>\n",
              "      <th>3</th>\n",
              "      <td>0001b41b1c6bb37e</td>\n",
              "      <td>\\nMore\\nI cant make any real suggestions on im...</td>\n",
              "      <td>0</td>\n",
              "      <td>0</td>\n",
              "      <td>0</td>\n",
              "      <td>0</td>\n",
              "      <td>0</td>\n",
              "      <td>0</td>\n",
              "    </tr>\n",
              "    <tr>\n",
              "      <th>4</th>\n",
              "      <td>0001d958c54c6e35</td>\n",
              "      <td>You sir are my hero Any chance you remember wh...</td>\n",
              "      <td>0</td>\n",
              "      <td>0</td>\n",
              "      <td>0</td>\n",
              "      <td>0</td>\n",
              "      <td>0</td>\n",
              "      <td>0</td>\n",
              "    </tr>\n",
              "    <tr>\n",
              "      <th>5</th>\n",
              "      <td>00025465d4725e87</td>\n",
              "      <td>\\n\\nCongratulations from me as well use the to...</td>\n",
              "      <td>0</td>\n",
              "      <td>0</td>\n",
              "      <td>0</td>\n",
              "      <td>0</td>\n",
              "      <td>0</td>\n",
              "      <td>0</td>\n",
              "    </tr>\n",
              "    <tr>\n",
              "      <th>6</th>\n",
              "      <td>0002bcb3da6cb337</td>\n",
              "      <td>COCKSUCKER BEFORE YOU PISS AROUND ON MY WORK</td>\n",
              "      <td>1</td>\n",
              "      <td>1</td>\n",
              "      <td>1</td>\n",
              "      <td>0</td>\n",
              "      <td>1</td>\n",
              "      <td>0</td>\n",
              "    </tr>\n",
              "    <tr>\n",
              "      <th>7</th>\n",
              "      <td>00031b1e95af7921</td>\n",
              "      <td>Your vandalism to the Matt Shirvington article...</td>\n",
              "      <td>0</td>\n",
              "      <td>0</td>\n",
              "      <td>0</td>\n",
              "      <td>0</td>\n",
              "      <td>0</td>\n",
              "      <td>0</td>\n",
              "    </tr>\n",
              "    <tr>\n",
              "      <th>8</th>\n",
              "      <td>00037261f536c51d</td>\n",
              "      <td>Sorry if the word nonsense was offensive to yo...</td>\n",
              "      <td>0</td>\n",
              "      <td>0</td>\n",
              "      <td>0</td>\n",
              "      <td>0</td>\n",
              "      <td>0</td>\n",
              "      <td>0</td>\n",
              "    </tr>\n",
              "    <tr>\n",
              "      <th>9</th>\n",
              "      <td>00040093b2687caa</td>\n",
              "      <td>alignment on this subject and which are contra...</td>\n",
              "      <td>0</td>\n",
              "      <td>0</td>\n",
              "      <td>0</td>\n",
              "      <td>0</td>\n",
              "      <td>0</td>\n",
              "      <td>0</td>\n",
              "    </tr>\n",
              "  </tbody>\n",
              "</table>\n",
              "</div>"
            ],
            "text/plain": [
              "                 id                                       comment_text  toxic  \\\n",
              "0  0000997932d777bf  Explanation\\nWhy the edits made under my usern...      0   \n",
              "1  000103f0d9cfb60f  Daww He matches this background colour Im seem...      0   \n",
              "2  000113f07ec002fd  Hey man Im really not trying to edit war Its j...      0   \n",
              "3  0001b41b1c6bb37e  \\nMore\\nI cant make any real suggestions on im...      0   \n",
              "4  0001d958c54c6e35  You sir are my hero Any chance you remember wh...      0   \n",
              "5  00025465d4725e87  \\n\\nCongratulations from me as well use the to...      0   \n",
              "6  0002bcb3da6cb337       COCKSUCKER BEFORE YOU PISS AROUND ON MY WORK      1   \n",
              "7  00031b1e95af7921  Your vandalism to the Matt Shirvington article...      0   \n",
              "8  00037261f536c51d  Sorry if the word nonsense was offensive to yo...      0   \n",
              "9  00040093b2687caa  alignment on this subject and which are contra...      0   \n",
              "\n",
              "   severe_toxic  obscene  threat  insult  identity_hate  \n",
              "0             0        0       0       0              0  \n",
              "1             0        0       0       0              0  \n",
              "2             0        0       0       0              0  \n",
              "3             0        0       0       0              0  \n",
              "4             0        0       0       0              0  \n",
              "5             0        0       0       0              0  \n",
              "6             1        1       0       1              0  \n",
              "7             0        0       0       0              0  \n",
              "8             0        0       0       0              0  \n",
              "9             0        0       0       0              0  "
            ]
          },
          "metadata": {
            "tags": []
          },
          "execution_count": 4
        }
      ]
    },
    {
      "cell_type": "code",
      "metadata": {
        "colab_type": "code",
        "id": "bThKgInKejb0",
        "outputId": "0d1b49cb-edb0-4133-c23c-2e4b34630276",
        "colab": {
          "base_uri": "https://localhost:8080/",
          "height": 405
        }
      },
      "source": [
        "#Test data\n",
        "df_test = pd.read_csv('D:/çankaya/2ndYEAR/Thesis/Experiments/Data_Toxic Comment Classification/test.csv')\n",
        "df_test.head(10)"
      ],
      "execution_count": 0,
      "outputs": [
        {
          "output_type": "execute_result",
          "data": {
            "text/html": [
              "<div>\n",
              "<style scoped>\n",
              "    .dataframe tbody tr th:only-of-type {\n",
              "        vertical-align: middle;\n",
              "    }\n",
              "\n",
              "    .dataframe tbody tr th {\n",
              "        vertical-align: top;\n",
              "    }\n",
              "\n",
              "    .dataframe thead th {\n",
              "        text-align: right;\n",
              "    }\n",
              "</style>\n",
              "<table border=\"1\" class=\"dataframe\">\n",
              "  <thead>\n",
              "    <tr style=\"text-align: right;\">\n",
              "      <th></th>\n",
              "      <th>id</th>\n",
              "      <th>comment_text</th>\n",
              "    </tr>\n",
              "  </thead>\n",
              "  <tbody>\n",
              "    <tr>\n",
              "      <th>0</th>\n",
              "      <td>00001cee341fdb12</td>\n",
              "      <td>Yo bitch Ja Rule is more succesful then you'll...</td>\n",
              "    </tr>\n",
              "    <tr>\n",
              "      <th>1</th>\n",
              "      <td>0000247867823ef7</td>\n",
              "      <td>== From RfC == \\n\\n The title is fine as it is...</td>\n",
              "    </tr>\n",
              "    <tr>\n",
              "      <th>2</th>\n",
              "      <td>00013b17ad220c46</td>\n",
              "      <td>\" \\n\\n == Sources == \\n\\n * Zawe Ashton on Lap...</td>\n",
              "    </tr>\n",
              "    <tr>\n",
              "      <th>3</th>\n",
              "      <td>00017563c3f7919a</td>\n",
              "      <td>:If you have a look back at the source, the in...</td>\n",
              "    </tr>\n",
              "    <tr>\n",
              "      <th>4</th>\n",
              "      <td>00017695ad8997eb</td>\n",
              "      <td>I don't anonymously edit articles at all.</td>\n",
              "    </tr>\n",
              "    <tr>\n",
              "      <th>5</th>\n",
              "      <td>0001ea8717f6de06</td>\n",
              "      <td>Thank you for understanding. I think very high...</td>\n",
              "    </tr>\n",
              "    <tr>\n",
              "      <th>6</th>\n",
              "      <td>00024115d4cbde0f</td>\n",
              "      <td>Please do not add nonsense to Wikipedia. Such ...</td>\n",
              "    </tr>\n",
              "    <tr>\n",
              "      <th>7</th>\n",
              "      <td>000247e83dcc1211</td>\n",
              "      <td>:Dear god this site is horrible.</td>\n",
              "    </tr>\n",
              "    <tr>\n",
              "      <th>8</th>\n",
              "      <td>00025358d4737918</td>\n",
              "      <td>\" \\n Only a fool can believe in such numbers. ...</td>\n",
              "    </tr>\n",
              "    <tr>\n",
              "      <th>9</th>\n",
              "      <td>00026d1092fe71cc</td>\n",
              "      <td>== Double Redirects == \\n\\n When fixing double...</td>\n",
              "    </tr>\n",
              "  </tbody>\n",
              "</table>\n",
              "</div>"
            ],
            "text/plain": [
              "                 id                                       comment_text\n",
              "0  00001cee341fdb12  Yo bitch Ja Rule is more succesful then you'll...\n",
              "1  0000247867823ef7  == From RfC == \\n\\n The title is fine as it is...\n",
              "2  00013b17ad220c46  \" \\n\\n == Sources == \\n\\n * Zawe Ashton on Lap...\n",
              "3  00017563c3f7919a  :If you have a look back at the source, the in...\n",
              "4  00017695ad8997eb          I don't anonymously edit articles at all.\n",
              "5  0001ea8717f6de06  Thank you for understanding. I think very high...\n",
              "6  00024115d4cbde0f  Please do not add nonsense to Wikipedia. Such ...\n",
              "7  000247e83dcc1211                   :Dear god this site is horrible.\n",
              "8  00025358d4737918  \" \\n Only a fool can believe in such numbers. ...\n",
              "9  00026d1092fe71cc  == Double Redirects == \\n\\n When fixing double..."
            ]
          },
          "metadata": {
            "tags": []
          },
          "execution_count": 5
        }
      ]
    },
    {
      "cell_type": "markdown",
      "metadata": {
        "colab_type": "text",
        "id": "gkNgoN8pwPtA"
      },
      "source": [
        "### Clean the Test data, specifically remove punctuations"
      ]
    },
    {
      "cell_type": "code",
      "metadata": {
        "colab_type": "code",
        "id": "qAtY_WxPe03X",
        "colab": {},
        "outputId": "babf9800-f1ca-454e-b6ba-ccc89754f506"
      },
      "source": [
        "totalContentCleaned = []\n",
        "punctDict = {}\n",
        "for punct in string.punctuation:\n",
        "    punctDict[punct] = None\n",
        "transString = str.maketrans(punctDict)\n",
        "# since we intent to remove any punctuation with ''\n",
        "for sen in df_test['comment_text']:\n",
        "    \n",
        "    #cleanedString = re.sub('[^a-zA-Z]+', '', sen)\n",
        "    \n",
        "    p = sen.translate(transString)\n",
        "    totalContentCleaned.append(p)\n",
        "    \n",
        "\n",
        "df_test['comment_text'] = totalContentCleaned\n",
        "# we can save the file to csv if we want in local machine\n",
        "#df.to_csv(os.path.join(os.path.abspath('data'), 'train_cleaned.csv'), index = False)\n",
        "\n",
        "\n",
        "\n",
        "df_test.head(10)"
      ],
      "execution_count": 0,
      "outputs": [
        {
          "output_type": "execute_result",
          "data": {
            "text/html": [
              "<div>\n",
              "<style scoped>\n",
              "    .dataframe tbody tr th:only-of-type {\n",
              "        vertical-align: middle;\n",
              "    }\n",
              "\n",
              "    .dataframe tbody tr th {\n",
              "        vertical-align: top;\n",
              "    }\n",
              "\n",
              "    .dataframe thead th {\n",
              "        text-align: right;\n",
              "    }\n",
              "</style>\n",
              "<table border=\"1\" class=\"dataframe\">\n",
              "  <thead>\n",
              "    <tr style=\"text-align: right;\">\n",
              "      <th></th>\n",
              "      <th>id</th>\n",
              "      <th>comment_text</th>\n",
              "    </tr>\n",
              "  </thead>\n",
              "  <tbody>\n",
              "    <tr>\n",
              "      <th>0</th>\n",
              "      <td>00001cee341fdb12</td>\n",
              "      <td>Yo bitch Ja Rule is more succesful then youll ...</td>\n",
              "    </tr>\n",
              "    <tr>\n",
              "      <th>1</th>\n",
              "      <td>0000247867823ef7</td>\n",
              "      <td>From RfC  \\n\\n The title is fine as it is IMO</td>\n",
              "    </tr>\n",
              "    <tr>\n",
              "      <th>2</th>\n",
              "      <td>00013b17ad220c46</td>\n",
              "      <td>\\n\\n  Sources  \\n\\n  Zawe Ashton on Lapland —...</td>\n",
              "    </tr>\n",
              "    <tr>\n",
              "      <th>3</th>\n",
              "      <td>00017563c3f7919a</td>\n",
              "      <td>If you have a look back at the source the info...</td>\n",
              "    </tr>\n",
              "    <tr>\n",
              "      <th>4</th>\n",
              "      <td>00017695ad8997eb</td>\n",
              "      <td>I dont anonymously edit articles at all</td>\n",
              "    </tr>\n",
              "    <tr>\n",
              "      <th>5</th>\n",
              "      <td>0001ea8717f6de06</td>\n",
              "      <td>Thank you for understanding I think very highl...</td>\n",
              "    </tr>\n",
              "    <tr>\n",
              "      <th>6</th>\n",
              "      <td>00024115d4cbde0f</td>\n",
              "      <td>Please do not add nonsense to Wikipedia Such e...</td>\n",
              "    </tr>\n",
              "    <tr>\n",
              "      <th>7</th>\n",
              "      <td>000247e83dcc1211</td>\n",
              "      <td>Dear god this site is horrible</td>\n",
              "    </tr>\n",
              "    <tr>\n",
              "      <th>8</th>\n",
              "      <td>00025358d4737918</td>\n",
              "      <td>\\n Only a fool can believe in such numbers \\n...</td>\n",
              "    </tr>\n",
              "    <tr>\n",
              "      <th>9</th>\n",
              "      <td>00026d1092fe71cc</td>\n",
              "      <td>Double Redirects  \\n\\n When fixing double red...</td>\n",
              "    </tr>\n",
              "  </tbody>\n",
              "</table>\n",
              "</div>"
            ],
            "text/plain": [
              "                 id                                       comment_text\n",
              "0  00001cee341fdb12  Yo bitch Ja Rule is more succesful then youll ...\n",
              "1  0000247867823ef7      From RfC  \\n\\n The title is fine as it is IMO\n",
              "2  00013b17ad220c46   \\n\\n  Sources  \\n\\n  Zawe Ashton on Lapland —...\n",
              "3  00017563c3f7919a  If you have a look back at the source the info...\n",
              "4  00017695ad8997eb            I dont anonymously edit articles at all\n",
              "5  0001ea8717f6de06  Thank you for understanding I think very highl...\n",
              "6  00024115d4cbde0f  Please do not add nonsense to Wikipedia Such e...\n",
              "7  000247e83dcc1211                     Dear god this site is horrible\n",
              "8  00025358d4737918   \\n Only a fool can believe in such numbers \\n...\n",
              "9  00026d1092fe71cc   Double Redirects  \\n\\n When fixing double red..."
            ]
          },
          "metadata": {
            "tags": []
          },
          "execution_count": 6
        }
      ]
    },
    {
      "cell_type": "code",
      "metadata": {
        "colab_type": "code",
        "id": "PAj6D9IZejb5",
        "colab": {},
        "outputId": "bfea7ccc-d848-49fe-fb0e-4bc451fe2bcb"
      },
      "source": [
        "df_test_labels = pd.read_csv('D:/çankaya/2ndYEAR/Thesis/Experiments/Data_Toxic Comment Classification/test_labels.csv')\n",
        "\n",
        "df_test_labels.head(10)"
      ],
      "execution_count": 0,
      "outputs": [
        {
          "output_type": "execute_result",
          "data": {
            "text/html": [
              "<div>\n",
              "<style scoped>\n",
              "    .dataframe tbody tr th:only-of-type {\n",
              "        vertical-align: middle;\n",
              "    }\n",
              "\n",
              "    .dataframe tbody tr th {\n",
              "        vertical-align: top;\n",
              "    }\n",
              "\n",
              "    .dataframe thead th {\n",
              "        text-align: right;\n",
              "    }\n",
              "</style>\n",
              "<table border=\"1\" class=\"dataframe\">\n",
              "  <thead>\n",
              "    <tr style=\"text-align: right;\">\n",
              "      <th></th>\n",
              "      <th>id</th>\n",
              "      <th>toxic</th>\n",
              "      <th>severe_toxic</th>\n",
              "      <th>obscene</th>\n",
              "      <th>threat</th>\n",
              "      <th>insult</th>\n",
              "      <th>identity_hate</th>\n",
              "    </tr>\n",
              "  </thead>\n",
              "  <tbody>\n",
              "    <tr>\n",
              "      <th>0</th>\n",
              "      <td>00001cee341fdb12</td>\n",
              "      <td>-1</td>\n",
              "      <td>-1</td>\n",
              "      <td>-1</td>\n",
              "      <td>-1</td>\n",
              "      <td>-1</td>\n",
              "      <td>-1</td>\n",
              "    </tr>\n",
              "    <tr>\n",
              "      <th>1</th>\n",
              "      <td>0000247867823ef7</td>\n",
              "      <td>-1</td>\n",
              "      <td>-1</td>\n",
              "      <td>-1</td>\n",
              "      <td>-1</td>\n",
              "      <td>-1</td>\n",
              "      <td>-1</td>\n",
              "    </tr>\n",
              "    <tr>\n",
              "      <th>2</th>\n",
              "      <td>00013b17ad220c46</td>\n",
              "      <td>-1</td>\n",
              "      <td>-1</td>\n",
              "      <td>-1</td>\n",
              "      <td>-1</td>\n",
              "      <td>-1</td>\n",
              "      <td>-1</td>\n",
              "    </tr>\n",
              "    <tr>\n",
              "      <th>3</th>\n",
              "      <td>00017563c3f7919a</td>\n",
              "      <td>-1</td>\n",
              "      <td>-1</td>\n",
              "      <td>-1</td>\n",
              "      <td>-1</td>\n",
              "      <td>-1</td>\n",
              "      <td>-1</td>\n",
              "    </tr>\n",
              "    <tr>\n",
              "      <th>4</th>\n",
              "      <td>00017695ad8997eb</td>\n",
              "      <td>-1</td>\n",
              "      <td>-1</td>\n",
              "      <td>-1</td>\n",
              "      <td>-1</td>\n",
              "      <td>-1</td>\n",
              "      <td>-1</td>\n",
              "    </tr>\n",
              "    <tr>\n",
              "      <th>5</th>\n",
              "      <td>0001ea8717f6de06</td>\n",
              "      <td>0</td>\n",
              "      <td>0</td>\n",
              "      <td>0</td>\n",
              "      <td>0</td>\n",
              "      <td>0</td>\n",
              "      <td>0</td>\n",
              "    </tr>\n",
              "    <tr>\n",
              "      <th>6</th>\n",
              "      <td>00024115d4cbde0f</td>\n",
              "      <td>-1</td>\n",
              "      <td>-1</td>\n",
              "      <td>-1</td>\n",
              "      <td>-1</td>\n",
              "      <td>-1</td>\n",
              "      <td>-1</td>\n",
              "    </tr>\n",
              "    <tr>\n",
              "      <th>7</th>\n",
              "      <td>000247e83dcc1211</td>\n",
              "      <td>0</td>\n",
              "      <td>0</td>\n",
              "      <td>0</td>\n",
              "      <td>0</td>\n",
              "      <td>0</td>\n",
              "      <td>0</td>\n",
              "    </tr>\n",
              "    <tr>\n",
              "      <th>8</th>\n",
              "      <td>00025358d4737918</td>\n",
              "      <td>-1</td>\n",
              "      <td>-1</td>\n",
              "      <td>-1</td>\n",
              "      <td>-1</td>\n",
              "      <td>-1</td>\n",
              "      <td>-1</td>\n",
              "    </tr>\n",
              "    <tr>\n",
              "      <th>9</th>\n",
              "      <td>00026d1092fe71cc</td>\n",
              "      <td>-1</td>\n",
              "      <td>-1</td>\n",
              "      <td>-1</td>\n",
              "      <td>-1</td>\n",
              "      <td>-1</td>\n",
              "      <td>-1</td>\n",
              "    </tr>\n",
              "  </tbody>\n",
              "</table>\n",
              "</div>"
            ],
            "text/plain": [
              "                 id  toxic  severe_toxic  obscene  threat  insult  \\\n",
              "0  00001cee341fdb12     -1            -1       -1      -1      -1   \n",
              "1  0000247867823ef7     -1            -1       -1      -1      -1   \n",
              "2  00013b17ad220c46     -1            -1       -1      -1      -1   \n",
              "3  00017563c3f7919a     -1            -1       -1      -1      -1   \n",
              "4  00017695ad8997eb     -1            -1       -1      -1      -1   \n",
              "5  0001ea8717f6de06      0             0        0       0       0   \n",
              "6  00024115d4cbde0f     -1            -1       -1      -1      -1   \n",
              "7  000247e83dcc1211      0             0        0       0       0   \n",
              "8  00025358d4737918     -1            -1       -1      -1      -1   \n",
              "9  00026d1092fe71cc     -1            -1       -1      -1      -1   \n",
              "\n",
              "   identity_hate  \n",
              "0             -1  \n",
              "1             -1  \n",
              "2             -1  \n",
              "3             -1  \n",
              "4             -1  \n",
              "5              0  \n",
              "6             -1  \n",
              "7              0  \n",
              "8             -1  \n",
              "9             -1  "
            ]
          },
          "metadata": {
            "tags": []
          },
          "execution_count": 7
        }
      ]
    },
    {
      "cell_type": "code",
      "metadata": {
        "colab_type": "code",
        "id": "wB71FX4Lejb_",
        "colab": {},
        "outputId": "9fad07b1-3474-4efa-8231-f655408760f3"
      },
      "source": [
        "test_labels = df_test_labels[(df_test_labels[['toxic','severe_toxic', 'obscene', 'threat', \n",
        "                                        'insult', 'identity_hate']] != -1).all(axis=1)]\n",
        "test_labels.head(10)"
      ],
      "execution_count": 0,
      "outputs": [
        {
          "output_type": "execute_result",
          "data": {
            "text/html": [
              "<div>\n",
              "<style scoped>\n",
              "    .dataframe tbody tr th:only-of-type {\n",
              "        vertical-align: middle;\n",
              "    }\n",
              "\n",
              "    .dataframe tbody tr th {\n",
              "        vertical-align: top;\n",
              "    }\n",
              "\n",
              "    .dataframe thead th {\n",
              "        text-align: right;\n",
              "    }\n",
              "</style>\n",
              "<table border=\"1\" class=\"dataframe\">\n",
              "  <thead>\n",
              "    <tr style=\"text-align: right;\">\n",
              "      <th></th>\n",
              "      <th>id</th>\n",
              "      <th>toxic</th>\n",
              "      <th>severe_toxic</th>\n",
              "      <th>obscene</th>\n",
              "      <th>threat</th>\n",
              "      <th>insult</th>\n",
              "      <th>identity_hate</th>\n",
              "    </tr>\n",
              "  </thead>\n",
              "  <tbody>\n",
              "    <tr>\n",
              "      <th>5</th>\n",
              "      <td>0001ea8717f6de06</td>\n",
              "      <td>0</td>\n",
              "      <td>0</td>\n",
              "      <td>0</td>\n",
              "      <td>0</td>\n",
              "      <td>0</td>\n",
              "      <td>0</td>\n",
              "    </tr>\n",
              "    <tr>\n",
              "      <th>7</th>\n",
              "      <td>000247e83dcc1211</td>\n",
              "      <td>0</td>\n",
              "      <td>0</td>\n",
              "      <td>0</td>\n",
              "      <td>0</td>\n",
              "      <td>0</td>\n",
              "      <td>0</td>\n",
              "    </tr>\n",
              "    <tr>\n",
              "      <th>11</th>\n",
              "      <td>0002f87b16116a7f</td>\n",
              "      <td>0</td>\n",
              "      <td>0</td>\n",
              "      <td>0</td>\n",
              "      <td>0</td>\n",
              "      <td>0</td>\n",
              "      <td>0</td>\n",
              "    </tr>\n",
              "    <tr>\n",
              "      <th>13</th>\n",
              "      <td>0003e1cccfd5a40a</td>\n",
              "      <td>0</td>\n",
              "      <td>0</td>\n",
              "      <td>0</td>\n",
              "      <td>0</td>\n",
              "      <td>0</td>\n",
              "      <td>0</td>\n",
              "    </tr>\n",
              "    <tr>\n",
              "      <th>14</th>\n",
              "      <td>00059ace3e3e9a53</td>\n",
              "      <td>0</td>\n",
              "      <td>0</td>\n",
              "      <td>0</td>\n",
              "      <td>0</td>\n",
              "      <td>0</td>\n",
              "      <td>0</td>\n",
              "    </tr>\n",
              "    <tr>\n",
              "      <th>16</th>\n",
              "      <td>000663aff0fffc80</td>\n",
              "      <td>0</td>\n",
              "      <td>0</td>\n",
              "      <td>0</td>\n",
              "      <td>0</td>\n",
              "      <td>0</td>\n",
              "      <td>0</td>\n",
              "    </tr>\n",
              "    <tr>\n",
              "      <th>17</th>\n",
              "      <td>000689dd34e20979</td>\n",
              "      <td>0</td>\n",
              "      <td>0</td>\n",
              "      <td>0</td>\n",
              "      <td>0</td>\n",
              "      <td>0</td>\n",
              "      <td>0</td>\n",
              "    </tr>\n",
              "    <tr>\n",
              "      <th>19</th>\n",
              "      <td>000844b52dee5f3f</td>\n",
              "      <td>0</td>\n",
              "      <td>0</td>\n",
              "      <td>0</td>\n",
              "      <td>0</td>\n",
              "      <td>0</td>\n",
              "      <td>0</td>\n",
              "    </tr>\n",
              "    <tr>\n",
              "      <th>21</th>\n",
              "      <td>00091c35fa9d0465</td>\n",
              "      <td>1</td>\n",
              "      <td>0</td>\n",
              "      <td>0</td>\n",
              "      <td>0</td>\n",
              "      <td>0</td>\n",
              "      <td>0</td>\n",
              "    </tr>\n",
              "    <tr>\n",
              "      <th>22</th>\n",
              "      <td>000968ce11f5ee34</td>\n",
              "      <td>0</td>\n",
              "      <td>0</td>\n",
              "      <td>0</td>\n",
              "      <td>0</td>\n",
              "      <td>0</td>\n",
              "      <td>0</td>\n",
              "    </tr>\n",
              "  </tbody>\n",
              "</table>\n",
              "</div>"
            ],
            "text/plain": [
              "                  id  toxic  severe_toxic  obscene  threat  insult  \\\n",
              "5   0001ea8717f6de06      0             0        0       0       0   \n",
              "7   000247e83dcc1211      0             0        0       0       0   \n",
              "11  0002f87b16116a7f      0             0        0       0       0   \n",
              "13  0003e1cccfd5a40a      0             0        0       0       0   \n",
              "14  00059ace3e3e9a53      0             0        0       0       0   \n",
              "16  000663aff0fffc80      0             0        0       0       0   \n",
              "17  000689dd34e20979      0             0        0       0       0   \n",
              "19  000844b52dee5f3f      0             0        0       0       0   \n",
              "21  00091c35fa9d0465      1             0        0       0       0   \n",
              "22  000968ce11f5ee34      0             0        0       0       0   \n",
              "\n",
              "    identity_hate  \n",
              "5               0  \n",
              "7               0  \n",
              "11              0  \n",
              "13              0  \n",
              "14              0  \n",
              "16              0  \n",
              "17              0  \n",
              "19              0  \n",
              "21              0  \n",
              "22              0  "
            ]
          },
          "metadata": {
            "tags": []
          },
          "execution_count": 8
        }
      ]
    },
    {
      "cell_type": "markdown",
      "metadata": {
        "colab_type": "text",
        "id": "Z4WMHSsEejcF"
      },
      "source": [
        "### Merge the df_test and test_labels into 1 dataframe (test)"
      ]
    },
    {
      "cell_type": "code",
      "metadata": {
        "colab_type": "code",
        "id": "IN1JvMJxejcH",
        "colab": {},
        "outputId": "1c5c5437-aefc-442a-9fa6-509e3034eb60"
      },
      "source": [
        "#Merge the df_test and test_labels into 1 dataframe (test)\n",
        "test = pd.merge(test_labels, df_test, on='id', how='inner')\n",
        "test.head(10)"
      ],
      "execution_count": 0,
      "outputs": [
        {
          "output_type": "execute_result",
          "data": {
            "text/html": [
              "<div>\n",
              "<style scoped>\n",
              "    .dataframe tbody tr th:only-of-type {\n",
              "        vertical-align: middle;\n",
              "    }\n",
              "\n",
              "    .dataframe tbody tr th {\n",
              "        vertical-align: top;\n",
              "    }\n",
              "\n",
              "    .dataframe thead th {\n",
              "        text-align: right;\n",
              "    }\n",
              "</style>\n",
              "<table border=\"1\" class=\"dataframe\">\n",
              "  <thead>\n",
              "    <tr style=\"text-align: right;\">\n",
              "      <th></th>\n",
              "      <th>id</th>\n",
              "      <th>toxic</th>\n",
              "      <th>severe_toxic</th>\n",
              "      <th>obscene</th>\n",
              "      <th>threat</th>\n",
              "      <th>insult</th>\n",
              "      <th>identity_hate</th>\n",
              "      <th>comment_text</th>\n",
              "    </tr>\n",
              "  </thead>\n",
              "  <tbody>\n",
              "    <tr>\n",
              "      <th>0</th>\n",
              "      <td>0001ea8717f6de06</td>\n",
              "      <td>0</td>\n",
              "      <td>0</td>\n",
              "      <td>0</td>\n",
              "      <td>0</td>\n",
              "      <td>0</td>\n",
              "      <td>0</td>\n",
              "      <td>Thank you for understanding I think very highl...</td>\n",
              "    </tr>\n",
              "    <tr>\n",
              "      <th>1</th>\n",
              "      <td>000247e83dcc1211</td>\n",
              "      <td>0</td>\n",
              "      <td>0</td>\n",
              "      <td>0</td>\n",
              "      <td>0</td>\n",
              "      <td>0</td>\n",
              "      <td>0</td>\n",
              "      <td>Dear god this site is horrible</td>\n",
              "    </tr>\n",
              "    <tr>\n",
              "      <th>2</th>\n",
              "      <td>0002f87b16116a7f</td>\n",
              "      <td>0</td>\n",
              "      <td>0</td>\n",
              "      <td>0</td>\n",
              "      <td>0</td>\n",
              "      <td>0</td>\n",
              "      <td>0</td>\n",
              "      <td>Somebody will invariably try to add Religion ...</td>\n",
              "    </tr>\n",
              "    <tr>\n",
              "      <th>3</th>\n",
              "      <td>0003e1cccfd5a40a</td>\n",
              "      <td>0</td>\n",
              "      <td>0</td>\n",
              "      <td>0</td>\n",
              "      <td>0</td>\n",
              "      <td>0</td>\n",
              "      <td>0</td>\n",
              "      <td>\\n\\n It says it right there that it IS a type...</td>\n",
              "    </tr>\n",
              "    <tr>\n",
              "      <th>4</th>\n",
              "      <td>00059ace3e3e9a53</td>\n",
              "      <td>0</td>\n",
              "      <td>0</td>\n",
              "      <td>0</td>\n",
              "      <td>0</td>\n",
              "      <td>0</td>\n",
              "      <td>0</td>\n",
              "      <td>\\n\\n  Before adding a new product to the list...</td>\n",
              "    </tr>\n",
              "    <tr>\n",
              "      <th>5</th>\n",
              "      <td>000663aff0fffc80</td>\n",
              "      <td>0</td>\n",
              "      <td>0</td>\n",
              "      <td>0</td>\n",
              "      <td>0</td>\n",
              "      <td>0</td>\n",
              "      <td>0</td>\n",
              "      <td>this other one from 1897</td>\n",
              "    </tr>\n",
              "    <tr>\n",
              "      <th>6</th>\n",
              "      <td>000689dd34e20979</td>\n",
              "      <td>0</td>\n",
              "      <td>0</td>\n",
              "      <td>0</td>\n",
              "      <td>0</td>\n",
              "      <td>0</td>\n",
              "      <td>0</td>\n",
              "      <td>Reason for banning throwing  \\n\\n This articl...</td>\n",
              "    </tr>\n",
              "    <tr>\n",
              "      <th>7</th>\n",
              "      <td>000844b52dee5f3f</td>\n",
              "      <td>0</td>\n",
              "      <td>0</td>\n",
              "      <td>0</td>\n",
              "      <td>0</td>\n",
              "      <td>0</td>\n",
              "      <td>0</td>\n",
              "      <td>blocked from editing Wikipedia</td>\n",
              "    </tr>\n",
              "    <tr>\n",
              "      <th>8</th>\n",
              "      <td>00091c35fa9d0465</td>\n",
              "      <td>1</td>\n",
              "      <td>0</td>\n",
              "      <td>0</td>\n",
              "      <td>0</td>\n",
              "      <td>0</td>\n",
              "      <td>0</td>\n",
              "      <td>Arabs are committing genocide in Iraq but no ...</td>\n",
              "    </tr>\n",
              "    <tr>\n",
              "      <th>9</th>\n",
              "      <td>000968ce11f5ee34</td>\n",
              "      <td>0</td>\n",
              "      <td>0</td>\n",
              "      <td>0</td>\n",
              "      <td>0</td>\n",
              "      <td>0</td>\n",
              "      <td>0</td>\n",
              "      <td>Please stop If you continue to vandalize Wikip...</td>\n",
              "    </tr>\n",
              "  </tbody>\n",
              "</table>\n",
              "</div>"
            ],
            "text/plain": [
              "                 id  toxic  severe_toxic  obscene  threat  insult  \\\n",
              "0  0001ea8717f6de06      0             0        0       0       0   \n",
              "1  000247e83dcc1211      0             0        0       0       0   \n",
              "2  0002f87b16116a7f      0             0        0       0       0   \n",
              "3  0003e1cccfd5a40a      0             0        0       0       0   \n",
              "4  00059ace3e3e9a53      0             0        0       0       0   \n",
              "5  000663aff0fffc80      0             0        0       0       0   \n",
              "6  000689dd34e20979      0             0        0       0       0   \n",
              "7  000844b52dee5f3f      0             0        0       0       0   \n",
              "8  00091c35fa9d0465      1             0        0       0       0   \n",
              "9  000968ce11f5ee34      0             0        0       0       0   \n",
              "\n",
              "   identity_hate                                       comment_text  \n",
              "0              0  Thank you for understanding I think very highl...  \n",
              "1              0                     Dear god this site is horrible  \n",
              "2              0   Somebody will invariably try to add Religion ...  \n",
              "3              0   \\n\\n It says it right there that it IS a type...  \n",
              "4              0   \\n\\n  Before adding a new product to the list...  \n",
              "5              0                           this other one from 1897  \n",
              "6              0   Reason for banning throwing  \\n\\n This articl...  \n",
              "7              0                  blocked from editing Wikipedia     \n",
              "8              0   Arabs are committing genocide in Iraq but no ...  \n",
              "9              0  Please stop If you continue to vandalize Wikip...  "
            ]
          },
          "metadata": {
            "tags": []
          },
          "execution_count": 9
        }
      ]
    },
    {
      "cell_type": "markdown",
      "metadata": {
        "colab_type": "text",
        "id": "yMHnqLRhejcO"
      },
      "source": [
        "### Number of records in the train and test data"
      ]
    },
    {
      "cell_type": "code",
      "metadata": {
        "colab_type": "code",
        "id": "N0shTlrPejcQ",
        "colab": {},
        "outputId": "fb28d723-1a52-4ca5-e07f-c4c84ae22b4c"
      },
      "source": [
        "print(\"Train data shape\", train.shape)\n",
        "print(\"Test data shape\", test.shape)"
      ],
      "execution_count": 0,
      "outputs": [
        {
          "output_type": "stream",
          "text": [
            "Train data shape (159571, 8)\n",
            "Test data shape (63930, 8)\n"
          ],
          "name": "stdout"
        }
      ]
    },
    {
      "cell_type": "code",
      "metadata": {
        "colab_type": "code",
        "id": "dl8sCOPEejcX",
        "colab": {},
        "outputId": "8d2b00f1-9c03-46b9-8e4b-3e65a997dcbd"
      },
      "source": [
        "# check that there are no missing values in either training set\n",
        "print('The dataset has', train.isna().sum().sum(), 'missing values in train data.')\n",
        "print('The dataset has', test.isna().sum().sum(), 'missing values in test data.')\n",
        "\n",
        "# check if there are any duplicates\n",
        "print('The dataset has', train.duplicated().sum(), 'duplicates in train data.')\n",
        "print('The dataset has', test.duplicated().sum(), 'duplicates in test data.')"
      ],
      "execution_count": 0,
      "outputs": [
        {
          "output_type": "stream",
          "text": [
            "The dataset has 0 missing values in train data.\n",
            "The dataset has 0 missing values in test data.\n",
            "The dataset has 0 duplicates in train data.\n",
            "The dataset has 0 duplicates in test data.\n"
          ],
          "name": "stdout"
        }
      ]
    },
    {
      "cell_type": "markdown",
      "metadata": {
        "colab_type": "text",
        "id": "OcndCtd4ejcj"
      },
      "source": [
        "### CORRELATION BETWEEN DATA LABELS"
      ]
    },
    {
      "cell_type": "code",
      "metadata": {
        "colab_type": "code",
        "id": "xYT_uhvEejcl",
        "colab": {},
        "outputId": "77c8113c-dcab-4f7e-a34f-86114bd164b8"
      },
      "source": [
        "fig, ax = plt.subplots(figsize=(10, 6))\n",
        "fig.suptitle('Correlation Matrix')\n",
        "sns.heatmap(train.corr(), annot=True, cmap=\"Greens\", linewidths=.5, ax=ax);"
      ],
      "execution_count": 0,
      "outputs": [
        {
          "output_type": "display_data",
          "data": {
            "image/png": "[encoded data removed]",
            "text/plain": [
              "<Figure size 720x432 with 2 Axes>"
            ]
          },
          "metadata": {
            "tags": [],
            "needs_background": "light"
          }
        }
      ]
    },
    {
      "cell_type": "markdown",
      "metadata": {
        "colab_type": "text",
        "id": "4MQuxIYfejcq"
      },
      "source": [
        "The correlation figure below shows that Toxic\" comments are clearly correlated with both \"obscene\" and \"insult\" comments. Interestingly, \"toxic\" and \"severe_toxic\" are only weakly correlated. While we can also observe that, \"Obscene\" comments and \"insult\" comments are also highly correlated, which makes perfect sense."
      ]
    },
    {
      "cell_type": "markdown",
      "metadata": {
        "colab_type": "text",
        "id": "FHcTJeqwejcr"
      },
      "source": [
        "### DATA PREPROCESSING\n",
        "Deep Neural Networks input layers make use of input variables to feed the network for training the model. But in this task (experiment), we're dealing with words text. How do we represent these words in order to feed our model?\n",
        "\n",
        "In our experiment, we used densed representation of those text (comments) and their semanticity together. The advantage of using this approach is the best way for fitting neural networks onto a text data (as in our case), as well as less memory usage compared to other sparse representation approaches.\n",
        "\n",
        "\n",
        "#### Word Embedding\n",
        "Two ways to feed embeddings to neural networks:\n",
        "   * Using your own word embeddings by training\n",
        "   * Using pre-trained embedding (e.g Word2vec, lad2vec, Glove etc)\n",
        "   \n"
      ]
    },
    {
      "cell_type": "code",
      "metadata": {
        "colab_type": "code",
        "id": "LL_5zSxjejcs",
        "colab": {}
      },
      "source": [
        "#Convert text to vectors using keras preprocessing library tools\n",
        "\n",
        "X_train = train[\"comment_text\"].values\n",
        "X_test  = test[\"comment_text\"].values\n",
        "\n",
        "y_train = train[[\"toxic\", \"severe_toxic\", \"obscene\", \"threat\", \"insult\", \"identity_hate\"]].values\n",
        "y_test  = test[[\"toxic\", \"severe_toxic\", \"obscene\", \"threat\", \"insult\", \"identity_hate\"]].values"
      ],
      "execution_count": 0,
      "outputs": []
    },
    {
      "cell_type": "markdown",
      "metadata": {
        "colab_type": "text",
        "id": "uwqi-osSejcv"
      },
      "source": [
        "\n",
        "\n",
        "\n",
        "\n",
        "\n",
        "For the first embedding, we used keras preprocessing (Text Preprocessing) libraries. This class allows to vectorize a text corpus, by turning each text into either a sequence of integers (each integer being the index of a token in a dictionary) or into a vector where the coefficient for each token could be binary, based on word count, based on tf-idf"
      ]
    },
    {
      "cell_type": "code",
      "metadata": {
        "colab_type": "code",
        "id": "H0rNWt-8ejcz",
        "colab": {}
      },
      "source": [
        "num_words = 20000 #Max. workds to use per toxic comment\n",
        "max_features = 200000 #Max. number of unique words in embeddinbg vector\n",
        "max_len = 200 #Max. number of words per toxic comment to be use\n",
        "embedding_dims = 128 #embedding vector output dimension \n",
        "num_epochs = 15 # (before 5)number of epochs (number of times that the model is exposed to the training dataset)\n",
        "val_split = 0.1\n",
        "batch_size2 = 256 #(before 32)The **batch size** is the number of training examples in one forward/backward pass.\n",
        "                  # In general, larger batch sizes result in faster progress in training, but don't always converge as quickly. \n",
        "                  #Smaller batch sizes train slower, but can converge faster. And the higher the batch size, the more memory space you’ll need."
      ],
      "execution_count": 0,
      "outputs": []
    },
    {
      "cell_type": "code",
      "metadata": {
        "colab_type": "code",
        "id": "cTMhD2dpejcw",
        "colab": {},
        "outputId": "a7c02c55-5ee1-49f5-9ec9-fe700981a67a"
      },
      "source": [
        "#toxic comments Tokenization\n",
        "tokenizer = tokenizer = Tokenizer(num_words)\n",
        "tokenizer.fit_on_texts(list(X_train))\n",
        "\n",
        "#Convert tokenized toxic commnent to sequnces\n",
        "X_train = tokenizer.texts_to_sequences(X_train)\n",
        "X_test = tokenizer.texts_to_sequences(X_test)\n",
        " \n",
        "# padding the sequences\n",
        "X_train = sequence.pad_sequences(X_train, max_len)\n",
        "X_test  = sequence.pad_sequences(X_test,  max_len)\n",
        "\n",
        "print('X_train shape:', X_train.shape)\n",
        "print('X_test shape: ', X_test.shape)"
      ],
      "execution_count": 0,
      "outputs": [
        {
          "output_type": "stream",
          "text": [
            "X_train shape: (159571, 200)\n",
            "X_test shape:  (63930, 200)\n"
          ],
          "name": "stdout"
        }
      ]
    },
    {
      "cell_type": "markdown",
      "metadata": {
        "colab_type": "text",
        "id": "vGxTYdg-WthP"
      },
      "source": [
        "##We use cross validation to split arrays or matrices of train data into random train and validation subsets"
      ]
    },
    {
      "cell_type": "code",
      "metadata": {
        "colab_type": "code",
        "id": "-9HAHH8FWrgE",
        "colab": {},
        "outputId": "59a2e3c4-f3a1-4411-958e-7b001996c735"
      },
      "source": [
        "X_tra, X_val, y_tra, y_val = train_test_split(X_train, y_train, train_size =0.9, random_state=233)"
      ],
      "execution_count": 0,
      "outputs": [
        {
          "output_type": "stream",
          "text": [
            "D:\\Program Files\\Anaconda\\lib\\site-packages\\sklearn\\model_selection\\_split.py:2179: FutureWarning:\n",
            "\n",
            "From version 0.21, test_size will always complement train_size unless both are specified.\n",
            "\n"
          ],
          "name": "stderr"
        }
      ]
    },
    {
      "cell_type": "markdown",
      "metadata": {
        "colab_type": "text",
        "id": "ELlEnN6GejdS"
      },
      "source": [
        "# METHODS (NN, CNN , RNN, LSTM, without pre-trained embedding)"
      ]
    },
    {
      "cell_type": "markdown",
      "metadata": {
        "colab_type": "text",
        "id": "0evQXvGIx-Zg"
      },
      "source": [
        "#### We used early callback functionality that allows you to specify the performance measure to monitor, the trigger, and once triggered. It will stop the training process."
      ]
    },
    {
      "cell_type": "code",
      "metadata": {
        "colab_type": "code",
        "id": "OAe9eO3YyOO-",
        "colab": {}
      },
      "source": [
        "early = EarlyStopping(monitor=\"val_loss\", mode=\"min\", patience=4)"
      ],
      "execution_count": 0,
      "outputs": []
    },
    {
      "cell_type": "markdown",
      "metadata": {
        "colab_type": "text",
        "id": "tQlxRa2xeymU"
      },
      "source": [
        "#### Using Precision, Recall, F1-Measure, AUC, mean etc evaluaiton metrics to evaluate our model"
      ]
    },
    {
      "cell_type": "code",
      "metadata": {
        "colab_type": "code",
        "id": "8g3jDUzie2RN",
        "colab": {}
      },
      "source": [
        "#Import necessary libraries\n",
        "4# demonstration of calculating metrics for a neural network model using sklearn\n",
        "from sklearn.datasets import make_circles\n",
        "from sklearn.metrics import accuracy_score\n",
        "from sklearn.metrics import precision_score\n",
        "from sklearn.metrics import recall_score\n",
        "from sklearn.metrics import f1_score\n",
        "from sklearn.metrics import cohen_kappa_score\n",
        "from sklearn.metrics import roc_auc_score\n",
        "from sklearn.metrics import confusion_matrix\n",
        "\n",
        "\n",
        "def precision(y_true, y_pred):\n",
        "    '''Calculates the precision, a metric for multi-label classification of\n",
        "    how many selected items are relevant.\n",
        "    '''\n",
        "    true_positives = K.sum(K.round(K.clip(y_true * y_pred, 0, 1)))\n",
        "    predicted_positives = K.sum(K.round(K.clip(y_pred, 0, 1)))\n",
        "    precision = true_positives / (predicted_positives + K.epsilon())\n",
        "    return precision\n",
        "\n",
        "\n",
        "def recall(y_true, y_pred):\n",
        "    '''Calculates the recall, a metric for multi-label classification of\n",
        "    how many relevant items are selected.\n",
        "    '''\n",
        "    true_positives = K.sum(K.round(K.clip(y_true * y_pred, 0, 1)))\n",
        "    possible_positives = K.sum(K.round(K.clip(y_true, 0, 1)))\n",
        "    recall = true_positives / (possible_positives + K.epsilon())\n",
        "    return recall\n",
        "\n",
        "  #Customized the evaluation to analyse the model in terms of accuracy and mean value accuracy\n",
        "def mean_pred(y_true, y_pred):\n",
        "    return K.mean(y_pred)\n",
        "\n",
        "def fbeta_score(y_true, y_pred, beta=1):\n",
        "    '''Calculates the F score, the weighted harmonic mean of precision and recall.\n",
        "    This is useful for multi-label classification, where input samples can be\n",
        "    classified as sets of labels. By only using accuracy (precision) a model\n",
        "    would achieve a perfect score by simply assigning every class to every\n",
        "    input. In order to avoid this, a metric should penalize incorrect class\n",
        "    assignments as well (recall). The F-beta score (ranged from 0.0 to 1.0)\n",
        "    computes this, as a weighted mean of the proportion of correct class\n",
        "    assignments vs. the proportion of incorrect class assignments.\n",
        "    With beta = 1, this is equivalent to a F-measure. With beta < 1, assigning\n",
        "    correct classes becomes more important, and with beta > 1 the metric is\n",
        "    instead weighted towards penalizing incorrect class assignments.\n",
        "    '''\n",
        "    if beta < 0:\n",
        "        raise ValueError('The lowest choosable beta is zero (only precision).')\n",
        "        \n",
        "    # If there are no true positives, fix the F score at 0 like sklearn.\n",
        "    if K.sum(K.round(K.clip(y_true, 0, 1))) == 0:\n",
        "        return 0\n",
        "\n",
        "    p = precision(y_true, y_pred)\n",
        "    r = recall(y_true, y_pred)\n",
        "    bb = beta ** 2\n",
        "    fbeta_score = (1 + bb) * (p * r) / (bb * p + r + K.epsilon())\n",
        "    return fbeta_score\n",
        "\n",
        "def auroc(y_true, y_pred):\n",
        "    auc = tf.metrics.auc(y_true, y_pred)[1]\n",
        "    K.get_session().run(tf.local_variables_initializer())\n",
        "    return auc\n",
        "\n",
        "\n",
        "def fmeasure(y_true, y_pred):\n",
        "    '''Calculates the f-measure, the harmonic mean of precision and recall.\n",
        "    '''\n",
        "    return fbeta_score(y_true, y_pred, beta=1)\n",
        "\n",
        "\n",
        "fscore = f1score = fmeasure"
      ],
      "execution_count": 0,
      "outputs": []
    },
    {
      "cell_type": "markdown",
      "metadata": {
        "colab_type": "text",
        "id": "6IYxIpKKejdU"
      },
      "source": [
        "## 1) Neural Network (NN)"
      ]
    },
    {
      "cell_type": "code",
      "metadata": {
        "colab_type": "code",
        "id": "ZfS1bFmuejdX",
        "colab": {},
        "outputId": "450ef71a-42cc-4ba0-a224-5739d0bfb764"
      },
      "source": [
        "nn_model = Sequential([\n",
        "    Embedding(input_dim=max_features, input_length=max_len, output_dim=embedding_dims),\n",
        "    GlobalMaxPool1D(),\n",
        "    Dense(50, activation = 'relu'),\n",
        "    Dropout(0.3),\n",
        "    Dense(6, activation = 'sigmoid')\n",
        "])"
      ],
      "execution_count": 0,
      "outputs": [
        {
          "output_type": "stream",
          "text": [
            "WARNING:tensorflow:From D:\\Program Files\\Anaconda\\lib\\site-packages\\tensorflow\\python\\framework\\op_def_library.py:263: colocate_with (from tensorflow.python.framework.ops) is deprecated and will be removed in a future version.\n",
            "Instructions for updating:\n",
            "Colocations handled automatically by placer.\n",
            "WARNING:tensorflow:From D:\\Program Files\\Anaconda\\lib\\site-packages\\keras\\backend\\tensorflow_backend.py:3445: calling dropout (from tensorflow.python.ops.nn_ops) with keep_prob is deprecated and will be removed in a future version.\n",
            "Instructions for updating:\n",
            "Please use `rate` instead of `keep_prob`. Rate should be set to `rate = 1 - keep_prob`.\n"
          ],
          "name": "stdout"
        }
      ]
    },
    {
      "cell_type": "markdown",
      "metadata": {
        "colab_type": "text",
        "id": "NmnhIwlZejdg"
      },
      "source": [
        "### Compile the NN model"
      ]
    },
    {
      "cell_type": "code",
      "metadata": {
        "colab_type": "code",
        "id": "qRcp8LQlejdj",
        "colab": {},
        "outputId": "3c274af8-56dc-43bc-efb2-674f2daa61b6"
      },
      "source": [
        "#Customized the evaluation to analyse the model in terms of accuracy and mean value accuracy\n",
        "def mean_pred(y_true, y_pred):\n",
        "    return K.mean(y_pred)\n",
        "\n",
        "\n",
        "nn_model.compile(loss='binary_crossentropy', optimizer=Adam(0.01), metrics=['accuracy', mean_pred, fmeasure, precision, auroc, recall])"
      ],
      "execution_count": 0,
      "outputs": [
        {
          "output_type": "stream",
          "text": [
            "WARNING:tensorflow:From D:\\Program Files\\Anaconda\\lib\\site-packages\\tensorflow\\python\\ops\\metrics_impl.py:526: to_float (from tensorflow.python.ops.math_ops) is deprecated and will be removed in a future version.\n",
            "Instructions for updating:\n",
            "Use tf.cast instead.\n",
            "WARNING:tensorflow:From D:\\Program Files\\Anaconda\\lib\\site-packages\\tensorflow\\python\\ops\\metrics_impl.py:788: div (from tensorflow.python.ops.math_ops) is deprecated and will be removed in a future version.\n",
            "Instructions for updating:\n",
            "Deprecated in favor of operator or tf.math.divide.\n"
          ],
          "name": "stdout"
        }
      ]
    },
    {
      "cell_type": "markdown",
      "metadata": {
        "colab_type": "text",
        "id": "qo0IneLWejdp"
      },
      "source": [
        "### Visualize the Orchestrated NN Architecture"
      ]
    },
    {
      "cell_type": "code",
      "metadata": {
        "colab_type": "code",
        "id": "iRCTXDsxejdr",
        "colab": {},
        "outputId": "a2a7bc90-48b1-4906-f26c-b3d8f32eb0b9"
      },
      "source": [
        "nn_model.summary()"
      ],
      "execution_count": 0,
      "outputs": [
        {
          "output_type": "stream",
          "text": [
            "_________________________________________________________________\n",
            "Layer (type)                 Output Shape              Param #   \n",
            "=================================================================\n",
            "embedding_1 (Embedding)      (None, 200, 128)          25600000  \n",
            "_________________________________________________________________\n",
            "global_max_pooling1d_1 (Glob (None, 128)               0         \n",
            "_________________________________________________________________\n",
            "dense_1 (Dense)              (None, 50)                6450      \n",
            "_________________________________________________________________\n",
            "dropout_1 (Dropout)          (None, 50)                0         \n",
            "_________________________________________________________________\n",
            "dense_2 (Dense)              (None, 6)                 306       \n",
            "=================================================================\n",
            "Total params: 25,606,756\n",
            "Trainable params: 25,606,756\n",
            "Non-trainable params: 0\n",
            "_________________________________________________________________\n"
          ],
          "name": "stdout"
        }
      ]
    },
    {
      "cell_type": "code",
      "metadata": {
        "colab_type": "code",
        "id": "gLy1Fblwejdw",
        "colab": {}
      },
      "source": [
        "#plot the nn_model architecture\n",
        "\n",
        "#plot_model(nn_model, to_file='nn_model_plot.png', show_shapes=True, show_layer_names=True)\n",
        "#Image(retina=True, filename='nn_model_plot.png')"
      ],
      "execution_count": 0,
      "outputs": []
    },
    {
      "cell_type": "code",
      "metadata": {
        "colab_type": "code",
        "id": "MzBlQem0ejdy",
        "colab": {},
        "outputId": "199fb630-0173-4ede-9410-04220f4b5b2d"
      },
      "source": [
        "nn_model_fit = nn_model.fit(X_tra, y_tra, batch_size=batch_size2, epochs=num_epochs, validation_data=(X_val, y_val), callbacks=[early])"
      ],
      "execution_count": 0,
      "outputs": [
        {
          "output_type": "stream",
          "text": [
            "WARNING:tensorflow:From D:\\Program Files\\Anaconda\\lib\\site-packages\\tensorflow\\python\\ops\\math_ops.py:3066: to_int32 (from tensorflow.python.ops.math_ops) is deprecated and will be removed in a future version.\n",
            "Instructions for updating:\n",
            "Use tf.cast instead.\n",
            "Train on 143613 samples, validate on 15958 samples\n",
            "Epoch 1/15\n",
            "143613/143613 [==============================] - 222s 2ms/step - loss: 0.0812 - acc: 0.9741 - mean_pred: 0.0404 - fmeasure: 0.4955 - precision: 0.6679 - auroc: 0.8581 - recall: 0.4204 - val_loss: 0.0533 - val_acc: 0.9807 - val_mean_pred: 0.0360 - val_fmeasure: 0.6858 - val_precision: 0.8476 - val_auroc: 0.9451 - val_recall: 0.5799\n",
            "Epoch 2/15\n",
            "143613/143613 [==============================] - 220s 2ms/step - loss: 0.0490 - acc: 0.9817 - mean_pred: 0.0366 - fmeasure: 0.7139 - precision: 0.8219 - auroc: 0.9584 - recall: 0.6385 - val_loss: 0.0518 - val_acc: 0.9812 - val_mean_pred: 0.0373 - val_fmeasure: 0.7142 - val_precision: 0.8078 - val_auroc: 0.9654 - val_recall: 0.6431\n",
            "Epoch 3/15\n",
            "143613/143613 [==============================] - 225s 2ms/step - loss: 0.0442 - acc: 0.9829 - mean_pred: 0.0366 - fmeasure: 0.7397 - precision: 0.8218 - auroc: 0.9696 - recall: 0.6788 - val_loss: 0.0521 - val_acc: 0.9812 - val_mean_pred: 0.0371 - val_fmeasure: 0.7172 - val_precision: 0.8021 - val_auroc: 0.9723 - val_recall: 0.6525\n",
            "Epoch 4/15\n",
            "143613/143613 [==============================] - 222s 2ms/step - loss: 0.0402 - acc: 0.9840 - mean_pred: 0.0366 - fmeasure: 0.7592 - precision: 0.8281 - auroc: 0.9747 - recall: 0.7068 - val_loss: 0.0548 - val_acc: 0.9813 - val_mean_pred: 0.0358 - val_fmeasure: 0.7191 - val_precision: 0.7969 - val_auroc: 0.9763 - val_recall: 0.6583\n",
            "Epoch 5/15\n",
            "143613/143613 [==============================] - 225s 2ms/step - loss: 0.0369 - acc: 0.9851 - mean_pred: 0.0366 - fmeasure: 0.7824 - precision: 0.8338 - auroc: 0.9778 - recall: 0.7423 - val_loss: 0.0586 - val_acc: 0.9807 - val_mean_pred: 0.0368 - val_fmeasure: 0.7240 - val_precision: 0.7708 - val_auroc: 0.9789 - val_recall: 0.6869\n",
            "Epoch 6/15\n",
            "143613/143613 [==============================] - 225s 2ms/step - loss: 0.0338 - acc: 0.9859 - mean_pred: 0.0365 - fmeasure: 0.7955 - precision: 0.8394 - auroc: 0.9800 - recall: 0.7609 - val_loss: 0.0610 - val_acc: 0.9801 - val_mean_pred: 0.0382 - val_fmeasure: 0.7125 - val_precision: 0.7588 - val_auroc: 0.9808 - val_recall: 0.6746\n"
          ],
          "name": "stdout"
        }
      ]
    },
    {
      "cell_type": "markdown",
      "metadata": {
        "colab_type": "text",
        "id": "_IZIZxQ9ejd2"
      },
      "source": [
        "### Evaluate the NN accuracy of our trained model"
      ]
    },
    {
      "cell_type": "code",
      "metadata": {
        "colab_type": "code",
        "id": "8ob3ye95ejd3",
        "colab": {},
        "outputId": "acb0ddbe-b966-4d2a-80de-c30c57e41bb7"
      },
      "source": [
        "nn_train_score = nn_model.evaluate(X_tra, y_tra, batch_size = batch_size2, verbose = 1)\n",
        "print('Train loss:', nn_train_score[0])\n",
        "print('Train accuracy:', nn_train_score[1])"
      ],
      "execution_count": 0,
      "outputs": [
        {
          "output_type": "stream",
          "text": [
            ""
          ],
          "name": "stdout"
        },
        {
          "output_type": "stream",
          "text": [
            "143613/143613 [==============================] - 9s 62us/step\n",
            "Train loss: 0.026800956906420054\n",
            "Train accuracy: 0.988822972801566\n"
          ],
          "name": "stdout"
        }
      ]
    },
    {
      "cell_type": "markdown",
      "metadata": {
        "colab_type": "text",
        "id": "DcTJIXSiejd6"
      },
      "source": [
        "### Evaluate the NN accuracy base on the test dataset"
      ]
    },
    {
      "cell_type": "code",
      "metadata": {
        "colab_type": "code",
        "id": "NbotTcnqejd7",
        "colab": {},
        "outputId": "dc950889-f92d-426f-ea30-e407129b4894"
      },
      "source": [
        "nn_test_score = nn_model.evaluate(X_test, y_test, batch_size=batch_size2, verbose=1)\n",
        "print('Test Loss:', nn_test_score[0])\n",
        "print('Test Accuracy:', nn_test_score[1])"
      ],
      "execution_count": 0,
      "outputs": [
        {
          "output_type": "stream",
          "text": [
            ""
          ],
          "name": "stdout"
        },
        {
          "output_type": "stream",
          "text": [
            "63930/63930 [==============================] - 4s 62us/step\n",
            "Test Loss: 0.0893486487127499\n",
            "Test Accuracy: 0.966439869055889\n"
          ],
          "name": "stdout"
        }
      ]
    },
    {
      "cell_type": "code",
      "metadata": {
        "colab_type": "code",
        "id": "WOx9_GWQejeA",
        "colab": {},
        "outputId": "4290ae5f-d101-47e1-fd11-c6be08840c61"
      },
      "source": [
        "#Predicting......\n",
        "print('Predicting....')\n",
        "y_pred = nn_model.predict(X_test,batch_size=batch_size2,verbose=1)"
      ],
      "execution_count": 0,
      "outputs": [
        {
          "output_type": "stream",
          "text": [
            "Predicting....\n",
            "63930/63930 [==============================] - 3s 45us/step\n"
          ],
          "name": "stdout"
        }
      ]
    },
    {
      "cell_type": "markdown",
      "metadata": {
        "colab_type": "text",
        "id": "yVXVp2HcejeN"
      },
      "source": [
        "### Plot Training & Validation Accuracy with the Loss values of the NN Model"
      ]
    },
    {
      "cell_type": "code",
      "metadata": {
        "colab_type": "code",
        "id": "kLZaIqkhejeP",
        "colab": {},
        "outputId": "864c0788-fcde-4433-c316-3e30e6cc9a0e"
      },
      "source": [
        "# Plot training & validation accuracy values\n",
        "plt.plot(nn_model_fit.history['acc'])\n",
        "plt.plot(nn_model_fit.history['val_acc'])\n",
        "plt.title('Neural Network (NN) Model accuracy')\n",
        "plt.ylabel('Accuracy')\n",
        "plt.xlabel('Epoch')\n",
        "plt.legend(['Training Accuracy', 'Validation Accuracy'], loc='upper left')\n",
        "plt.show()\n",
        "\n",
        "# Plot training & validation loss values\n",
        "plt.plot(nn_model_fit.history['loss'])\n",
        "plt.plot(nn_model_fit.history['val_loss'])\n",
        "plt.title('Neural Network (NN) Model loss')\n",
        "plt.ylabel('Loss')\n",
        "plt.xlabel('Epoch')\n",
        "plt.legend(['Training Loss', 'Validation Loss'], loc='lower right')\n",
        "plt.show()"
      ],
      "execution_count": 0,
      "outputs": [
        {
          "output_type": "display_data",
          "data": {
            "image/png": "[encoded data removed]",
            "text/plain": [
              "<Figure size 432x288 with 1 Axes>"
            ]
          },
          "metadata": {
            "tags": [],
            "needs_background": "light"
          }
        },
        {
          "output_type": "display_data",
          "data": {
            "image/png": "[encoded data removed]",
            "text/plain": [
              "<Figure size 432x288 with 1 Axes>"
            ]
          },
          "metadata": {
            "tags": [],
            "needs_background": "light"
          }
        }
      ]
    },
    {
      "cell_type": "markdown",
      "metadata": {
        "colab_type": "text",
        "id": "Fvld34vXejeX"
      },
      "source": [
        "## 2) Convolutional Neural Network (CNN)"
      ]
    },
    {
      "cell_type": "code",
      "metadata": {
        "colab_type": "code",
        "id": "xRZT995EejeY",
        "colab": {}
      },
      "source": [
        "CNN_model = Sequential([\n",
        "    Embedding(input_dim=max_features, input_length=max_len, output_dim=embedding_dims),\n",
        "    SpatialDropout1D(0.5),\n",
        "    # ... 100 filters with a kernel size of 4 so that each convolution will consider a window of 4 word embeddings\n",
        "    Conv1D(filters=100, kernel_size=4, padding='same', activation='relu'),\n",
        "    #**batch normalization layer** normalizes the activations of the previous layer at each batch, \n",
        "    #i.e. applies a transformation that maintains the mean activation close to 0 and the activation standard deviation close to 1. \n",
        "    #It will be added after the activation function between a convolutional and a max-pooling layer.\n",
        "    BatchNormalization(),\n",
        "    Dropout(0.5),\n",
        "    GlobalMaxPool1D(),\n",
        "    Dense(50, activation = 'relu'),\n",
        "    Dense(6, activation = 'sigmoid')\n",
        "])"
      ],
      "execution_count": 0,
      "outputs": []
    },
    {
      "cell_type": "code",
      "metadata": {
        "colab_type": "code",
        "id": "8n2R1B4Hejee",
        "colab": {}
      },
      "source": [
        "#Customized the evaluation to analyse the model in terms of accuracy and mean value accuracy\n",
        "def mean_pred(y_true, y_pred):\n",
        "    return K.mean(y_pred)\n",
        "\n",
        "CNN_model.compile(loss='binary_crossentropy', optimizer=Adam(0.01), metrics=['accuracy', mean_pred, fmeasure, precision, auroc, recall])"
      ],
      "execution_count": 0,
      "outputs": []
    },
    {
      "cell_type": "markdown",
      "metadata": {
        "colab_type": "text",
        "id": "KBKoKx_mejej"
      },
      "source": [
        "### Visualize the Orchestrated CNN MODEL Architecture"
      ]
    },
    {
      "cell_type": "code",
      "metadata": {
        "colab_type": "code",
        "id": "SUxPEGT5ejej",
        "colab": {},
        "outputId": "cdaacda1-a378-49f3-d8c0-6204570cc51b"
      },
      "source": [
        "CNN_model.summary()"
      ],
      "execution_count": 0,
      "outputs": [
        {
          "output_type": "stream",
          "text": [
            "_________________________________________________________________\n",
            "Layer (type)                 Output Shape              Param #   \n",
            "=================================================================\n",
            "embedding_2 (Embedding)      (None, 200, 128)          25600000  \n",
            "_________________________________________________________________\n",
            "spatial_dropout1d_1 (Spatial (None, 200, 128)          0         \n",
            "_________________________________________________________________\n",
            "conv1d_1 (Conv1D)            (None, 200, 100)          51300     \n",
            "_________________________________________________________________\n",
            "batch_normalization_1 (Batch (None, 200, 100)          400       \n",
            "_________________________________________________________________\n",
            "dropout_2 (Dropout)          (None, 200, 100)          0         \n",
            "_________________________________________________________________\n",
            "global_max_pooling1d_2 (Glob (None, 100)               0         \n",
            "_________________________________________________________________\n",
            "dense_3 (Dense)              (None, 50)                5050      \n",
            "_________________________________________________________________\n",
            "dense_4 (Dense)              (None, 6)                 306       \n",
            "=================================================================\n",
            "Total params: 25,657,056\n",
            "Trainable params: 25,656,856\n",
            "Non-trainable params: 200\n",
            "_________________________________________________________________\n"
          ],
          "name": "stdout"
        }
      ]
    },
    {
      "cell_type": "code",
      "metadata": {
        "colab_type": "code",
        "id": "Cj5FJvhvejem",
        "colab": {}
      },
      "source": [
        "#plot the CNN model architecture\n",
        "\n",
        "#plot_model(CNN_model, to_file='CNN_model_plot.png', show_shapes=True, show_layer_names=True)\n",
        "#Image(retina=True, filename='CNN_model_plot.png')"
      ],
      "execution_count": 0,
      "outputs": []
    },
    {
      "cell_type": "code",
      "metadata": {
        "colab_type": "code",
        "id": "EyjGbmUfejeo",
        "colab": {},
        "outputId": "a0389a43-b2c4-47ce-c996-c89714646b6c"
      },
      "source": [
        "CNN_model_fit = CNN_model.fit(X_tra, y_tra, batch_size=batch_size2, epochs=num_epochs, validation_data=(X_val, y_val), callbacks=[early])"
      ],
      "execution_count": 0,
      "outputs": [
        {
          "output_type": "stream",
          "text": [
            "Train on 143613 samples, validate on 15958 samples\n",
            "Epoch 1/15\n",
            "143613/143613 [==============================] - 447s 3ms/step - loss: 0.0841 - acc: 0.9751 - mean_pred: 0.0391 - fmeasure: 0.6090 - precision: 0.7305 - auroc: 0.8816 - recall: 0.5395 - val_loss: 0.0792 - val_acc: 0.9788 - val_mean_pred: 0.0712 - val_fmeasure: 0.7082 - val_precision: 0.7198 - val_auroc: 0.9396 - val_recall: 0.7003\n",
            "Epoch 2/15\n",
            "143613/143613 [==============================] - 435s 3ms/step - loss: 0.0527 - acc: 0.9810 - mean_pred: 0.0370 - fmeasure: 0.7066 - precision: 0.8062 - auroc: 0.9510 - recall: 0.6386 - val_loss: 0.0619 - val_acc: 0.9806 - val_mean_pred: 0.0535 - val_fmeasure: 0.7201 - val_precision: 0.7675 - val_auroc: 0.9587 - val_recall: 0.6820\n",
            "Epoch 3/15\n",
            "143613/143613 [==============================] - 435s 3ms/step - loss: 0.0474 - acc: 0.9822 - mean_pred: 0.0367 - fmeasure: 0.7294 - precision: 0.8139 - auroc: 0.9636 - recall: 0.6689 - val_loss: 0.0592 - val_acc: 0.9801 - val_mean_pred: 0.0435 - val_fmeasure: 0.6728 - val_precision: 0.8486 - val_auroc: 0.9671 - val_recall: 0.5615\n",
            "Epoch 4/15\n",
            "143613/143613 [==============================] - 449s 3ms/step - loss: 0.0439 - acc: 0.9832 - mean_pred: 0.0366 - fmeasure: 0.7477 - precision: 0.8198 - auroc: 0.9698 - recall: 0.6958 - val_loss: 0.0574 - val_acc: 0.9808 - val_mean_pred: 0.0483 - val_fmeasure: 0.7142 - val_precision: 0.7907 - val_auroc: 0.9720 - val_recall: 0.6553\n",
            "Epoch 5/15\n",
            "143613/143613 [==============================] - 438s 3ms/step - loss: 0.0409 - acc: 0.9839 - mean_pred: 0.0365 - fmeasure: 0.7616 - precision: 0.8210 - auroc: 0.9738 - recall: 0.7170 - val_loss: 0.0561 - val_acc: 0.9806 - val_mean_pred: 0.0421 - val_fmeasure: 0.7096 - val_precision: 0.7888 - val_auroc: 0.9753 - val_recall: 0.6484\n",
            "Epoch 6/15\n",
            "143613/143613 [==============================] - 440s 3ms/step - loss: 0.0388 - acc: 0.9847 - mean_pred: 0.0365 - fmeasure: 0.7752 - precision: 0.8268 - auroc: 0.9766 - recall: 0.7369 - val_loss: 0.0545 - val_acc: 0.9804 - val_mean_pred: 0.0442 - val_fmeasure: 0.7184 - val_precision: 0.7617 - val_auroc: 0.9776 - val_recall: 0.6840\n",
            "Epoch 7/15\n",
            "143613/143613 [==============================] - 442s 3ms/step - loss: 0.0373 - acc: 0.9854 - mean_pred: 0.0366 - fmeasure: 0.7872 - precision: 0.8327 - auroc: 0.9786 - recall: 0.7534 - val_loss: 0.0553 - val_acc: 0.9800 - val_mean_pred: 0.0447 - val_fmeasure: 0.7191 - val_precision: 0.7440 - val_auroc: 0.9794 - val_recall: 0.6994\n",
            "Epoch 8/15\n",
            "143613/143613 [==============================] - 440s 3ms/step - loss: 0.0357 - acc: 0.9858 - mean_pred: 0.0366 - fmeasure: 0.7948 - precision: 0.8350 - auroc: 0.9802 - recall: 0.7648 - val_loss: 0.0548 - val_acc: 0.9801 - val_mean_pred: 0.0407 - val_fmeasure: 0.7131 - val_precision: 0.7601 - val_auroc: 0.9808 - val_recall: 0.6755\n",
            "Epoch 9/15\n",
            "143613/143613 [==============================] - 439s 3ms/step - loss: 0.0340 - acc: 0.9864 - mean_pred: 0.0365 - fmeasure: 0.8033 - precision: 0.8416 - auroc: 0.9814 - recall: 0.7743 - val_loss: 0.0557 - val_acc: 0.9798 - val_mean_pred: 0.0400 - val_fmeasure: 0.7030 - val_precision: 0.7638 - val_auroc: 0.9820 - val_recall: 0.6553\n",
            "Epoch 10/15\n",
            "143613/143613 [==============================] - 439s 3ms/step - loss: 0.0332 - acc: 0.9868 - mean_pred: 0.0365 - fmeasure: 0.8096 - precision: 0.8469 - auroc: 0.9824 - recall: 0.7813 - val_loss: 0.0565 - val_acc: 0.9801 - val_mean_pred: 0.0412 - val_fmeasure: 0.7229 - val_precision: 0.7412 - val_auroc: 0.9829 - val_recall: 0.7092\n"
          ],
          "name": "stdout"
        }
      ]
    },
    {
      "cell_type": "markdown",
      "metadata": {
        "colab_type": "text",
        "id": "_lhGd1B0ejeq"
      },
      "source": [
        "### Evaluate the CNN Model accuracy of our trained model"
      ]
    },
    {
      "cell_type": "code",
      "metadata": {
        "colab_type": "code",
        "id": "FNIsK00Wejer",
        "colab": {},
        "outputId": "6e779f34-221f-4556-9879-e25987bae9b2"
      },
      "source": [
        "CNN_train_score = CNN_model.evaluate(X_tra, y_tra, batch_size = batch_size2, verbose = 1)\n",
        "print('Train loss:', CNN_train_score[0])\n",
        "print('Train accuracy:', CNN_train_score[1])"
      ],
      "execution_count": 0,
      "outputs": [
        {
          "output_type": "stream",
          "text": [
            ""
          ],
          "name": "stdout"
        },
        {
          "output_type": "stream",
          "text": [
            "143613/143613 [==============================] - 72s 503us/step\n",
            "Train loss: 0.027703014127819607\n",
            "Train accuracy: 0.9901912343473573\n"
          ],
          "name": "stdout"
        }
      ]
    },
    {
      "cell_type": "markdown",
      "metadata": {
        "colab_type": "text",
        "id": "6HrWCm8weje2"
      },
      "source": [
        "### Evaluate the CNN accuracy base our test samples"
      ]
    },
    {
      "cell_type": "code",
      "metadata": {
        "colab_type": "code",
        "id": "kDrULGFMeje4",
        "colab": {},
        "outputId": "a11f2f79-751e-4f8f-869b-b810de681a7f"
      },
      "source": [
        "CNN_test_score = CNN_model.evaluate(X_test, y_test, batch_size=batch_size2, verbose=1)\n",
        "print('Test Loss:', CNN_test_score[0])\n",
        "print('Test Accuracy:', CNN_test_score[1])"
      ],
      "execution_count": 0,
      "outputs": [
        {
          "output_type": "stream",
          "text": [
            ""
          ],
          "name": "stdout"
        },
        {
          "output_type": "stream",
          "text": [
            "63930/63930 [==============================] - 32s 507us/step\n",
            "Test Loss: 0.08788153242145591\n",
            "Test Accuracy: 0.9636399288552665\n"
          ],
          "name": "stdout"
        }
      ]
    },
    {
      "cell_type": "code",
      "metadata": {
        "colab_type": "code",
        "id": "dafZW6vAeje9",
        "colab": {},
        "outputId": "574f8072-de4f-42af-944c-30aab1f2b9b7"
      },
      "source": [
        "#Predicting......\n",
        "print('Predicting....')\n",
        "y_pred = CNN_model.predict(X_test,batch_size=batch_size2,verbose=1)"
      ],
      "execution_count": 0,
      "outputs": [
        {
          "output_type": "stream",
          "text": [
            "Predicting....\n",
            "63930/63930 [==============================] - 31s 492us/step\n"
          ],
          "name": "stdout"
        }
      ]
    },
    {
      "cell_type": "markdown",
      "metadata": {
        "colab_type": "text",
        "id": "DKRqMXsGejfG"
      },
      "source": [
        "### Plot Training & Validation Accuracy with the Loss values of the CNN Model"
      ]
    },
    {
      "cell_type": "code",
      "metadata": {
        "colab_type": "code",
        "id": "9ZZ6Fk8rejfH",
        "colab": {},
        "outputId": "6dda20e7-a1ee-4a13-affc-3fb2ff28e32d"
      },
      "source": [
        "# Plot training & validation accuracy values\n",
        "plt.plot(CNN_model_fit.history['acc'])\n",
        "plt.plot(CNN_model_fit.history['val_acc'])\n",
        "plt.title('Convolutional Neural Network (CNN) Model accuracy')\n",
        "plt.ylabel('Accuracy')\n",
        "plt.xlabel('Epoch')\n",
        "plt.legend(['Training Accuracy', 'Validation Accuracy'], loc='upper left')\n",
        "plt.show()\n",
        "\n",
        "# Plot training & validation loss values\n",
        "plt.plot(CNN_model_fit.history['loss'])\n",
        "plt.plot(CNN_model_fit.history['val_loss'])\n",
        "plt.title('Convolutional Neural Network (CNN) Model loss')\n",
        "plt.ylabel('Loss')\n",
        "plt.xlabel('Epoch')\n",
        "plt.legend(['Training Loss', 'Validation Loss'], loc='lower right')\n",
        "plt.show()"
      ],
      "execution_count": 0,
      "outputs": [
        {
          "output_type": "display_data",
          "data": {
            "image/png": "[encoded data removed]",
            "text/plain": [
              "<Figure size 432x288 with 1 Axes>"
            ]
          },
          "metadata": {
            "tags": [],
            "needs_background": "light"
          }
        },
        {
          "output_type": "display_data",
          "data": {
            "image/png": "[encoded data removed]",
            "text/plain": [
              "<Figure size 432x288 with 1 Axes>"
            ]
          },
          "metadata": {
            "tags": [],
            "needs_background": "light"
          }
        }
      ]
    },
    {
      "cell_type": "markdown",
      "metadata": {
        "colab_type": "text",
        "id": "osfA6NdMejfP"
      },
      "source": [
        "## 3) Recurrent Neural Networks (RNNs)"
      ]
    },
    {
      "cell_type": "code",
      "metadata": {
        "colab_type": "code",
        "id": "qcEEfcEwejfR",
        "colab": {}
      },
      "source": [
        "RNN_model = Sequential([\n",
        "    Embedding(input_dim=max_features, input_length=max_len, output_dim=embedding_dims),\n",
        "    SpatialDropout1D(0.5),\n",
        "    #Fully-connected RNN where the output is to be fed back to input.\n",
        "    SimpleRNN(25, return_sequences=True),\n",
        "    #**batch normalization layer** normalizes the activations of the previous layer at each batch, \n",
        "    #i.e. applies a transformation that maintains the mean activation close to 0 and the activation standard deviation close to 1. \n",
        "    BatchNormalization(),\n",
        "    Dropout(0.5),\n",
        "    GlobalMaxPool1D(),\n",
        "    Dense(50, activation = 'relu'),\n",
        "    Dense(6, activation = 'sigmoid')\n",
        "])"
      ],
      "execution_count": 0,
      "outputs": []
    },
    {
      "cell_type": "code",
      "metadata": {
        "colab_type": "code",
        "id": "WWwi-7iEejfX",
        "colab": {}
      },
      "source": [
        "#Customized the evaluation to analyse the model in terms of accuracy and mean value accuracy\n",
        "def mean_pred(y_true, y_pred):\n",
        "    return K.mean(y_pred)\n",
        "\n",
        "RNN_model.compile(loss='binary_crossentropy', optimizer=Adam(0.01), metrics=['accuracy', mean_pred, fmeasure, precision, auroc, recall])"
      ],
      "execution_count": 0,
      "outputs": []
    },
    {
      "cell_type": "markdown",
      "metadata": {
        "colab_type": "text",
        "id": "-9NGy7Bxejfc"
      },
      "source": [
        "### Visualize the Orchestrated RNN MODEL Architecture"
      ]
    },
    {
      "cell_type": "code",
      "metadata": {
        "colab_type": "code",
        "id": "ceRB6-Hpejfc",
        "colab": {},
        "outputId": "3bc367df-6afb-4aa6-87c5-cbe76f1f6438"
      },
      "source": [
        "RNN_model.summary()"
      ],
      "execution_count": 0,
      "outputs": [
        {
          "output_type": "stream",
          "text": [
            "_________________________________________________________________\n",
            "Layer (type)                 Output Shape              Param #   \n",
            "=================================================================\n",
            "embedding_3 (Embedding)      (None, 200, 128)          25600000  \n",
            "_________________________________________________________________\n",
            "spatial_dropout1d_2 (Spatial (None, 200, 128)          0         \n",
            "_________________________________________________________________\n",
            "simple_rnn_1 (SimpleRNN)     (None, 200, 25)           3850      \n",
            "_________________________________________________________________\n",
            "batch_normalization_2 (Batch (None, 200, 25)           100       \n",
            "_________________________________________________________________\n",
            "dropout_3 (Dropout)          (None, 200, 25)           0         \n",
            "_________________________________________________________________\n",
            "global_max_pooling1d_3 (Glob (None, 25)                0         \n",
            "_________________________________________________________________\n",
            "dense_5 (Dense)              (None, 50)                1300      \n",
            "_________________________________________________________________\n",
            "dense_6 (Dense)              (None, 6)                 306       \n",
            "=================================================================\n",
            "Total params: 25,605,556\n",
            "Trainable params: 25,605,506\n",
            "Non-trainable params: 50\n",
            "_________________________________________________________________\n"
          ],
          "name": "stdout"
        }
      ]
    },
    {
      "cell_type": "code",
      "metadata": {
        "colab_type": "code",
        "id": "X-y2CvXWejfg",
        "colab": {}
      },
      "source": [
        "#plot the RNN model architecture\n",
        "\n",
        "#plot_model(RNN_model, to_file='CNN_model_plot.png', show_shapes=True, show_layer_names=True)\n",
        "#Image(retina=True, filename='CNN_model_plot.png')"
      ],
      "execution_count": 0,
      "outputs": []
    },
    {
      "cell_type": "code",
      "metadata": {
        "colab_type": "code",
        "id": "kO0xUVQZejfi",
        "colab": {},
        "outputId": "b89efa9a-0af6-4eb8-95e5-b01e6a5f17f0"
      },
      "source": [
        "RNN_model_fit = RNN_model.fit(X_tra, y_tra, batch_size=batch_size2, epochs=num_epochs, validation_data=(X_val, y_val), callbacks=[early])"
      ],
      "execution_count": 0,
      "outputs": [
        {
          "output_type": "stream",
          "text": [
            "Train on 143613 samples, validate on 15958 samples\n",
            "Epoch 1/15\n",
            "143613/143613 [==============================] - 288s 2ms/step - loss: 0.0931 - acc: 0.9703 - mean_pred: 0.0381 - fmeasure: 0.4167 - precision: 0.5952 - auroc: 0.8592 - recall: 0.3631 - val_loss: 0.0725 - val_acc: 0.9767 - val_mean_pred: 0.0422 - val_fmeasure: 0.5753 - val_precision: 0.8790 - val_auroc: 0.9292 - val_recall: 0.4317\n",
            "Epoch 2/15\n",
            "143613/143613 [==============================] - 287s 2ms/step - loss: 0.0610 - acc: 0.9782 - mean_pred: 0.0367 - fmeasure: 0.6538 - precision: 0.7743 - auroc: 0.9433 - recall: 0.5818 - val_loss: 0.0704 - val_acc: 0.9793 - val_mean_pred: 0.0496 - val_fmeasure: 0.6584 - val_precision: 0.8404 - val_auroc: 0.9515 - val_recall: 0.5460\n",
            "Epoch 3/15\n",
            "143613/143613 [==============================] - 288s 2ms/step - loss: 0.0566 - acc: 0.9797 - mean_pred: 0.0365 - fmeasure: 0.6798 - precision: 0.7952 - auroc: 0.9564 - recall: 0.6045 - val_loss: 0.0735 - val_acc: 0.9791 - val_mean_pred: 0.0580 - val_fmeasure: 0.6816 - val_precision: 0.7768 - val_auroc: 0.9593 - val_recall: 0.6111\n",
            "Epoch 4/15\n",
            "143613/143613 [==============================] - 289s 2ms/step - loss: 0.0541 - acc: 0.9804 - mean_pred: 0.0366 - fmeasure: 0.6932 - precision: 0.8048 - auroc: 0.9617 - recall: 0.6183 - val_loss: 0.0659 - val_acc: 0.9801 - val_mean_pred: 0.0507 - val_fmeasure: 0.6858 - val_precision: 0.8257 - val_auroc: 0.9639 - val_recall: 0.5894\n",
            "Epoch 5/15\n",
            "143613/143613 [==============================] - 291s 2ms/step - loss: 0.0529 - acc: 0.9808 - mean_pred: 0.0366 - fmeasure: 0.7009 - precision: 0.8080 - auroc: 0.9655 - recall: 0.6279 - val_loss: 0.0752 - val_acc: 0.9788 - val_mean_pred: 0.0636 - val_fmeasure: 0.7003 - val_precision: 0.7319 - val_auroc: 0.9666 - val_recall: 0.6749\n",
            "Epoch 6/15\n",
            "143613/143613 [==============================] - 293s 2ms/step - loss: 0.0518 - acc: 0.9812 - mean_pred: 0.0366 - fmeasure: 0.7102 - precision: 0.8030 - auroc: 0.9677 - recall: 0.6447 - val_loss: 0.0720 - val_acc: 0.9787 - val_mean_pred: 0.0583 - val_fmeasure: 0.6862 - val_precision: 0.7519 - val_auroc: 0.9686 - val_recall: 0.6345\n",
            "Epoch 7/15\n",
            "143613/143613 [==============================] - 292s 2ms/step - loss: 0.0512 - acc: 0.9811 - mean_pred: 0.0366 - fmeasure: 0.7097 - precision: 0.8013 - auroc: 0.9694 - recall: 0.6445 - val_loss: 0.0696 - val_acc: 0.9788 - val_mean_pred: 0.0570 - val_fmeasure: 0.7007 - val_precision: 0.7321 - val_auroc: 0.9701 - val_recall: 0.6757\n",
            "Epoch 8/15\n",
            "143613/143613 [==============================] - 294s 2ms/step - loss: 0.0518 - acc: 0.9811 - mean_pred: 0.0366 - fmeasure: 0.7089 - precision: 0.8062 - auroc: 0.9707 - recall: 0.6396 - val_loss: 0.0636 - val_acc: 0.9796 - val_mean_pred: 0.0491 - val_fmeasure: 0.6997 - val_precision: 0.7689 - val_auroc: 0.9712 - val_recall: 0.6456\n",
            "Epoch 9/15\n",
            "143613/143613 [==============================] - 296s 2ms/step - loss: 0.0516 - acc: 0.9812 - mean_pred: 0.0366 - fmeasure: 0.7081 - precision: 0.8067 - auroc: 0.9717 - recall: 0.6373 - val_loss: 0.0705 - val_acc: 0.9767 - val_mean_pred: 0.0548 - val_fmeasure: 0.6832 - val_precision: 0.6896 - val_auroc: 0.9720 - val_recall: 0.6806\n",
            "Epoch 10/15\n",
            "143613/143613 [==============================] - 311s 2ms/step - loss: 0.0542 - acc: 0.9802 - mean_pred: 0.0366 - fmeasure: 0.6927 - precision: 0.7942 - auroc: 0.9723 - recall: 0.6221 - val_loss: 0.0605 - val_acc: 0.9788 - val_mean_pred: 0.0356 - val_fmeasure: 0.6596 - val_precision: 0.8121 - val_auroc: 0.9725 - val_recall: 0.5596\n",
            "Epoch 11/15\n",
            "143613/143613 [==============================] - 306s 2ms/step - loss: 0.0520 - acc: 0.9808 - mean_pred: 0.0365 - fmeasure: 0.7032 - precision: 0.8004 - auroc: 0.9728 - recall: 0.6342 - val_loss: 0.0638 - val_acc: 0.9794 - val_mean_pred: 0.0477 - val_fmeasure: 0.6893 - val_precision: 0.7747 - val_auroc: 0.9731 - val_recall: 0.6254\n",
            "Epoch 12/15\n",
            "143613/143613 [==============================] - 297s 2ms/step - loss: 0.0518 - acc: 0.9810 - mean_pred: 0.0365 - fmeasure: 0.7053 - precision: 0.8020 - auroc: 0.9734 - recall: 0.6354 - val_loss: 0.0628 - val_acc: 0.9786 - val_mean_pred: 0.0444 - val_fmeasure: 0.6822 - val_precision: 0.7553 - val_auroc: 0.9736 - val_recall: 0.6262\n",
            "Epoch 13/15\n",
            "143613/143613 [==============================] - 294s 2ms/step - loss: 0.0527 - acc: 0.9808 - mean_pred: 0.0365 - fmeasure: 0.7020 - precision: 0.8033 - auroc: 0.9738 - recall: 0.6304 - val_loss: 0.0631 - val_acc: 0.9793 - val_mean_pred: 0.0465 - val_fmeasure: 0.6956 - val_precision: 0.7584 - val_auroc: 0.9740 - val_recall: 0.6464\n",
            "Epoch 14/15\n",
            "143613/143613 [==============================] - 301s 2ms/step - loss: 0.0517 - acc: 0.9812 - mean_pred: 0.0365 - fmeasure: 0.7071 - precision: 0.8073 - auroc: 0.9741 - recall: 0.6350 - val_loss: 0.0639 - val_acc: 0.9778 - val_mean_pred: 0.0465 - val_fmeasure: 0.6846 - val_precision: 0.7229 - val_auroc: 0.9743 - val_recall: 0.6541\n"
          ],
          "name": "stdout"
        }
      ]
    },
    {
      "cell_type": "markdown",
      "metadata": {
        "colab_type": "text",
        "id": "9dV0mgtpejgA"
      },
      "source": [
        "### Evaluate the RNN Model accuracy of our trained model"
      ]
    },
    {
      "cell_type": "code",
      "metadata": {
        "colab_type": "code",
        "id": "rVI6X2FoejgB",
        "colab": {},
        "outputId": "8fe5075a-9cd1-4443-d98b-cd0b399d8c9d"
      },
      "source": [
        "RNN_train_score = RNN_model.evaluate(X_tra, y_tra, batch_size=batch_size2, verbose=1)\n",
        "print('Train Loss:', RNN_train_score[0])\n",
        "print('Train Accuracy:', RNN_train_score[1])"
      ],
      "execution_count": 0,
      "outputs": [
        {
          "output_type": "stream",
          "text": [
            ""
          ],
          "name": "stdout"
        },
        {
          "output_type": "stream",
          "text": [
            "143613/143613 [==============================] - 39s 273us/step\n",
            "Train Loss: 0.053874097196229175\n",
            "Train Accuracy: 0.9819387359059937\n"
          ],
          "name": "stdout"
        }
      ]
    },
    {
      "cell_type": "markdown",
      "metadata": {
        "colab_type": "text",
        "id": "pW5x9tccejgD"
      },
      "source": [
        "### Evaluate the RNN accuracy base our test samples"
      ]
    },
    {
      "cell_type": "code",
      "metadata": {
        "colab_type": "code",
        "id": "TSVQVTrLejgE",
        "colab": {},
        "outputId": "f3b86393-5675-4a15-8962-80da96bb9e1b"
      },
      "source": [
        "RNN_test_score = RNN_model.evaluate(X_test, y_test, batch_size=batch_size2, verbose=1)\n",
        "print('Test Loss:', RNN_test_score[0])\n",
        "print('Test Accuracy:', RNN_test_score[1])"
      ],
      "execution_count": 0,
      "outputs": [
        {
          "output_type": "stream",
          "text": [
            ""
          ],
          "name": "stdout"
        },
        {
          "output_type": "stream",
          "text": [
            "63930/63930 [==============================] - 18s 275us/step\n",
            "Test Loss: 0.09234781440515838\n",
            "Test Accuracy: 0.9624485188855936\n"
          ],
          "name": "stdout"
        }
      ]
    },
    {
      "cell_type": "markdown",
      "metadata": {
        "colab_type": "text",
        "id": "ZlYMwKjMejgG"
      },
      "source": [
        "### Plot Training & Validation Accuracy with the Loss values of the RNN Model"
      ]
    },
    {
      "cell_type": "code",
      "metadata": {
        "colab_type": "code",
        "id": "l88SHLD4ejgG",
        "colab": {},
        "outputId": "963eda9b-57fa-4ce5-e180-f03871c9ce4e"
      },
      "source": [
        "# Plot training & validation accuracy values\n",
        "plt.plot(RNN_model_fit.history['acc'])\n",
        "plt.plot(RNN_model_fit.history['val_acc'])\n",
        "plt.title('Recurrent Neural Networks (RNNs) Model accuracy')\n",
        "plt.ylabel('Accuracy')\n",
        "plt.xlabel('Epoch')\n",
        "plt.legend(['Training Accuracy', 'Validation Accuracy'], loc='upper left')\n",
        "plt.show()\n",
        "\n",
        "# Plot training & validation loss values\n",
        "plt.plot(RNN_model_fit.history['loss'])\n",
        "plt.plot(RNN_model_fit.history['val_loss'])\n",
        "plt.title('Recurrent Neural Networks (RNNs) Model loss')\n",
        "plt.ylabel('Loss')\n",
        "plt.xlabel('Epoch')\n",
        "plt.legend(['Training Loss', 'Validation Loss'], loc='lower right')\n",
        "plt.show()"
      ],
      "execution_count": 0,
      "outputs": [
        {
          "output_type": "display_data",
          "data": {
            "image/png": "[encoded data removed]",
            "text/plain": [
              "<Figure size 432x288 with 1 Axes>"
            ]
          },
          "metadata": {
            "tags": [],
            "needs_background": "light"
          }
        },
        {
          "output_type": "display_data",
          "data": {
            "image/png": "[encoded data removed]",
            "text/plain": [
              "<Figure size 432x288 with 1 Axes>"
            ]
          },
          "metadata": {
            "tags": [],
            "needs_background": "light"
          }
        }
      ]
    },
    {
      "cell_type": "markdown",
      "metadata": {
        "colab_type": "text",
        "id": "1mFGSNYyAPa7"
      },
      "source": [
        "## 4) Long Short-Term Memory (LSTM)"
      ]
    },
    {
      "cell_type": "code",
      "metadata": {
        "colab_type": "code",
        "id": "eVtu6lY6Ada5",
        "colab": {}
      },
      "source": [
        "LSTM_model = Sequential([\n",
        "    Embedding(input_dim=max_features, input_length=max_len, output_dim=embedding_dims),\n",
        "    SpatialDropout1D(0.5),\n",
        "    #Bidirectional layer will enable our model to predict a missing word in a sequence, \n",
        "    #So, using this feature will enable the model to look at the context on both the left and the right.\n",
        "    LSTM(25, return_sequences=True),\n",
        "    #**batch normalization layer** normalizes the activations of the previous layer at each batch, \n",
        "    #i.e. applies a transformation that maintains the mean activation close to 0 and the activation standard deviation close to 1. \n",
        "    BatchNormalization(),\n",
        "    Dropout(0.5),\n",
        "    GlobalMaxPool1D(),\n",
        "    Dense(50, activation = 'relu'),\n",
        "    Dense(6, activation = 'sigmoid')\n",
        "])"
      ],
      "execution_count": 0,
      "outputs": []
    },
    {
      "cell_type": "code",
      "metadata": {
        "colab_type": "code",
        "id": "Rz6pmPkWBHqY",
        "colab": {},
        "outputId": "c36b9cdd-577f-43d5-8bbb-7c8ac5c637a2"
      },
      "source": [
        "LSTM_model.compile(loss='binary_crossentropy', optimizer=Adam(0.01), metrics=['accuracy', mean_pred, fmeasure, precision, auroc, recall])\n",
        "LSTM_model.summary()"
      ],
      "execution_count": 0,
      "outputs": [
        {
          "output_type": "stream",
          "text": [
            "_________________________________________________________________\n",
            "Layer (type)                 Output Shape              Param #   \n",
            "=================================================================\n",
            "embedding_4 (Embedding)      (None, 200, 128)          25600000  \n",
            "_________________________________________________________________\n",
            "spatial_dropout1d_3 (Spatial (None, 200, 128)          0         \n",
            "_________________________________________________________________\n",
            "lstm_1 (LSTM)                (None, 200, 25)           15400     \n",
            "_________________________________________________________________\n",
            "batch_normalization_3 (Batch (None, 200, 25)           100       \n",
            "_________________________________________________________________\n",
            "dropout_4 (Dropout)          (None, 200, 25)           0         \n",
            "_________________________________________________________________\n",
            "global_max_pooling1d_4 (Glob (None, 25)                0         \n",
            "_________________________________________________________________\n",
            "dense_7 (Dense)              (None, 50)                1300      \n",
            "_________________________________________________________________\n",
            "dense_8 (Dense)              (None, 6)                 306       \n",
            "=================================================================\n",
            "Total params: 25,617,106\n",
            "Trainable params: 25,617,056\n",
            "Non-trainable params: 50\n",
            "_________________________________________________________________\n"
          ],
          "name": "stdout"
        }
      ]
    },
    {
      "cell_type": "code",
      "metadata": {
        "colab_type": "code",
        "id": "jVZdCxGBDWbQ",
        "colab": {}
      },
      "source": [
        "#plot the RNN model architecture\n",
        "\n",
        "#plot_model(LSTM_model, to_file='LSTM_model_plot.png', show_shapes=True, show_layer_names=True)\n",
        "#Image(retina=True, filename='LSTM_model_plot.png')"
      ],
      "execution_count": 0,
      "outputs": []
    },
    {
      "cell_type": "code",
      "metadata": {
        "colab_type": "code",
        "id": "6PWyqbXYDeSx",
        "colab": {},
        "outputId": "f9e030cd-991e-4ab7-8f1b-04b44d3c3bb5"
      },
      "source": [
        "LSTM_model_fit = LSTM_model.fit(X_train, y_train, batch_size=batch_size2, epochs=num_epochs, validation_split=val_split, callbacks=[early])"
      ],
      "execution_count": 0,
      "outputs": [
        {
          "output_type": "stream",
          "text": [
            "Train on 143613 samples, validate on 15958 samples\n",
            "Epoch 1/15\n",
            "143613/143613 [==============================] - 368s 3ms/step - loss: 0.0682 - acc: 0.9768 - mean_pred: 0.0383 - fmeasure: 0.6138 - precision: 0.7340 - auroc: 0.9131 - recall: 0.5403 - val_loss: 0.0708 - val_acc: 0.9809 - val_mean_pred: 0.0613 - val_fmeasure: 0.7121 - val_precision: 0.8014 - val_auroc: 0.9607 - val_recall: 0.6462\n",
            "Epoch 2/15\n",
            "143613/143613 [==============================] - 359s 2ms/step - loss: 0.0514 - acc: 0.9815 - mean_pred: 0.0369 - fmeasure: 0.7123 - precision: 0.8126 - auroc: 0.9661 - recall: 0.6418 - val_loss: 0.0576 - val_acc: 0.9813 - val_mean_pred: 0.0458 - val_fmeasure: 0.7117 - val_precision: 0.8203 - val_auroc: 0.9697 - val_recall: 0.6335\n",
            "Epoch 3/15\n",
            "143613/143613 [==============================] - 357s 2ms/step - loss: 0.0485 - acc: 0.9823 - mean_pred: 0.0367 - fmeasure: 0.7275 - precision: 0.8200 - auroc: 0.9722 - recall: 0.6600 - val_loss: 0.0636 - val_acc: 0.9813 - val_mean_pred: 0.0554 - val_fmeasure: 0.7261 - val_precision: 0.7817 - val_auroc: 0.9737 - val_recall: 0.6830\n",
            "Epoch 4/15\n",
            "143613/143613 [==============================] - 355s 2ms/step - loss: 0.0465 - acc: 0.9827 - mean_pred: 0.0367 - fmeasure: 0.7371 - precision: 0.8214 - auroc: 0.9750 - recall: 0.6742 - val_loss: 0.0574 - val_acc: 0.9806 - val_mean_pred: 0.0422 - val_fmeasure: 0.6933 - val_precision: 0.8310 - val_auroc: 0.9762 - val_recall: 0.5996\n",
            "Epoch 5/15\n",
            "143613/143613 [==============================] - 357s 2ms/step - loss: 0.0466 - acc: 0.9827 - mean_pred: 0.0367 - fmeasure: 0.7379 - precision: 0.8210 - auroc: 0.9770 - recall: 0.6774 - val_loss: 0.0585 - val_acc: 0.9803 - val_mean_pred: 0.0485 - val_fmeasure: 0.7122 - val_precision: 0.7684 - val_auroc: 0.9775 - val_recall: 0.6684\n",
            "Epoch 6/15\n",
            "143613/143613 [==============================] - 359s 2ms/step - loss: 0.0453 - acc: 0.9828 - mean_pred: 0.0367 - fmeasure: 0.7396 - precision: 0.8185 - auroc: 0.9782 - recall: 0.6796 - val_loss: 0.0573 - val_acc: 0.9803 - val_mean_pred: 0.0469 - val_fmeasure: 0.7106 - val_precision: 0.7771 - val_auroc: 0.9787 - val_recall: 0.6595\n",
            "Epoch 7/15\n",
            "143613/143613 [==============================] - 354s 2ms/step - loss: 0.0450 - acc: 0.9831 - mean_pred: 0.0366 - fmeasure: 0.7463 - precision: 0.8200 - auroc: 0.9791 - recall: 0.6904 - val_loss: 0.0588 - val_acc: 0.9801 - val_mean_pred: 0.0491 - val_fmeasure: 0.7091 - val_precision: 0.7707 - val_auroc: 0.9795 - val_recall: 0.6616\n",
            "Epoch 8/15\n",
            "143613/143613 [==============================] - 353s 2ms/step - loss: 0.0447 - acc: 0.9832 - mean_pred: 0.0367 - fmeasure: 0.7458 - precision: 0.8244 - auroc: 0.9798 - recall: 0.6868 - val_loss: 0.0567 - val_acc: 0.9805 - val_mean_pred: 0.0470 - val_fmeasure: 0.7134 - val_precision: 0.7770 - val_auroc: 0.9801 - val_recall: 0.6646\n",
            "Epoch 9/15\n",
            "143613/143613 [==============================] - 354s 2ms/step - loss: 0.0443 - acc: 0.9834 - mean_pred: 0.0367 - fmeasure: 0.7490 - precision: 0.8260 - auroc: 0.9804 - recall: 0.6907 - val_loss: 0.0576 - val_acc: 0.9800 - val_mean_pred: 0.0468 - val_fmeasure: 0.7075 - val_precision: 0.7643 - val_auroc: 0.9806 - val_recall: 0.6628\n",
            "Epoch 10/15\n",
            "143613/143613 [==============================] - 355s 2ms/step - loss: 0.0444 - acc: 0.9832 - mean_pred: 0.0367 - fmeasure: 0.7469 - precision: 0.8233 - auroc: 0.9809 - recall: 0.6895 - val_loss: 0.0557 - val_acc: 0.9798 - val_mean_pred: 0.0431 - val_fmeasure: 0.7027 - val_precision: 0.7692 - val_auroc: 0.9810 - val_recall: 0.6511\n",
            "Epoch 11/15\n",
            "143613/143613 [==============================] - 356s 2ms/step - loss: 0.0443 - acc: 0.9831 - mean_pred: 0.0366 - fmeasure: 0.7458 - precision: 0.8207 - auroc: 0.9812 - recall: 0.6890 - val_loss: 0.0577 - val_acc: 0.9792 - val_mean_pred: 0.0451 - val_fmeasure: 0.7045 - val_precision: 0.7374 - val_auroc: 0.9814 - val_recall: 0.6785\n",
            "Epoch 12/15\n",
            "143613/143613 [==============================] - 355s 2ms/step - loss: 0.0440 - acc: 0.9835 - mean_pred: 0.0366 - fmeasure: 0.7514 - precision: 0.8263 - auroc: 0.9815 - recall: 0.6944 - val_loss: 0.0603 - val_acc: 0.9782 - val_mean_pred: 0.0510 - val_fmeasure: 0.6995 - val_precision: 0.7076 - val_auroc: 0.9816 - val_recall: 0.6968\n",
            "Epoch 13/15\n",
            "143613/143613 [==============================] - 355s 2ms/step - loss: 0.0443 - acc: 0.9834 - mean_pred: 0.0366 - fmeasure: 0.7495 - precision: 0.8256 - auroc: 0.9817 - recall: 0.6914 - val_loss: 0.0572 - val_acc: 0.9792 - val_mean_pred: 0.0424 - val_fmeasure: 0.6974 - val_precision: 0.7514 - val_auroc: 0.9818 - val_recall: 0.6542\n",
            "Epoch 14/15\n",
            "143613/143613 [==============================] - 357s 2ms/step - loss: 0.0445 - acc: 0.9832 - mean_pred: 0.0366 - fmeasure: 0.7472 - precision: 0.8225 - auroc: 0.9819 - recall: 0.6907 - val_loss: 0.0558 - val_acc: 0.9797 - val_mean_pred: 0.0422 - val_fmeasure: 0.7048 - val_precision: 0.7667 - val_auroc: 0.9820 - val_recall: 0.6564\n"
          ],
          "name": "stdout"
        }
      ]
    },
    {
      "cell_type": "markdown",
      "metadata": {
        "colab_type": "text",
        "id": "G8x1T2v5DoUK"
      },
      "source": [
        "### Evaluate the LSTM Model accuracy of our train and test accuracy"
      ]
    },
    {
      "cell_type": "code",
      "metadata": {
        "colab_type": "code",
        "id": "GrchJwdiDhst",
        "colab": {},
        "outputId": "e2cf7f2c-a2fa-4c82-b94c-506894a670fd"
      },
      "source": [
        "LSTM_train_score = LSTM_model.evaluate(X_tra, y_tra, batch_size=batch_size2, verbose=1)\n",
        "print('Train Loss:', LSTM_train_score[0])\n",
        "print('Train Accuracy:', LSTM_train_score[1])\n",
        "\n",
        "\n",
        "LSTM_test_score = LSTM_model.evaluate(X_test, y_test, batch_size=batch_size2, verbose=1)\n",
        "print('Train Loss:', LSTM_test_score[0])\n",
        "print('Train Accuracy:', LSTM_test_score[1])"
      ],
      "execution_count": 0,
      "outputs": [
        {
          "output_type": "stream",
          "text": [
            ""
          ],
          "name": "stdout"
        },
        {
          "output_type": "stream",
          "text": [
            "143613/143613 [==============================] - 41s 282us/step\n",
            "Train Loss: 0.044244350108754917\n",
            "Train Accuracy: 0.9843677152825367\n",
            "63930/63930 [==============================] - 18s 279us/step\n",
            "Train Loss: 0.08195336898405675\n",
            "Train Accuracy: 0.9671385514965531\n"
          ],
          "name": "stdout"
        }
      ]
    },
    {
      "cell_type": "markdown",
      "metadata": {
        "colab_type": "text",
        "id": "s_PlIOAcFZfs"
      },
      "source": [
        "### Plot Training & Validation Accuracy with the Loss values of the LSTM Model"
      ]
    },
    {
      "cell_type": "code",
      "metadata": {
        "colab_type": "code",
        "id": "kUdnHjFDFRjW",
        "colab": {},
        "outputId": "766e9d17-0e3e-4e04-b284-9423c5dc4647"
      },
      "source": [
        "# Plot training & validation accuracy values\n",
        "plt.plot(LSTM_model_fit.history['acc'])\n",
        "plt.plot(LSTM_model_fit.history['val_acc'])\n",
        "plt.title('Long Short-Term Memory (LSTM) Model accuracy')\n",
        "plt.ylabel('Accuracy')\n",
        "plt.xlabel('Epoch')\n",
        "plt.legend(['Training Accuracy', 'Validation Accuracy'], loc='upper left')\n",
        "plt.show()\n",
        "\n",
        "# Plot training<<<<<<<<<<<<<<<<<<<<l & validation loss values\n",
        "plt.plot(LSTM_model_fit.history['loss'])\n",
        "plt.plot(LSTM_model_fit.history['val_loss'])\n",
        "plt.title('Long Short-Term Memory (LSTM) Model loss')\n",
        "plt.ylabel('Loss')\n",
        "plt.xlabel('Epoch')\n",
        "plt.legend(['Training Loss', 'Validation Loss'], loc='lower right')\n",
        "plt.show()"
      ],
      "execution_count": 0,
      "outputs": [
        {
          "output_type": "display_data",
          "data": {
            "image/png": "[encoded data removed]",
            "text/plain": [
              "<Figure size 432x288 with 1 Axes>"
            ]
          },
          "metadata": {
            "tags": [],
            "needs_background": "light"
          }
        },
        {
          "output_type": "display_data",
          "data": {
            "image/png": "[encoded data removed]",
            "text/plain": [
              "<Figure size 432x288 with 1 Axes>"
            ]
          },
          "metadata": {
            "tags": [],
            "needs_background": "light"
          }
        }
      ]
    },
    {
      "cell_type": "markdown",
      "metadata": {
        "colab_type": "text",
        "id": "BYjL5tTxApDW"
      },
      "source": [
        "## 5) Bidirectional Long Short_Term Memory (Bidirectional LSTM) "
      ]
    },
    {
      "cell_type": "code",
      "metadata": {
        "colab_type": "code",
        "id": "vNz5y5CwA78w",
        "colab": {}
      },
      "source": [
        "Bil_LSTM_model = Sequential([\n",
        "    Embedding(input_dim=max_features, input_length=max_len, output_dim=embedding_dims),\n",
        "    SpatialDropout1D(0.5),\n",
        "    #Bidirectional layer will enable our model to predict a missing word in a sequence, \n",
        "    #So, using this feature will enable the model to look at the context on both the left and the right.\n",
        "    Bidirectional(LSTM(25, return_sequences=True)),\n",
        "    #**batch normalization layer** normalizes the activations of the previous layer at each batch, \n",
        "    #i.e. applies a transformation that maintains the mean activation close to 0 and the activation standard deviation close to 1. \n",
        "    BatchNormalization(),\n",
        "    Dropout(0.5),\n",
        "    GlobalMaxPool1D(),\n",
        "    Dense(50, activation = 'relu'),\n",
        "    Dense(6, activation = 'sigmoid')\n",
        "])"
      ],
      "execution_count": 0,
      "outputs": []
    },
    {
      "cell_type": "code",
      "metadata": {
        "colab_type": "code",
        "id": "rvsIIE20BuYb",
        "colab": {}
      },
      "source": [
        "Bil_LSTM_model.compile(loss='binary_crossentropy', optimizer=Adam(0.01), metrics=['accuracy', mean_pred, fmeasure, precision, auroc, recall])"
      ],
      "execution_count": 0,
      "outputs": []
    },
    {
      "cell_type": "markdown",
      "metadata": {
        "colab_type": "text",
        "id": "axMCYUsTA9A9"
      },
      "source": [
        "### Visualize the Orchestrated Bidirectional LSTM"
      ]
    },
    {
      "cell_type": "code",
      "metadata": {
        "colab_type": "code",
        "id": "2BrlAI-WA8Vh",
        "colab": {},
        "outputId": "b22150d5-7cc8-4a14-a781-755d8ebd028b"
      },
      "source": [
        "Bil_LSTM_model.summary()\n",
        "\n",
        "#plot the RNN model architecture\n",
        "#plot_model(Bil_LSTM_model, to_file='Bil_LSTM_model_plot.png', show_shapes=True, show_layer_names=True)\n",
        "#Image(retina=True, filename='Bil_LSTM_model_plot.png')"
      ],
      "execution_count": 0,
      "outputs": [
        {
          "output_type": "stream",
          "text": [
            "_________________________________________________________________\n",
            "Layer (type)                 Output Shape              Param #   \n",
            "=================================================================\n",
            "embedding_5 (Embedding)      (None, 200, 128)          25600000  \n",
            "_________________________________________________________________\n",
            "spatial_dropout1d_4 (Spatial (None, 200, 128)          0         \n",
            "_________________________________________________________________\n",
            "bidirectional_1 (Bidirection (None, 200, 50)           30800     \n",
            "_________________________________________________________________\n",
            "batch_normalization_4 (Batch (None, 200, 50)           200       \n",
            "_________________________________________________________________\n",
            "dropout_5 (Dropout)          (None, 200, 50)           0         \n",
            "_________________________________________________________________\n",
            "global_max_pooling1d_5 (Glob (None, 50)                0         \n",
            "_________________________________________________________________\n",
            "dense_9 (Dense)              (None, 50)                2550      \n",
            "_________________________________________________________________\n",
            "dense_10 (Dense)             (None, 6)                 306       \n",
            "=================================================================\n",
            "Total params: 25,633,856\n",
            "Trainable params: 25,633,756\n",
            "Non-trainable params: 100\n",
            "_________________________________________________________________\n"
          ],
          "name": "stdout"
        }
      ]
    },
    {
      "cell_type": "code",
      "metadata": {
        "colab_type": "code",
        "id": "4VLo7vCBBWJN",
        "colab": {},
        "outputId": "38e427bf-5ee1-49b1-cba7-9b51cfd3e23e"
      },
      "source": [
        "Bil_LSTM_model_fit = Bil_LSTM_model.fit(X_tra, y_tra, batch_size=batch_size2, epochs=num_epochs, validation_data=(X_val, y_val), callbacks=[early])"
      ],
      "execution_count": 0,
      "outputs": [
        {
          "output_type": "stream",
          "text": [
            "Train on 143613 samples, validate on 15958 samples\n",
            "Epoch 1/15\n",
            "143613/143613 [==============================] - 571s 4ms/step - loss: 0.0623 - acc: 0.9784 - mean_pred: 0.0377 - fmeasure: 0.6555 - precision: 0.7715 - auroc: 0.9303 - recall: 0.5876 - val_loss: 0.0610 - val_acc: 0.9811 - val_mean_pred: 0.0485 - val_fmeasure: 0.6948 - val_precision: 0.8567 - val_auroc: 0.9662 - val_recall: 0.5883\n",
            "Epoch 2/15\n",
            "143613/143613 [==============================] - 579s 4ms/step - loss: 0.0474 - acc: 0.9826 - mean_pred: 0.0367 - fmeasure: 0.7340 - precision: 0.8201 - auroc: 0.9711 - recall: 0.6718 - val_loss: 0.0591 - val_acc: 0.9821 - val_mean_pred: 0.0483 - val_fmeasure: 0.7174 - val_precision: 0.8547 - val_auroc: 0.9742 - val_recall: 0.6223\n",
            "Epoch 3/15\n",
            "143613/143613 [==============================] - 561s 4ms/step - loss: 0.0436 - acc: 0.9834 - mean_pred: 0.0366 - fmeasure: 0.7494 - precision: 0.8266 - auroc: 0.9764 - recall: 0.6915 - val_loss: 0.0557 - val_acc: 0.9820 - val_mean_pred: 0.0474 - val_fmeasure: 0.7296 - val_precision: 0.8184 - val_auroc: 0.9780 - val_recall: 0.6622\n",
            "Epoch 4/15\n",
            "143613/143613 [==============================] - 560s 4ms/step - loss: 0.0423 - acc: 0.9838 - mean_pred: 0.0367 - fmeasure: 0.7565 - precision: 0.8265 - auroc: 0.9791 - recall: 0.7037 - val_loss: 0.0606 - val_acc: 0.9810 - val_mean_pred: 0.0489 - val_fmeasure: 0.6977 - val_precision: 0.8432 - val_auroc: 0.9800 - val_recall: 0.5979\n",
            "Epoch 5/15\n",
            "143613/143613 [==============================] - 561s 4ms/step - loss: 0.0411 - acc: 0.9842 - mean_pred: 0.0366 - fmeasure: 0.7635 - precision: 0.8296 - auroc: 0.9808 - recall: 0.7125 - val_loss: 0.0563 - val_acc: 0.9817 - val_mean_pred: 0.0465 - val_fmeasure: 0.7146 - val_precision: 0.8395 - val_auroc: 0.9814 - val_recall: 0.6244\n",
            "Epoch 6/15\n",
            "143613/143613 [==============================] - 567s 4ms/step - loss: 0.0404 - acc: 0.9843 - mean_pred: 0.0366 - fmeasure: 0.7678 - precision: 0.8297 - auroc: 0.9819 - recall: 0.7196 - val_loss: 0.0547 - val_acc: 0.9806 - val_mean_pred: 0.0390 - val_fmeasure: 0.6842 - val_precision: 0.8570 - val_auroc: 0.9824 - val_recall: 0.5729\n",
            "Epoch 7/15\n",
            "143613/143613 [==============================] - 569s 4ms/step - loss: 0.0400 - acc: 0.9845 - mean_pred: 0.0366 - fmeasure: 0.7706 - precision: 0.8300 - auroc: 0.9828 - recall: 0.7243 - val_loss: 0.0564 - val_acc: 0.9803 - val_mean_pred: 0.0418 - val_fmeasure: 0.6822 - val_precision: 0.8431 - val_auroc: 0.9831 - val_recall: 0.5760\n",
            "Epoch 8/15\n",
            "143613/143613 [==============================] - 573s 4ms/step - loss: 0.0397 - acc: 0.9846 - mean_pred: 0.0366 - fmeasure: 0.7723 - precision: 0.8316 - auroc: 0.9834 - recall: 0.7259 - val_loss: 0.0582 - val_acc: 0.9798 - val_mean_pred: 0.0476 - val_fmeasure: 0.6950 - val_precision: 0.7865 - val_auroc: 0.9837 - val_recall: 0.6265\n",
            "Epoch 9/15\n",
            "143613/143613 [==============================] - 567s 4ms/step - loss: 0.0400 - acc: 0.9844 - mean_pred: 0.0367 - fmeasure: 0.7698 - precision: 0.8284 - auroc: 0.9839 - recall: 0.7244 - val_loss: 0.0528 - val_acc: 0.9806 - val_mean_pred: 0.0379 - val_fmeasure: 0.6939 - val_precision: 0.8286 - val_auroc: 0.9841 - val_recall: 0.6000\n",
            "Epoch 10/15\n",
            "143613/143613 [==============================] - 569s 4ms/step - loss: 0.0401 - acc: 0.9845 - mean_pred: 0.0366 - fmeasure: 0.7701 - precision: 0.8279 - auroc: 0.9843 - recall: 0.7247 - val_loss: 0.0530 - val_acc: 0.9811 - val_mean_pred: 0.0371 - val_fmeasure: 0.6990 - val_precision: 0.8479 - val_auroc: 0.9844 - val_recall: 0.5981\n",
            "Epoch 11/15\n",
            "143613/143613 [==============================] - 573s 4ms/step - loss: 0.0402 - acc: 0.9844 - mean_pred: 0.0367 - fmeasure: 0.7691 - precision: 0.8273 - auroc: 0.9846 - recall: 0.7237 - val_loss: 0.0544 - val_acc: 0.9799 - val_mean_pred: 0.0343 - val_fmeasure: 0.6712 - val_precision: 0.8483 - val_auroc: 0.9847 - val_recall: 0.5585\n",
            "Epoch 12/15\n",
            "143613/143613 [==============================] - 577s 4ms/step - loss: 0.0406 - acc: 0.9843 - mean_pred: 0.0366 - fmeasure: 0.7670 - precision: 0.8254 - auroc: 0.9848 - recall: 0.7221 - val_loss: 0.0543 - val_acc: 0.9800 - val_mean_pred: 0.0354 - val_fmeasure: 0.6748 - val_precision: 0.8387 - val_auroc: 0.9848 - val_recall: 0.5679\n",
            "Epoch 13/15\n",
            "143613/143613 [==============================] - 575s 4ms/step - loss: 0.0404 - acc: 0.9844 - mean_pred: 0.0367 - fmeasure: 0.7699 - precision: 0.8242 - auroc: 0.9849 - recall: 0.7274 - val_loss: 0.0533 - val_acc: 0.9803 - val_mean_pred: 0.0366 - val_fmeasure: 0.6852 - val_precision: 0.8320 - val_auroc: 0.9850 - val_recall: 0.5854\n"
          ],
          "name": "stdout"
        }
      ]
    },
    {
      "cell_type": "markdown",
      "metadata": {
        "colab_type": "text",
        "id": "3pjlF4KjBxgG"
      },
      "source": [
        "### Evaluate Bidirectional LSTM train and test score"
      ]
    },
    {
      "cell_type": "code",
      "metadata": {
        "colab_type": "code",
        "id": "uL1uHHi4Bsd_",
        "colab": {},
        "outputId": "b71e5d8c-bfa0-467d-ae67-ed77790d85e8"
      },
      "source": [
        "#Train\n",
        "Bil_LSTM_train_score = Bil_LSTM_model.evaluate(X_tra, y_tra, batch_size=batch_size2, verbose=1)\n",
        "print('Train Loss:', Bil_train_score[0])\n",
        "print('Train Accuracy:', Bil_train_score[1])\n",
        "\n",
        "#Test\n",
        "Bil_LSTM_test_score = Bil_LSTM_model.evaluate(X_test, y_test, batch_size=batch_size2, verbose=1)\n",
        "print('Test Loss:', Bil_test_score[0])\n",
        "print('Test Accuracy:', Bil_test_score[1])"
      ],
      "execution_count": 0,
      "outputs": [
        {
          "output_type": "stream",
          "text": [
            ""
          ],
          "name": "stdout"
        },
        {
          "output_type": "stream",
          "text": [
            "143613/143613 [==============================] - 127s 882us/step\n",
            "Train Loss: 0.03967767310420758\n",
            "Train Accuracy: 0.9848992378871589\n",
            "63930/63930 [==============================] - 56s 881us/step\n",
            "Test Loss: 0.07301056265350837\n",
            "Test Accuracy: 0.9704051464390497\n"
          ],
          "name": "stdout"
        }
      ]
    },
    {
      "cell_type": "markdown",
      "metadata": {
        "colab_type": "text",
        "id": "buwZ2yFcCXtJ"
      },
      "source": [
        "### Plot Training & Validation Accuracy with the Loss values of the Bidirectional LSTM Model"
      ]
    },
    {
      "cell_type": "code",
      "metadata": {
        "colab_type": "code",
        "id": "tW1f1E-LCc53",
        "colab": {},
        "outputId": "d75c336f-fd62-4877-f65a-91a73ea2a079"
      },
      "source": [
        "# Plot training & validation accuracy values\n",
        "plt.plot(Bil_LSTM_model_fit.history['acc'])\n",
        "plt.plot(Bil_LSTM_model_fit.history['val_acc'])\n",
        "plt.title('Bidirectional LSTM Model accuracy')\n",
        "plt.ylabel('Accuracy')\n",
        "plt.xlabel('Epoch')\n",
        "plt.legend(['Training Accuracy', 'Validation Accuracy'], loc='upper left')\n",
        "plt.show()\n",
        "\n",
        "# Plot training & validation loss values\n",
        "plt.plot(Bil_LSTM_model_fit.history['loss'])\n",
        "plt.plot(Bil_LSTM_model_fit.history['val_loss'])\n",
        "plt.title('Bidirectional LSTM Model loss')\n",
        "plt.ylabel('Loss')\n",
        "plt.xlabel('Epoch')\n",
        "plt.legend(['Training Loss', 'Validation Loss'], loc='lower right')\n",
        "plt.show()"
      ],
      "execution_count": 0,
      "outputs": [
        {
          "output_type": "display_data",
          "data": {
            "image/png": "[encoded data removed]",
            "text/plain": [
              "<Figure size 432x288 with 1 Axes>"
            ]
          },
          "metadata": {
            "tags": [],
            "needs_background": "light"
          }
        },
        {
          "output_type": "display_data",
          "data": {
            "image/png": "[encoded data removed]",
            "text/plain": [
              "<Figure size 432x288 with 1 Axes>"
            ]
          },
          "metadata": {
            "tags": [],
            "needs_background": "light"
          }
        }
      ]
    },
    {
      "cell_type": "code",
      "metadata": {
        "colab_type": "code",
        "id": "Fvgc6U7ZBNMW",
        "colab": {}
      },
      "source": [
        ""
      ],
      "execution_count": 0,
      "outputs": []
    },
    {
      "cell_type": "markdown",
      "metadata": {
        "colab_type": "text",
        "id": "Sx-p9pgTBaQB"
      },
      "source": [
        "## 6) Gated Recurrent Unit (GRU)"
      ]
    },
    {
      "cell_type": "code",
      "metadata": {
        "colab_type": "code",
        "id": "3pR-I6SfBZHx",
        "colab": {}
      },
      "source": [
        "sequence_input = Input(shape=(max_len, ))\n",
        "model = Embedding(input_dim=max_features, output_dim=embedding_dims, trainable = False)(sequence_input)\n",
        "model = SpatialDropout1D(0.2)(model)\n",
        "model = GRU(128, return_sequences=True,dropout=0.1,recurrent_dropout=0.1)(model)\n",
        "model = Conv1D(64, kernel_size = 3, padding = \"valid\", kernel_initializer = \"glorot_uniform\")(model)\n",
        "avg_pool = GlobalAveragePooling1D()(model)\n",
        "max_pool = GlobalMaxPooling1D()(model)\n",
        "model = concatenate([avg_pool, max_pool]) \n",
        "preds = Dense(6, activation=\"sigmoid\")(model)\n",
        "GRU_model = Model(sequence_input, preds)\n",
        "GRU_model.compile(loss='binary_crossentropy',optimizer=Adam(lr=1e-3),metrics=['accuracy', mean_pred, fmeasure, precision, auroc, recall])\n"
      ],
      "execution_count": 0,
      "outputs": []
    },
    {
      "cell_type": "markdown",
      "metadata": {
        "colab_type": "text",
        "id": "Rk3k7L1fDfYe"
      },
      "source": [
        "### Visualize the Orchestrated GRU MODEL Architecture"
      ]
    },
    {
      "cell_type": "code",
      "metadata": {
        "colab_type": "code",
        "id": "SICCeH7bDVj6",
        "colab": {},
        "outputId": "c455e81b-328b-4a89-e1dc-0a4d8ffb11f8"
      },
      "source": [
        "GRU_model.summary()\n",
        "\n",
        "#plot the GRU model architecture\n",
        "\n",
        "#plot_model(GRU_model, to_file='GRU_model_plot.png', show_shapes=True, show_layer_names=True)\n",
        "#Image(retina=True, filename='GRU_model_plot.png')"
      ],
      "execution_count": 0,
      "outputs": [
        {
          "output_type": "stream",
          "text": [
            "__________________________________________________________________________________________________\n",
            "Layer (type)                    Output Shape         Param #     Connected to                     \n",
            "==================================================================================================\n",
            "input_1 (InputLayer)            (None, 200)          0                                            \n",
            "__________________________________________________________________________________________________\n",
            "embedding_6 (Embedding)         (None, 200, 128)     25600000    input_1[0][0]                    \n",
            "__________________________________________________________________________________________________\n",
            "spatial_dropout1d_5 (SpatialDro (None, 200, 128)     0           embedding_6[0][0]                \n",
            "__________________________________________________________________________________________________\n",
            "gru_1 (GRU)                     (None, 200, 128)     98688       spatial_dropout1d_5[0][0]        \n",
            "__________________________________________________________________________________________________\n",
            "conv1d_2 (Conv1D)               (None, 198, 64)      24640       gru_1[0][0]                      \n",
            "__________________________________________________________________________________________________\n",
            "global_average_pooling1d_1 (Glo (None, 64)           0           conv1d_2[0][0]                   \n",
            "__________________________________________________________________________________________________\n",
            "global_max_pooling1d_6 (GlobalM (None, 64)           0           conv1d_2[0][0]                   \n",
            "__________________________________________________________________________________________________\n",
            "concatenate_1 (Concatenate)     (None, 128)          0           global_average_pooling1d_1[0][0] \n",
            "                                                                 global_max_pooling1d_6[0][0]     \n",
            "__________________________________________________________________________________________________\n",
            "dense_11 (Dense)                (None, 6)            774         concatenate_1[0][0]              \n",
            "==================================================================================================\n",
            "Total params: 25,724,102\n",
            "Trainable params: 124,102\n",
            "Non-trainable params: 25,600,000\n",
            "__________________________________________________________________________________________________\n"
          ],
          "name": "stdout"
        }
      ]
    },
    {
      "cell_type": "code",
      "metadata": {
        "colab_type": "code",
        "id": "2l-bAXDRDOdJ",
        "colab": {},
        "outputId": "654dd3e8-1289-406a-a352-be95da79a434"
      },
      "source": [
        "\n",
        "GRU_model_fit = GRU_model.fit(X_tra, y_tra, batch_size=batch_size2, epochs=num_epochs, validation_data=(X_val, y_val), callbacks=[early])"
      ],
      "execution_count": 0,
      "outputs": [
        {
          "output_type": "stream",
          "text": [
            "Train on 143613 samples, validate on 15958 samples\n",
            "Epoch 1/15\n",
            "143613/143613 [==============================] - 968s 7ms/step - loss: 0.1414 - acc: 0.9624 - mean_pred: 0.0462 - fmeasure: 0.0351 - precision: 0.1910 - auroc: 0.7067 - recall: 0.0210 - val_loss: 0.1109 - val_acc: 0.9656 - val_mean_pred: 0.0375 - val_fmeasure: 0.1592 - val_precision: 0.8107 - val_auroc: 0.8013 - val_recall: 0.0907\n",
            "Epoch 2/15\n",
            "143613/143613 [==============================] - 1110s 8ms/step - loss: 0.1011 - acc: 0.9703 - mean_pred: 0.0368 - fmeasure: 0.3601 - precision: 0.7961 - auroc: 0.8335 - recall: 0.2413 - val_loss: 0.0938 - val_acc: 0.9720 - val_mean_pred: 0.0285 - val_fmeasure: 0.4154 - val_precision: 0.8977 - val_auroc: 0.8552 - val_recall: 0.2767\n",
            "Epoch 3/15\n",
            "143613/143613 [==============================] - 1124s 8ms/step - loss: 0.0919 - acc: 0.9730 - mean_pred: 0.0368 - fmeasure: 0.4625 - precision: 0.8242 - auroc: 0.8677 - recall: 0.3304 - val_loss: 0.0869 - val_acc: 0.9739 - val_mean_pred: 0.0358 - val_fmeasure: 0.5058 - val_precision: 0.8298 - val_auroc: 0.8776 - val_recall: 0.3719\n",
            "Epoch 4/15\n",
            "143613/143613 [==============================] - 1126s 8ms/step - loss: 0.0874 - acc: 0.9740 - mean_pred: 0.0366 - fmeasure: 0.4961 - precision: 0.8280 - auroc: 0.8845 - recall: 0.3621 - val_loss: 0.0838 - val_acc: 0.9746 - val_mean_pred: 0.0341 - val_fmeasure: 0.5186 - val_precision: 0.8513 - val_auroc: 0.8907 - val_recall: 0.3819\n",
            "Epoch 5/15\n",
            "143613/143613 [==============================] - 1117s 8ms/step - loss: 0.0840 - acc: 0.9748 - mean_pred: 0.0366 - fmeasure: 0.5196 - precision: 0.8255 - auroc: 0.8955 - recall: 0.3862 - val_loss: 0.0805 - val_acc: 0.9752 - val_mean_pred: 0.0383 - val_fmeasure: 0.5509 - val_precision: 0.8266 - val_auroc: 0.8997 - val_recall: 0.4204\n",
            "Epoch 6/15\n",
            "143613/143613 [==============================] - 1117s 8ms/step - loss: 0.0810 - acc: 0.9752 - mean_pred: 0.0366 - fmeasure: 0.5402 - precision: 0.8268 - auroc: 0.9032 - recall: 0.4086 - val_loss: 0.0771 - val_acc: 0.9758 - val_mean_pred: 0.0335 - val_fmeasure: 0.5595 - val_precision: 0.8415 - val_auroc: 0.9067 - val_recall: 0.4251\n",
            "Epoch 7/15\n",
            "143613/143613 [==============================] - 1109s 8ms/step - loss: 0.0782 - acc: 0.9759 - mean_pred: 0.0366 - fmeasure: 0.5589 - precision: 0.8244 - auroc: 0.9096 - recall: 0.4299 - val_loss: 0.0768 - val_acc: 0.9755 - val_mean_pred: 0.0349 - val_fmeasure: 0.5703 - val_precision: 0.8039 - val_auroc: 0.9124 - val_recall: 0.4483\n",
            "Epoch 8/15\n",
            "143613/143613 [==============================] - 1130s 8ms/step - loss: 0.0756 - acc: 0.9764 - mean_pred: 0.0365 - fmeasure: 0.5728 - precision: 0.8243 - auroc: 0.9148 - recall: 0.4464 - val_loss: 0.0729 - val_acc: 0.9766 - val_mean_pred: 0.0319 - val_fmeasure: 0.5802 - val_precision: 0.8449 - val_auroc: 0.9172 - val_recall: 0.4475\n",
            "Epoch 9/15\n",
            "143613/143613 [==============================] - 1120s 8ms/step - loss: 0.0728 - acc: 0.9769 - mean_pred: 0.0366 - fmeasure: 0.5915 - precision: 0.8255 - auroc: 0.9194 - recall: 0.4686 - val_loss: 0.0707 - val_acc: 0.9768 - val_mean_pred: 0.0327 - val_fmeasure: 0.5960 - val_precision: 0.8244 - val_auroc: 0.9215 - val_recall: 0.4723\n",
            "Epoch 10/15\n",
            "143613/143613 [==============================] - 1129s 8ms/step - loss: 0.0711 - acc: 0.9774 - mean_pred: 0.0366 - fmeasure: 0.6021 - precision: 0.8235 - auroc: 0.9234 - recall: 0.4817 - val_loss: 0.0692 - val_acc: 0.9775 - val_mean_pred: 0.0331 - val_fmeasure: 0.6068 - val_precision: 0.8443 - val_auroc: 0.9251 - val_recall: 0.4793\n",
            "Epoch 11/15\n",
            "143613/143613 [==============================] - 1116s 8ms/step - loss: 0.0699 - acc: 0.9776 - mean_pred: 0.0366 - fmeasure: 0.6096 - precision: 0.8247 - auroc: 0.9267 - recall: 0.4916 - val_loss: 0.0708 - val_acc: 0.9776 - val_mean_pred: 0.0281 - val_fmeasure: 0.6013 - val_precision: 0.8700 - val_auroc: 0.9282 - val_recall: 0.4652\n",
            "Epoch 12/15\n",
            "143613/143613 [==============================] - 1112s 8ms/step - loss: 0.0681 - acc: 0.9782 - mean_pred: 0.0365 - fmeasure: 0.6221 - precision: 0.8306 - auroc: 0.9296 - recall: 0.5047 - val_loss: 0.0661 - val_acc: 0.9786 - val_mean_pred: 0.0348 - val_fmeasure: 0.6419 - val_precision: 0.8341 - val_auroc: 0.9310 - val_recall: 0.5265\n",
            "Epoch 13/15\n",
            "143613/143613 [==============================] - 1117s 8ms/step - loss: 0.0668 - acc: 0.9785 - mean_pred: 0.0365 - fmeasure: 0.6315 - precision: 0.8289 - auroc: 0.9322 - recall: 0.5173 - val_loss: 0.0651 - val_acc: 0.9789 - val_mean_pred: 0.0351 - val_fmeasure: 0.6455 - val_precision: 0.8380 - val_auroc: 0.9335 - val_recall: 0.5289\n",
            "Epoch 14/15\n",
            "143613/143613 [==============================] - 1120s 8ms/step - loss: 0.0660 - acc: 0.9787 - mean_pred: 0.0366 - fmeasure: 0.6347 - precision: 0.8277 - auroc: 0.9346 - recall: 0.5219 - val_loss: 0.0665 - val_acc: 0.9783 - val_mean_pred: 0.0308 - val_fmeasure: 0.6303 - val_precision: 0.8423 - val_auroc: 0.9357 - val_recall: 0.5089\n",
            "Epoch 15/15\n",
            "143613/143613 [==============================] - 1120s 8ms/step - loss: 0.0648 - acc: 0.9788 - mean_pred: 0.0365 - fmeasure: 0.6389 - precision: 0.8272 - auroc: 0.9367 - recall: 0.5269 - val_loss: 0.0638 - val_acc: 0.9792 - val_mean_pred: 0.0362 - val_fmeasure: 0.6588 - val_precision: 0.8291 - val_auroc: 0.9377 - val_recall: 0.5518\n"
          ],
          "name": "stdout"
        }
      ]
    },
    {
      "cell_type": "markdown",
      "metadata": {
        "colab_type": "text",
        "id": "ACrnJm6ADlDK"
      },
      "source": [
        "### Evaluate the GRU Model train and test score"
      ]
    },
    {
      "cell_type": "code",
      "metadata": {
        "colab_type": "code",
        "id": "FpqnrL1EDpR-",
        "colab": {},
        "outputId": "791e10cb-dcee-433d-e89e-abbd7d5c7811"
      },
      "source": [
        "#Train\n",
        "GRU_train_score = GRU_model.evaluate(X_tra, y_tra, batch_size=batch_size2, verbose=1)\n",
        "print('Train Loss:', GRU_train_score[0])\n",
        "print('Train Accuracy:', GRU_train_score[1])\n",
        "\n",
        "#Test\n",
        "GRU_test_score = GRU_model.evaluate(X_test, y_test, batch_size=batch_size2, verbose=1)\n",
        "print('Test Loss:', GRU_test_score[0])\n",
        "print('Test Accuracy:', GRU_test_score[1])"
      ],
      "execution_count": 0,
      "outputs": [
        {
          "output_type": "stream",
          "text": [
            ""
          ],
          "name": "stdout"
        },
        {
          "output_type": "stream",
          "text": [
            "143613/143613 [==============================] - 302s 2ms/step\n",
            "Train Loss: 0.057793995650487894\n",
            "Train Accuracy: 0.9805913632056312\n",
            "63930/63930 [==============================] - 135s 2ms/step\n",
            "Test Loss: 0.08392531978502234\n",
            "Test Accuracy: 0.970918721442638\n"
          ],
          "name": "stdout"
        }
      ]
    },
    {
      "cell_type": "markdown",
      "metadata": {
        "colab_type": "text",
        "id": "ZjDQUJNYECxv"
      },
      "source": [
        "### Plot Training & Validation Accuracy with the Loss values of the GRU Model"
      ]
    },
    {
      "cell_type": "code",
      "metadata": {
        "colab_type": "code",
        "id": "2EQgTPDrEBw-",
        "colab": {},
        "outputId": "52c71798-28c0-4f63-a055-f8020b37f1e0"
      },
      "source": [
        "# Plot training & validation accuracy values\n",
        "plt.plot(GRU_model_fit.history['acc'])\n",
        "plt.plot(GRU_model_fit.history['val_acc'])\n",
        "plt.title(' Gated Recurrent Unit (GRU)) Model accuracy')\n",
        "plt.ylabel('Accuracy')\n",
        "plt.xlabel('Epoch')\n",
        "plt.legend(['Training Accuracy', 'Validation Accuracy'], loc='upper left')\n",
        "plt.show()\n",
        "\n",
        "# Plot training & validation loss values\n",
        "plt.plot(GRU_model_fit.history['loss'])\n",
        "plt.plot(GRU_model_fit.history['val_loss'])\n",
        "plt.title('Gated Recurrent Unit (GRU) Model loss')\n",
        "plt.ylabel('Loss')\n",
        "plt.xlabel('Epoch')\n",
        "plt.legend(['Training Loss', 'Validation Loss'], loc='lower right')\n",
        "plt.show()"
      ],
      "execution_count": 0,
      "outputs": [
        {
          "output_type": "display_data",
          "data": {
            "image/png": "[encoded data removed]",
            "text/plain": [
              "<Figure size 432x288 with 1 Axes>"
            ]
          },
          "metadata": {
            "tags": [],
            "needs_background": "light"
          }
        },
        {
          "output_type": "display_data",
          "data": {
            "image/png": "[encoded data removed]",
            "text/plain": [
              "<Figure size 432x288 with 1 Axes>"
            ]
          },
          "metadata": {
            "tags": [],
            "needs_background": "light"
          }
        }
      ]
    },
    {
      "cell_type": "markdown",
      "metadata": {
        "colab_type": "text",
        "id": "t7iZdbfLq2KN"
      },
      "source": [
        "## 7 )  Bidirectional Gated Recurrent Unit (Bidirecitonal GRU)"
      ]
    },
    {
      "cell_type": "code",
      "metadata": {
        "colab_type": "code",
        "id": "FZdvkc9prCJN",
        "colab": {}
      },
      "source": [
        "sequence_input = Input(shape=(max_len, ))\n",
        "model = Embedding(input_dim=max_features, output_dim=embedding_dims, trainable = False)(sequence_input)\n",
        "model = SpatialDropout1D(0.2)(model)\n",
        "model = Bidirectional(GRU(128, return_sequences=True,dropout=0.1,recurrent_dropout=0.1))(model)\n",
        "model = Conv1D(64, kernel_size = 3, padding = \"valid\", kernel_initializer = \"glorot_uniform\")(model)\n",
        "avg_pool = GlobalAveragePooling1D()(model)\n",
        "max_pool = GlobalMaxPooling1D()(model)\n",
        "model = concatenate([avg_pool, max_pool]) \n",
        "preds = Dense(6, activation=\"sigmoid\")(model)\n",
        "Bil_GRU_model = Model(sequence_input, preds)\n",
        "Bil_GRU_model.compile(loss='binary_crossentropy',optimizer=Adam(lr=1e-3),metrics=['accuracy', mean_pred, fmeasure, precision, auroc, recall])"
      ],
      "execution_count": 0,
      "outputs": []
    },
    {
      "cell_type": "markdown",
      "metadata": {
        "colab_type": "text",
        "id": "JLQtcAEWEawg"
      },
      "source": [
        "### Visualize the Orchestrated Bidirectional GRU Model Architecture\n",
        "\n"
      ]
    },
    {
      "cell_type": "code",
      "metadata": {
        "colab_type": "code",
        "id": "_Powl4YLEiSr",
        "colab": {},
        "outputId": "56967bdf-ef72-4989-acbf-e6d61b0927bc"
      },
      "source": [
        "Bil_GRU_model.summary()\n",
        "\n",
        "#plot the GRU model architecture\n",
        "\n",
        "#plot_model(Bil_GRU_model, to_file='Bil_GRU_model_plot.png', show_shapes=True, show_layer_names=True)\n",
        "#Image(retina=True, filename='Bil_GRU_model_plot.png')"
      ],
      "execution_count": 0,
      "outputs": [
        {
          "output_type": "stream",
          "text": [
            "__________________________________________________________________________________________________\n",
            "Layer (type)                    Output Shape         Param #     Connected to                     \n",
            "==================================================================================================\n",
            "input_2 (InputLayer)            (None, 200)          0                                            \n",
            "__________________________________________________________________________________________________\n",
            "embedding_7 (Embedding)         (None, 200, 128)     25600000    input_2[0][0]                    \n",
            "__________________________________________________________________________________________________\n",
            "spatial_dropout1d_6 (SpatialDro (None, 200, 128)     0           embedding_7[0][0]                \n",
            "__________________________________________________________________________________________________\n",
            "bidirectional_2 (Bidirectional) (None, 200, 256)     197376      spatial_dropout1d_6[0][0]        \n",
            "__________________________________________________________________________________________________\n",
            "conv1d_3 (Conv1D)               (None, 198, 64)      49216       bidirectional_2[0][0]            \n",
            "__________________________________________________________________________________________________\n",
            "global_average_pooling1d_2 (Glo (None, 64)           0           conv1d_3[0][0]                   \n",
            "__________________________________________________________________________________________________\n",
            "global_max_pooling1d_7 (GlobalM (None, 64)           0           conv1d_3[0][0]                   \n",
            "__________________________________________________________________________________________________\n",
            "concatenate_2 (Concatenate)     (None, 128)          0           global_average_pooling1d_2[0][0] \n",
            "                                                                 global_max_pooling1d_7[0][0]     \n",
            "__________________________________________________________________________________________________\n",
            "dense_12 (Dense)                (None, 6)            774         concatenate_2[0][0]              \n",
            "==================================================================================================\n",
            "Total params: 25,847,366\n",
            "Trainable params: 247,366\n",
            "Non-trainable params: 25,600,000\n",
            "__________________________________________________________________________________________________\n"
          ],
          "name": "stdout"
        }
      ]
    },
    {
      "cell_type": "code",
      "metadata": {
        "colab_type": "code",
        "id": "5CGfrNWgEr84",
        "colab": {},
        "outputId": "87f53184-19aa-46c6-f9a5-7771395aa8d9"
      },
      "source": [
        "Bil_GRU_model_fit = Bil_GRU_model.fit(X_tra, y_tra, batch_size=batch_size2, epochs=num_epochs, validation_data=(X_val, y_val), callbacks=[early])"
      ],
      "execution_count": 0,
      "outputs": [
        {
          "output_type": "stream",
          "text": [
            "Train on 143613 samples, validate on 15958 samples\n",
            "Epoch 1/15\n",
            "143613/143613 [==============================] - 4713s 33ms/step - loss: 0.1258 - acc: 0.9650 - mean_pred: 0.0438 - fmeasure: 0.1663 - precision: 0.4927 - auroc: 0.7518 - recall: 0.1081 - val_loss: 0.0992 - val_acc: 0.9704 - val_mean_pred: 0.0267 - val_fmeasure: 0.3553 - val_precision: 0.9276 - val_auroc: 0.8470 - val_recall: 0.2271\n",
            "Epoch 2/15\n",
            "143613/143613 [==============================] - 5220s 36ms/step - loss: 0.0936 - acc: 0.9722 - mean_pred: 0.0367 - fmeasure: 0.4330 - precision: 0.8185 - auroc: 0.8681 - recall: 0.3032 - val_loss: 0.0872 - val_acc: 0.9733 - val_mean_pred: 0.0323 - val_fmeasure: 0.4627 - val_precision: 0.8906 - val_auroc: 0.8829 - val_recall: 0.3208\n",
            "Epoch 3/15\n",
            "143613/143613 [==============================] - 5241s 36ms/step - loss: 0.0852 - acc: 0.9743 - mean_pred: 0.0367 - fmeasure: 0.5123 - precision: 0.8176 - auroc: 0.8921 - recall: 0.3808 - val_loss: 0.0819 - val_acc: 0.9753 - val_mean_pred: 0.0269 - val_fmeasure: 0.5233 - val_precision: 0.9001 - val_auroc: 0.8996 - val_recall: 0.3780\n",
            "Epoch 4/15\n",
            "143613/143613 [==============================] - 5307s 37ms/step - loss: 0.0793 - acc: 0.9759 - mean_pred: 0.0366 - fmeasure: 0.5550 - precision: 0.8218 - auroc: 0.9054 - recall: 0.4276 - val_loss: 0.0752 - val_acc: 0.9768 - val_mean_pred: 0.0316 - val_fmeasure: 0.5778 - val_precision: 0.8708 - val_auroc: 0.9104 - val_recall: 0.4409\n",
            "Epoch 5/15\n",
            "143613/143613 [==============================] - 5332s 37ms/step - loss: 0.0753 - acc: 0.9768 - mean_pred: 0.0366 - fmeasure: 0.5833 - precision: 0.8256 - auroc: 0.9147 - recall: 0.4589 - val_loss: 0.0756 - val_acc: 0.9767 - val_mean_pred: 0.0266 - val_fmeasure: 0.5649 - val_precision: 0.8970 - val_auroc: 0.9182 - val_recall: 0.4193\n",
            "Epoch 6/15\n",
            "143613/143613 [==============================] - 5366s 37ms/step - loss: 0.0726 - acc: 0.9774 - mean_pred: 0.0366 - fmeasure: 0.6019 - precision: 0.8259 - auroc: 0.9213 - recall: 0.4820 - val_loss: 0.0714 - val_acc: 0.9775 - val_mean_pred: 0.0303 - val_fmeasure: 0.5948 - val_precision: 0.8749 - val_auroc: 0.9240 - val_recall: 0.4575\n",
            "Epoch 7/15\n",
            "143613/143613 [==============================] - 5441s 38ms/step - loss: 0.0703 - acc: 0.9779 - mean_pred: 0.0366 - fmeasure: 0.6137 - precision: 0.8266 - auroc: 0.9264 - recall: 0.4957 - val_loss: 0.0690 - val_acc: 0.9783 - val_mean_pred: 0.0307 - val_fmeasure: 0.6221 - val_precision: 0.8665 - val_auroc: 0.9286 - val_recall: 0.4921\n",
            "Epoch 8/15\n",
            "143613/143613 [==============================] - 5413s 38ms/step - loss: 0.0680 - acc: 0.9782 - mean_pred: 0.0366 - fmeasure: 0.6255 - precision: 0.8231 - auroc: 0.9306 - recall: 0.5118 - val_loss: 0.0684 - val_acc: 0.9780 - val_mean_pred: 0.0293 - val_fmeasure: 0.6112 - val_precision: 0.8719 - val_auroc: 0.9325 - val_recall: 0.4775\n",
            "Epoch 9/15\n",
            "143613/143613 [==============================] - 5488s 38ms/step - loss: 0.0662 - acc: 0.9788 - mean_pred: 0.0366 - fmeasure: 0.6393 - precision: 0.8272 - auroc: 0.9342 - recall: 0.5278 - val_loss: 0.0676 - val_acc: 0.9783 - val_mean_pred: 0.0296 - val_fmeasure: 0.6266 - val_precision: 0.8527 - val_auroc: 0.9358 - val_recall: 0.5015\n",
            "Epoch 10/15\n",
            "143613/143613 [==============================] - 5467s 38ms/step - loss: 0.0640 - acc: 0.9792 - mean_pred: 0.0366 - fmeasure: 0.6491 - precision: 0.8273 - auroc: 0.9373 - recall: 0.5413 - val_loss: 0.0648 - val_acc: 0.9792 - val_mean_pred: 0.0301 - val_fmeasure: 0.6444 - val_precision: 0.8641 - val_auroc: 0.9387 - val_recall: 0.5191\n",
            "Epoch 11/15\n",
            "143613/143613 [==============================] - 5467s 38ms/step - loss: 0.0623 - acc: 0.9795 - mean_pred: 0.0366 - fmeasure: 0.6584 - precision: 0.8289 - auroc: 0.9401 - recall: 0.5535 - val_loss: 0.0655 - val_acc: 0.9791 - val_mean_pred: 0.0285 - val_fmeasure: 0.6381 - val_precision: 0.8729 - val_auroc: 0.9414 - val_recall: 0.5089\n",
            "Epoch 12/15\n",
            "143613/143613 [==============================] - 5456s 38ms/step - loss: 0.0608 - acc: 0.9799 - mean_pred: 0.0366 - fmeasure: 0.6676 - precision: 0.8272 - auroc: 0.9426 - recall: 0.5666 - val_loss: 0.0609 - val_acc: 0.9801 - val_mean_pred: 0.0344 - val_fmeasure: 0.6762 - val_precision: 0.8398 - val_auroc: 0.9437 - val_recall: 0.5708\n",
            "Epoch 13/15\n",
            "143613/143613 [==============================] - 5443s 38ms/step - loss: 0.0596 - acc: 0.9802 - mean_pred: 0.0366 - fmeasure: 0.6745 - precision: 0.8324 - auroc: 0.9448 - recall: 0.5740 - val_loss: 0.0623 - val_acc: 0.9798 - val_mean_pred: 0.0303 - val_fmeasure: 0.6613 - val_precision: 0.8568 - val_auroc: 0.9458 - val_recall: 0.5437\n",
            "Epoch 14/15\n",
            "143613/143613 [==============================] - 5439s 38ms/step - loss: 0.0587 - acc: 0.9804 - mean_pred: 0.0366 - fmeasure: 0.6785 - precision: 0.8281 - auroc: 0.9467 - recall: 0.5811 - val_loss: 0.0609 - val_acc: 0.9801 - val_mean_pred: 0.0319 - val_fmeasure: 0.6732 - val_precision: 0.8483 - val_auroc: 0.9477 - val_recall: 0.5639\n",
            "Epoch 15/15\n",
            "143613/143613 [==============================] - 5472s 38ms/step - loss: 0.0576 - acc: 0.9807 - mean_pred: 0.0365 - fmeasure: 0.6848 - precision: 0.8298 - auroc: 0.9486 - recall: 0.5897 - val_loss: 0.0584 - val_acc: 0.9807 - val_mean_pred: 0.0364 - val_fmeasure: 0.6925 - val_precision: 0.8294 - val_auroc: 0.9494 - val_recall: 0.5987\n"
          ],
          "name": "stdout"
        }
      ]
    },
    {
      "cell_type": "markdown",
      "metadata": {
        "colab_type": "text",
        "id": "Zp25epmqEv8I"
      },
      "source": [
        "### Evaluate the GRU Model train and test score"
      ]
    },
    {
      "cell_type": "code",
      "metadata": {
        "colab_type": "code",
        "id": "xl_z8tXhEwmX",
        "colab": {},
        "outputId": "5a389945-f368-4207-8e78-75a8f50b0ea9"
      },
      "source": [
        "#Train\n",
        "Bil_GRU_train_score = Bil_GRU_model.evaluate(X_tra, y_tra, batch_size=batch_size2, verbose=1)\n",
        "print('Train Loss:', Bil_GRU_train_score[0])\n",
        "print('Train Accuracy:', Bil_GRU_train_score[1])\n",
        "\n",
        "#Test\n",
        "Bil_GRU_test_score = Bil_GRU_model.evaluate(X_test, y_test, batch_size=batch_size2, verbose=1)\n",
        "print('Test Loss:', Bil_GRU_test_score[0])\n",
        "print('Test Accuracy:', Bil_GRU_test_score[1])"
      ],
      "execution_count": 0,
      "outputs": [
        {
          "output_type": "stream",
          "text": [
            ""
          ],
          "name": "stdout"
        },
        {
          "output_type": "stream",
          "text": [
            "143613/143613 [==============================] - 1035s 7ms/step\n",
            "Train Loss: 0.05122460926297935\n",
            "Train Accuracy: 0.9823925006662131\n",
            "63930/63930 [==============================] - 461s 7ms/step\n",
            "Test Loss: 0.07718269638513224\n",
            "Test Accuracy: 0.9721622642918072\n"
          ],
          "name": "stdout"
        }
      ]
    },
    {
      "cell_type": "markdown",
      "metadata": {
        "colab_type": "text",
        "id": "tqOf-TcOFH6h"
      },
      "source": [
        "### Plot Training & Validation Accuracy with the Loss values of the Bil GRU Model"
      ]
    },
    {
      "cell_type": "code",
      "metadata": {
        "colab_type": "code",
        "id": "hhqbBmzCFMke",
        "colab": {},
        "outputId": "529e5ff9-ac09-4420-be02-0dab260ba8fe"
      },
      "source": [
        "# Plot training & validation accuracy values\n",
        "plt.plot(Bil_GRU_model_fit.history['acc'])\n",
        "plt.plot(Bil_GRU_model_fit.history['val_acc'])\n",
        "plt.title(' Bidirectional Gated Recurrent Unit (GRU) Model accuracy')\n",
        "plt.ylabel('Accuracy')\n",
        "plt.xlabel('Epoch')\n",
        "plt.legend(['Training Accuracy', 'Validation Accuracy'], loc='upper left')\n",
        "plt.show()\n",
        "\n",
        "# Plot training & validation loss values\n",
        "plt.plot(Bil_GRU_model_fit.history['loss'])\n",
        "plt.plot(Bil_GRU_model_fit.history['val_loss'])\n",
        "plt.title('Bidirectional Gated Recurrent Unit (GRU) Model loss')\n",
        "plt.ylabel('Loss')\n",
        "plt.xlabel('Epoch')\n",
        "plt.legend(['Training Loss', 'Validation Loss'], loc='lower right')\n",
        "plt.show()"
      ],
      "execution_count": 0,
      "outputs": [
        {
          "output_type": "display_data",
          "data": {
            "image/png": "[encoded data removed]",
            "text/plain": [
              "<Figure size 432x288 with 1 Axes>"
            ]
          },
          "metadata": {
            "tags": [],
            "needs_background": "light"
          }
        },
        {
          "output_type": "display_data",
          "data": {
            "image/png": "[encoded data removed]",
            "text/plain": [
              "<Figure size 432x288 with 1 Axes>"
            ]
          },
          "metadata": {
            "tags": [],
            "needs_background": "light"
          }
        }
      ]
    },
    {
      "cell_type": "markdown",
      "metadata": {
        "colab_type": "text",
        "id": "db28Tpnvejiq"
      },
      "source": [
        "# Evaluation of Experiment Without Pre-trained Embedding"
      ]
    },
    {
      "cell_type": "markdown",
      "metadata": {
        "colab_type": "text",
        "id": "oh7FUzQnZ7BJ"
      },
      "source": [
        "#### Computing the highest of the evaluation matrics (per model) "
      ]
    },
    {
      "cell_type": "code",
      "metadata": {
        "colab_type": "code",
        "id": "zK_Xn0hNAKJo",
        "colab": {},
        "outputId": "3cfe5974-bfa8-4e18-fe52-f31de5fc6f1f"
      },
      "source": [
        "trace = go.Table(\n",
        "    header=dict(values=['Model', 'Loss', 'Accuracy', 'mean_pred', 'F-Measure', 'Precision', 'AUC', 'Recall'],\n",
        "                line = dict(color='#7D7F80'),\n",
        "                fill = dict(color='#a1c3d1'),\n",
        "                align = ['left'] * 5),\n",
        "    cells=dict(values=[['Neural Network', 'CNN', 'RNNs', 'LSTM', ' Bidirectional LSTM', 'GRU', 'Bidirectional GRU'],\n",
        "                       [\n",
        "                        #Loss Evaluation\n",
        "                        round(np.max(nn_model_fit.history['loss']), 3), round(np.max(CNN_model_fit.history['loss']), 3), round(np.max(RNN_model_fit.history['loss']), 3), \n",
        "                        round(np.max(LSTM_model_fit.history['loss']), 3), round(np.max(Bil_LSTM_model_fit.history['loss']), 3), round(np.max(GRU_model_fit.history['loss']), 3),\n",
        "                        round(np.max(Bil_GRU_model_fit.history['loss']), 3)],\n",
        "                        \n",
        "                        #Accuracy Evaluation\n",
        "                        [round(np.max(nn_model_fit.history['acc']), 3), round(np.max(CNN_model_fit.history['acc']), 3), round(np.max(RNN_model_fit.history['acc']), 3), \n",
        "                        round(np.max(LSTM_model_fit.history['acc']), 3), round(np.max(Bil_LSTM_model_fit.history['acc']), 3), round(np.max(GRU_model_fit.history['acc']), 3),\n",
        "                        round(np.max(Bil_GRU_model_fit.history['acc']), 3)],\n",
        "               \n",
        "                        #mean_pred Evaluation\n",
        "                        [round(np.max(nn_model_fit.history['mean_pred']), 3), round(np.max(CNN_model_fit.history['mean_pred']), 3), round(np.max(RNN_model_fit.history['mean_pred']), 3), \n",
        "                        round(np.max(LSTM_model_fit.history['mean_pred']), 3), round(np.max(Bil_LSTM_model_fit.history['mean_pred']), 3), round(np.max(GRU_model_fit.history['mean_pred']), 3),\n",
        "                        round(np.max(Bil_GRU_model_fit.history['mean_pred']), 3)],\n",
        "\t\t\t\t\t\t\n",
        "                        #F1-Measure Evaluation fmeasure\n",
        "                        [round(np.max(nn_model_fit.history['fmeasure']), 3), round(np.max(CNN_model_fit.history['fmeasure']), 3), round(np.max(RNN_model_fit.history['fmeasure']), 3), \n",
        "                        round(np.max(LSTM_model_fit.history['fmeasure']), 3), round(np.max(Bil_LSTM_model_fit.history['fmeasure']), 3), round(np.max(GRU_model_fit.history['fmeasure']), 3),\n",
        "                        round(np.max(Bil_GRU_model_fit.history['fmeasure']), 3)],\n",
        "\t\t\t\t\t\t             \n",
        "                        #Precision Evaluation precision\n",
        "                        [round(np.max(nn_model_fit.history['precision']), 3), round(np.max(CNN_model_fit.history['precision']), 3), round(np.max(RNN_model_fit.history['precision']), 3), \n",
        "                        round(np.max(LSTM_model_fit.history['precision']), 3), round(np.max(Bil_LSTM_model_fit.history['precision']), 3), round(np.max(GRU_model_fit.history['precision']), 3),\n",
        "                        round(np.max(Bil_GRU_model_fit.history['precision']), 3)],\n",
        "\t\t\t\t\t\t\n",
        "                        #ROC AUC Evaluation auroc\n",
        "                        [round(np.max(nn_model_fit.history['auroc']), 3), round(np.max(CNN_model_fit.history['auroc']), 3), round(np.max(RNN_model_fit.history['auroc']), 3), \n",
        "                        round(np.max(LSTM_model_fit.history['auroc']), 3), round(np.max(Bil_LSTM_model_fit.history['auroc']), 3), round(np.max(GRU_model_fit.history['auroc']), 3),\n",
        "                        round(np.max(Bil_GRU_model_fit.history['auroc']), 3)],\n",
        "                       \n",
        "                        #Recall Evaluation\n",
        "                        [round(np.max(nn_model_fit.history['recall']), 3), round(np.max(CNN_model_fit.history['recall']), 3), round(np.max(RNN_model_fit.history['recall']), 3), \n",
        "                        round(np.max(LSTM_model_fit.history['recall']), 3), round(np.max(Bil_LSTM_model_fit.history['recall']), 3), round(np.max(GRU_model_fit.history['recall']), 3),\n",
        "                        round(np.max(Bil_GRU_model_fit.history['recall']), 3)]\n",
        "                       ],\n",
        "               line = dict(color='#7D7F80'),\n",
        "               fill = dict(color='#EDFAFF'),\n",
        "               align = ['left'] * 5))\n",
        "\n",
        "layout = dict(width=800, height=400)\n",
        "data = [trace]\n",
        "fig = dict(data=data, layout=layout)\n",
        "py.iplot(data, filename = 'multi-label_without_pre-trained_embedding_with the max of the evaluation matrics (per model) _table')"
      ],
      "execution_count": 0,
      "outputs": [
        {
          "output_type": "stream",
          "text": [
            "D:\\Program Files\\Anaconda\\lib\\site-packages\\IPython\\core\\display.py:689: UserWarning:\n",
            "\n",
            "Consider using IPython.display.IFrame instead\n",
            "\n"
          ],
          "name": "stderr"
        },
        {
          "output_type": "execute_result",
          "data": {
            "text/html": [
              "<iframe id=\"igraph\" scrolling=\"no\" style=\"border:none;\" seamless=\"seamless\" src=\"https://plot.ly/~hamzasharoon/13.embed\" height=\"525px\" width=\"100%\"></iframe>"
            ],
            "text/plain": [
              "<chart_studio.tools.PlotlyDisplay object>"
            ]
          },
          "metadata": {
            "tags": []
          },
          "execution_count": 67
        }
      ]
    },
    {
      "cell_type": "markdown",
      "metadata": {
        "colab_type": "text",
        "id": "T6TsVU-zZ-wi"
      },
      "source": [
        "#### Computing the mean average of the evaluation matrics (per model) "
      ]
    },
    {
      "cell_type": "code",
      "metadata": {
        "colab_type": "code",
        "id": "9eNLjhkoaEsX",
        "colab": {},
        "outputId": "370bb9c8-42e5-4267-e7b0-d63b7f148680"
      },
      "source": [
        "trace = go.Table(\n",
        "    header=dict(values=['Model', 'Loss', 'Accuracy', 'mean_pred', 'F-Measure', 'Precision', 'AUC', 'Recall'],\n",
        "                line = dict(color='#7D7F80'),\n",
        "                fill = dict(color='#a1c3d1'),\n",
        "                align = ['left'] * 5),\n",
        "    cells=dict(values=[['Neural Network', 'CNN', 'RNNs', 'LSTM', 'Bidirectional LSTM', 'GRU', 'Bidirectional GRU'],\n",
        "                       [\n",
        "                        #Loss Evaluation\n",
        "                        round(np.mean(nn_model_fit.history['loss']), 3), round(np.mean(CNN_model_fit.history['loss']), 3), round(np.mean(RNN_model_fit.history['loss']), 3), \n",
        "                        round(np.mean(LSTM_model_fit.history['loss']), 3), round(np.mean(Bil_LSTM_model_fit.history['loss']), 3), round(np.mean(GRU_model_fit.history['loss']), 3),\n",
        "                        round(np.mean(Bil_GRU_model_fit.history['loss']), 3)],\n",
        "                        \n",
        "                        #Accuracy Evaluation\n",
        "                        [round(np.mean(nn_model_fit.history['acc']), 3), round(np.mean(CNN_model_fit.history['acc']), 3), round(np.mean(RNN_model_fit.history['acc']), 3), \n",
        "                        round(np.mean(LSTM_model_fit.history['acc']), 3), round(np.mean(Bil_LSTM_model_fit.history['acc']), 3), round(np.mean(GRU_model_fit.history['acc']), 3),\n",
        "                        round(np.mean(Bil_GRU_model_fit.history['acc']), 3)],\n",
        "               \n",
        "                        #mean_pred Evaluation\n",
        "                        [round(np.mean(nn_model_fit.history['mean_pred']), 3), round(np.mean(CNN_model_fit.history['mean_pred']), 3), round(np.mean(RNN_model_fit.history['mean_pred']), 3), \n",
        "                        round(np.mean(LSTM_model_fit.history['mean_pred']), 3), round(np.mean(Bil_LSTM_model_fit.history['mean_pred']), 3), round(np.mean(GRU_model_fit.history['mean_pred']), 3),\n",
        "                        round(np.mean(Bil_GRU_model_fit.history['mean_pred']), 3)],\n",
        "\t\t\t\t\t\t\n",
        "                        #F1-Measure Evaluation fmeasure\n",
        "                        [round(np.mean(nn_model_fit.history['fmeasure']), 3), round(np.mean(CNN_model_fit.history['fmeasure']), 3), round(np.mean(RNN_model_fit.history['fmeasure']), 3), \n",
        "                        round(np.mean(LSTM_model_fit.history['fmeasure']), 3), round(np.mean(Bil_LSTM_model_fit.history['fmeasure']), 3), round(np.mean(GRU_model_fit.history['fmeasure']), 3),\n",
        "                        round(np.mean(Bil_GRU_model_fit.history['fmeasure']), 3)],\n",
        "\t\t\t\t\t\t             \n",
        "                        #Precision Evaluation precision\n",
        "                        [round(np.mean(nn_model_fit.history['precision']), 3), round(np.mean(CNN_model_fit.history['precision']), 3), round(np.mean(RNN_model_fit.history['precision']), 3), \n",
        "                        round(np.mean(LSTM_model_fit.history['precision']), 3), round(np.mean(Bil_LSTM_model_fit.history['precision']), 3), round(np.mean(GRU_model_fit.history['precision']), 3),\n",
        "                        round(np.mean(Bil_GRU_model_fit.history['precision']), 3)],\n",
        "\t\t\t\t\t\t\n",
        "                        #ROC AUC Evaluation auroc\n",
        "                        [round(np.mean(nn_model_fit.history['auroc']), 3), round(np.mean(CNN_model_fit.history['auroc']), 3), round(np.mean(RNN_model_fit.history['auroc']), 3), \n",
        "                        round(np.mean(LSTM_model_fit.history['auroc']), 3), round(np.mean(Bil_LSTM_model_fit.history['auroc']), 3), round(np.mean(GRU_model_fit.history['auroc']), 3),\n",
        "                        round(np.mean(Bil_GRU_model_fit.history['auroc']), 3)],\n",
        "                       \n",
        "                        #Recall Evaluation\n",
        "                        [round(np.mean(nn_model_fit.history['recall']), 3), round(np.mean(CNN_model_fit.history['recall']), 3), round(np.mean(RNN_model_fit.history['recall']), 3), \n",
        "                        round(np.mean(LSTM_model_fit.history['recall']), 3), round(np.mean(Bil_LSTM_model_fit.history['recall']), 3), round(np.mean(GRU_model_fit.history['recall']), 3),\n",
        "                        round(np.mean(Bil_GRU_model_fit.history['recall']), 3)]\n",
        "                       ],\n",
        "               line = dict(color='#7D7F80'),\n",
        "               fill = dict(color='#EDFAFF'),\n",
        "               align = ['left'] * 5))\n",
        "\n",
        "layout = dict(width=800, height=400)\n",
        "data = [trace]\n",
        "fig = dict(data=data, layout=layout)\n",
        "py.iplot(data, filename = 'multi-label_without_pre-trained_embedding_with the max of the evaluation matrics (per model) _table')"
      ],
      "execution_count": 0,
      "outputs": [
        {
          "output_type": "stream",
          "text": [
            "D:\\Program Files\\Anaconda\\lib\\site-packages\\IPython\\core\\display.py:689: UserWarning:\n",
            "\n",
            "Consider using IPython.display.IFrame instead\n",
            "\n"
          ],
          "name": "stderr"
        },
        {
          "output_type": "execute_result",
          "data": {
            "text/html": [
              "<iframe id=\"igraph\" scrolling=\"no\" style=\"border:none;\" seamless=\"seamless\" src=\"https://plot.ly/~hamzasharoon/13.embed\" height=\"525px\" width=\"100%\"></iframe>"
            ],
            "text/plain": [
              "<chart_studio.tools.PlotlyDisplay object>"
            ]
          },
          "metadata": {
            "tags": []
          },
          "execution_count": 68
        }
      ]
    },
    {
      "cell_type": "code",
      "metadata": {
        "colab_type": "code",
        "id": "3bnSuPk7bHug",
        "colab": {}
      },
      "source": [
        "#Image('multi-label_with the mean average of the evaluation matrics (per model) _table.png')"
      ],
      "execution_count": 0,
      "outputs": []
    },
    {
      "cell_type": "markdown",
      "metadata": {
        "colab_type": "text",
        "id": "CbwMLaa8L2Hs"
      },
      "source": [
        "### Score confusion table"
      ]
    },
    {
      "cell_type": "code",
      "metadata": {
        "colab_type": "code",
        "id": "v8fXF_dmejiq",
        "colab": {},
        "outputId": "89b8c54f-dd6e-4f42-91ae-0c676b2e6140"
      },
      "source": [
        "# concat all training, validation and testing accuracy scores\n",
        "NN_Accuracy = ['Neural Network', \n",
        "               np.mean(nn_model_fit.history['acc']), \n",
        "               np.mean(nn_model_fit.history['val_acc']), \n",
        "               nn_test_score[1]]\n",
        "\n",
        "CNN_Accuracy = ['Convolutional Neural Network (CNN)', \n",
        "                np.mean(CNN_model_fit.history['acc']), \n",
        "                np.mean(CNN_model_fit.history['val_acc']), \n",
        "                CNN_test_score[1]]\n",
        "\n",
        "RNN_Accuracy = ['Recurrent Neural Networks (RNNs)', \n",
        "                np.mean(RNN_model_fit.history['acc']), \n",
        "                np.mean(RNN_model_fit.history['val_acc']), \n",
        "                RNN_test_score[1]]\n",
        "\n",
        "LSTM_Accuracy = ['LSTM', \n",
        "                  np.mean(LSTM_model_fit.history['acc']), \n",
        "                  np.mean(LSTM_model_fit.history['val_acc']), \n",
        "                  LSTM_test_score[1]]\n",
        "\n",
        "Bidirectional_LSTM_Accuracy = ['Bidirectional LSTM', \n",
        "                    np.mean(Bil_LSTM_model_fit.history['acc']), \n",
        "                    np.mean(Bil_LSTM_model_fit.history['val_acc']), \n",
        "                    Bil_LSTM_test_score[1]]\n",
        "\n",
        "GRU_Accuracy = ['GRU', \n",
        "                    np.mean(GRU_model_fit.history['acc']), \n",
        "                    np.mean(GRU_model_fit.history['val_acc']), \n",
        "                    GRU_test_score[1]]\n",
        "\n",
        "Bidirectional_GRU_Accuracy = ['Bidirectional GRU', \n",
        "                    np.mean(Bil_GRU_model_fit.history['acc']), \n",
        "                    np.mean(Bil_GRU_model_fit.history['val_acc']), \n",
        "                    Bil_GRU_test_score[1]]\n",
        "\n",
        "\n",
        "# create dataframe\n",
        "experimentalResult = pd.DataFrame([NN_Accuracy])\n",
        "# append all other scores\n",
        "experimentalResult = experimentalResult.append([NN_Accuracy, CNN_Accuracy, RNN_Accuracy, LSTM_Accuracy, Bidirectional_LSTM_Accuracy, \n",
        "                                                GRU_Accuracy, Bidirectional_GRU_Accuracy])\n",
        "\n",
        "\n",
        "# beautify the new dataframe\n",
        "experimentalResult.columns = ['Model', 'Training Accuracy', 'Validation Accuracy', 'Testing Accuracy']\n",
        "experimentalResult.set_index(['Model'], inplace=True)\n",
        "experimentalResult\n",
        "print(experimentalResult)"
      ],
      "execution_count": 0,
      "outputs": [
        {
          "output_type": "stream",
          "text": [
            "                                    Training Accuracy  Validation Accuracy  \\\n",
            "Model                                                                        \n",
            "Neural Network                               0.982285             0.980851   \n",
            "Neural Network                               0.982285             0.980851   \n",
            "Convolutional Neural Network (CNN)           0.983454             0.980148   \n",
            "Recurrent Neural Networks (RNNs)             0.979853             0.978706   \n",
            "LSTM                                         0.982492             0.980109   \n",
            "Bidirectional LSTM                           0.983676             0.980806   \n",
            "GRU                                          0.975218             0.975740   \n",
            "Bidirectional GRU                            0.977091             0.977568   \n",
            "\n",
            "                                    Testing Accuracy  \n",
            "Model                                                 \n",
            "Neural Network                              0.966440  \n",
            "Neural Network                              0.966440  \n",
            "Convolutional Neural Network (CNN)          0.963640  \n",
            "Recurrent Neural Networks (RNNs)            0.962449  \n",
            "LSTM                                        0.967139  \n",
            "Bidirectional LSTM                          0.970405  \n",
            "GRU                                         0.970919  \n",
            "Bidirectional GRU                           0.972162  \n"
          ],
          "name": "stdout"
        }
      ]
    }
  ]
}