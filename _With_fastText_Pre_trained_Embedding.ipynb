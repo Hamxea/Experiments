{
  "nbformat": 4,
  "nbformat_minor": 0,
  "metadata": {
    "colab": {
      "name": "_With_fastText_Pre_trained_Embedding.ipynb",
      "version": "0.3.2",
      "provenance": [],
      "collapsed_sections": [],
      "toc_visible": true,
      "include_colab_link": true
    },
    "language_info": {
      "codemirror_mode": {
        "name": "ipython",
        "version": 3
      },
      "file_extension": ".py",
      "mimetype": "text/x-python",
      "name": "python",
      "nbconvert_exporter": "python",
      "pygments_lexer": "ipython3",
      "version": "3.7.3"
    },
    "kernelspec": {
      "display_name": "Python 3",
      "language": "python",
      "name": "python3"
    },
    "accelerator": "TPU"
  },
  "cells": [
    {
      "cell_type": "markdown",
      "metadata": {
        "id": "view-in-github",
        "colab_type": "text"
      },
      "source": [
        "<a href=\"https://colab.research.google.com/github/Hamxea/Experiments/blob/master/_With_fastText_Pre_trained_Embedding.ipynb\" target=\"_parent\"><img src=\"https://colab.research.google.com/assets/colab-badge.svg\" alt=\"Open In Colab\"/></a>"
      ]
    },
    {
      "cell_type": "markdown",
      "metadata": {
        "colab_type": "text",
        "id": "JnB0s1tPejbl"
      },
      "source": [
        "# Multi-Label Text Classification of Text Document or News\n"
      ]
    },
    {
      "cell_type": "markdown",
      "metadata": {
        "colab_type": "text",
        "id": "fKccKTR_ejbm"
      },
      "source": [
        " ### DATASET\n",
        "\n",
        "Toxic Comment Classification dataset. a multi-label text classfication data consisting of many wikipedia comments which have been labeled by humans according to their relative toxicity comments labels such as \"toxic\", \"severe_toxic\", \"obscene\", \"threat\", \"insult\", and  \"identity_hate\". The dataset has approximately ~160k observation in total, ~125k with zero labels (toxicity) of any type, and approximately ~35k classified in one or more toxicity categories.\n",
        "\n",
        "\n",
        "\n",
        "\n",
        "*   Dataset Link: https://www.kaggle.com/c/jigsaw-toxic-comment-classification-challenge\n",
        "\n",
        "\n"
      ]
    },
    {
      "cell_type": "markdown",
      "metadata": {
        "colab_type": "text",
        "id": "h4oWa1Aqejbn"
      },
      "source": [
        "\n",
        "#### DATA CHARACTERISTICS (TRAIN DATASET)\n",
        "* Number of data points\t159571\n",
        "* Number data points of type toxic\t15294\n",
        "* Number data points of type severe_tocic\t1595\n",
        "* Number data points of type obscene\t8449\n",
        "* Number data points of type threat\t478\n",
        "* Number data points of type insult\t7877\n",
        "* Number data points of type identity_hate\t1405\n",
        "* Observations in one or more class\t35098\n",
        "* Unclassified observation\t124473\n"
      ]
    },
    {
      "cell_type": "markdown",
      "metadata": {
        "colab_type": "text",
        "id": "NoB57aB6ejbo"
      },
      "source": [
        "### Import necessary libraries for the experiment"
      ]
    },
    {
      "cell_type": "code",
      "metadata": {
        "colab_type": "code",
        "id": "BXuDj-0Vejbp",
        "outputId": "fa5e48fd-af18-41b1-a646-82b23b0614d2",
        "colab": {
          "base_uri": "https://localhost:8080/",
          "height": 247
        }
      },
      "source": [
        "# importing libraries\n",
        "import tensorflow as tf\n",
        "from keras import initializers, regularizers, constraints, optimizers, layers, callbacks\n",
        "from keras.callbacks import EarlyStopping,ModelCheckpoint\n",
        "from keras.preprocessing.text import Tokenizer\n",
        "from keras.preprocessing.sequence import pad_sequences\n",
        "from keras.preprocessing import text, sequence\n",
        "from keras import initializers, regularizers, constraints, optimizers, layers\n",
        "from keras.models import Model, Input, Sequential\n",
        "from keras.layers import Dense, Input, LSTM, SimpleRNN, Embedding, Dropout, SpatialDropout1D, Activation, Conv1D,GRU\n",
        "from keras.layers import Conv1D, Bidirectional, GlobalMaxPool1D, MaxPooling1D, BatchNormalization, Add, Flatten\n",
        "from keras.layers import GlobalMaxPooling1D, GlobalAveragePooling1D, concatenate, SpatialDropout1D\n",
        "from keras.optimizers import Adam\n",
        "from keras.utils.vis_utils import plot_model\n",
        "from sklearn.model_selection  import train_test_split\n",
        "#from sklearn.cross_validation import train_test_split\n",
        "\n",
        "\n",
        "# For custom metrics\n",
        "import keras.backend as K\n",
        "from keras.utils.vis_utils import plot_model\n",
        "from keras.callbacks import EarlyStopping \n",
        "\n",
        "\n",
        "import pandas as pd\n",
        "import numpy as np\n",
        " \n",
        "import matplotlib.pyplot as plt\n",
        "\n",
        "plt.style.use('seaborn')\n",
        "\n",
        "import seaborn as sns\n",
        "from IPython.display import Image\n",
        "\n",
        "from tqdm import tqdm\n",
        "from nltk.corpus import stopwords\n",
        "from nltk.tokenize import RegexpTokenizer \n",
        "import os, re, csv, math, codecs\n",
        "from nltk.tokenize import word_tokenize\n",
        "import string\n",
        "import gensim\n",
        "import os\n",
        "import re\n",
        "\n",
        "sns.set_style(\"whitegrid\")\n",
        "np.random.seed(0)\n",
        "\n",
        "import plotly.plotly as py\n",
        "import plotly.graph_objs as go\n",
        "import plotly\n",
        "plotly.tools.set_credentials_file(username='hamzasharoon', api_key='9le0c8M5GUNRAKyJoIt2')\n",
        "\n",
        "\n",
        "# Install dependencies\n",
        "!apt install graphviz\n",
        "!pip install pydot pydot-ng\n",
        "!echo \"Double check with Python 3\"\n",
        "!python -c \"import pydot\""
      ],
      "execution_count": 2,
      "outputs": [
        {
          "output_type": "stream",
          "text": [
            "Using TensorFlow backend.\n"
          ],
          "name": "stderr"
        },
        {
          "output_type": "stream",
          "text": [
            "Reading package lists... Done\n",
            "Building dependency tree       \n",
            "Reading state information... Done\n",
            "graphviz is already the newest version (2.40.1-2).\n",
            "The following package was automatically installed and is no longer required:\n",
            "  libnvidia-common-410\n",
            "Use 'apt autoremove' to remove it.\n",
            "0 upgraded, 0 newly installed, 0 to remove and 6 not upgraded.\n",
            "Requirement already satisfied: pydot in /usr/local/lib/python3.6/dist-packages (1.3.0)\n",
            "Requirement already satisfied: pydot-ng in /usr/local/lib/python3.6/dist-packages (2.0.0)\n",
            "Requirement already satisfied: pyparsing>=2.1.4 in /usr/local/lib/python3.6/dist-packages (from pydot) (2.4.0)\n",
            "Double check with Python 3\n"
          ],
          "name": "stdout"
        }
      ]
    },
    {
      "cell_type": "code",
      "metadata": {
        "colab_type": "code",
        "id": "ClGBLAyTyw5C",
        "colab": {}
      },
      "source": [
        "#from google.colab import files\n",
        "#uploaded = files.upload()\n",
        "\n",
        "#from google.colab import drive\n",
        "#!kaggle competitions download -c Toxic Comment Classification Challenge -p /content/gdrive/My\\ Drive/kaggle/Colab Notebooks/Dataset"
      ],
      "execution_count": 0,
      "outputs": []
    },
    {
      "cell_type": "markdown",
      "metadata": {
        "colab_type": "text",
        "id": "Wbd_vQHxejbu"
      },
      "source": [
        "### Loading the necessary data files and data Preparation"
      ]
    },
    {
      "cell_type": "code",
      "metadata": {
        "colab_type": "code",
        "id": "6mdP52kqu-Kt",
        "outputId": "694a16dd-9247-4811-81f2-4dda194174fd",
        "colab": {
          "base_uri": "https://localhost:8080/",
          "height": 347
        }
      },
      "source": [
        "#Train data\n",
        "train = pd.read_csv('D:/çankaya/2ndYEAR/Thesis/Experiments/Data_Toxic Comment Classification/train.csv')\n",
        "train.head(10)"
      ],
      "execution_count": 0,
      "outputs": [
        {
          "output_type": "execute_result",
          "data": {
            "text/html": [
              "<div>\n",
              "<style scoped>\n",
              "    .dataframe tbody tr th:only-of-type {\n",
              "        vertical-align: middle;\n",
              "    }\n",
              "\n",
              "    .dataframe tbody tr th {\n",
              "        vertical-align: top;\n",
              "    }\n",
              "\n",
              "    .dataframe thead th {\n",
              "        text-align: right;\n",
              "    }\n",
              "</style>\n",
              "<table border=\"1\" class=\"dataframe\">\n",
              "  <thead>\n",
              "    <tr style=\"text-align: right;\">\n",
              "      <th></th>\n",
              "      <th>id</th>\n",
              "      <th>comment_text</th>\n",
              "      <th>toxic</th>\n",
              "      <th>severe_toxic</th>\n",
              "      <th>obscene</th>\n",
              "      <th>threat</th>\n",
              "      <th>insult</th>\n",
              "      <th>identity_hate</th>\n",
              "    </tr>\n",
              "  </thead>\n",
              "  <tbody>\n",
              "    <tr>\n",
              "      <th>0</th>\n",
              "      <td>0000997932d777bf</td>\n",
              "      <td>Explanation\\nWhy the edits made under my usern...</td>\n",
              "      <td>0</td>\n",
              "      <td>0</td>\n",
              "      <td>0</td>\n",
              "      <td>0</td>\n",
              "      <td>0</td>\n",
              "      <td>0</td>\n",
              "    </tr>\n",
              "    <tr>\n",
              "      <th>1</th>\n",
              "      <td>000103f0d9cfb60f</td>\n",
              "      <td>D'aww! He matches this background colour I'm s...</td>\n",
              "      <td>0</td>\n",
              "      <td>0</td>\n",
              "      <td>0</td>\n",
              "      <td>0</td>\n",
              "      <td>0</td>\n",
              "      <td>0</td>\n",
              "    </tr>\n",
              "    <tr>\n",
              "      <th>2</th>\n",
              "      <td>000113f07ec002fd</td>\n",
              "      <td>Hey man, I'm really not trying to edit war. It...</td>\n",
              "      <td>0</td>\n",
              "      <td>0</td>\n",
              "      <td>0</td>\n",
              "      <td>0</td>\n",
              "      <td>0</td>\n",
              "      <td>0</td>\n",
              "    </tr>\n",
              "    <tr>\n",
              "      <th>3</th>\n",
              "      <td>0001b41b1c6bb37e</td>\n",
              "      <td>\"\\nMore\\nI can't make any real suggestions on ...</td>\n",
              "      <td>0</td>\n",
              "      <td>0</td>\n",
              "      <td>0</td>\n",
              "      <td>0</td>\n",
              "      <td>0</td>\n",
              "      <td>0</td>\n",
              "    </tr>\n",
              "    <tr>\n",
              "      <th>4</th>\n",
              "      <td>0001d958c54c6e35</td>\n",
              "      <td>You, sir, are my hero. Any chance you remember...</td>\n",
              "      <td>0</td>\n",
              "      <td>0</td>\n",
              "      <td>0</td>\n",
              "      <td>0</td>\n",
              "      <td>0</td>\n",
              "      <td>0</td>\n",
              "    </tr>\n",
              "    <tr>\n",
              "      <th>5</th>\n",
              "      <td>00025465d4725e87</td>\n",
              "      <td>\"\\n\\nCongratulations from me as well, use the ...</td>\n",
              "      <td>0</td>\n",
              "      <td>0</td>\n",
              "      <td>0</td>\n",
              "      <td>0</td>\n",
              "      <td>0</td>\n",
              "      <td>0</td>\n",
              "    </tr>\n",
              "    <tr>\n",
              "      <th>6</th>\n",
              "      <td>0002bcb3da6cb337</td>\n",
              "      <td>COCKSUCKER BEFORE YOU PISS AROUND ON MY WORK</td>\n",
              "      <td>1</td>\n",
              "      <td>1</td>\n",
              "      <td>1</td>\n",
              "      <td>0</td>\n",
              "      <td>1</td>\n",
              "      <td>0</td>\n",
              "    </tr>\n",
              "    <tr>\n",
              "      <th>7</th>\n",
              "      <td>00031b1e95af7921</td>\n",
              "      <td>Your vandalism to the Matt Shirvington article...</td>\n",
              "      <td>0</td>\n",
              "      <td>0</td>\n",
              "      <td>0</td>\n",
              "      <td>0</td>\n",
              "      <td>0</td>\n",
              "      <td>0</td>\n",
              "    </tr>\n",
              "    <tr>\n",
              "      <th>8</th>\n",
              "      <td>00037261f536c51d</td>\n",
              "      <td>Sorry if the word 'nonsense' was offensive to ...</td>\n",
              "      <td>0</td>\n",
              "      <td>0</td>\n",
              "      <td>0</td>\n",
              "      <td>0</td>\n",
              "      <td>0</td>\n",
              "      <td>0</td>\n",
              "    </tr>\n",
              "    <tr>\n",
              "      <th>9</th>\n",
              "      <td>00040093b2687caa</td>\n",
              "      <td>alignment on this subject and which are contra...</td>\n",
              "      <td>0</td>\n",
              "      <td>0</td>\n",
              "      <td>0</td>\n",
              "      <td>0</td>\n",
              "      <td>0</td>\n",
              "      <td>0</td>\n",
              "    </tr>\n",
              "  </tbody>\n",
              "</table>\n",
              "</div>"
            ],
            "text/plain": [
              "                 id                                       comment_text  toxic  \\\n",
              "0  0000997932d777bf  Explanation\\nWhy the edits made under my usern...      0   \n",
              "1  000103f0d9cfb60f  D'aww! He matches this background colour I'm s...      0   \n",
              "2  000113f07ec002fd  Hey man, I'm really not trying to edit war. It...      0   \n",
              "3  0001b41b1c6bb37e  \"\\nMore\\nI can't make any real suggestions on ...      0   \n",
              "4  0001d958c54c6e35  You, sir, are my hero. Any chance you remember...      0   \n",
              "5  00025465d4725e87  \"\\n\\nCongratulations from me as well, use the ...      0   \n",
              "6  0002bcb3da6cb337       COCKSUCKER BEFORE YOU PISS AROUND ON MY WORK      1   \n",
              "7  00031b1e95af7921  Your vandalism to the Matt Shirvington article...      0   \n",
              "8  00037261f536c51d  Sorry if the word 'nonsense' was offensive to ...      0   \n",
              "9  00040093b2687caa  alignment on this subject and which are contra...      0   \n",
              "\n",
              "   severe_toxic  obscene  threat  insult  identity_hate  \n",
              "0             0        0       0       0              0  \n",
              "1             0        0       0       0              0  \n",
              "2             0        0       0       0              0  \n",
              "3             0        0       0       0              0  \n",
              "4             0        0       0       0              0  \n",
              "5             0        0       0       0              0  \n",
              "6             1        1       0       1              0  \n",
              "7             0        0       0       0              0  \n",
              "8             0        0       0       0              0  \n",
              "9             0        0       0       0              0  "
            ]
          },
          "metadata": {
            "tags": []
          },
          "execution_count": 3
        }
      ]
    },
    {
      "cell_type": "markdown",
      "metadata": {
        "colab_type": "text",
        "id": "yemWuxUUwGbQ"
      },
      "source": [
        "### Clean the Train data, specifically remove punctuations"
      ]
    },
    {
      "cell_type": "code",
      "metadata": {
        "colab_type": "code",
        "id": "bXBAuHzkegFw",
        "outputId": "a46c1179-38ea-4654-eda1-5d1d8b619f5a",
        "colab": {
          "base_uri": "https://localhost:8080/",
          "height": 347
        }
      },
      "source": [
        "totalContentCleaned = []\n",
        "punctDict = {}\n",
        "for punct in string.punctuation:\n",
        "    punctDict[punct] = None\n",
        "transString = str.maketrans(punctDict)\n",
        "# since we intent to remove any punctuation with ''\n",
        "for sen in train['comment_text']:\n",
        "    \n",
        "    #cleanedString = re.sub('[^a-zA-Z]+', '', sen)\n",
        "    \n",
        "    p = sen.translate(transString)\n",
        "    totalContentCleaned.append(p)\n",
        "    \n",
        "\n",
        "train['comment_text'] = totalContentCleaned\n",
        "# we can save the file to csv if we want in local machine\n",
        "#df.to_csv(os.path.join(os.path.abspath('data'), 'train_cleaned.csv'), index = False)\n",
        "\n",
        "\n",
        "\n",
        "train.head(10)"
      ],
      "execution_count": 0,
      "outputs": [
        {
          "output_type": "execute_result",
          "data": {
            "text/html": [
              "<div>\n",
              "<style scoped>\n",
              "    .dataframe tbody tr th:only-of-type {\n",
              "        vertical-align: middle;\n",
              "    }\n",
              "\n",
              "    .dataframe tbody tr th {\n",
              "        vertical-align: top;\n",
              "    }\n",
              "\n",
              "    .dataframe thead th {\n",
              "        text-align: right;\n",
              "    }\n",
              "</style>\n",
              "<table border=\"1\" class=\"dataframe\">\n",
              "  <thead>\n",
              "    <tr style=\"text-align: right;\">\n",
              "      <th></th>\n",
              "      <th>id</th>\n",
              "      <th>comment_text</th>\n",
              "      <th>toxic</th>\n",
              "      <th>severe_toxic</th>\n",
              "      <th>obscene</th>\n",
              "      <th>threat</th>\n",
              "      <th>insult</th>\n",
              "      <th>identity_hate</th>\n",
              "    </tr>\n",
              "  </thead>\n",
              "  <tbody>\n",
              "    <tr>\n",
              "      <th>0</th>\n",
              "      <td>0000997932d777bf</td>\n",
              "      <td>Explanation\\nWhy the edits made under my usern...</td>\n",
              "      <td>0</td>\n",
              "      <td>0</td>\n",
              "      <td>0</td>\n",
              "      <td>0</td>\n",
              "      <td>0</td>\n",
              "      <td>0</td>\n",
              "    </tr>\n",
              "    <tr>\n",
              "      <th>1</th>\n",
              "      <td>000103f0d9cfb60f</td>\n",
              "      <td>Daww He matches this background colour Im seem...</td>\n",
              "      <td>0</td>\n",
              "      <td>0</td>\n",
              "      <td>0</td>\n",
              "      <td>0</td>\n",
              "      <td>0</td>\n",
              "      <td>0</td>\n",
              "    </tr>\n",
              "    <tr>\n",
              "      <th>2</th>\n",
              "      <td>000113f07ec002fd</td>\n",
              "      <td>Hey man Im really not trying to edit war Its j...</td>\n",
              "      <td>0</td>\n",
              "      <td>0</td>\n",
              "      <td>0</td>\n",
              "      <td>0</td>\n",
              "      <td>0</td>\n",
              "      <td>0</td>\n",
              "    </tr>\n",
              "    <tr>\n",
              "      <th>3</th>\n",
              "      <td>0001b41b1c6bb37e</td>\n",
              "      <td>\\nMore\\nI cant make any real suggestions on im...</td>\n",
              "      <td>0</td>\n",
              "      <td>0</td>\n",
              "      <td>0</td>\n",
              "      <td>0</td>\n",
              "      <td>0</td>\n",
              "      <td>0</td>\n",
              "    </tr>\n",
              "    <tr>\n",
              "      <th>4</th>\n",
              "      <td>0001d958c54c6e35</td>\n",
              "      <td>You sir are my hero Any chance you remember wh...</td>\n",
              "      <td>0</td>\n",
              "      <td>0</td>\n",
              "      <td>0</td>\n",
              "      <td>0</td>\n",
              "      <td>0</td>\n",
              "      <td>0</td>\n",
              "    </tr>\n",
              "    <tr>\n",
              "      <th>5</th>\n",
              "      <td>00025465d4725e87</td>\n",
              "      <td>\\n\\nCongratulations from me as well use the to...</td>\n",
              "      <td>0</td>\n",
              "      <td>0</td>\n",
              "      <td>0</td>\n",
              "      <td>0</td>\n",
              "      <td>0</td>\n",
              "      <td>0</td>\n",
              "    </tr>\n",
              "    <tr>\n",
              "      <th>6</th>\n",
              "      <td>0002bcb3da6cb337</td>\n",
              "      <td>COCKSUCKER BEFORE YOU PISS AROUND ON MY WORK</td>\n",
              "      <td>1</td>\n",
              "      <td>1</td>\n",
              "      <td>1</td>\n",
              "      <td>0</td>\n",
              "      <td>1</td>\n",
              "      <td>0</td>\n",
              "    </tr>\n",
              "    <tr>\n",
              "      <th>7</th>\n",
              "      <td>00031b1e95af7921</td>\n",
              "      <td>Your vandalism to the Matt Shirvington article...</td>\n",
              "      <td>0</td>\n",
              "      <td>0</td>\n",
              "      <td>0</td>\n",
              "      <td>0</td>\n",
              "      <td>0</td>\n",
              "      <td>0</td>\n",
              "    </tr>\n",
              "    <tr>\n",
              "      <th>8</th>\n",
              "      <td>00037261f536c51d</td>\n",
              "      <td>Sorry if the word nonsense was offensive to yo...</td>\n",
              "      <td>0</td>\n",
              "      <td>0</td>\n",
              "      <td>0</td>\n",
              "      <td>0</td>\n",
              "      <td>0</td>\n",
              "      <td>0</td>\n",
              "    </tr>\n",
              "    <tr>\n",
              "      <th>9</th>\n",
              "      <td>00040093b2687caa</td>\n",
              "      <td>alignment on this subject and which are contra...</td>\n",
              "      <td>0</td>\n",
              "      <td>0</td>\n",
              "      <td>0</td>\n",
              "      <td>0</td>\n",
              "      <td>0</td>\n",
              "      <td>0</td>\n",
              "    </tr>\n",
              "  </tbody>\n",
              "</table>\n",
              "</div>"
            ],
            "text/plain": [
              "                 id                                       comment_text  toxic  \\\n",
              "0  0000997932d777bf  Explanation\\nWhy the edits made under my usern...      0   \n",
              "1  000103f0d9cfb60f  Daww He matches this background colour Im seem...      0   \n",
              "2  000113f07ec002fd  Hey man Im really not trying to edit war Its j...      0   \n",
              "3  0001b41b1c6bb37e  \\nMore\\nI cant make any real suggestions on im...      0   \n",
              "4  0001d958c54c6e35  You sir are my hero Any chance you remember wh...      0   \n",
              "5  00025465d4725e87  \\n\\nCongratulations from me as well use the to...      0   \n",
              "6  0002bcb3da6cb337       COCKSUCKER BEFORE YOU PISS AROUND ON MY WORK      1   \n",
              "7  00031b1e95af7921  Your vandalism to the Matt Shirvington article...      0   \n",
              "8  00037261f536c51d  Sorry if the word nonsense was offensive to yo...      0   \n",
              "9  00040093b2687caa  alignment on this subject and which are contra...      0   \n",
              "\n",
              "   severe_toxic  obscene  threat  insult  identity_hate  \n",
              "0             0        0       0       0              0  \n",
              "1             0        0       0       0              0  \n",
              "2             0        0       0       0              0  \n",
              "3             0        0       0       0              0  \n",
              "4             0        0       0       0              0  \n",
              "5             0        0       0       0              0  \n",
              "6             1        1       0       1              0  \n",
              "7             0        0       0       0              0  \n",
              "8             0        0       0       0              0  \n",
              "9             0        0       0       0              0  "
            ]
          },
          "metadata": {
            "tags": []
          },
          "execution_count": 4
        }
      ]
    },
    {
      "cell_type": "code",
      "metadata": {
        "colab_type": "code",
        "id": "bThKgInKejb0",
        "outputId": "e3193f35-ea54-4abb-d0ec-45a3cb39c58b",
        "colab": {
          "base_uri": "https://localhost:8080/",
          "height": 347
        }
      },
      "source": [
        "#Test data\n",
        "df_test = pd.read_csv('D:/çankaya/2ndYEAR/Thesis/Experiments/Data_Toxic Comment Classification/test.csv')\n",
        "df_test.head(10)"
      ],
      "execution_count": 0,
      "outputs": [
        {
          "output_type": "execute_result",
          "data": {
            "text/html": [
              "<div>\n",
              "<style scoped>\n",
              "    .dataframe tbody tr th:only-of-type {\n",
              "        vertical-align: middle;\n",
              "    }\n",
              "\n",
              "    .dataframe tbody tr th {\n",
              "        vertical-align: top;\n",
              "    }\n",
              "\n",
              "    .dataframe thead th {\n",
              "        text-align: right;\n",
              "    }\n",
              "</style>\n",
              "<table border=\"1\" class=\"dataframe\">\n",
              "  <thead>\n",
              "    <tr style=\"text-align: right;\">\n",
              "      <th></th>\n",
              "      <th>id</th>\n",
              "      <th>comment_text</th>\n",
              "    </tr>\n",
              "  </thead>\n",
              "  <tbody>\n",
              "    <tr>\n",
              "      <th>0</th>\n",
              "      <td>00001cee341fdb12</td>\n",
              "      <td>Yo bitch Ja Rule is more succesful then you'll...</td>\n",
              "    </tr>\n",
              "    <tr>\n",
              "      <th>1</th>\n",
              "      <td>0000247867823ef7</td>\n",
              "      <td>== From RfC == \\n\\n The title is fine as it is...</td>\n",
              "    </tr>\n",
              "    <tr>\n",
              "      <th>2</th>\n",
              "      <td>00013b17ad220c46</td>\n",
              "      <td>\" \\n\\n == Sources == \\n\\n * Zawe Ashton on Lap...</td>\n",
              "    </tr>\n",
              "    <tr>\n",
              "      <th>3</th>\n",
              "      <td>00017563c3f7919a</td>\n",
              "      <td>:If you have a look back at the source, the in...</td>\n",
              "    </tr>\n",
              "    <tr>\n",
              "      <th>4</th>\n",
              "      <td>00017695ad8997eb</td>\n",
              "      <td>I don't anonymously edit articles at all.</td>\n",
              "    </tr>\n",
              "    <tr>\n",
              "      <th>5</th>\n",
              "      <td>0001ea8717f6de06</td>\n",
              "      <td>Thank you for understanding. I think very high...</td>\n",
              "    </tr>\n",
              "    <tr>\n",
              "      <th>6</th>\n",
              "      <td>00024115d4cbde0f</td>\n",
              "      <td>Please do not add nonsense to Wikipedia. Such ...</td>\n",
              "    </tr>\n",
              "    <tr>\n",
              "      <th>7</th>\n",
              "      <td>000247e83dcc1211</td>\n",
              "      <td>:Dear god this site is horrible.</td>\n",
              "    </tr>\n",
              "    <tr>\n",
              "      <th>8</th>\n",
              "      <td>00025358d4737918</td>\n",
              "      <td>\" \\n Only a fool can believe in such numbers. ...</td>\n",
              "    </tr>\n",
              "    <tr>\n",
              "      <th>9</th>\n",
              "      <td>00026d1092fe71cc</td>\n",
              "      <td>== Double Redirects == \\n\\n When fixing double...</td>\n",
              "    </tr>\n",
              "  </tbody>\n",
              "</table>\n",
              "</div>"
            ],
            "text/plain": [
              "                 id                                       comment_text\n",
              "0  00001cee341fdb12  Yo bitch Ja Rule is more succesful then you'll...\n",
              "1  0000247867823ef7  == From RfC == \\n\\n The title is fine as it is...\n",
              "2  00013b17ad220c46  \" \\n\\n == Sources == \\n\\n * Zawe Ashton on Lap...\n",
              "3  00017563c3f7919a  :If you have a look back at the source, the in...\n",
              "4  00017695ad8997eb          I don't anonymously edit articles at all.\n",
              "5  0001ea8717f6de06  Thank you for understanding. I think very high...\n",
              "6  00024115d4cbde0f  Please do not add nonsense to Wikipedia. Such ...\n",
              "7  000247e83dcc1211                   :Dear god this site is horrible.\n",
              "8  00025358d4737918  \" \\n Only a fool can believe in such numbers. ...\n",
              "9  00026d1092fe71cc  == Double Redirects == \\n\\n When fixing double..."
            ]
          },
          "metadata": {
            "tags": []
          },
          "execution_count": 5
        }
      ]
    },
    {
      "cell_type": "markdown",
      "metadata": {
        "colab_type": "text",
        "id": "gkNgoN8pwPtA"
      },
      "source": [
        "### Clean the Test data, specifically remove punctuations"
      ]
    },
    {
      "cell_type": "code",
      "metadata": {
        "colab_type": "code",
        "id": "qAtY_WxPe03X",
        "outputId": "2ac90cd5-000a-43c9-fb42-9451a7a65377",
        "colab": {
          "base_uri": "https://localhost:8080/",
          "height": 347
        }
      },
      "source": [
        "totalContentCleaned = []\n",
        "punctDict = {}\n",
        "for punct in string.punctuation:\n",
        "    punctDict[punct] = None\n",
        "transString = str.maketrans(punctDict)\n",
        "# since we intent to remove any punctuation with ''\n",
        "for sen in df_test['comment_text']:\n",
        "    \n",
        "    #cleanedString = re.sub('[^a-zA-Z]+', '', sen)\n",
        "    \n",
        "    p = sen.translate(transString)\n",
        "    totalContentCleaned.append(p)\n",
        "    \n",
        "\n",
        "df_test['comment_text'] = totalContentCleaned\n",
        "# we can save the file to csv if we want in local machine\n",
        "#df.to_csv(os.path.join(os.path.abspath('data'), 'train_cleaned.csv'), index = False)\n",
        "\n",
        "\n",
        "\n",
        "df_test.head(10)"
      ],
      "execution_count": 0,
      "outputs": [
        {
          "output_type": "execute_result",
          "data": {
            "text/html": [
              "<div>\n",
              "<style scoped>\n",
              "    .dataframe tbody tr th:only-of-type {\n",
              "        vertical-align: middle;\n",
              "    }\n",
              "\n",
              "    .dataframe tbody tr th {\n",
              "        vertical-align: top;\n",
              "    }\n",
              "\n",
              "    .dataframe thead th {\n",
              "        text-align: right;\n",
              "    }\n",
              "</style>\n",
              "<table border=\"1\" class=\"dataframe\">\n",
              "  <thead>\n",
              "    <tr style=\"text-align: right;\">\n",
              "      <th></th>\n",
              "      <th>id</th>\n",
              "      <th>comment_text</th>\n",
              "    </tr>\n",
              "  </thead>\n",
              "  <tbody>\n",
              "    <tr>\n",
              "      <th>0</th>\n",
              "      <td>00001cee341fdb12</td>\n",
              "      <td>Yo bitch Ja Rule is more succesful then youll ...</td>\n",
              "    </tr>\n",
              "    <tr>\n",
              "      <th>1</th>\n",
              "      <td>0000247867823ef7</td>\n",
              "      <td>From RfC  \\n\\n The title is fine as it is IMO</td>\n",
              "    </tr>\n",
              "    <tr>\n",
              "      <th>2</th>\n",
              "      <td>00013b17ad220c46</td>\n",
              "      <td>\\n\\n  Sources  \\n\\n  Zawe Ashton on Lapland —...</td>\n",
              "    </tr>\n",
              "    <tr>\n",
              "      <th>3</th>\n",
              "      <td>00017563c3f7919a</td>\n",
              "      <td>If you have a look back at the source the info...</td>\n",
              "    </tr>\n",
              "    <tr>\n",
              "      <th>4</th>\n",
              "      <td>00017695ad8997eb</td>\n",
              "      <td>I dont anonymously edit articles at all</td>\n",
              "    </tr>\n",
              "    <tr>\n",
              "      <th>5</th>\n",
              "      <td>0001ea8717f6de06</td>\n",
              "      <td>Thank you for understanding I think very highl...</td>\n",
              "    </tr>\n",
              "    <tr>\n",
              "      <th>6</th>\n",
              "      <td>00024115d4cbde0f</td>\n",
              "      <td>Please do not add nonsense to Wikipedia Such e...</td>\n",
              "    </tr>\n",
              "    <tr>\n",
              "      <th>7</th>\n",
              "      <td>000247e83dcc1211</td>\n",
              "      <td>Dear god this site is horrible</td>\n",
              "    </tr>\n",
              "    <tr>\n",
              "      <th>8</th>\n",
              "      <td>00025358d4737918</td>\n",
              "      <td>\\n Only a fool can believe in such numbers \\n...</td>\n",
              "    </tr>\n",
              "    <tr>\n",
              "      <th>9</th>\n",
              "      <td>00026d1092fe71cc</td>\n",
              "      <td>Double Redirects  \\n\\n When fixing double red...</td>\n",
              "    </tr>\n",
              "  </tbody>\n",
              "</table>\n",
              "</div>"
            ],
            "text/plain": [
              "                 id                                       comment_text\n",
              "0  00001cee341fdb12  Yo bitch Ja Rule is more succesful then youll ...\n",
              "1  0000247867823ef7      From RfC  \\n\\n The title is fine as it is IMO\n",
              "2  00013b17ad220c46   \\n\\n  Sources  \\n\\n  Zawe Ashton on Lapland —...\n",
              "3  00017563c3f7919a  If you have a look back at the source the info...\n",
              "4  00017695ad8997eb            I dont anonymously edit articles at all\n",
              "5  0001ea8717f6de06  Thank you for understanding I think very highl...\n",
              "6  00024115d4cbde0f  Please do not add nonsense to Wikipedia Such e...\n",
              "7  000247e83dcc1211                     Dear god this site is horrible\n",
              "8  00025358d4737918   \\n Only a fool can believe in such numbers \\n...\n",
              "9  00026d1092fe71cc   Double Redirects  \\n\\n When fixing double red..."
            ]
          },
          "metadata": {
            "tags": []
          },
          "execution_count": 6
        }
      ]
    },
    {
      "cell_type": "code",
      "metadata": {
        "colab_type": "code",
        "id": "PAj6D9IZejb5",
        "outputId": "162dfa7e-2325-465d-9693-aebc2c359d47",
        "colab": {
          "base_uri": "https://localhost:8080/",
          "height": 347
        }
      },
      "source": [
        "df_test_labels = pd.read_csv('D:/çankaya/2ndYEAR/Thesis/Experiments/Data_Toxic Comment Classification/test_labels.csv')\n",
        "\n",
        "df_test_labels.head(10)"
      ],
      "execution_count": 0,
      "outputs": [
        {
          "output_type": "execute_result",
          "data": {
            "text/html": [
              "<div>\n",
              "<style scoped>\n",
              "    .dataframe tbody tr th:only-of-type {\n",
              "        vertical-align: middle;\n",
              "    }\n",
              "\n",
              "    .dataframe tbody tr th {\n",
              "        vertical-align: top;\n",
              "    }\n",
              "\n",
              "    .dataframe thead th {\n",
              "        text-align: right;\n",
              "    }\n",
              "</style>\n",
              "<table border=\"1\" class=\"dataframe\">\n",
              "  <thead>\n",
              "    <tr style=\"text-align: right;\">\n",
              "      <th></th>\n",
              "      <th>id</th>\n",
              "      <th>toxic</th>\n",
              "      <th>severe_toxic</th>\n",
              "      <th>obscene</th>\n",
              "      <th>threat</th>\n",
              "      <th>insult</th>\n",
              "      <th>identity_hate</th>\n",
              "    </tr>\n",
              "  </thead>\n",
              "  <tbody>\n",
              "    <tr>\n",
              "      <th>0</th>\n",
              "      <td>00001cee341fdb12</td>\n",
              "      <td>-1</td>\n",
              "      <td>-1</td>\n",
              "      <td>-1</td>\n",
              "      <td>-1</td>\n",
              "      <td>-1</td>\n",
              "      <td>-1</td>\n",
              "    </tr>\n",
              "    <tr>\n",
              "      <th>1</th>\n",
              "      <td>0000247867823ef7</td>\n",
              "      <td>-1</td>\n",
              "      <td>-1</td>\n",
              "      <td>-1</td>\n",
              "      <td>-1</td>\n",
              "      <td>-1</td>\n",
              "      <td>-1</td>\n",
              "    </tr>\n",
              "    <tr>\n",
              "      <th>2</th>\n",
              "      <td>00013b17ad220c46</td>\n",
              "      <td>-1</td>\n",
              "      <td>-1</td>\n",
              "      <td>-1</td>\n",
              "      <td>-1</td>\n",
              "      <td>-1</td>\n",
              "      <td>-1</td>\n",
              "    </tr>\n",
              "    <tr>\n",
              "      <th>3</th>\n",
              "      <td>00017563c3f7919a</td>\n",
              "      <td>-1</td>\n",
              "      <td>-1</td>\n",
              "      <td>-1</td>\n",
              "      <td>-1</td>\n",
              "      <td>-1</td>\n",
              "      <td>-1</td>\n",
              "    </tr>\n",
              "    <tr>\n",
              "      <th>4</th>\n",
              "      <td>00017695ad8997eb</td>\n",
              "      <td>-1</td>\n",
              "      <td>-1</td>\n",
              "      <td>-1</td>\n",
              "      <td>-1</td>\n",
              "      <td>-1</td>\n",
              "      <td>-1</td>\n",
              "    </tr>\n",
              "    <tr>\n",
              "      <th>5</th>\n",
              "      <td>0001ea8717f6de06</td>\n",
              "      <td>0</td>\n",
              "      <td>0</td>\n",
              "      <td>0</td>\n",
              "      <td>0</td>\n",
              "      <td>0</td>\n",
              "      <td>0</td>\n",
              "    </tr>\n",
              "    <tr>\n",
              "      <th>6</th>\n",
              "      <td>00024115d4cbde0f</td>\n",
              "      <td>-1</td>\n",
              "      <td>-1</td>\n",
              "      <td>-1</td>\n",
              "      <td>-1</td>\n",
              "      <td>-1</td>\n",
              "      <td>-1</td>\n",
              "    </tr>\n",
              "    <tr>\n",
              "      <th>7</th>\n",
              "      <td>000247e83dcc1211</td>\n",
              "      <td>0</td>\n",
              "      <td>0</td>\n",
              "      <td>0</td>\n",
              "      <td>0</td>\n",
              "      <td>0</td>\n",
              "      <td>0</td>\n",
              "    </tr>\n",
              "    <tr>\n",
              "      <th>8</th>\n",
              "      <td>00025358d4737918</td>\n",
              "      <td>-1</td>\n",
              "      <td>-1</td>\n",
              "      <td>-1</td>\n",
              "      <td>-1</td>\n",
              "      <td>-1</td>\n",
              "      <td>-1</td>\n",
              "    </tr>\n",
              "    <tr>\n",
              "      <th>9</th>\n",
              "      <td>00026d1092fe71cc</td>\n",
              "      <td>-1</td>\n",
              "      <td>-1</td>\n",
              "      <td>-1</td>\n",
              "      <td>-1</td>\n",
              "      <td>-1</td>\n",
              "      <td>-1</td>\n",
              "    </tr>\n",
              "  </tbody>\n",
              "</table>\n",
              "</div>"
            ],
            "text/plain": [
              "                 id  toxic  severe_toxic  obscene  threat  insult  \\\n",
              "0  00001cee341fdb12     -1            -1       -1      -1      -1   \n",
              "1  0000247867823ef7     -1            -1       -1      -1      -1   \n",
              "2  00013b17ad220c46     -1            -1       -1      -1      -1   \n",
              "3  00017563c3f7919a     -1            -1       -1      -1      -1   \n",
              "4  00017695ad8997eb     -1            -1       -1      -1      -1   \n",
              "5  0001ea8717f6de06      0             0        0       0       0   \n",
              "6  00024115d4cbde0f     -1            -1       -1      -1      -1   \n",
              "7  000247e83dcc1211      0             0        0       0       0   \n",
              "8  00025358d4737918     -1            -1       -1      -1      -1   \n",
              "9  00026d1092fe71cc     -1            -1       -1      -1      -1   \n",
              "\n",
              "   identity_hate  \n",
              "0             -1  \n",
              "1             -1  \n",
              "2             -1  \n",
              "3             -1  \n",
              "4             -1  \n",
              "5              0  \n",
              "6             -1  \n",
              "7              0  \n",
              "8             -1  \n",
              "9             -1  "
            ]
          },
          "metadata": {
            "tags": []
          },
          "execution_count": 7
        }
      ]
    },
    {
      "cell_type": "code",
      "metadata": {
        "colab_type": "code",
        "id": "wB71FX4Lejb_",
        "outputId": "c702e6bb-2fd4-45fe-a2c5-7a21deb85937",
        "colab": {
          "base_uri": "https://localhost:8080/",
          "height": 347
        }
      },
      "source": [
        "test_labels = df_test_labels[(df_test_labels[['toxic','severe_toxic', 'obscene', 'threat', \n",
        "                                        'insult', 'identity_hate']] != -1).all(axis=1)]\n",
        "test_labels.head(10)"
      ],
      "execution_count": 0,
      "outputs": [
        {
          "output_type": "execute_result",
          "data": {
            "text/html": [
              "<div>\n",
              "<style scoped>\n",
              "    .dataframe tbody tr th:only-of-type {\n",
              "        vertical-align: middle;\n",
              "    }\n",
              "\n",
              "    .dataframe tbody tr th {\n",
              "        vertical-align: top;\n",
              "    }\n",
              "\n",
              "    .dataframe thead th {\n",
              "        text-align: right;\n",
              "    }\n",
              "</style>\n",
              "<table border=\"1\" class=\"dataframe\">\n",
              "  <thead>\n",
              "    <tr style=\"text-align: right;\">\n",
              "      <th></th>\n",
              "      <th>id</th>\n",
              "      <th>toxic</th>\n",
              "      <th>severe_toxic</th>\n",
              "      <th>obscene</th>\n",
              "      <th>threat</th>\n",
              "      <th>insult</th>\n",
              "      <th>identity_hate</th>\n",
              "    </tr>\n",
              "  </thead>\n",
              "  <tbody>\n",
              "    <tr>\n",
              "      <th>5</th>\n",
              "      <td>0001ea8717f6de06</td>\n",
              "      <td>0</td>\n",
              "      <td>0</td>\n",
              "      <td>0</td>\n",
              "      <td>0</td>\n",
              "      <td>0</td>\n",
              "      <td>0</td>\n",
              "    </tr>\n",
              "    <tr>\n",
              "      <th>7</th>\n",
              "      <td>000247e83dcc1211</td>\n",
              "      <td>0</td>\n",
              "      <td>0</td>\n",
              "      <td>0</td>\n",
              "      <td>0</td>\n",
              "      <td>0</td>\n",
              "      <td>0</td>\n",
              "    </tr>\n",
              "    <tr>\n",
              "      <th>11</th>\n",
              "      <td>0002f87b16116a7f</td>\n",
              "      <td>0</td>\n",
              "      <td>0</td>\n",
              "      <td>0</td>\n",
              "      <td>0</td>\n",
              "      <td>0</td>\n",
              "      <td>0</td>\n",
              "    </tr>\n",
              "    <tr>\n",
              "      <th>13</th>\n",
              "      <td>0003e1cccfd5a40a</td>\n",
              "      <td>0</td>\n",
              "      <td>0</td>\n",
              "      <td>0</td>\n",
              "      <td>0</td>\n",
              "      <td>0</td>\n",
              "      <td>0</td>\n",
              "    </tr>\n",
              "    <tr>\n",
              "      <th>14</th>\n",
              "      <td>00059ace3e3e9a53</td>\n",
              "      <td>0</td>\n",
              "      <td>0</td>\n",
              "      <td>0</td>\n",
              "      <td>0</td>\n",
              "      <td>0</td>\n",
              "      <td>0</td>\n",
              "    </tr>\n",
              "    <tr>\n",
              "      <th>16</th>\n",
              "      <td>000663aff0fffc80</td>\n",
              "      <td>0</td>\n",
              "      <td>0</td>\n",
              "      <td>0</td>\n",
              "      <td>0</td>\n",
              "      <td>0</td>\n",
              "      <td>0</td>\n",
              "    </tr>\n",
              "    <tr>\n",
              "      <th>17</th>\n",
              "      <td>000689dd34e20979</td>\n",
              "      <td>0</td>\n",
              "      <td>0</td>\n",
              "      <td>0</td>\n",
              "      <td>0</td>\n",
              "      <td>0</td>\n",
              "      <td>0</td>\n",
              "    </tr>\n",
              "    <tr>\n",
              "      <th>19</th>\n",
              "      <td>000844b52dee5f3f</td>\n",
              "      <td>0</td>\n",
              "      <td>0</td>\n",
              "      <td>0</td>\n",
              "      <td>0</td>\n",
              "      <td>0</td>\n",
              "      <td>0</td>\n",
              "    </tr>\n",
              "    <tr>\n",
              "      <th>21</th>\n",
              "      <td>00091c35fa9d0465</td>\n",
              "      <td>1</td>\n",
              "      <td>0</td>\n",
              "      <td>0</td>\n",
              "      <td>0</td>\n",
              "      <td>0</td>\n",
              "      <td>0</td>\n",
              "    </tr>\n",
              "    <tr>\n",
              "      <th>22</th>\n",
              "      <td>000968ce11f5ee34</td>\n",
              "      <td>0</td>\n",
              "      <td>0</td>\n",
              "      <td>0</td>\n",
              "      <td>0</td>\n",
              "      <td>0</td>\n",
              "      <td>0</td>\n",
              "    </tr>\n",
              "  </tbody>\n",
              "</table>\n",
              "</div>"
            ],
            "text/plain": [
              "                  id  toxic  severe_toxic  obscene  threat  insult  \\\n",
              "5   0001ea8717f6de06      0             0        0       0       0   \n",
              "7   000247e83dcc1211      0             0        0       0       0   \n",
              "11  0002f87b16116a7f      0             0        0       0       0   \n",
              "13  0003e1cccfd5a40a      0             0        0       0       0   \n",
              "14  00059ace3e3e9a53      0             0        0       0       0   \n",
              "16  000663aff0fffc80      0             0        0       0       0   \n",
              "17  000689dd34e20979      0             0        0       0       0   \n",
              "19  000844b52dee5f3f      0             0        0       0       0   \n",
              "21  00091c35fa9d0465      1             0        0       0       0   \n",
              "22  000968ce11f5ee34      0             0        0       0       0   \n",
              "\n",
              "    identity_hate  \n",
              "5               0  \n",
              "7               0  \n",
              "11              0  \n",
              "13              0  \n",
              "14              0  \n",
              "16              0  \n",
              "17              0  \n",
              "19              0  \n",
              "21              0  \n",
              "22              0  "
            ]
          },
          "metadata": {
            "tags": []
          },
          "execution_count": 8
        }
      ]
    },
    {
      "cell_type": "markdown",
      "metadata": {
        "colab_type": "text",
        "id": "Z4WMHSsEejcF"
      },
      "source": [
        "### Merge the df_test and test_labels into 1 dataframe (test)"
      ]
    },
    {
      "cell_type": "code",
      "metadata": {
        "colab_type": "code",
        "id": "IN1JvMJxejcH",
        "outputId": "2380cde0-1261-427f-f392-747b0016d1ac",
        "colab": {
          "base_uri": "https://localhost:8080/",
          "height": 347
        }
      },
      "source": [
        "#Merge the df_test and test_labels into 1 dataframe (test)\n",
        "test = pd.merge(test_labels, df_test, on='id', how='inner')\n",
        "test.head(10)"
      ],
      "execution_count": 0,
      "outputs": [
        {
          "output_type": "execute_result",
          "data": {
            "text/html": [
              "<div>\n",
              "<style scoped>\n",
              "    .dataframe tbody tr th:only-of-type {\n",
              "        vertical-align: middle;\n",
              "    }\n",
              "\n",
              "    .dataframe tbody tr th {\n",
              "        vertical-align: top;\n",
              "    }\n",
              "\n",
              "    .dataframe thead th {\n",
              "        text-align: right;\n",
              "    }\n",
              "</style>\n",
              "<table border=\"1\" class=\"dataframe\">\n",
              "  <thead>\n",
              "    <tr style=\"text-align: right;\">\n",
              "      <th></th>\n",
              "      <th>id</th>\n",
              "      <th>toxic</th>\n",
              "      <th>severe_toxic</th>\n",
              "      <th>obscene</th>\n",
              "      <th>threat</th>\n",
              "      <th>insult</th>\n",
              "      <th>identity_hate</th>\n",
              "      <th>comment_text</th>\n",
              "    </tr>\n",
              "  </thead>\n",
              "  <tbody>\n",
              "    <tr>\n",
              "      <th>0</th>\n",
              "      <td>0001ea8717f6de06</td>\n",
              "      <td>0</td>\n",
              "      <td>0</td>\n",
              "      <td>0</td>\n",
              "      <td>0</td>\n",
              "      <td>0</td>\n",
              "      <td>0</td>\n",
              "      <td>Thank you for understanding I think very highl...</td>\n",
              "    </tr>\n",
              "    <tr>\n",
              "      <th>1</th>\n",
              "      <td>000247e83dcc1211</td>\n",
              "      <td>0</td>\n",
              "      <td>0</td>\n",
              "      <td>0</td>\n",
              "      <td>0</td>\n",
              "      <td>0</td>\n",
              "      <td>0</td>\n",
              "      <td>Dear god this site is horrible</td>\n",
              "    </tr>\n",
              "    <tr>\n",
              "      <th>2</th>\n",
              "      <td>0002f87b16116a7f</td>\n",
              "      <td>0</td>\n",
              "      <td>0</td>\n",
              "      <td>0</td>\n",
              "      <td>0</td>\n",
              "      <td>0</td>\n",
              "      <td>0</td>\n",
              "      <td>Somebody will invariably try to add Religion ...</td>\n",
              "    </tr>\n",
              "    <tr>\n",
              "      <th>3</th>\n",
              "      <td>0003e1cccfd5a40a</td>\n",
              "      <td>0</td>\n",
              "      <td>0</td>\n",
              "      <td>0</td>\n",
              "      <td>0</td>\n",
              "      <td>0</td>\n",
              "      <td>0</td>\n",
              "      <td>\\n\\n It says it right there that it IS a type...</td>\n",
              "    </tr>\n",
              "    <tr>\n",
              "      <th>4</th>\n",
              "      <td>00059ace3e3e9a53</td>\n",
              "      <td>0</td>\n",
              "      <td>0</td>\n",
              "      <td>0</td>\n",
              "      <td>0</td>\n",
              "      <td>0</td>\n",
              "      <td>0</td>\n",
              "      <td>\\n\\n  Before adding a new product to the list...</td>\n",
              "    </tr>\n",
              "    <tr>\n",
              "      <th>5</th>\n",
              "      <td>000663aff0fffc80</td>\n",
              "      <td>0</td>\n",
              "      <td>0</td>\n",
              "      <td>0</td>\n",
              "      <td>0</td>\n",
              "      <td>0</td>\n",
              "      <td>0</td>\n",
              "      <td>this other one from 1897</td>\n",
              "    </tr>\n",
              "    <tr>\n",
              "      <th>6</th>\n",
              "      <td>000689dd34e20979</td>\n",
              "      <td>0</td>\n",
              "      <td>0</td>\n",
              "      <td>0</td>\n",
              "      <td>0</td>\n",
              "      <td>0</td>\n",
              "      <td>0</td>\n",
              "      <td>Reason for banning throwing  \\n\\n This articl...</td>\n",
              "    </tr>\n",
              "    <tr>\n",
              "      <th>7</th>\n",
              "      <td>000844b52dee5f3f</td>\n",
              "      <td>0</td>\n",
              "      <td>0</td>\n",
              "      <td>0</td>\n",
              "      <td>0</td>\n",
              "      <td>0</td>\n",
              "      <td>0</td>\n",
              "      <td>blocked from editing Wikipedia</td>\n",
              "    </tr>\n",
              "    <tr>\n",
              "      <th>8</th>\n",
              "      <td>00091c35fa9d0465</td>\n",
              "      <td>1</td>\n",
              "      <td>0</td>\n",
              "      <td>0</td>\n",
              "      <td>0</td>\n",
              "      <td>0</td>\n",
              "      <td>0</td>\n",
              "      <td>Arabs are committing genocide in Iraq but no ...</td>\n",
              "    </tr>\n",
              "    <tr>\n",
              "      <th>9</th>\n",
              "      <td>000968ce11f5ee34</td>\n",
              "      <td>0</td>\n",
              "      <td>0</td>\n",
              "      <td>0</td>\n",
              "      <td>0</td>\n",
              "      <td>0</td>\n",
              "      <td>0</td>\n",
              "      <td>Please stop If you continue to vandalize Wikip...</td>\n",
              "    </tr>\n",
              "  </tbody>\n",
              "</table>\n",
              "</div>"
            ],
            "text/plain": [
              "                 id  toxic  severe_toxic  obscene  threat  insult  \\\n",
              "0  0001ea8717f6de06      0             0        0       0       0   \n",
              "1  000247e83dcc1211      0             0        0       0       0   \n",
              "2  0002f87b16116a7f      0             0        0       0       0   \n",
              "3  0003e1cccfd5a40a      0             0        0       0       0   \n",
              "4  00059ace3e3e9a53      0             0        0       0       0   \n",
              "5  000663aff0fffc80      0             0        0       0       0   \n",
              "6  000689dd34e20979      0             0        0       0       0   \n",
              "7  000844b52dee5f3f      0             0        0       0       0   \n",
              "8  00091c35fa9d0465      1             0        0       0       0   \n",
              "9  000968ce11f5ee34      0             0        0       0       0   \n",
              "\n",
              "   identity_hate                                       comment_text  \n",
              "0              0  Thank you for understanding I think very highl...  \n",
              "1              0                     Dear god this site is horrible  \n",
              "2              0   Somebody will invariably try to add Religion ...  \n",
              "3              0   \\n\\n It says it right there that it IS a type...  \n",
              "4              0   \\n\\n  Before adding a new product to the list...  \n",
              "5              0                           this other one from 1897  \n",
              "6              0   Reason for banning throwing  \\n\\n This articl...  \n",
              "7              0                  blocked from editing Wikipedia     \n",
              "8              0   Arabs are committing genocide in Iraq but no ...  \n",
              "9              0  Please stop If you continue to vandalize Wikip...  "
            ]
          },
          "metadata": {
            "tags": []
          },
          "execution_count": 9
        }
      ]
    },
    {
      "cell_type": "markdown",
      "metadata": {
        "colab_type": "text",
        "id": "yMHnqLRhejcO"
      },
      "source": [
        "### Number of records in the train and test data"
      ]
    },
    {
      "cell_type": "code",
      "metadata": {
        "colab_type": "code",
        "id": "N0shTlrPejcQ",
        "outputId": "ea81b716-81c5-4744-ecc5-d4a34d013ec4",
        "colab": {
          "base_uri": "https://localhost:8080/",
          "height": 52
        }
      },
      "source": [
        "print(\"Train data shape\", train.shape)\n",
        "print(\"Test data shape\", test.shape)"
      ],
      "execution_count": 0,
      "outputs": [
        {
          "output_type": "stream",
          "text": [
            "Train data shape (159571, 8)\n",
            "Test data shape (63930, 8)\n"
          ],
          "name": "stdout"
        }
      ]
    },
    {
      "cell_type": "code",
      "metadata": {
        "colab_type": "code",
        "id": "dl8sCOPEejcX",
        "outputId": "612e8287-0440-4443-b710-6260314db150",
        "colab": {
          "base_uri": "https://localhost:8080/",
          "height": 87
        }
      },
      "source": [
        "# check that there are no missing values in either training set\n",
        "print('The dataset has', train.isna().sum().sum(), 'missing values in train data.')\n",
        "print('The dataset has', test.isna().sum().sum(), 'missing values in test data.')\n",
        "\n",
        "# check if there are any duplicates\n",
        "print('The dataset has', train.duplicated().sum(), 'duplicates in train data.')\n",
        "print('The dataset has', test.duplicated().sum(), 'duplicates in test data.')"
      ],
      "execution_count": 0,
      "outputs": [
        {
          "output_type": "stream",
          "text": [
            "The dataset has 0 missing values in train data.\n",
            "The dataset has 0 missing values in test data.\n",
            "The dataset has 0 duplicates in train data.\n",
            "The dataset has 0 duplicates in test data.\n"
          ],
          "name": "stdout"
        }
      ]
    },
    {
      "cell_type": "markdown",
      "metadata": {
        "colab_type": "text",
        "id": "OcndCtd4ejcj"
      },
      "source": [
        "### CORRELATION BETWEEN DATA LABELS"
      ]
    },
    {
      "cell_type": "code",
      "metadata": {
        "colab_type": "code",
        "id": "xYT_uhvEejcl",
        "outputId": "c960c96f-a140-44ac-9f51-f774a73b061b",
        "colab": {
          "base_uri": "https://localhost:8080/",
          "height": 417
        }
      },
      "source": [
        "fig, ax = plt.subplots(figsize=(10, 6))\n",
        "fig.suptitle('Correlation Matrix')\n",
        "sns.heatmap(train.corr(), annot=True, cmap=\"Greens\", linewidths=.5, ax=ax);"
      ],
      "execution_count": 0,
      "outputs": [
        {
          "output_type": "display_data",
          "data": {
            "image/png": "[encoded data removed]",
            "text/plain": [
              "<Figure size 720x432 with 2 Axes>"
            ]
          },
          "metadata": {
            "tags": [],
            "needs_background": "light"
          }
        }
      ]
    },
    {
      "cell_type": "markdown",
      "metadata": {
        "colab_type": "text",
        "id": "4MQuxIYfejcq"
      },
      "source": [
        "The correlation figure below shows that Toxic\" comments are clearly correlated with both \"obscene\" and \"insult\" comments. Interestingly, \"toxic\" and \"severe_toxic\" are only weakly correlated. While we can also observe that, \"Obscene\" comments and \"insult\" comments are also highly correlated, which makes perfect sense."
      ]
    },
    {
      "cell_type": "markdown",
      "metadata": {
        "colab_type": "text",
        "id": "FHcTJeqwejcr"
      },
      "source": [
        "### DATA PREPROCESSING\n",
        "Deep Neural Networks input layers make use of input variables to feed the network for training the model. But in this task (experiment), we're dealing with words text. How do we represent these words in order to feed our model?\n",
        "\n",
        "In our experiment, we used densed representation of those text (comments) and their semanticity together. The advantage of using this approach is the best way for fitting neural networks onto a text data (as in our case), as well as less memory usage compared to other sparse representation approaches.\n",
        "\n",
        "\n",
        "#### Word Embedding\n",
        "Two ways to feed embeddings to neural networks:\n",
        "   * Using your own word embeddings by training\n",
        "   * Using pre-trained embedding (e.g Word2vec, lad2vec, Glove etc)\n",
        "   \n"
      ]
    },
    {
      "cell_type": "code",
      "metadata": {
        "colab_type": "code",
        "id": "LL_5zSxjejcs",
        "colab": {}
      },
      "source": [
        "#Convert text to vectors using keras preprocessing library tools\n",
        "\n",
        "X_train = train[\"comment_text\"].values\n",
        "X_test  = test[\"comment_text\"].values\n",
        "\n",
        "y_train = train[[\"toxic\", \"severe_toxic\", \"obscene\", \"threat\", \"insult\", \"identity_hate\"]].values\n",
        "y_test  = test[[\"toxic\", \"severe_toxic\", \"obscene\", \"threat\", \"insult\", \"identity_hate\"]].values"
      ],
      "execution_count": 0,
      "outputs": []
    },
    {
      "cell_type": "markdown",
      "metadata": {
        "colab_type": "text",
        "id": "uwqi-osSejcv"
      },
      "source": [
        "\n",
        "\n",
        "\n",
        "\n",
        "\n",
        "For the first embedding, we used keras preprocessing (Text Preprocessing) libraries. This class allows to vectorize a text corpus, by turning each text into either a sequence of integers (each integer being the index of a token in a dictionary) or into a vector where the coefficient for each token could be binary, based on word count, based on tf-idf"
      ]
    },
    {
      "cell_type": "code",
      "metadata": {
        "colab_type": "code",
        "id": "H0rNWt-8ejcz",
        "colab": {}
      },
      "source": [
        "num_words = 20000 #Max. workds to use per toxic comment\n",
        "max_features = 200000 #Max. number of unique words in embeddinbg vector\n",
        "max_len = 200 #Max. number of words per toxic comment to be use\n",
        "embedding_dims = 128 #embedding vector output dimension \n",
        "num_epochs = 15 # (before 5)number of epochs (number of times that the model is exposed to the training dataset)\n",
        "val_split = 0.1\n",
        "batch_size2 = 256 #(before 32)The **batch size** is the number of training examples in one forward/backward pass.\n",
        "                  # In general, larger batch sizes result in faster progress in training, but don't always converge as quickly. \n",
        "                  #Smaller batch sizes train slower, but can converge faster. And the higher the batch size, the more memory space you’ll need."
      ],
      "execution_count": 0,
      "outputs": []
    },
    {
      "cell_type": "code",
      "metadata": {
        "colab_type": "code",
        "id": "cTMhD2dpejcw",
        "outputId": "2c672d00-90b6-4c18-d748-41b40579787b",
        "colab": {
          "base_uri": "https://localhost:8080/",
          "height": 52
        }
      },
      "source": [
        "#toxic comments Tokenization\n",
        "tokenizer = tokenizer = Tokenizer(num_words)\n",
        "tokenizer.fit_on_texts(list(X_train))\n",
        "\n",
        "#Convert tokenized toxic commnent to sequnces\n",
        "X_train = tokenizer.texts_to_sequences(X_train)\n",
        "X_test = tokenizer.texts_to_sequences(X_test)\n",
        " \n",
        "# padding the sequences\n",
        "X_train = sequence.pad_sequences(X_train, max_len)\n",
        "X_test  = sequence.pad_sequences(X_test,  max_len)\n",
        "\n",
        "print('X_train shape:', X_train.shape)\n",
        "print('X_test shape: ', X_test.shape)"
      ],
      "execution_count": 0,
      "outputs": [
        {
          "output_type": "stream",
          "text": [
            "X_train shape: (159571, 200)\n",
            "X_test shape:  (63930, 200)\n"
          ],
          "name": "stdout"
        }
      ]
    },
    {
      "cell_type": "markdown",
      "metadata": {
        "colab_type": "text",
        "id": "vGxTYdg-WthP"
      },
      "source": [
        "##We use cross validation to split arrays or matrices of train data into random train and validation subsets"
      ]
    },
    {
      "cell_type": "code",
      "metadata": {
        "colab_type": "code",
        "id": "-9HAHH8FWrgE",
        "colab": {},
        "outputId": "3856861a-89ec-4701-8d0f-f05afb8f3c02"
      },
      "source": [
        "X_tra, X_val, y_tra, y_val = train_test_split(X_train, y_train, train_size =0.9, random_state=233)"
      ],
      "execution_count": 0,
      "outputs": [
        {
          "output_type": "stream",
          "text": [
            "D:\\Program Files\\Anaconda\\lib\\site-packages\\sklearn\\model_selection\\_split.py:2179: FutureWarning:\n",
            "\n",
            "From version 0.21, test_size will always complement train_size unless both are specified.\n",
            "\n"
          ],
          "name": "stderr"
        }
      ]
    },
    {
      "cell_type": "markdown",
      "metadata": {
        "colab_type": "text",
        "id": "ELlEnN6GejdS"
      },
      "source": [
        "## METHODS (CNN, RNN, LSTM, all using pre-trained (fastTest) embedding)"
      ]
    },
    {
      "cell_type": "markdown",
      "metadata": {
        "colab_type": "text",
        "id": "0evQXvGIx-Zg"
      },
      "source": [
        "#### We used early callback functionality that allows you to specify the performance measure to monitor, the trigger, and once triggered. It will stop the training process."
      ]
    },
    {
      "cell_type": "code",
      "metadata": {
        "colab_type": "code",
        "id": "OAe9eO3YyOO-",
        "colab": {}
      },
      "source": [
        "early = EarlyStopping(monitor=\"val_loss\", mode=\"min\", patience=4)"
      ],
      "execution_count": 0,
      "outputs": []
    },
    {
      "cell_type": "markdown",
      "metadata": {
        "colab_type": "text",
        "id": "tQlxRa2xeymU"
      },
      "source": [
        "#### Using Precision, Recall, F1-Measure, AUC, mean etc evaluaiton metrics to evaluate our model"
      ]
    },
    {
      "cell_type": "code",
      "metadata": {
        "colab_type": "code",
        "id": "8g3jDUzie2RN",
        "colab": {}
      },
      "source": [
        "#Import necessary libraries\n",
        "4# demonstration of calculating metrics for a neural network model using sklearn\n",
        "from sklearn.datasets import make_circles\n",
        "from sklearn.metrics import accuracy_score\n",
        "from sklearn.metrics import precision_score\n",
        "from sklearn.metrics import recall_score\n",
        "from sklearn.metrics import f1_score\n",
        "from sklearn.metrics import cohen_kappa_score\n",
        "from sklearn.metrics import roc_auc_score\n",
        "from sklearn.metrics import confusion_matrix\n",
        "\n",
        "\n",
        "def precision(y_true, y_pred):\n",
        "    '''Calculates the precision, a metric for multi-label classification of\n",
        "    how many selected items are relevant.\n",
        "    '''\n",
        "    true_positives = K.sum(K.round(K.clip(y_true * y_pred, 0, 1)))\n",
        "    predicted_positives = K.sum(K.round(K.clip(y_pred, 0, 1)))\n",
        "    precision = true_positives / (predicted_positives + K.epsilon())\n",
        "    return precision\n",
        "\n",
        "\n",
        "def recall(y_true, y_pred):\n",
        "    '''Calculates the recall, a metric for multi-label classification of\n",
        "    how many relevant items are selected.\n",
        "    '''\n",
        "    true_positives = K.sum(K.round(K.clip(y_true * y_pred, 0, 1)))\n",
        "    possible_positives = K.sum(K.round(K.clip(y_true, 0, 1)))\n",
        "    recall = true_positives / (possible_positives + K.epsilon())\n",
        "    return recall\n",
        "\n",
        "  #Customized the evaluation to analyse the model in terms of accuracy and mean value accuracy\n",
        "def mean_pred(y_true, y_pred):\n",
        "    return K.mean(y_pred)\n",
        "\n",
        "def fbeta_score(y_true, y_pred, beta=1):\n",
        "    '''Calculates the F score, the weighted harmonic mean of precision and recall.\n",
        "    This is useful for multi-label classification, where input samples can be\n",
        "    classified as sets of labels. By only using accuracy (precision) a model\n",
        "    would achieve a perfect score by simply assigning every class to every\n",
        "    input. In order to avoid this, a metric should penalize incorrect class\n",
        "    assignments as well (recall). The F-beta score (ranged from 0.0 to 1.0)\n",
        "    computes this, as a weighted mean of the proportion of correct class\n",
        "    assignments vs. the proportion of incorrect class assignments.\n",
        "    With beta = 1, this is equivalent to a F-measure. With beta < 1, assigning\n",
        "    correct classes becomes more important, and with beta > 1 the metric is\n",
        "    instead weighted towards penalizing incorrect class assignments.\n",
        "    '''\n",
        "    if beta < 0:\n",
        "        raise ValueError('The lowest choosable beta is zero (only precision).')\n",
        "        \n",
        "    # If there are no true positives, fix the F score at 0 like sklearn.\n",
        "    if K.sum(K.round(K.clip(y_true, 0, 1))) == 0:\n",
        "        return 0\n",
        "\n",
        "    p = precision(y_true, y_pred)\n",
        "    r = recall(y_true, y_pred)\n",
        "    bb = beta ** 2\n",
        "    fbeta_score = (1 + bb) * (p * r) / (bb * p + r + K.epsilon())\n",
        "    return fbeta_score\n",
        "\n",
        "def auroc(y_true, y_pred):\n",
        "    auc = tf.metrics.auc(y_true, y_pred)[1]\n",
        "    K.get_session().run(tf.local_variables_initializer())\n",
        "    return auc\n",
        "\n",
        "\n",
        "def fmeasure(y_true, y_pred):\n",
        "    '''Calculates the f-measure, the harmonic mean of precision and recall.\n",
        "    '''\n",
        "    return fbeta_score(y_true, y_pred, beta=1)\n",
        "\n",
        "\n",
        "fscore = f1score = fmeasure"
      ],
      "execution_count": 0,
      "outputs": []
    },
    {
      "cell_type": "markdown",
      "metadata": {
        "colab_type": "text",
        "id": "6lWFdG2uejgL"
      },
      "source": [
        "## USING (fastText)  AS  A PRE-TRAINED EMBEDDING"
      ]
    },
    {
      "cell_type": "markdown",
      "metadata": {
        "colab_type": "text",
        "id": "iSKIyBVbejgh"
      },
      "source": [
        "#### Prepare the pre-trained embedding layer"
      ]
    },
    {
      "cell_type": "markdown",
      "metadata": {
        "colab_type": "text",
        "id": "o2NVoopbejgj"
      },
      "source": [
        "#### Load the FastText Word Embeddng Corpus"
      ]
    },
    {
      "cell_type": "code",
      "metadata": {
        "colab_type": "code",
        "id": "okYLw1HSejgk",
        "outputId": "77975a98-1ebf-4658-fb34-8b638d3fe3e7",
        "colab": {
          "base_uri": "https://localhost:8080/",
          "height": 70
        }
      },
      "source": [
        "#load embeddings\n",
        "print('loading word embeddings...')\n",
        "fastText_embeddings_index = {}\n",
        "f = codecs.open('D:/çankaya/2ndYEAR/Thesis/Experiments/Data_Toxic Comment Classification/wiki.simple.vec', encoding='utf-8')\n",
        "for line in tqdm(f):\n",
        "    values = line.rstrip().rsplit(' ')\n",
        "    word = values[0]\n",
        "    coefs = np.asarray(values[1:], dtype='float32')\n",
        "    fastText_embeddings_index[word] = coefs\n",
        "f.close()\n",
        "print('found %s word vectors' % len(fastText_embeddings_index))"
      ],
      "execution_count": 0,
      "outputs": [
        {
          "output_type": "stream",
          "text": [
            "loading word embeddings...\n"
          ],
          "name": "stdout"
        },
        {
          "output_type": "stream",
          "text": [
            "111052it [00:14, 7912.75it/s]\n"
          ],
          "name": "stderr"
        },
        {
          "output_type": "stream",
          "text": [
            "found 111052 word vectors\n"
          ],
          "name": "stdout"
        }
      ]
    },
    {
      "cell_type": "markdown",
      "metadata": {
        "colab_type": "text",
        "id": "xXLbaTfYnPzc"
      },
      "source": [
        "#### Convert the word embedding into tokenized vector"
      ]
    },
    {
      "cell_type": "code",
      "metadata": {
        "colab_type": "code",
        "id": "yQRatMATnP9p",
        "outputId": "0e958597-8c04-4a84-89bd-5268453d9f43",
        "colab": {
          "base_uri": "https://localhost:8080/",
          "height": 141
        }
      },
      "source": [
        "import nltk\n",
        "nltk.download('punkt')\n",
        "nltk.download('stopwords')\n",
        "\n",
        "\n",
        "toxicComments_lines = list()\n",
        "lines = train['comment_text'].values.tolist()\n",
        "\n",
        "for line in lines:\n",
        "    tokens = word_tokenize(line)\n",
        "    \n",
        "    #convert to lower case\n",
        "    tokens = [w.lower() for w in tokens]\n",
        "    \n",
        "    #remove punctuation from each word\n",
        "    table =  str.maketrans('', '', string.punctuation)\n",
        "    stripped = [w.translate(table) for w in tokens]\n",
        "    \n",
        "    #remove remaining tpkens gthat are not alphabetic\n",
        "    words = [word for word in stripped if word.isalpha()]\n",
        "    \n",
        "    #filter out stop words\n",
        "    stop_words = set(stopwords.words('english'))\n",
        "    words = [w for w in words if not w in stop_words]\n",
        "    toxicComments_lines.append(words)\n",
        "\n",
        "\n",
        "len(toxicComments_lines)\n",
        "\n",
        "\n",
        "\n",
        "#vectorize the text samples into a 2D integer tensor\n",
        "tokenizer_obj = Tokenizer()\n",
        "tokenizer_obj.fit_on_texts(toxicComments_lines)\n",
        "sequences = tokenizer_obj.texts_to_sequences(toxicComments_lines)\n",
        "\n",
        "#pad sequences\n",
        "word_index = tokenizer_obj.word_index\n",
        "print('Found %s uniquue tokens.' % len(word_index))\n",
        "\n",
        "toxicComments_pad = pad_sequences(sequences, maxlen=max_len)\n",
        "comments_tag = train[[\"toxic\", \"severe_toxic\", \"obscene\", \"threat\", \"insult\", \"identity_hate\"]].values\n",
        "print('Shape of toxic comments tensor', toxicComments_pad.shape)\n",
        "print('Shape of comment tensor', comments_tag.shape)"
      ],
      "execution_count": 0,
      "outputs": [
        {
          "output_type": "stream",
          "text": [
            "[nltk_data] Downloading package punkt to\n",
            "[nltk_data]     C:\\Users\\hamza.mohammed\\AppData\\Roaming\\nltk_data...\n",
            "[nltk_data]   Package punkt is already up-to-date!\n",
            "[nltk_data] Downloading package stopwords to\n",
            "[nltk_data]     C:\\Users\\hamza.mohammed\\AppData\\Roaming\\nltk_data...\n",
            "[nltk_data]   Package stopwords is already up-to-date!\n"
          ],
          "name": "stderr"
        },
        {
          "output_type": "stream",
          "text": [
            "Found 216407 uniquue tokens.\n",
            "Shape of toxic comments tensor (159571, 200)\n",
            "Shape of comment tensor (159571, 6)\n"
          ],
          "name": "stdout"
        }
      ]
    },
    {
      "cell_type": "markdown",
      "metadata": {
        "colab_type": "text",
        "id": "OTAsNvo8ejgn"
      },
      "source": [
        "#### Prepare the embedding matrix vectors in order to feed/pass the neural network"
      ]
    },
    {
      "cell_type": "code",
      "metadata": {
        "colab_type": "code",
        "id": "GrtLyPSOejgo",
        "outputId": "f6644c4e-13b6-4bd9-8b81-33f63b6c5382",
        "colab": {
          "base_uri": "https://localhost:8080/",
          "height": 52
        }
      },
      "source": [
        "#embedding matrix\n",
        "print('preparing embedding matrix...')\n",
        "max_nb_words = 100000\n",
        "fastText_embed_dim = 300 \n",
        "\n",
        "words_not_found = []\n",
        "nb_words = min(max_nb_words, len(word_index))\n",
        "fastText_embedding_matrix = np.zeros((nb_words, fastText_embed_dim))\n",
        "for word, i in word_index.items():\n",
        "    if i >= nb_words:\n",
        "        continue\n",
        "    fastText_embedding_vector = fastText_embeddings_index.get(word)\n",
        "    if (fastText_embedding_vector is not None) and len(fastText_embedding_vector) > 0:\n",
        "        # words not found in embedding index will be all-zeros.\n",
        "        fastText_embedding_matrix[i] = fastText_embedding_vector\n",
        "    else:\n",
        "        words_not_found.append(word)\n",
        "print('number of null word embeddings: %d' % np.sum(np.sum(fastText_embedding_matrix, axis=1) == 0))"
      ],
      "execution_count": 0,
      "outputs": [
        {
          "output_type": "stream",
          "text": [
            "preparing embedding matrix...\n",
            "number of null word embeddings: 52679\n"
          ],
          "name": "stdout"
        }
      ]
    },
    {
      "cell_type": "code",
      "metadata": {
        "colab_type": "code",
        "id": "qdOhIMwcQfY-",
        "outputId": "8d919f47-d5f0-471f-9865-42f619cec2c5",
        "colab": {
          "base_uri": "https://localhost:8080/",
          "height": 34
        }
      },
      "source": [
        "print(nb_words)"
      ],
      "execution_count": 0,
      "outputs": [
        {
          "output_type": "stream",
          "text": [
            "100000\n"
          ],
          "name": "stdout"
        }
      ]
    },
    {
      "cell_type": "markdown",
      "metadata": {
        "colab_type": "text",
        "id": "9N5twJkalIbI"
      },
      "source": [
        "## 1) Convolutional Neural Network (CNN) with FastText"
      ]
    },
    {
      "cell_type": "code",
      "metadata": {
        "colab_type": "code",
        "id": "ZmB4r7FblRqG",
        "outputId": "f7667a6a-9fa5-4316-f0fd-a57dbab15030",
        "colab": {
          "base_uri": "https://localhost:8080/",
          "height": 143
        }
      },
      "source": [
        "CNN_FastText_model = Sequential([\n",
        "    Embedding(input_dim=fastText_embedding_matrix.shape[0], input_length=max_len, output_dim=fastText_embedding_matrix.shape[1],weights=[fastText_embedding_matrix], trainable=False),\n",
        "    SpatialDropout1D(0.5),\n",
        "    # ... 100 filters with a kernel size of 4 so that each convolution will consider a window of 4 word embeddings\n",
        "    Conv1D(filters=100, kernel_size=4, padding='same', activation='relu'),\n",
        "    #**batch normalization layer** normalizes the activations of the previous layer at each batch, \n",
        "    #i.e. applies a transformation that maintains the mean activation close to 0 and the activation standard deviation close to 1. \n",
        "    #It will be added after the activation function between a convolutional and a max-pooling layer.\n",
        "    BatchNormalization(),\n",
        "    GlobalMaxPool1D(),\n",
        "    Dropout(0.5),\n",
        "    Dense(50, activation = 'relu'),\n",
        "    Dense(6, activation = 'sigmoid')\n",
        "])"
      ],
      "execution_count": 0,
      "outputs": [
        {
          "output_type": "stream",
          "text": [
            "WARNING:tensorflow:From D:\\Program Files\\Anaconda\\lib\\site-packages\\tensorflow\\python\\framework\\op_def_library.py:263: colocate_with (from tensorflow.python.framework.ops) is deprecated and will be removed in a future version.\n",
            "Instructions for updating:\n",
            "Colocations handled automatically by placer.\n",
            "WARNING:tensorflow:From D:\\Program Files\\Anaconda\\lib\\site-packages\\keras\\backend\\tensorflow_backend.py:3445: calling dropout (from tensorflow.python.ops.nn_ops) with keep_prob is deprecated and will be removed in a future version.\n",
            "Instructions for updating:\n",
            "Please use `rate` instead of `keep_prob`. Rate should be set to `rate = 1 - keep_prob`.\n"
          ],
          "name": "stdout"
        }
      ]
    },
    {
      "cell_type": "code",
      "metadata": {
        "colab_type": "code",
        "id": "zuKSOTHmlUl-",
        "colab": {}
      },
      "source": [
        "#Customized the evaluation to analyse the model in terms of accuracy and mean value accuracy\n",
        "def mean_pred(y_true, y_pred):\n",
        "    return K.mean(y_pred)"
      ],
      "execution_count": 0,
      "outputs": []
    },
    {
      "cell_type": "code",
      "metadata": {
        "colab_type": "code",
        "id": "PopT5igalWC6",
        "outputId": "07379f1a-586c-4077-c276-0def7e476d09",
        "colab": {
          "base_uri": "https://localhost:8080/",
          "height": 123
        }
      },
      "source": [
        "CNN_FastText_model.compile(loss='binary_crossentropy', optimizer=Adam(0.01), metrics=['accuracy', mean_pred, fmeasure, precision, auroc, recall])"
      ],
      "execution_count": 0,
      "outputs": [
        {
          "output_type": "stream",
          "text": [
            "WARNING:tensorflow:From D:\\Program Files\\Anaconda\\lib\\site-packages\\tensorflow\\python\\ops\\metrics_impl.py:526: to_float (from tensorflow.python.ops.math_ops) is deprecated and will be removed in a future version.\n",
            "Instructions for updating:\n",
            "Use tf.cast instead.\n",
            "WARNING:tensorflow:From D:\\Program Files\\Anaconda\\lib\\site-packages\\tensorflow\\python\\ops\\metrics_impl.py:788: div (from tensorflow.python.ops.math_ops) is deprecated and will be removed in a future version.\n",
            "Instructions for updating:\n",
            "Deprecated in favor of operator or tf.math.divide.\n"
          ],
          "name": "stdout"
        }
      ]
    },
    {
      "cell_type": "markdown",
      "metadata": {
        "colab_type": "text",
        "id": "SdvXG6pY4--O"
      },
      "source": [
        "#### Visualize the Orchestrated CNN-FastText Model Architecture"
      ]
    },
    {
      "cell_type": "code",
      "metadata": {
        "colab_type": "code",
        "id": "hO836PbUlagW",
        "outputId": "1f6f5401-0b82-466b-8ba1-3bc9d2d79934",
        "colab": {
          "base_uri": "https://localhost:8080/",
          "height": 425
        }
      },
      "source": [
        "CNN_FastText_model.summary()"
      ],
      "execution_count": 0,
      "outputs": [
        {
          "output_type": "stream",
          "text": [
            "_________________________________________________________________\n",
            "Layer (type)                 Output Shape              Param #   \n",
            "=================================================================\n",
            "embedding_1 (Embedding)      (None, 200, 300)          30000000  \n",
            "_________________________________________________________________\n",
            "spatial_dropout1d_1 (Spatial (None, 200, 300)          0         \n",
            "_________________________________________________________________\n",
            "conv1d_1 (Conv1D)            (None, 200, 100)          120100    \n",
            "_________________________________________________________________\n",
            "batch_normalization_1 (Batch (None, 200, 100)          400       \n",
            "_________________________________________________________________\n",
            "global_max_pooling1d_1 (Glob (None, 100)               0         \n",
            "_________________________________________________________________\n",
            "dropout_1 (Dropout)          (None, 100)               0         \n",
            "_________________________________________________________________\n",
            "dense_1 (Dense)              (None, 50)                5050      \n",
            "_________________________________________________________________\n",
            "dense_2 (Dense)              (None, 6)                 306       \n",
            "=================================================================\n",
            "Total params: 30,125,856\n",
            "Trainable params: 125,656\n",
            "Non-trainable params: 30,000,200\n",
            "_________________________________________________________________\n"
          ],
          "name": "stdout"
        }
      ]
    },
    {
      "cell_type": "code",
      "metadata": {
        "colab_type": "code",
        "id": "EokmYDzYw_Qs",
        "colab": {}
      },
      "source": [
        "#plot the CNN_FastText_model architecture\n",
        "\n",
        "#plot_model(CNN_FastText_model, to_file='CNN_FastText_model_plot.png', show_shapes=True, show_layer_names=True)\n",
        "#Image(retina=True, filename='CNN_FastText_model_plot.png')"
      ],
      "execution_count": 0,
      "outputs": []
    },
    {
      "cell_type": "code",
      "metadata": {
        "colab_type": "code",
        "id": "9AWfMlUSldXp",
        "outputId": "f5db1cad-8c16-4f05-fc6f-4576fb02a8b5",
        "colab": {
          "base_uri": "https://localhost:8080/",
          "height": 641
        }
      },
      "source": [
        "CNN_FastText_model_fit = CNN_FastText_model.fit(X_tra, y_tra, batch_size=batch_size2, epochs=num_epochs, validation_data=(X_val, y_val), callbacks=[early])"
      ],
      "execution_count": 0,
      "outputs": [
        {
          "output_type": "stream",
          "text": [
            "WARNING:tensorflow:From D:\\Program Files\\Anaconda\\lib\\site-packages\\tensorflow\\python\\ops\\math_ops.py:3066: to_int32 (from tensorflow.python.ops.math_ops) is deprecated and will be removed in a future version.\n",
            "Instructions for updating:\n",
            "Use tf.cast instead.\n",
            "Train on 143613 samples, validate on 15958 samples\n",
            "Epoch 1/15\n",
            "143613/143613 [==============================] - 272s 2ms/step - loss: 0.1424 - acc: 0.9626 - mean_pred: 0.0390 - fmeasure: 0.0391 - precision: 0.1642 - auroc: 0.7565 - recall: 0.0244 - val_loss: 0.1213 - val_acc: 0.9631 - val_mean_pred: 0.0509 - val_fmeasure: 0.0324 - val_precision: 0.6417 - val_auroc: 0.8058 - val_recall: 0.0167\n",
            "Epoch 2/15\n",
            "143613/143613 [==============================] - 275s 2ms/step - loss: 0.1050 - acc: 0.9696 - mean_pred: 0.0375 - fmeasure: 0.3498 - precision: 0.7819 - auroc: 0.8300 - recall: 0.2337 - val_loss: 0.0865 - val_acc: 0.9738 - val_mean_pred: 0.0379 - val_fmeasure: 0.4869 - val_precision: 0.8712 - val_auroc: 0.8503 - val_recall: 0.3464\n",
            "Epoch 3/15\n",
            "143613/143613 [==============================] - 278s 2ms/step - loss: 0.0937 - acc: 0.9720 - mean_pred: 0.0369 - fmeasure: 0.4466 - precision: 0.7834 - auroc: 0.8635 - recall: 0.3195 - val_loss: 0.0821 - val_acc: 0.9755 - val_mean_pred: 0.0452 - val_fmeasure: 0.5542 - val_precision: 0.8303 - val_auroc: 0.8738 - val_recall: 0.4251\n",
            "Epoch 4/15\n",
            "143613/143613 [==============================] - 278s 2ms/step - loss: 0.0895 - acc: 0.9730 - mean_pred: 0.0370 - fmeasure: 0.4816 - precision: 0.7939 - auroc: 0.8811 - recall: 0.3537 - val_loss: 0.0777 - val_acc: 0.9755 - val_mean_pred: 0.0306 - val_fmeasure: 0.5339 - val_precision: 0.8801 - val_auroc: 0.8874 - val_recall: 0.3903\n",
            "Epoch 5/15\n",
            "143613/143613 [==============================] - 277s 2ms/step - loss: 0.0864 - acc: 0.9737 - mean_pred: 0.0369 - fmeasure: 0.5025 - precision: 0.7901 - auroc: 0.8924 - recall: 0.3768 - val_loss: 0.0766 - val_acc: 0.9755 - val_mean_pred: 0.0343 - val_fmeasure: 0.5377 - val_precision: 0.8741 - val_auroc: 0.8966 - val_recall: 0.3958\n",
            "Epoch 6/15\n",
            "143613/143613 [==============================] - 278s 2ms/step - loss: 0.0841 - acc: 0.9740 - mean_pred: 0.0366 - fmeasure: 0.5128 - precision: 0.7982 - auroc: 0.9003 - recall: 0.3848 - val_loss: 0.0744 - val_acc: 0.9764 - val_mean_pred: 0.0320 - val_fmeasure: 0.5616 - val_precision: 0.8711 - val_auroc: 0.9035 - val_recall: 0.4211\n",
            "Epoch 7/15\n",
            "143613/143613 [==============================] - 280s 2ms/step - loss: 0.0819 - acc: 0.9745 - mean_pred: 0.0367 - fmeasure: 0.5313 - precision: 0.7934 - auroc: 0.9063 - recall: 0.4068 - val_loss: 0.0725 - val_acc: 0.9765 - val_mean_pred: 0.0329 - val_fmeasure: 0.5674 - val_precision: 0.8773 - val_auroc: 0.9089 - val_recall: 0.4261\n",
            "Epoch 8/15\n",
            "143613/143613 [==============================] - 283s 2ms/step - loss: 0.0813 - acc: 0.9746 - mean_pred: 0.0367 - fmeasure: 0.5367 - precision: 0.7906 - auroc: 0.9110 - recall: 0.4135 - val_loss: 0.0749 - val_acc: 0.9759 - val_mean_pred: 0.0268 - val_fmeasure: 0.5390 - val_precision: 0.9053 - val_auroc: 0.9130 - val_recall: 0.3919\n",
            "Epoch 9/15\n",
            "143613/143613 [==============================] - 282s 2ms/step - loss: 0.0795 - acc: 0.9750 - mean_pred: 0.0366 - fmeasure: 0.5487 - precision: 0.7916 - auroc: 0.9147 - recall: 0.4274 - val_loss: 0.0705 - val_acc: 0.9772 - val_mean_pred: 0.0339 - val_fmeasure: 0.5903 - val_precision: 0.8651 - val_auroc: 0.9164 - val_recall: 0.4533\n",
            "Epoch 10/15\n",
            "143613/143613 [==============================] - 282s 2ms/step - loss: 0.0787 - acc: 0.9752 - mean_pred: 0.0366 - fmeasure: 0.5548 - precision: 0.7946 - auroc: 0.9179 - recall: 0.4343 - val_loss: 0.0700 - val_acc: 0.9775 - val_mean_pred: 0.0322 - val_fmeasure: 0.6004 - val_precision: 0.8512 - val_auroc: 0.9193 - val_recall: 0.4696\n",
            "Epoch 11/15\n",
            "143613/143613 [==============================] - 287s 2ms/step - loss: 0.0784 - acc: 0.9753 - mean_pred: 0.0365 - fmeasure: 0.5562 - precision: 0.7923 - auroc: 0.9205 - recall: 0.4378 - val_loss: 0.0701 - val_acc: 0.9778 - val_mean_pred: 0.0378 - val_fmeasure: 0.6080 - val_precision: 0.8597 - val_auroc: 0.9217 - val_recall: 0.4757\n",
            "Epoch 12/15\n",
            "143613/143613 [==============================] - 290s 2ms/step - loss: 0.0773 - acc: 0.9755 - mean_pred: 0.0366 - fmeasure: 0.5634 - precision: 0.7940 - auroc: 0.9228 - recall: 0.4438 - val_loss: 0.0707 - val_acc: 0.9770 - val_mean_pred: 0.0303 - val_fmeasure: 0.5843 - val_precision: 0.8658 - val_auroc: 0.9238 - val_recall: 0.4478\n",
            "Epoch 13/15\n",
            "143613/143613 [==============================] - 291s 2ms/step - loss: 0.0770 - acc: 0.9756 - mean_pred: 0.0365 - fmeasure: 0.5645 - precision: 0.7971 - auroc: 0.9248 - recall: 0.4445 - val_loss: 0.0674 - val_acc: 0.9778 - val_mean_pred: 0.0330 - val_fmeasure: 0.6157 - val_precision: 0.8428 - val_auroc: 0.9256 - val_recall: 0.4907\n",
            "Epoch 14/15\n",
            "143613/143613 [==============================] - 294s 2ms/step - loss: 0.0762 - acc: 0.9759 - mean_pred: 0.0366 - fmeasure: 0.5720 - precision: 0.7975 - auroc: 0.9265 - recall: 0.4547 - val_loss: 0.0683 - val_acc: 0.9780 - val_mean_pred: 0.0385 - val_fmeasure: 0.6240 - val_precision: 0.8346 - val_auroc: 0.9273 - val_recall: 0.5031\n",
            "Epoch 15/15\n",
            "143613/143613 [==============================] - 291s 2ms/step - loss: 0.0755 - acc: 0.9760 - mean_pred: 0.0366 - fmeasure: 0.5764 - precision: 0.7965 - auroc: 0.9281 - recall: 0.4585 - val_loss: 0.0685 - val_acc: 0.9776 - val_mean_pred: 0.0303 - val_fmeasure: 0.5986 - val_precision: 0.8779 - val_auroc: 0.9288 - val_recall: 0.4596\n"
          ],
          "name": "stdout"
        }
      ]
    },
    {
      "cell_type": "markdown",
      "metadata": {
        "colab_type": "text",
        "id": "PIp84-0R5Gdr"
      },
      "source": [
        "#### Evaluate the CNN+fastText Model accuracy of our trained model"
      ]
    },
    {
      "cell_type": "code",
      "metadata": {
        "colab_type": "code",
        "id": "8MP6iO-3lgBe",
        "outputId": "d72d1c3f-cc4a-4898-ea0b-1b9bd9fdb175",
        "colab": {
          "base_uri": "https://localhost:8080/",
          "height": 70
        }
      },
      "source": [
        "CNN_FastText_train_score = CNN_FastText_model.evaluate(X_train, y_train, batch_size=batch_size2, verbose=1)\n",
        "print('Train Loss:', CNN_FastText_train_score[0])\n",
        "print('Train Accuracy:', CNN_FastText_train_score[1])"
      ],
      "execution_count": 0,
      "outputs": [
        {
          "output_type": "stream",
          "text": [
            ""
          ],
          "name": "stdout"
        },
        {
          "output_type": "stream",
          "text": [
            "159571/159571 [==============================] - 137s 861us/step\n",
            "Train Loss: 0.06231690536653106\n",
            "Train Accuracy: 0.9790438153172077\n"
          ],
          "name": "stdout"
        }
      ]
    },
    {
      "cell_type": "markdown",
      "metadata": {
        "colab_type": "text",
        "id": "4BFe8BG55XLe"
      },
      "source": [
        "#### Evaluate the CNN+FastText accuracy base our test samples"
      ]
    },
    {
      "cell_type": "code",
      "metadata": {
        "colab_type": "code",
        "id": "wF-E-YfXlifj",
        "outputId": "4feae3e8-2bff-4b84-9791-f93d590d8a53",
        "colab": {
          "base_uri": "https://localhost:8080/",
          "height": 70
        }
      },
      "source": [
        "CNN_FastText_test_score = CNN_FastText_model.evaluate(X_test, y_test, batch_size=batch_size2, verbose=1)\n",
        "print('Test Loss:', CNN_FastText_train_score[0])\n",
        "print('Test Accuracy:', CNN_FastText_train_score[1])"
      ],
      "execution_count": 0,
      "outputs": [
        {
          "output_type": "stream",
          "text": [
            ""
          ],
          "name": "stdout"
        },
        {
          "output_type": "stream",
          "text": [
            "63930/63930 [==============================] - 55s 858us/step\n",
            "Test Loss: 0.06231690536653106\n",
            "Test Accuracy: 0.9790438153172077\n"
          ],
          "name": "stdout"
        }
      ]
    },
    {
      "cell_type": "code",
      "metadata": {
        "colab_type": "code",
        "id": "hosf_OzalksO",
        "outputId": "2921115b-7771-4aca-9d8f-44c62d15856e",
        "colab": {
          "base_uri": "https://localhost:8080/",
          "height": 52
        }
      },
      "source": [
        "#Predicting......\n",
        "print('Predicting....')\n",
        "y_pred = CNN_FastText_model.predict(X_test,batch_size=batch_size2,verbose=1)"
      ],
      "execution_count": 0,
      "outputs": [
        {
          "output_type": "stream",
          "text": [
            "Predicting....\n",
            "63930/63930 [==============================] - 53s 821us/step\n"
          ],
          "name": "stdout"
        }
      ]
    },
    {
      "cell_type": "markdown",
      "metadata": {
        "colab_type": "text",
        "id": "-iw7SM-W5gxr"
      },
      "source": [
        "#### Plot Training & Validation Accuracy with the Loss values of the CNN-FastText Model"
      ]
    },
    {
      "cell_type": "code",
      "metadata": {
        "colab_type": "code",
        "id": "nNQYtI4LloSs",
        "outputId": "23be0716-0d7e-4a65-e06f-a1ca601d8d1d",
        "colab": {
          "base_uri": "https://localhost:8080/",
          "height": 376
        }
      },
      "source": [
        "# Plot training & validation accuracy values\n",
        "plt.plot(CNN_FastText_model_fit.history['acc'])\n",
        "plt.plot(CNN_FastText_model_fit.history['val_acc'])\n",
        "plt.title('CNN-FastText Model accuracy')\n",
        "plt.ylabel('Accuracy')\n",
        "plt.xlabel('Epoch')\n",
        "plt.legend(['Training Accuracy', 'Validation Accuracy'], loc='upper left')\n",
        "plt.show()"
      ],
      "execution_count": 0,
      "outputs": [
        {
          "output_type": "display_data",
          "data": {
            "image/png": "[encoded data removed]",
            "text/plain": [
              "<Figure size 432x288 with 1 Axes>"
            ]
          },
          "metadata": {
            "tags": [],
            "needs_background": "light"
          }
        }
      ]
    },
    {
      "cell_type": "code",
      "metadata": {
        "colab_type": "code",
        "id": "u4TIrrZNlp2Z",
        "outputId": "1445c32b-2c33-4a0c-8698-1b56121c8fa1",
        "colab": {
          "base_uri": "https://localhost:8080/",
          "height": 376
        }
      },
      "source": [
        "# Plot training & validation loss values\n",
        "plt.plot(CNN_FastText_model_fit.history['loss'])\n",
        "plt.plot(CNN_FastText_model_fit.history['val_loss'])\n",
        "plt.title('CNN-FastText Model loss')\n",
        "plt.ylabel('Loss')\n",
        "plt.xlabel('Epoch')\n",
        "plt.legend(['Training Loss', 'Validation Loss'], loc='lower right')\n",
        "plt.show()"
      ],
      "execution_count": 0,
      "outputs": [
        {
          "output_type": "display_data",
          "data": {
            "image/png": "[encoded data removed]",
            "text/plain": [
              "<Figure size 432x288 with 1 Axes>"
            ]
          },
          "metadata": {
            "tags": [],
            "needs_background": "light"
          }
        }
      ]
    },
    {
      "cell_type": "markdown",
      "metadata": {
        "colab_type": "text",
        "id": "q9LGffb2l7JW"
      },
      "source": [
        "## 2) Recurrent Neural Network (RNN) with FastText"
      ]
    },
    {
      "cell_type": "code",
      "metadata": {
        "colab_type": "code",
        "id": "WeuwCt6Jl93r",
        "colab": {}
      },
      "source": [
        "RNN_FastText_model = Sequential([\n",
        "    Embedding(input_dim =fastText_embedding_matrix.shape[0], input_length=max_len, output_dim=fastText_embedding_matrix.shape[1],weights=[fastText_embedding_matrix], trainable=False),\n",
        "    SpatialDropout1D(0.5),\n",
        "    #Fully-connected RNN where the output is to be fed back to input.\n",
        "    SimpleRNN(25, return_sequences=True),\n",
        "    #**batch normalization layer** normalizes the activations of the previous layer at each batch, \n",
        "    #i.e. applies a transformation that maintains the mean activation close to 0 and the activation standard deviation close to 1. \n",
        "    BatchNormalization(),\n",
        "    Dropout(0.5),\n",
        "    GlobalMaxPool1D(),\n",
        "    Dense(50, activation = 'relu'),\n",
        "    Dense(6, activation = 'sigmoid')\n",
        "])"
      ],
      "execution_count": 0,
      "outputs": []
    },
    {
      "cell_type": "code",
      "metadata": {
        "colab_type": "code",
        "id": "tamCBt2emBZq",
        "colab": {}
      },
      "source": [
        "#Customized the evaluation to analyse the model in terms of accuracy and mean value accuracy\n",
        "def mean_pred(y_true, y_pred):\n",
        "    return K.mean(y_pred)"
      ],
      "execution_count": 0,
      "outputs": []
    },
    {
      "cell_type": "code",
      "metadata": {
        "colab_type": "code",
        "id": "j9SFCjfNmEyi",
        "colab": {}
      },
      "source": [
        "RNN_FastText_model.compile(loss='binary_crossentropy', optimizer=Adam(0.01), metrics=['accuracy', mean_pred, fmeasure, precision, auroc, recall])"
      ],
      "execution_count": 0,
      "outputs": []
    },
    {
      "cell_type": "markdown",
      "metadata": {
        "colab_type": "text",
        "id": "RrZEKX2M5sJf"
      },
      "source": [
        "#### Visualize the Orchestrated RNN-fastText Model Architecture"
      ]
    },
    {
      "cell_type": "code",
      "metadata": {
        "colab_type": "code",
        "id": "tmrQckJBmHp5",
        "outputId": "219b6d04-d2a7-42d6-9325-6b50977b1efc",
        "colab": {
          "base_uri": "https://localhost:8080/",
          "height": 425
        }
      },
      "source": [
        "RNN_FastText_model.summary()"
      ],
      "execution_count": 0,
      "outputs": [
        {
          "output_type": "stream",
          "text": [
            "_________________________________________________________________\n",
            "Layer (type)                 Output Shape              Param #   \n",
            "=================================================================\n",
            "embedding_2 (Embedding)      (None, 200, 300)          30000000  \n",
            "_________________________________________________________________\n",
            "spatial_dropout1d_2 (Spatial (None, 200, 300)          0         \n",
            "_________________________________________________________________\n",
            "simple_rnn_1 (SimpleRNN)     (None, 200, 25)           8150      \n",
            "_________________________________________________________________\n",
            "batch_normalization_2 (Batch (None, 200, 25)           100       \n",
            "_________________________________________________________________\n",
            "dropout_2 (Dropout)          (None, 200, 25)           0         \n",
            "_________________________________________________________________\n",
            "global_max_pooling1d_2 (Glob (None, 25)                0         \n",
            "_________________________________________________________________\n",
            "dense_3 (Dense)              (None, 50)                1300      \n",
            "_________________________________________________________________\n",
            "dense_4 (Dense)              (None, 6)                 306       \n",
            "=================================================================\n",
            "Total params: 30,009,856\n",
            "Trainable params: 9,806\n",
            "Non-trainable params: 30,000,050\n",
            "_________________________________________________________________\n"
          ],
          "name": "stdout"
        }
      ]
    },
    {
      "cell_type": "code",
      "metadata": {
        "colab_type": "code",
        "id": "vsKSacORxYkA",
        "colab": {}
      },
      "source": [
        "#plot the RNN_FastText_model architecture\n",
        "\n",
        "#plot_model(RNN_FastText_model, to_file='RNN_FastText_model_plot.png', show_shapes=True, show_layer_names=True)\n",
        "#Image(retina=True, filename='RNN_FastText_model_plot.png')"
      ],
      "execution_count": 0,
      "outputs": []
    },
    {
      "cell_type": "code",
      "metadata": {
        "colab_type": "code",
        "id": "ctx9GqvmmpHy",
        "outputId": "d01d1f22-f587-48b2-d9ed-c1e588426bae",
        "colab": {
          "base_uri": "https://localhost:8080/",
          "height": 516
        }
      },
      "source": [
        "RNN_FastText_model_fit = RNN_FastText_model.fit(X_tra, y_tra, batch_size=batch_size2, epochs=num_epochs, validation_data=(X_val, y_val), callbacks=[early])"
      ],
      "execution_count": 0,
      "outputs": [
        {
          "output_type": "stream",
          "text": [
            "Train on 143613 samples, validate on 15958 samples\n",
            "Epoch 1/15\n",
            "143613/143613 [==============================] - 103s 714us/step - loss: 0.1409 - acc: 0.9625 - mean_pred: 0.0377 - fmeasure: 0.0021 - precision: 0.0226 - auroc: 0.7658 - recall: 0.0028 - val_loss: 0.1935 - val_acc: 0.9627 - val_mean_pred: 0.1300 - val_fmeasure: 0.0207 - val_precision: 0.1624 - val_auroc: 0.7743 - val_recall: 0.0112\n",
            "Epoch 2/15\n",
            "143613/143613 [==============================] - 99s 691us/step - loss: 0.1212 - acc: 0.9675 - mean_pred: 0.0366 - fmeasure: 0.2306 - precision: 0.7616 - auroc: 0.7838 - recall: 0.1415 - val_loss: 0.1502 - val_acc: 0.9711 - val_mean_pred: 0.1017 - val_fmeasure: 0.4069 - val_precision: 0.8500 - val_auroc: 0.7956 - val_recall: 0.2753\n",
            "Epoch 3/15\n",
            "143613/143613 [==============================] - 100s 700us/step - loss: 0.1262 - acc: 0.9664 - mean_pred: 0.0365 - fmeasure: 0.1670 - precision: 0.5783 - auroc: 0.7998 - recall: 0.1023 - val_loss: 0.1953 - val_acc: 0.9627 - val_mean_pred: 0.1339 - val_fmeasure: 0.0259 - val_precision: 0.2154 - val_auroc: 0.7974 - val_recall: 0.0140\n",
            "Epoch 4/15\n",
            "143613/143613 [==============================] - 101s 701us/step - loss: 0.1391 - acc: 0.9636 - mean_pred: 0.0368 - fmeasure: 0.0156 - precision: 0.1970 - auroc: 0.7912 - recall: 0.0083 - val_loss: 0.1891 - val_acc: 0.9628 - val_mean_pred: 0.1215 - val_fmeasure: 0.0292 - val_precision: 0.2669 - val_auroc: 0.7859 - val_recall: 0.0158\n",
            "Epoch 5/15\n",
            "143613/143613 [==============================] - 101s 703us/step - loss: 0.1393 - acc: 0.9636 - mean_pred: 0.0368 - fmeasure: 0.0176 - precision: 0.1930 - auroc: 0.7817 - recall: 0.0094 - val_loss: 0.1830 - val_acc: 0.9629 - val_mean_pred: 0.1140 - val_fmeasure: 0.0420 - val_precision: 0.3314 - val_auroc: 0.7782 - val_recall: 0.0229\n",
            "Epoch 6/15\n",
            "143613/143613 [==============================] - 101s 706us/step - loss: 0.1389 - acc: 0.9637 - mean_pred: 0.0367 - fmeasure: 0.0221 - precision: 0.2428 - auroc: 0.7755 - recall: 0.0118 - val_loss: 0.1753 - val_acc: 0.9629 - val_mean_pred: 0.1045 - val_fmeasure: 0.0472 - val_precision: 0.3251 - val_auroc: 0.7733 - val_recall: 0.0261\n"
          ],
          "name": "stdout"
        }
      ]
    },
    {
      "cell_type": "markdown",
      "metadata": {
        "colab_type": "text",
        "id": "YNxYlxFu50eB"
      },
      "source": [
        "#### Evaluate the RNN+fastText Model accuracy of our trained model"
      ]
    },
    {
      "cell_type": "code",
      "metadata": {
        "colab_type": "code",
        "id": "wh1TsqbcmM29",
        "outputId": "925ccc20-06dd-4b84-bd4a-4495494142b3",
        "colab": {
          "base_uri": "https://localhost:8080/",
          "height": 70
        }
      },
      "source": [
        "RNN_FastText_train_score = RNN_FastText_model.evaluate(X_tra, y_tra, batch_size=batch_size2, verbose=1)\n",
        "print('Train Loss:', RNN_FastText_train_score[0])\n",
        "print('Train Accuracy:', RNN_FastText_train_score[1])"
      ],
      "execution_count": 0,
      "outputs": [
        {
          "output_type": "stream",
          "text": [
            ""
          ],
          "name": "stdout"
        },
        {
          "output_type": "stream",
          "text": [
            "143613/143613 [==============================] - 56s 389us/step\n",
            "Train Loss: 0.17382977453290527\n",
            "Train Accuracy: 0.9636175028789535\n"
          ],
          "name": "stdout"
        }
      ]
    },
    {
      "cell_type": "markdown",
      "metadata": {
        "colab_type": "text",
        "id": "cgb9w2zi5-os"
      },
      "source": [
        "#### Evaluate the RNN+FastText accuracy base our test samples"
      ]
    },
    {
      "cell_type": "code",
      "metadata": {
        "colab_type": "code",
        "id": "3W0b4Zb_mPeC",
        "outputId": "483da729-6ac5-4fd9-c4d6-c510bb564552",
        "colab": {
          "base_uri": "https://localhost:8080/",
          "height": 70
        }
      },
      "source": [
        "RNN_FastText_test_score = RNN_FastText_model.evaluate(X_test, y_test, batch_size=batch_size2, verbose=1)\n",
        "print('Test Loss:', RNN_FastText_test_score[0])\n",
        "print('Test Accuracy:', RNN_FastText_test_score[1])"
      ],
      "execution_count": 0,
      "outputs": [
        {
          "output_type": "stream",
          "text": [
            ""
          ],
          "name": "stdout"
        },
        {
          "output_type": "stream",
          "text": [
            "63930/63930 [==============================] - 25s 385us/step\n",
            "Test Loss: 0.17716656981985016\n",
            "Test Accuracy: 0.9620470308780148\n"
          ],
          "name": "stdout"
        }
      ]
    },
    {
      "cell_type": "code",
      "metadata": {
        "colab_type": "code",
        "id": "CiyCdGSVmSXL",
        "outputId": "54c42e03-d515-4ab2-faec-0f3e8ef101a5",
        "colab": {
          "base_uri": "https://localhost:8080/",
          "height": 52
        }
      },
      "source": [
        "#Predicting......\n",
        "print('Predicting....')\n",
        "y_pred = RNN_FastText_model.predict(X_test,batch_size=batch_size2,verbose=1)"
      ],
      "execution_count": 0,
      "outputs": [
        {
          "output_type": "stream",
          "text": [
            "Predicting....\n",
            "63930/63930 [==============================] - 24s 374us/step\n"
          ],
          "name": "stdout"
        }
      ]
    },
    {
      "cell_type": "markdown",
      "metadata": {
        "colab_type": "text",
        "id": "ITS1jjpo6H8L"
      },
      "source": [
        "#### Plot Training & Validation Accuracy with the Loss values of the RNN-fastText Model"
      ]
    },
    {
      "cell_type": "code",
      "metadata": {
        "colab_type": "code",
        "id": "2o5qqWHvmVIE",
        "outputId": "83285e31-177d-4994-8bcb-f73855db23ae",
        "colab": {
          "base_uri": "https://localhost:8080/",
          "height": 376
        }
      },
      "source": [
        "# Plot training & validation accuracy values\n",
        "plt.plot(RNN_FastText_model_fit.history['acc'])\n",
        "plt.plot(RNN_FastText_model_fit.history['val_acc'])\n",
        "plt.title('CNN-FastText Model accuracy')\n",
        "plt.ylabel('Accuracy')\n",
        "plt.xlabel('Epoch')\n",
        "plt.legend(['Training Accuracy', 'Validation Accuracy'], loc='upper left')\n",
        "plt.show()"
      ],
      "execution_count": 0,
      "outputs": [
        {
          "output_type": "display_data",
          "data": {
            "image/png": "[encoded data removed]",
            "text/plain": [
              "<Figure size 432x288 with 1 Axes>"
            ]
          },
          "metadata": {
            "tags": [],
            "needs_background": "light"
          }
        }
      ]
    },
    {
      "cell_type": "code",
      "metadata": {
        "colab_type": "code",
        "id": "OWdqH-PqmWZJ",
        "outputId": "71055111-62d2-4fcf-d117-cdf946c86591",
        "colab": {
          "base_uri": "https://localhost:8080/",
          "height": 376
        }
      },
      "source": [
        "# Plot training & validation loss values\n",
        "plt.plot(RNN_FastText_model_fit.history['loss'])\n",
        "plt.plot(RNN_FastText_model_fit.history['val_loss'])\n",
        "plt.title('CNN-FastText Model loss')\n",
        "plt.ylabel('Loss')\n",
        "plt.xlabel('Epoch')\n",
        "plt.legend(['Training Loss', 'Validation Loss'], loc='lower right')\n",
        "plt.show()"
      ],
      "execution_count": 0,
      "outputs": [
        {
          "output_type": "display_data",
          "data": {
            "image/png": "[encoded data removed]",
            "text/plain": [
              "<Figure size 432x288 with 1 Axes>"
            ]
          },
          "metadata": {
            "tags": [],
            "needs_background": "light"
          }
        }
      ]
    },
    {
      "cell_type": "markdown",
      "metadata": {
        "colab_type": "text",
        "id": "TwhPf8cEQ8ub"
      },
      "source": [
        "## 3) LSTM with fastText"
      ]
    },
    {
      "cell_type": "code",
      "metadata": {
        "colab_type": "code",
        "id": "cBhUz43qRAd-",
        "colab": {}
      },
      "source": [
        "LSTM_FastText_model = Sequential([\n",
        "    Embedding(input_dim =fastText_embedding_matrix.shape[0], input_length=max_len, output_dim=fastText_embedding_matrix.shape[1],weights=[fastText_embedding_matrix], trainable=False),\n",
        "    SpatialDropout1D(0.5),\n",
        "    #Bidirectional layer will enable our model to predict a missing word in a sequence, \n",
        "    #So, using this feature will enable the model to look at the context on both the left and the right.\n",
        "    LSTM(25, return_sequences=True),\n",
        "    #**batch normalization layer** normalizes the activations of the previous layer at each batch, \n",
        "    #i.e. applies a transformation that maintains the mean activation close to 0 and the activation standard deviation close to 1. \n",
        "    BatchNormalization(),\n",
        "    Dropout(0.5),\n",
        "    GlobalMaxPool1D(),\n",
        "    Dense(50, activation = 'relu'),\n",
        "    Dense(6, activation = 'sigmoid')\n",
        "])\n",
        "\n",
        "LSTM_FastText_model.compile(loss='binary_crossentropy', optimizer=Adam(0.01), metrics=['accuracy', mean_pred, fmeasure, precision, auroc, recall])"
      ],
      "execution_count": 0,
      "outputs": []
    },
    {
      "cell_type": "markdown",
      "metadata": {
        "colab_type": "text",
        "id": "rxBsAAvSRJ4E"
      },
      "source": [
        "### Visualize the Orchestrated LSTM-fastText Model Architecture"
      ]
    },
    {
      "cell_type": "code",
      "metadata": {
        "colab_type": "code",
        "id": "KSPpdc_ORVxa",
        "outputId": "3b1d83a5-100b-4f75-cfca-e3ea511cf399",
        "colab": {
          "base_uri": "https://localhost:8080/",
          "height": 897
        }
      },
      "source": [
        "LSTM_FastText_model.summary()\n",
        "#plot the CNN_GLove model architecture\n",
        "\n",
        "#plot_model(LSTM_FastText_model, to_file='LSTM_FastText_model_plot.png', show_shapes=True, show_layer_names=True)\n",
        "#Image(retina=True, filename='LSTM_FastText_model_plot.png')"
      ],
      "execution_count": 0,
      "outputs": [
        {
          "output_type": "stream",
          "text": [
            "_________________________________________________________________\n",
            "Layer (type)                 Output Shape              Param #   \n",
            "=================================================================\n",
            "embedding_3 (Embedding)      (None, 200, 300)          30000000  \n",
            "_________________________________________________________________\n",
            "spatial_dropout1d_3 (Spatial (None, 200, 300)          0         \n",
            "_________________________________________________________________\n",
            "lstm_1 (LSTM)                (None, 200, 25)           32600     \n",
            "_________________________________________________________________\n",
            "batch_normalization_3 (Batch (None, 200, 25)           100       \n",
            "_________________________________________________________________\n",
            "dropout_3 (Dropout)          (None, 200, 25)           0         \n",
            "_________________________________________________________________\n",
            "global_max_pooling1d_3 (Glob (None, 25)                0         \n",
            "_________________________________________________________________\n",
            "dense_5 (Dense)              (None, 50)                1300      \n",
            "_________________________________________________________________\n",
            "dense_6 (Dense)              (None, 6)                 306       \n",
            "=================================================================\n",
            "Total params: 30,034,306\n",
            "Trainable params: 34,256\n",
            "Non-trainable params: 30,000,050\n",
            "_________________________________________________________________\n"
          ],
          "name": "stdout"
        }
      ]
    },
    {
      "cell_type": "code",
      "metadata": {
        "colab_type": "code",
        "id": "keT2uPLzUwm1",
        "outputId": "5e3b296d-06dc-40e7-d2cf-376940cc63a8",
        "colab": {
          "base_uri": "https://localhost:8080/",
          "height": 410
        }
      },
      "source": [
        "LSTM_FastText_model_fit = LSTM_FastText_model.fit(X_tra, y_tra, batch_size=batch_size2, epochs=num_epochs, validation_data=(X_val, y_val), callbacks=[early])"
      ],
      "execution_count": 0,
      "outputs": [
        {
          "output_type": "stream",
          "text": [
            "Train on 143613 samples, validate on 15958 samples\n",
            "Epoch 1/15\n",
            "143613/143613 [==============================] - 221s 2ms/step - loss: 0.1056 - acc: 0.9692 - mean_pred: 0.0372 - fmeasure: 0.3310 - precision: 0.6660 - auroc: 0.8408 - recall: 0.2327 - val_loss: 0.1062 - val_acc: 0.9727 - val_mean_pred: 0.0683 - val_fmeasure: 0.4453 - val_precision: 0.8870 - val_auroc: 0.8873 - val_recall: 0.3057\n",
            "Epoch 2/15\n",
            "143613/143613 [==============================] - 218s 2ms/step - loss: 0.0870 - acc: 0.9733 - mean_pred: 0.0368 - fmeasure: 0.4900 - precision: 0.7943 - auroc: 0.8976 - recall: 0.3624 - val_loss: 0.0974 - val_acc: 0.9757 - val_mean_pred: 0.0693 - val_fmeasure: 0.5505 - val_precision: 0.8531 - val_auroc: 0.9054 - val_recall: 0.4144\n",
            "Epoch 3/15\n",
            "143613/143613 [==============================] - 217s 2ms/step - loss: 0.0833 - acc: 0.9741 - mean_pred: 0.0367 - fmeasure: 0.5204 - precision: 0.7883 - auroc: 0.9104 - recall: 0.3953 - val_loss: 0.1113 - val_acc: 0.9769 - val_mean_pred: 0.0901 - val_fmeasure: 0.6050 - val_precision: 0.8185 - val_auroc: 0.9136 - val_recall: 0.4862\n",
            "Epoch 4/15\n",
            "143613/143613 [==============================] - 218s 2ms/step - loss: 0.0814 - acc: 0.9746 - mean_pred: 0.0369 - fmeasure: 0.5326 - precision: 0.8001 - auroc: 0.9160 - recall: 0.4067 - val_loss: 0.0866 - val_acc: 0.9758 - val_mean_pred: 0.0581 - val_fmeasure: 0.5501 - val_precision: 0.8735 - val_auroc: 0.9187 - val_recall: 0.4077\n",
            "Epoch 5/15\n",
            "143613/143613 [==============================] - 217s 2ms/step - loss: 0.0790 - acc: 0.9752 - mean_pred: 0.0367 - fmeasure: 0.5495 - precision: 0.7988 - auroc: 0.9210 - recall: 0.4257 - val_loss: 0.0821 - val_acc: 0.9767 - val_mean_pred: 0.0553 - val_fmeasure: 0.5743 - val_precision: 0.8782 - val_auroc: 0.9231 - val_recall: 0.4324\n",
            "Epoch 6/15\n",
            "143613/143613 [==============================] - 219s 2ms/step - loss: 0.0779 - acc: 0.9753 - mean_pred: 0.0367 - fmeasure: 0.5518 - precision: 0.8034 - auroc: 0.9249 - recall: 0.4278 - val_loss: 0.0845 - val_acc: 0.9774 - val_mean_pred: 0.0599 - val_fmeasure: 0.6017 - val_precision: 0.8605 - val_auroc: 0.9264 - val_recall: 0.4677\n",
            "Epoch 7/15\n",
            "143613/143613 [==============================] - 221s 2ms/step - loss: 0.0771 - acc: 0.9754 - mean_pred: 0.0367 - fmeasure: 0.5567 - precision: 0.7972 - auroc: 0.9276 - recall: 0.4358 - val_loss: 0.0795 - val_acc: 0.9774 - val_mean_pred: 0.0537 - val_fmeasure: 0.5968 - val_precision: 0.8691 - val_auroc: 0.9289 - val_recall: 0.4587\n",
            "Epoch 8/15\n",
            "143613/143613 [==============================] - 220s 2ms/step - loss: 0.0762 - acc: 0.9758 - mean_pred: 0.0367 - fmeasure: 0.5643 - precision: 0.8067 - auroc: 0.9300 - recall: 0.4428 - val_loss: 0.0818 - val_acc: 0.9780 - val_mean_pred: 0.0614 - val_fmeasure: 0.6182 - val_precision: 0.8532 - val_auroc: 0.9309 - val_recall: 0.4894\n",
            "Epoch 9/15\n",
            "143613/143613 [==============================] - 222s 2ms/step - loss: 0.0756 - acc: 0.9760 - mean_pred: 0.0367 - fmeasure: 0.5701 - precision: 0.8085 - auroc: 0.9318 - recall: 0.4479 - val_loss: 0.0812 - val_acc: 0.9780 - val_mean_pred: 0.0593 - val_fmeasure: 0.6309 - val_precision: 0.8220 - val_auroc: 0.9325 - val_recall: 0.5160\n",
            "Epoch 10/15\n",
            "143613/143613 [==============================] - 224s 2ms/step - loss: 0.0749 - acc: 0.9761 - mean_pred: 0.0365 - fmeasure: 0.5748 - precision: 0.8065 - auroc: 0.9332 - recall: 0.4535 - val_loss: 0.0737 - val_acc: 0.9773 - val_mean_pred: 0.0487 - val_fmeasure: 0.6047 - val_precision: 0.8397 - val_auroc: 0.9340 - val_recall: 0.4771\n",
            "Epoch 11/15\n",
            "143613/143613 [==============================] - 224s 2ms/step - loss: 0.0748 - acc: 0.9761 - mean_pred: 0.0367 - fmeasure: 0.5766 - precision: 0.8064 - auroc: 0.9347 - recall: 0.4555 - val_loss: 0.0745 - val_acc: 0.9770 - val_mean_pred: 0.0461 - val_fmeasure: 0.5728 - val_precision: 0.8998 - val_auroc: 0.9354 - val_recall: 0.4246\n",
            "Epoch 12/15\n",
            "143613/143613 [==============================] - 225s 2ms/step - loss: 0.0744 - acc: 0.9762 - mean_pred: 0.0366 - fmeasure: 0.5759 - precision: 0.8052 - auroc: 0.9359 - recall: 0.4556 - val_loss: 0.0743 - val_acc: 0.9779 - val_mean_pred: 0.0503 - val_fmeasure: 0.6176 - val_precision: 0.8447 - val_auroc: 0.9365 - val_recall: 0.4921\n",
            "Epoch 13/15\n",
            "143613/143613 [==============================] - 220s 2ms/step - loss: 0.0737 - acc: 0.9764 - mean_pred: 0.0366 - fmeasure: 0.5858 - precision: 0.8040 - auroc: 0.9369 - recall: 0.4682 - val_loss: 0.0696 - val_acc: 0.9774 - val_mean_pred: 0.0401 - val_fmeasure: 0.5877 - val_precision: 0.8965 - val_auroc: 0.9375 - val_recall: 0.4422\n",
            "Epoch 14/15\n",
            "143613/143613 [==============================] - 219s 2ms/step - loss: 0.0740 - acc: 0.9765 - mean_pred: 0.0367 - fmeasure: 0.5829 - precision: 0.8072 - auroc: 0.9380 - recall: 0.4639 - val_loss: 0.0719 - val_acc: 0.9773 - val_mean_pred: 0.0426 - val_fmeasure: 0.5820 - val_precision: 0.9071 - val_auroc: 0.9383 - val_recall: 0.4336\n",
            "Epoch 15/15\n",
            "143613/143613 [==============================] - 219s 2ms/step - loss: 0.0731 - acc: 0.9767 - mean_pred: 0.0365 - fmeasure: 0.5933 - precision: 0.8022 - auroc: 0.9388 - recall: 0.4778 - val_loss: 0.0705 - val_acc: 0.9780 - val_mean_pred: 0.0417 - val_fmeasure: 0.6033 - val_precision: 0.8937 - val_auroc: 0.9392 - val_recall: 0.4603\n"
          ],
          "name": "stdout"
        }
      ]
    },
    {
      "cell_type": "markdown",
      "metadata": {
        "colab_type": "text",
        "id": "m4H9hU-tRWjP"
      },
      "source": [
        "### Evaluate the LSTM+fastText train and test score"
      ]
    },
    {
      "cell_type": "code",
      "metadata": {
        "colab_type": "code",
        "id": "C1AnaLocT-kb",
        "outputId": "3f491f65-0364-4727-fb83-b17adbc2b61b",
        "colab": {
          "base_uri": "https://localhost:8080/",
          "height": 123
        }
      },
      "source": [
        "#train\n",
        "LSTM_FastText_train_score = LSTM_FastText_model.evaluate(X_tra, y_tra, batch_size=batch_size2, verbose=1)\n",
        "print('Train Loss:', LSTM_FastText_train_score[0])\n",
        "print('Train Accuracy:', LSTM_FastText_train_score[1])\n",
        "\n",
        "#test\n",
        "LSTM_FastText_test_score = LSTM_FastText_model.evaluate(X_test, y_test, batch_size=batch_size2, verbose=1)\n",
        "print('Test Loss:', LSTM_FastText_test_score[0])\n",
        "print('Test Accuracy:', LSTM_FastText_test_score[1])"
      ],
      "execution_count": 0,
      "outputs": [
        {
          "output_type": "stream",
          "text": [
            ""
          ],
          "name": "stdout"
        },
        {
          "output_type": "stream",
          "text": [
            "143613/143613 [==============================] - 83s 580us/step\n",
            "Train Loss: 0.06833592687782751\n",
            "Train Accuracy: 0.9786985431681482\n",
            "63930/63930 [==============================] - 37s 585us/step\n",
            "Test Loss: 0.08404859027429196\n",
            "Test Accuracy: 0.9722378689135518\n"
          ],
          "name": "stdout"
        }
      ]
    },
    {
      "cell_type": "markdown",
      "metadata": {
        "colab_type": "text",
        "id": "I_Pv8LbDUb9o"
      },
      "source": [
        "### Plot Training & Validation Accuracy with the Loss values of the LSTM-fastText Model\n",
        "\n"
      ]
    },
    {
      "cell_type": "code",
      "metadata": {
        "colab_type": "code",
        "id": "BRG6YLjrUgF3",
        "outputId": "e3014d21-ecf1-45db-965e-3a37ff7607ce",
        "colab": {
          "base_uri": "https://localhost:8080/",
          "height": 736
        }
      },
      "source": [
        "### Plot Training & Validation Accuracy with the Loss values of the LSTM-Glove Model# Plot training & validation accuracy values\n",
        "plt.plot(LSTM_FastText_model_fit.history['acc'])\n",
        "plt.plot(LSTM_FastText_model_fit.history['val_acc'])\n",
        "plt.title('LSTM-FastText Model accuracy')\n",
        "plt.ylabel('Accuracy')\n",
        "plt.xlabel('Epoch')\n",
        "plt.legend(['Training Accuracy', 'Validation Accuracy'], loc='upper left')\n",
        "plt.show()\n",
        "\n",
        "# Plot training & validation loss values\n",
        "plt.plot(LSTM_FastText_model_fit.history['loss'])\n",
        "plt.plot(LSTM_FastText_model_fit.history['val_loss'])\n",
        "plt.title('LSTM-FastText Model loss')\n",
        "plt.ylabel('Loss')\n",
        "plt.xlabel('Epoch')\n",
        "plt.legend(['Training Loss', 'Validation Loss'], loc='lower right')\n",
        "plt.show()"
      ],
      "execution_count": 0,
      "outputs": [
        {
          "output_type": "display_data",
          "data": {
            "image/png": "[encoded data removed]",
            "text/plain": [
              "<Figure size 432x288 with 1 Axes>"
            ]
          },
          "metadata": {
            "tags": [],
            "needs_background": "light"
          }
        },
        {
          "output_type": "display_data",
          "data": {
            "image/png": "[encoded data removed]",
            "text/plain": [
              "<Figure size 432x288 with 1 Axes>"
            ]
          },
          "metadata": {
            "tags": [],
            "needs_background": "light"
          }
        }
      ]
    },
    {
      "cell_type": "markdown",
      "metadata": {
        "colab_type": "text",
        "id": "jtlndXcsU3iQ"
      },
      "source": [
        "## 4) Bidirecitional LSTM with fastText"
      ]
    },
    {
      "cell_type": "code",
      "metadata": {
        "colab_type": "code",
        "id": "7_S1Y6obU60I",
        "colab": {}
      },
      "source": [
        "Bil_LSTM_FastText_model = Sequential([\n",
        "    Embedding(input_dim =fastText_embedding_matrix.shape[0], input_length=max_len, output_dim=fastText_embedding_matrix.shape[1],weights=[fastText_embedding_matrix], trainable=False),\n",
        "    SpatialDropout1D(0.5),\n",
        "    #Bidirectional layer will enable our model to predict a missing word in a sequence, \n",
        "    #So, using this feature will enable the model to look at the context on both the left and the right.\n",
        "    Bidirectional(LSTM(25, return_sequences=True)),\n",
        "    #**batch normalization layer** normalizes the activations of the previous layer at each batch, \n",
        "    #i.e. applies a transformation that maintains the mean activation close to 0 and the activation standard deviation close to 1. \n",
        "    BatchNormalization(),\n",
        "    Dropout(0.5),\n",
        "    GlobalMaxPool1D(),\n",
        "    Dense(50, activation = 'relu'),\n",
        "    Dense(6, activation = 'sigmoid')\n",
        "])\n",
        "\n",
        "\n",
        "Bil_LSTM_FastText_model.compile(loss='binary_crossentropy', optimizer=Adam(0.01), metrics=['accuracy', mean_pred, fmeasure, precision, auroc, recall])"
      ],
      "execution_count": 0,
      "outputs": []
    },
    {
      "cell_type": "markdown",
      "metadata": {
        "colab_type": "text",
        "id": "6SU9rs9UVUAG"
      },
      "source": [
        "### Visualize the Orchestrated Bidirectional LSTM-FastText Model Architecture"
      ]
    },
    {
      "cell_type": "code",
      "metadata": {
        "colab_type": "code",
        "id": "pmFWcfHZVnG6",
        "outputId": "f8e43a3a-8018-48cd-d724-9b0253aa8a0f",
        "colab": {
          "base_uri": "https://localhost:8080/",
          "height": 897
        }
      },
      "source": [
        "Bil_LSTM_FastText_model.summary()\n",
        "#plot the CNN_GLove model architecture\n",
        "\n",
        "#plot_model(Bil_LSTM_FastText_model, to_file='Bil_LSTM_FastText_model_plot.png', show_shapes=True, show_layer_names=True)\n",
        "#Image(retina=True, filename='Bil_LSTM_FastText_model_plot.png')"
      ],
      "execution_count": 0,
      "outputs": [
        {
          "output_type": "stream",
          "text": [
            "_________________________________________________________________\n",
            "Layer (type)                 Output Shape              Param #   \n",
            "=================================================================\n",
            "embedding_4 (Embedding)      (None, 200, 300)          30000000  \n",
            "_________________________________________________________________\n",
            "spatial_dropout1d_4 (Spatial (None, 200, 300)          0         \n",
            "_________________________________________________________________\n",
            "bidirectional_1 (Bidirection (None, 200, 50)           65200     \n",
            "_________________________________________________________________\n",
            "batch_normalization_4 (Batch (None, 200, 50)           200       \n",
            "_________________________________________________________________\n",
            "dropout_4 (Dropout)          (None, 200, 50)           0         \n",
            "_________________________________________________________________\n",
            "global_max_pooling1d_4 (Glob (None, 50)                0         \n",
            "_________________________________________________________________\n",
            "dense_7 (Dense)              (None, 50)                2550      \n",
            "_________________________________________________________________\n",
            "dense_8 (Dense)              (None, 6)                 306       \n",
            "=================================================================\n",
            "Total params: 30,068,256\n",
            "Trainable params: 68,156\n",
            "Non-trainable params: 30,000,100\n",
            "_________________________________________________________________\n"
          ],
          "name": "stdout"
        }
      ]
    },
    {
      "cell_type": "code",
      "metadata": {
        "colab_type": "code",
        "id": "f812aikmV_2x",
        "outputId": "5e4a5c1c-54e1-4201-d559-7f8f6e8d4f2f",
        "colab": {
          "base_uri": "https://localhost:8080/",
          "height": 70
        }
      },
      "source": [
        "Bil_LSTM_FastText_model_fit = Bil_LSTM_FastText_model.fit(X_tra, y_tra, batch_size=batch_size2, epochs=num_epochs, validation_data=(X_val, y_val), callbacks=[early])"
      ],
      "execution_count": 0,
      "outputs": [
        {
          "output_type": "stream",
          "text": [
            "Train on 143613 samples, validate on 15958 samples\n",
            "Epoch 1/15\n",
            "143613/143613 [==============================] - 515s 4ms/step - loss: 0.1046 - acc: 0.9696 - mean_pred: 0.0376 - fmeasure: 0.3644 - precision: 0.6814 - auroc: 0.8282 - recall: 0.2607 - val_loss: 0.1001 - val_acc: 0.9755 - val_mean_pred: 0.0693 - val_fmeasure: 0.5363 - val_precision: 0.8769 - val_auroc: 0.8904 - val_recall: 0.3922\n",
            "Epoch 2/15\n",
            "143613/143613 [==============================] - 500s 3ms/step - loss: 0.0813 - acc: 0.9747 - mean_pred: 0.0367 - fmeasure: 0.5349 - precision: 0.7969 - auroc: 0.9035 - recall: 0.4114 - val_loss: 0.0852 - val_acc: 0.9780 - val_mean_pred: 0.0635 - val_fmeasure: 0.6353 - val_precision: 0.8112 - val_auroc: 0.9137 - val_recall: 0.5272\n",
            "Epoch 3/15\n",
            "143613/143613 [==============================] - 502s 3ms/step - loss: 0.0758 - acc: 0.9760 - mean_pred: 0.0366 - fmeasure: 0.5706 - precision: 0.8075 - auroc: 0.9198 - recall: 0.4499 - val_loss: 0.0787 - val_acc: 0.9776 - val_mean_pred: 0.0553 - val_fmeasure: 0.6002 - val_precision: 0.8631 - val_auroc: 0.9247 - val_recall: 0.4667\n",
            "Epoch 4/15\n",
            "143613/143613 [==============================] - 500s 3ms/step - loss: 0.0780 - acc: 0.9760 - mean_pred: 0.0369 - fmeasure: 0.5665 - precision: 0.8172 - auroc: 0.9267 - recall: 0.4425 - val_loss: 0.0858 - val_acc: 0.9787 - val_mean_pred: 0.0662 - val_fmeasure: 0.6457 - val_precision: 0.8273 - val_auroc: 0.9285 - val_recall: 0.5350\n",
            "Epoch 5/15\n",
            "143613/143613 [==============================] - 505s 4ms/step - loss: 0.0737 - acc: 0.9767 - mean_pred: 0.0367 - fmeasure: 0.5881 - precision: 0.8131 - auroc: 0.9305 - recall: 0.4687 - val_loss: 0.0819 - val_acc: 0.9789 - val_mean_pred: 0.0633 - val_fmeasure: 0.6488 - val_precision: 0.8280 - val_auroc: 0.9323 - val_recall: 0.5386\n",
            "Epoch 6/15\n",
            "143613/143613 [==============================] - 512s 4ms/step - loss: 0.0717 - acc: 0.9771 - mean_pred: 0.0367 - fmeasure: 0.6027 - precision: 0.8060 - auroc: 0.9340 - recall: 0.4890 - val_loss: 0.0752 - val_acc: 0.9789 - val_mean_pred: 0.0564 - val_fmeasure: 0.6517 - val_precision: 0.8330 - val_auroc: 0.9355 - val_recall: 0.5404\n",
            "Epoch 7/15\n",
            "143613/143613 [==============================] - 513s 4ms/step - loss: 0.0701 - acc: 0.9774 - mean_pred: 0.0366 - fmeasure: 0.6104 - precision: 0.8076 - auroc: 0.9369 - recall: 0.4981 - val_loss: 0.0715 - val_acc: 0.9791 - val_mean_pred: 0.0498 - val_fmeasure: 0.6409 - val_precision: 0.8679 - val_auroc: 0.9382 - val_recall: 0.5115\n",
            "Epoch 8/15\n",
            "143613/143613 [==============================] - 514s 4ms/step - loss: 0.0692 - acc: 0.9776 - mean_pred: 0.0366 - fmeasure: 0.6160 - precision: 0.8122 - auroc: 0.9394 - recall: 0.5038 - val_loss: 0.0722 - val_acc: 0.9793 - val_mean_pred: 0.0518 - val_fmeasure: 0.6491 - val_precision: 0.8593 - val_auroc: 0.9404 - val_recall: 0.5261\n",
            "Epoch 9/15\n",
            "143613/143613 [==============================] - 511s 4ms/step - loss: 0.0687 - acc: 0.9776 - mean_pred: 0.0366 - fmeasure: 0.6181 - precision: 0.8054 - auroc: 0.9413 - recall: 0.5077 - val_loss: 0.0799 - val_acc: 0.9793 - val_mean_pred: 0.0630 - val_fmeasure: 0.6687 - val_precision: 0.8148 - val_auroc: 0.9421 - val_recall: 0.5711\n",
            "Epoch 10/15\n",
            "143613/143613 [==============================] - 513s 4ms/step - loss: 0.0676 - acc: 0.9780 - mean_pred: 0.0366 - fmeasure: 0.6268 - precision: 0.8111 - auroc: 0.9428 - recall: 0.5171 - val_loss: 0.0688 - val_acc: 0.9794 - val_mean_pred: 0.0478 - val_fmeasure: 0.6560 - val_precision: 0.8445 - val_auroc: 0.9436 - val_recall: 0.5413\n",
            "Epoch 11/15\n",
            "143613/143613 [==============================] - 518s 4ms/step - loss: 0.0674 - acc: 0.9780 - mean_pred: 0.0367 - fmeasure: 0.6257 - precision: 0.8036 - auroc: 0.9443 - recall: 0.5186 - val_loss: 0.0741 - val_acc: 0.9797 - val_mean_pred: 0.0555 - val_fmeasure: 0.6653 - val_precision: 0.8427 - val_auroc: 0.9449 - val_recall: 0.5538\n",
            "Epoch 12/15\n",
            "143613/143613 [==============================] - 519s 4ms/step - loss: 0.0666 - acc: 0.9782 - mean_pred: 0.0366 - fmeasure: 0.6322 - precision: 0.8070 - auroc: 0.9456 - recall: 0.5265 - val_loss: 0.0768 - val_acc: 0.9790 - val_mean_pred: 0.0606 - val_fmeasure: 0.6751 - val_precision: 0.7818 - val_auroc: 0.9461 - val_recall: 0.5983\n",
            "Epoch 13/15\n",
            "143613/143613 [==============================] - 518s 4ms/step - loss: 0.0660 - acc: 0.9783 - mean_pred: 0.0366 - fmeasure: 0.6340 - precision: 0.8120 - auroc: 0.9466 - recall: 0.5266 - val_loss: 0.0686 - val_acc: 0.9797 - val_mean_pred: 0.0493 - val_fmeasure: 0.6710 - val_precision: 0.8316 - val_auroc: 0.9472 - val_recall: 0.5664\n",
            "Epoch 14/15\n",
            "143613/143613 [==============================] - 515s 4ms/step - loss: 0.0659 - acc: 0.9784 - mean_pred: 0.0365 - fmeasure: 0.6365 - precision: 0.8082 - auroc: 0.9477 - recall: 0.5321 - val_loss: 0.0689 - val_acc: 0.9796 - val_mean_pred: 0.0509 - val_fmeasure: 0.6745 - val_precision: 0.8192 - val_auroc: 0.9481 - val_recall: 0.5773\n",
            "Epoch 15/15\n",
            "143613/143613 [==============================] - 518s 4ms/step - loss: 0.0651 - acc: 0.9785 - mean_pred: 0.0366 - fmeasure: 0.6408 - precision: 0.8129 - auroc: 0.9486 - recall: 0.5359 - val_loss: 0.0680 - val_acc: 0.9794 - val_mean_pred: 0.0464 - val_fmeasure: 0.6602 - val_precision: 0.8345 - val_auroc: 0.9490 - val_recall: 0.5509\n"
          ],
          "name": "stdout"
        }
      ]
    },
    {
      "cell_type": "markdown",
      "metadata": {
        "colab_type": "text",
        "id": "sdg_Q-XaWDhp"
      },
      "source": [
        "### Evaluate the Bidirectional LSTM+FastText train and test score"
      ]
    },
    {
      "cell_type": "code",
      "metadata": {
        "colab_type": "code",
        "id": "0Xah0HB5WH41",
        "colab": {},
        "outputId": "5df2a79a-7bde-4d8e-91a5-9a1c386e6242"
      },
      "source": [
        "#train\n",
        "Bil_LSTM_FastText_train_score = Bil_LSTM_FastText_model.evaluate(X_tra, y_tra, batch_size=batch_size2, verbose=1)\n",
        "print('Train Loss:', Bil_LSTM_FastText_train_score[0])\n",
        "print('Train Accuracy:', Bil_LSTM_FastText_train_score[1])\n",
        "\n",
        "#test\n",
        "Bil_LSTM_FastText_test_score = Bil_LSTM_FastText_model.evaluate(X_test, y_test, batch_size=batch_size2, verbose=1)\n",
        "print('Test Loss:', Bil_LSTM_FastText_test_score[0])\n",
        "print('Test Accuracy:', Bil_LSTM_FastText_test_score[1])"
      ],
      "execution_count": 0,
      "outputs": [
        {
          "output_type": "stream",
          "text": [
            ""
          ],
          "name": "stdout"
        },
        {
          "output_type": "stream",
          "text": [
            "143613/143613 [==============================] - 162s 1ms/step\n",
            "Train Loss: 0.06478648370186751\n",
            "Train Accuracy: 0.9805066459128937\n",
            "63930/63930 [==============================] - 72s 1ms/step\n",
            "Test Loss: 0.08629419706166304\n",
            "Test Accuracy: 0.971547011918498\n"
          ],
          "name": "stdout"
        }
      ]
    },
    {
      "cell_type": "markdown",
      "metadata": {
        "colab_type": "text",
        "id": "E5WmDgJXWWzj"
      },
      "source": [
        "### Plot Training & Validation Accuracy with the Loss values of the Bidirectional LSTM-fastText Model\n"
      ]
    },
    {
      "cell_type": "code",
      "metadata": {
        "colab_type": "code",
        "id": "rM5jshaPWbUB",
        "colab": {},
        "outputId": "67a16e30-2d5d-42db-ac81-86e8f565359d"
      },
      "source": [
        "\n",
        "# Plot training & validation accuracy values\n",
        "plt.plot(Bil_LSTM_FastText_model_fit.history['acc'])\n",
        "plt.plot(Bil_LSTM_FastText_model_fit.history['val_acc'])\n",
        "plt.title('Bidirecitonal LSTM-fastText Model accuracy')\n",
        "plt.ylabel('Accuracy')\n",
        "plt.xlabel('Epoch')\n",
        "plt.legend(['Training Accuracy', 'Validation Accuracy'], loc='upper left')\n",
        "plt.show()\n",
        "\n",
        "# Plot training & validation loss values\n",
        "plt.plot(Bil_LSTM_FastText_model_fit.history['loss'])\n",
        "plt.plot(Bil_LSTM_FastText_model_fit.history['val_loss'])\n",
        "plt.title('Bidirecitonal LSTM-fastText Model loss')\n",
        "plt.ylabel('Loss')\n",
        "plt.xlabel('Epoch')\n",
        "plt.legend(['Training Loss', 'Validation Loss'], loc='lower right')\n",
        "plt.show()"
      ],
      "execution_count": 0,
      "outputs": [
        {
          "output_type": "display_data",
          "data": {
            "image/png": "[encoded data removed]",
            "text/plain": [
              "<Figure size 432x288 with 1 Axes>"
            ]
          },
          "metadata": {
            "tags": [],
            "needs_background": "light"
          }
        },
        {
          "output_type": "display_data",
          "data": {
            "image/png": "[encoded data removed]",
            "text/plain": [
              "<Figure size 432x288 with 1 Axes>"
            ]
          },
          "metadata": {
            "tags": [],
            "needs_background": "light"
          }
        }
      ]
    },
    {
      "cell_type": "markdown",
      "metadata": {
        "colab_type": "text",
        "id": "Bg7IhYxSWx5I"
      },
      "source": [
        "## 5) Gated Recurrent (GRU) with fastText"
      ]
    },
    {
      "cell_type": "code",
      "metadata": {
        "colab_type": "code",
        "id": "AcAdPzjQW1Lb",
        "colab": {}
      },
      "source": [
        "sequence_input = Input(shape=(max_len, ))\n",
        "model = Embedding(input_dim =fastText_embedding_matrix.shape[0], input_length=max_len, output_dim=fastText_embedding_matrix.shape[1],weights=[fastText_embedding_matrix], trainable=False)(sequence_input)\n",
        "model = SpatialDropout1D(0.2)(model)\n",
        "model = GRU(128, return_sequences=True,dropout=0.1,recurrent_dropout=0.1)(model)\n",
        "model = Conv1D(64, kernel_size = 3, padding = \"valid\", kernel_initializer = \"glorot_uniform\")(model)\n",
        "avg_pool = GlobalAveragePooling1D()(model)\n",
        "max_pool = GlobalMaxPooling1D()(model)\n",
        "model = concatenate([avg_pool, max_pool]) \n",
        "preds = Dense(6, activation=\"sigmoid\")(model)\n",
        "GRU_FastText_model = Model(sequence_input, preds)\n",
        "GRU_FastText_model.compile(loss='binary_crossentropy',optimizer=Adam(lr=1e-3),metrics=['accuracy', mean_pred, fmeasure, precision, auroc, recall])"
      ],
      "execution_count": 0,
      "outputs": []
    },
    {
      "cell_type": "markdown",
      "metadata": {
        "colab_type": "text",
        "id": "K8OhrCPUW-xo"
      },
      "source": [
        "### Visualize the Orchestrated GRU+fastText MODEL Architecture"
      ]
    },
    {
      "cell_type": "code",
      "metadata": {
        "colab_type": "code",
        "id": "UYNzN1sfXCRi",
        "colab": {},
        "outputId": "959b73ae-766d-4972-f878-f637712485aa"
      },
      "source": [
        "GRU_FastText_model.summary()\n",
        "\n",
        "#plot the GRU model architecture\n",
        "\n",
        "#plot_model(GRU_FastText_model, to_file='GRU_FastText_model_plot.png', show_shapes=True, show_layer_names=True)\n",
        "#Image(retina=True, filename='GRU_FastText_model_plot.png')"
      ],
      "execution_count": 0,
      "outputs": [
        {
          "output_type": "stream",
          "text": [
            "__________________________________________________________________________________________________\n",
            "Layer (type)                    Output Shape         Param #     Connected to                     \n",
            "==================================================================================================\n",
            "input_1 (InputLayer)            (None, 200)          0                                            \n",
            "__________________________________________________________________________________________________\n",
            "embedding_5 (Embedding)         (None, 200, 300)     30000000    input_1[0][0]                    \n",
            "__________________________________________________________________________________________________\n",
            "spatial_dropout1d_5 (SpatialDro (None, 200, 300)     0           embedding_5[0][0]                \n",
            "__________________________________________________________________________________________________\n",
            "gru_1 (GRU)                     (None, 200, 128)     164736      spatial_dropout1d_5[0][0]        \n",
            "__________________________________________________________________________________________________\n",
            "conv1d_2 (Conv1D)               (None, 198, 64)      24640       gru_1[0][0]                      \n",
            "__________________________________________________________________________________________________\n",
            "global_average_pooling1d_1 (Glo (None, 64)           0           conv1d_2[0][0]                   \n",
            "__________________________________________________________________________________________________\n",
            "global_max_pooling1d_5 (GlobalM (None, 64)           0           conv1d_2[0][0]                   \n",
            "__________________________________________________________________________________________________\n",
            "concatenate_1 (Concatenate)     (None, 128)          0           global_average_pooling1d_1[0][0] \n",
            "                                                                 global_max_pooling1d_5[0][0]     \n",
            "__________________________________________________________________________________________________\n",
            "dense_9 (Dense)                 (None, 6)            774         concatenate_1[0][0]              \n",
            "==================================================================================================\n",
            "Total params: 30,190,150\n",
            "Trainable params: 190,150\n",
            "Non-trainable params: 30,000,000\n",
            "__________________________________________________________________________________________________\n"
          ],
          "name": "stdout"
        }
      ]
    },
    {
      "cell_type": "code",
      "metadata": {
        "colab_type": "code",
        "id": "h65F18Q-XZfm",
        "colab": {},
        "outputId": "1ca1cb94-4e6c-49b0-fdf3-fca58e09a30a"
      },
      "source": [
        "GRU_FastText_model_fit = GRU_FastText_model.fit(X_tra, y_tra, batch_size=batch_size2, epochs=num_epochs, validation_data=(X_val, y_val), callbacks=[early])"
      ],
      "execution_count": 0,
      "outputs": [
        {
          "output_type": "stream",
          "text": [
            "Train on 143613 samples, validate on 15958 samples\n",
            "Epoch 1/15\n",
            "143613/143613 [==============================] - 1186s 8ms/step - loss: 0.1128 - acc: 0.9666 - mean_pred: 0.0436 - fmeasure: 0.3115 - precision: 0.5831 - auroc: 0.7905 - recall: 0.2270 - val_loss: 0.0811 - val_acc: 0.9744 - val_mean_pred: 0.0315 - val_fmeasure: 0.5101 - val_precision: 0.8582 - val_auroc: 0.8807 - val_recall: 0.3700\n",
            "Epoch 2/15\n",
            "143613/143613 [==============================] - 1398s 10ms/step - loss: 0.0735 - acc: 0.9768 - mean_pred: 0.0368 - fmeasure: 0.5871 - precision: 0.8228 - auroc: 0.9039 - recall: 0.4668 - val_loss: 0.0674 - val_acc: 0.9784 - val_mean_pred: 0.0321 - val_fmeasure: 0.6222 - val_precision: 0.8626 - val_auroc: 0.9198 - val_recall: 0.4928\n",
            "Epoch 3/15\n",
            "143613/143613 [==============================] - 1388s 10ms/step - loss: 0.0642 - acc: 0.9791 - mean_pred: 0.0367 - fmeasure: 0.6452 - precision: 0.8274 - auroc: 0.9291 - recall: 0.5370 - val_loss: 0.0617 - val_acc: 0.9799 - val_mean_pred: 0.0335 - val_fmeasure: 0.6651 - val_precision: 0.8496 - val_auroc: 0.9364 - val_recall: 0.5514\n",
            "Epoch 4/15\n",
            "143613/143613 [==============================] - 1429s 10ms/step - loss: 0.0590 - acc: 0.9802 - mean_pred: 0.0367 - fmeasure: 0.6753 - precision: 0.8308 - auroc: 0.9417 - recall: 0.5756 - val_loss: 0.0584 - val_acc: 0.9810 - val_mean_pred: 0.0335 - val_fmeasure: 0.6898 - val_precision: 0.8529 - val_auroc: 0.9461 - val_recall: 0.5853\n",
            "Epoch 5/15\n",
            "143613/143613 [==============================] - 1392s 10ms/step - loss: 0.0552 - acc: 0.9813 - mean_pred: 0.0366 - fmeasure: 0.6970 - precision: 0.8337 - auroc: 0.9495 - recall: 0.6062 - val_loss: 0.0558 - val_acc: 0.9809 - val_mean_pred: 0.0357 - val_fmeasure: 0.6985 - val_precision: 0.8262 - val_auroc: 0.9525 - val_recall: 0.6096\n",
            "Epoch 6/15\n",
            "143613/143613 [==============================] - 1389s 10ms/step - loss: 0.0526 - acc: 0.9818 - mean_pred: 0.0366 - fmeasure: 0.7108 - precision: 0.8348 - auroc: 0.9550 - recall: 0.6263 - val_loss: 0.0543 - val_acc: 0.9814 - val_mean_pred: 0.0387 - val_fmeasure: 0.7195 - val_precision: 0.8010 - val_auroc: 0.9571 - val_recall: 0.6573\n",
            "Epoch 7/15\n",
            "143613/143613 [==============================] - 1382s 10ms/step - loss: 0.0505 - acc: 0.9825 - mean_pred: 0.0366 - fmeasure: 0.7225 - precision: 0.8373 - auroc: 0.9590 - recall: 0.6420 - val_loss: 0.0546 - val_acc: 0.9814 - val_mean_pred: 0.0337 - val_fmeasure: 0.7081 - val_precision: 0.8282 - val_auroc: 0.9606 - val_recall: 0.6236\n",
            "Epoch 8/15\n",
            "143613/143613 [==============================] - 1389s 10ms/step - loss: 0.0488 - acc: 0.9828 - mean_pred: 0.0366 - fmeasure: 0.7318 - precision: 0.8404 - auroc: 0.9620 - recall: 0.6548 - val_loss: 0.0552 - val_acc: 0.9817 - val_mean_pred: 0.0321 - val_fmeasure: 0.7084 - val_precision: 0.8461 - val_auroc: 0.9633 - val_recall: 0.6139\n",
            "Epoch 9/15\n",
            "143613/143613 [==============================] - 1390s 10ms/step - loss: 0.0470 - acc: 0.9832 - mean_pred: 0.0366 - fmeasure: 0.7390 - precision: 0.8395 - auroc: 0.9645 - recall: 0.6661 - val_loss: 0.0528 - val_acc: 0.9821 - val_mean_pred: 0.0383 - val_fmeasure: 0.7314 - val_precision: 0.8070 - val_auroc: 0.9656 - val_recall: 0.6737\n",
            "Epoch 10/15\n",
            "143613/143613 [==============================] - 1387s 10ms/step - loss: 0.0457 - acc: 0.9837 - mean_pred: 0.0366 - fmeasure: 0.7473 - precision: 0.8444 - auroc: 0.9666 - recall: 0.6763 - val_loss: 0.0541 - val_acc: 0.9816 - val_mean_pred: 0.0331 - val_fmeasure: 0.7079 - val_precision: 0.8389 - val_auroc: 0.9675 - val_recall: 0.6187\n",
            "Epoch 11/15\n",
            "143613/143613 [==============================] - 1378s 10ms/step - loss: 0.0447 - acc: 0.9839 - mean_pred: 0.0366 - fmeasure: 0.7515 - precision: 0.8447 - auroc: 0.9683 - recall: 0.6828 - val_loss: 0.0564 - val_acc: 0.9817 - val_mean_pred: 0.0297 - val_fmeasure: 0.7009 - val_precision: 0.8623 - val_auroc: 0.9690 - val_recall: 0.5950\n",
            "Epoch 12/15\n",
            "143613/143613 [==============================] - 1393s 10ms/step - loss: 0.0432 - acc: 0.9845 - mean_pred: 0.0366 - fmeasure: 0.7613 - precision: 0.8485 - auroc: 0.9697 - recall: 0.6963 - val_loss: 0.0530 - val_acc: 0.9818 - val_mean_pred: 0.0369 - val_fmeasure: 0.7274 - val_precision: 0.8024 - val_auroc: 0.9704 - val_recall: 0.6696\n",
            "Epoch 13/15\n",
            "143613/143613 [==============================] - 1396s 10ms/step - loss: 0.0422 - acc: 0.9846 - mean_pred: 0.0366 - fmeasure: 0.7661 - precision: 0.8497 - auroc: 0.9711 - recall: 0.7030 - val_loss: 0.0532 - val_acc: 0.9817 - val_mean_pred: 0.0359 - val_fmeasure: 0.7229 - val_precision: 0.8110 - val_auroc: 0.9717 - val_recall: 0.6556\n"
          ],
          "name": "stdout"
        }
      ]
    },
    {
      "cell_type": "markdown",
      "metadata": {
        "colab_type": "text",
        "id": "cxewQLfsXYAR"
      },
      "source": [
        "### Evaluate the GRU+FastText Model train and test score"
      ]
    },
    {
      "cell_type": "code",
      "metadata": {
        "colab_type": "code",
        "id": "fuZI8K2lXkoe",
        "colab": {},
        "outputId": "76746b23-63a4-4f6e-fa2f-a21bffe682ad"
      },
      "source": [
        "#Train\n",
        "GRU_FastText_train_score = GRU_FastText_model.evaluate(X_tra, y_tra, batch_size=batch_size2, verbose=1)\n",
        "print('Train Loss:', GRU_FastText_train_score[0])\n",
        "print('Train Accuracy:', GRU_FastText_train_score[1])\n",
        "\n",
        "#Test\n",
        "GRU_FastText_test_score = GRU_FastText_model.evaluate(X_test, y_test, batch_size=batch_size2, verbose=1)\n",
        "print('Test Loss:', GRU_FastText_test_score[0])\n",
        "print('Test Accuracy:', GRU_FastText_test_score[1])"
      ],
      "execution_count": 0,
      "outputs": [
        {
          "output_type": "stream",
          "text": [
            ""
          ],
          "name": "stdout"
        },
        {
          "output_type": "stream",
          "text": [
            "143613/143613 [==============================] - 365s 3ms/step\n",
            "Train Loss: 0.03358903908063648\n",
            "Train Accuracy: 0.987636918658051\n",
            "63930/63930 [==============================] - 163s 3ms/step\n",
            "Test Loss: 0.07840128482791267\n",
            "Test Accuracy: 0.9711455349293409\n"
          ],
          "name": "stdout"
        }
      ]
    },
    {
      "cell_type": "markdown",
      "metadata": {
        "colab_type": "text",
        "id": "1MTH7L3hX1ou"
      },
      "source": [
        "### Plot Training & Validation Accuracy with the Loss values of the GRU+ FastText Model"
      ]
    },
    {
      "cell_type": "code",
      "metadata": {
        "colab_type": "code",
        "id": "AWGMZkRVX6y9",
        "colab": {},
        "outputId": "a43eb5a8-f11d-4a0e-c6a3-c66f5e13f2f2"
      },
      "source": [
        "# Plot training & validation accuracy values\n",
        "plt.plot(GRU_FastText_model_fit.history['acc'])\n",
        "plt.plot(GRU_FastText_model_fit.history['val_acc'])\n",
        "plt.title('Gated Recurrent Unit (GRU) with FastText Model accuracy')\n",
        "plt.ylabel('Accuracy')\n",
        "plt.xlabel('Epoch')\n",
        "plt.legend(['Training Accuracy', 'Validation Accuracy'], loc='upper left')\n",
        "plt.show()\n",
        "\n",
        "# Plot training & validation loss values\n",
        "plt.plot(GRU_FastText_model_fit.history['loss'])\n",
        "plt.plot(GRU_FastText_model_fit.history['val_loss'])\n",
        "plt.title('Bidirectional Gated Recurrent Unit (GRU) with FastText Model loss')\n",
        "plt.ylabel('Loss')\n",
        "plt.xlabel('Epoch')\n",
        "plt.legend(['Training Loss', 'Validation Loss'], loc='lower right')\n",
        "plt.show()"
      ],
      "execution_count": 0,
      "outputs": [
        {
          "output_type": "display_data",
          "data": {
            "image/png": "[encoded data removed]",
            "text/plain": [
              "<Figure size 432x288 with 1 Axes>"
            ]
          },
          "metadata": {
            "tags": [],
            "needs_background": "light"
          }
        },
        {
          "output_type": "display_data",
          "data": {
            "image/png": "[encoded data removed]",
            "text/plain": [
              "<Figure size 432x288 with 1 Axes>"
            ]
          },
          "metadata": {
            "tags": [],
            "needs_background": "light"
          }
        }
      ]
    },
    {
      "cell_type": "markdown",
      "metadata": {
        "colab_type": "text",
        "id": "5x1e85VIYEW3"
      },
      "source": [
        "## 6) Bidirectional Gated Recurrent (GRU) + FastText"
      ]
    },
    {
      "cell_type": "code",
      "metadata": {
        "colab_type": "code",
        "id": "HkoAPVYsYIDF",
        "colab": {}
      },
      "source": [
        "sequence_input = Input(shape=(max_len, ))\n",
        "model = Embedding(input_dim =fastText_embedding_matrix.shape[0], input_length=max_len, output_dim=fastText_embedding_matrix.shape[1],weights=[fastText_embedding_matrix], trainable=False)(sequence_input)\n",
        "model = SpatialDropout1D(0.2)(model)\n",
        "model = Bidirectional(GRU(128, return_sequences=True,dropout=0.1,recurrent_dropout=0.1))(model)\n",
        "model = Conv1D(64, kernel_size = 3, padding = \"valid\", kernel_initializer = \"glorot_uniform\")(model)\n",
        "avg_pool = GlobalAveragePooling1D()(model)\n",
        "max_pool = GlobalMaxPooling1D()(model)\n",
        "model = concatenate([avg_pool, max_pool]) \n",
        "preds = Dense(6, activation=\"sigmoid\")(model)\n",
        "Bil_GRU_FastText_model = Model(sequence_input, preds)\n",
        "Bil_GRU_FastText_model.compile(loss='binary_crossentropy',optimizer=Adam(lr=1e-3),metrics=['accuracy', mean_pred, fmeasure, precision, auroc, recall])"
      ],
      "execution_count": 0,
      "outputs": []
    },
    {
      "cell_type": "markdown",
      "metadata": {
        "colab_type": "text",
        "id": "A2I-jmsyYQyP"
      },
      "source": [
        "### Visualize the Orchestrated Bidirectional GRU+FastText Model Architecture"
      ]
    },
    {
      "cell_type": "code",
      "metadata": {
        "colab_type": "code",
        "id": "VxyK2aydYVfF",
        "colab": {},
        "outputId": "19d35fd3-ec2a-47fd-e6f1-c805f34cf013"
      },
      "source": [
        "Bil_GRU_FastText_model.summary()\n",
        "\n",
        "#plot the GRU model architecture\n",
        "\n",
        "#plot_model(Bil_GRU_FastText_model, to_file='Bil_GRU_FastText_model_plot.png', show_shapes=True, show_layer_names=True)\n",
        "#Image(retina=True, filename='Bil_GRU_FastText_model_plot.png') "
      ],
      "execution_count": 0,
      "outputs": [
        {
          "output_type": "stream",
          "text": [
            "__________________________________________________________________________________________________\n",
            "Layer (type)                    Output Shape         Param #     Connected to                     \n",
            "==================================================================================================\n",
            "input_2 (InputLayer)            (None, 200)          0                                            \n",
            "__________________________________________________________________________________________________\n",
            "embedding_6 (Embedding)         (None, 200, 300)     30000000    input_2[0][0]                    \n",
            "__________________________________________________________________________________________________\n",
            "spatial_dropout1d_6 (SpatialDro (None, 200, 300)     0           embedding_6[0][0]                \n",
            "__________________________________________________________________________________________________\n",
            "bidirectional_2 (Bidirectional) (None, 200, 256)     329472      spatial_dropout1d_6[0][0]        \n",
            "__________________________________________________________________________________________________\n",
            "conv1d_3 (Conv1D)               (None, 198, 64)      49216       bidirectional_2[0][0]            \n",
            "__________________________________________________________________________________________________\n",
            "global_average_pooling1d_2 (Glo (None, 64)           0           conv1d_3[0][0]                   \n",
            "__________________________________________________________________________________________________\n",
            "global_max_pooling1d_6 (GlobalM (None, 64)           0           conv1d_3[0][0]                   \n",
            "__________________________________________________________________________________________________\n",
            "concatenate_2 (Concatenate)     (None, 128)          0           global_average_pooling1d_2[0][0] \n",
            "                                                                 global_max_pooling1d_6[0][0]     \n",
            "__________________________________________________________________________________________________\n",
            "dense_10 (Dense)                (None, 6)            774         concatenate_2[0][0]              \n",
            "==================================================================================================\n",
            "Total params: 30,379,462\n",
            "Trainable params: 379,462\n",
            "Non-trainable params: 30,000,000\n",
            "__________________________________________________________________________________________________\n"
          ],
          "name": "stdout"
        }
      ]
    },
    {
      "cell_type": "code",
      "metadata": {
        "colab_type": "code",
        "id": "NeCrMjT4YlUU",
        "colab": {},
        "outputId": "6913f0a0-533a-41ae-ece3-4f1ce06863ec"
      },
      "source": [
        "Bil_GRU_FastText_model_fit = Bil_GRU_FastText_model.fit(X_tra, y_tra, batch_size=batch_size2, epochs=num_epochs, validation_data=(X_val, y_val), callbacks=[early])"
      ],
      "execution_count": 0,
      "outputs": [
        {
          "output_type": "stream",
          "text": [
            "Train on 143613 samples, validate on 15958 samples\n",
            "Epoch 1/15\n",
            "143613/143613 [==============================] - 5092s 35ms/step - loss: 0.1009 - acc: 0.9704 - mean_pred: 0.0399 - fmeasure: 0.3714 - precision: 0.6533 - auroc: 0.8252 - recall: 0.2746 - val_loss: 0.0730 - val_acc: 0.9769 - val_mean_pred: 0.0330 - val_fmeasure: 0.5842 - val_precision: 0.8559 - val_auroc: 0.9043 - val_recall: 0.4493\n",
            "Epoch 2/15\n",
            "143613/143613 [==============================] - 5649s 39ms/step - loss: 0.0680 - acc: 0.9781 - mean_pred: 0.0368 - fmeasure: 0.6218 - precision: 0.8240 - auroc: 0.9222 - recall: 0.5092 - val_loss: 0.0618 - val_acc: 0.9794 - val_mean_pred: 0.0330 - val_fmeasure: 0.6515 - val_precision: 0.8607 - val_auroc: 0.9350 - val_recall: 0.5284\n",
            "Epoch 3/15\n",
            "143613/143613 [==============================] - 5654s 39ms/step - loss: 0.0596 - acc: 0.9800 - mean_pred: 0.0367 - fmeasure: 0.6717 - precision: 0.8261 - auroc: 0.9424 - recall: 0.5738 - val_loss: 0.0571 - val_acc: 0.9808 - val_mean_pred: 0.0352 - val_fmeasure: 0.6928 - val_precision: 0.8381 - val_auroc: 0.9480 - val_recall: 0.5950\n",
            "Epoch 4/15\n",
            "143613/143613 [==============================] - 5671s 39ms/step - loss: 0.0546 - acc: 0.9811 - mean_pred: 0.0366 - fmeasure: 0.6954 - precision: 0.8300 - auroc: 0.9522 - recall: 0.6062 - val_loss: 0.0554 - val_acc: 0.9813 - val_mean_pred: 0.0421 - val_fmeasure: 0.7243 - val_precision: 0.7838 - val_auroc: 0.9557 - val_recall: 0.6777\n",
            "Epoch 5/15\n",
            "143613/143613 [==============================] - 5661s 39ms/step - loss: 0.0515 - acc: 0.9820 - mean_pred: 0.0367 - fmeasure: 0.7145 - precision: 0.8316 - auroc: 0.9585 - recall: 0.6334 - val_loss: 0.0540 - val_acc: 0.9816 - val_mean_pred: 0.0344 - val_fmeasure: 0.7087 - val_precision: 0.8372 - val_auroc: 0.9608 - val_recall: 0.6192\n",
            "Epoch 6/15\n",
            "143613/143613 [==============================] - 5694s 40ms/step - loss: 0.0491 - acc: 0.9827 - mean_pred: 0.0367 - fmeasure: 0.7300 - precision: 0.8363 - auroc: 0.9628 - recall: 0.6546 - val_loss: 0.0536 - val_acc: 0.9818 - val_mean_pred: 0.0353 - val_fmeasure: 0.7219 - val_precision: 0.8143 - val_auroc: 0.9644 - val_recall: 0.6524\n",
            "Epoch 7/15\n",
            "143613/143613 [==============================] - 5692s 40ms/step - loss: 0.0470 - acc: 0.9832 - mean_pred: 0.0366 - fmeasure: 0.7395 - precision: 0.8385 - auroc: 0.9659 - recall: 0.6684 - val_loss: 0.0536 - val_acc: 0.9818 - val_mean_pred: 0.0326 - val_fmeasure: 0.7098 - val_precision: 0.8494 - val_auroc: 0.9671 - val_recall: 0.6135\n",
            "Epoch 8/15\n",
            "143613/143613 [==============================] - 5689s 40ms/step - loss: 0.0450 - acc: 0.9836 - mean_pred: 0.0366 - fmeasure: 0.7489 - precision: 0.8389 - auroc: 0.9683 - recall: 0.6825 - val_loss: 0.0528 - val_acc: 0.9817 - val_mean_pred: 0.0395 - val_fmeasure: 0.7315 - val_precision: 0.7899 - val_auroc: 0.9694 - val_recall: 0.6842\n",
            "Epoch 9/15\n",
            "143613/143613 [==============================] - 5700s 40ms/step - loss: 0.0430 - acc: 0.9842 - mean_pred: 0.0366 - fmeasure: 0.7591 - precision: 0.8438 - auroc: 0.9704 - recall: 0.6951 - val_loss: 0.0523 - val_acc: 0.9822 - val_mean_pred: 0.0369 - val_fmeasure: 0.7360 - val_precision: 0.8046 - val_auroc: 0.9713 - val_recall: 0.6818\n",
            "Epoch 10/15\n",
            "143613/143613 [==============================] - 5681s 40ms/step - loss: 0.0415 - acc: 0.9847 - mean_pred: 0.0367 - fmeasure: 0.7677 - precision: 0.8465 - auroc: 0.9721 - recall: 0.7083 - val_loss: 0.0561 - val_acc: 0.9820 - val_mean_pred: 0.0323 - val_fmeasure: 0.7188 - val_precision: 0.8412 - val_auroc: 0.9728 - val_recall: 0.6325\n",
            "Epoch 11/15\n",
            "143613/143613 [==============================] - 5663s 39ms/step - loss: 0.0398 - acc: 0.9853 - mean_pred: 0.0366 - fmeasure: 0.7791 - precision: 0.8537 - auroc: 0.9735 - recall: 0.7212 - val_loss: 0.0536 - val_acc: 0.9822 - val_mean_pred: 0.0376 - val_fmeasure: 0.7381 - val_precision: 0.7935 - val_auroc: 0.9741 - val_recall: 0.6935\n",
            "Epoch 12/15\n",
            "143613/143613 [==============================] - 5670s 39ms/step - loss: 0.0382 - acc: 0.9859 - mean_pred: 0.0366 - fmeasure: 0.7878 - precision: 0.8584 - auroc: 0.9748 - recall: 0.7335 - val_loss: 0.0596 - val_acc: 0.9817 - val_mean_pred: 0.0291 - val_fmeasure: 0.7045 - val_precision: 0.8642 - val_auroc: 0.9753 - val_recall: 0.5987\n",
            "Epoch 13/15\n",
            "143613/143613 [==============================] - 5652s 39ms/step - loss: 0.0367 - acc: 0.9863 - mean_pred: 0.0366 - fmeasure: 0.7950 - precision: 0.8630 - auroc: 0.9758 - recall: 0.7418 - val_loss: 0.0549 - val_acc: 0.9819 - val_mean_pred: 0.0366 - val_fmeasure: 0.7342 - val_precision: 0.7938 - val_auroc: 0.9763 - val_recall: 0.6865\n"
          ],
          "name": "stdout"
        }
      ]
    },
    {
      "cell_type": "markdown",
      "metadata": {
        "colab_type": "text",
        "id": "A5aLQtftYi_F"
      },
      "source": [
        "### Evaluate the GRU+FastText Model train and test score"
      ]
    },
    {
      "cell_type": "code",
      "metadata": {
        "colab_type": "code",
        "id": "k5KVuOP2Yjjn",
        "colab": {},
        "outputId": "3f546287-9784-4556-fcf8-94ef22896f9b"
      },
      "source": [
        "#Train\n",
        "Bil_GRU_FastText_train_score = Bil_GRU_FastText_model.evaluate(X_tra, y_tra, batch_size=batch_size2, verbose=1)\n",
        "print('Train Loss:', Bil_GRU_FastText_train_score[0])\n",
        "print('Train Accuracy:', Bil_GRU_FastText_train_score[1])\n",
        "\n",
        "#Test\n",
        "Bil_GRU_FastText_test_score = Bil_GRU_FastText_model.evaluate(X_test, y_test, batch_size=batch_size2, verbose=1)\n",
        "print('Test Loss:', Bil_GRU_FastText_test_score[0])\n",
        "print('Test Accuracy:', Bil_GRU_FastText_test_score[1])"
      ],
      "execution_count": 0,
      "outputs": [
        {
          "output_type": "stream",
          "text": [
            ""
          ],
          "name": "stdout"
        },
        {
          "output_type": "stream",
          "text": [
            "143613/143613 [==============================] - 1200s 8ms/step\n",
            "Train Loss: 0.02664773156169494\n",
            "Train Accuracy: 0.9899649316004523\n",
            "63930/63930 [==============================] - 539s 8ms/step\n",
            "Test Loss: 0.0827200686040757\n",
            "Test Accuracy: 0.9708378980720284\n"
          ],
          "name": "stdout"
        }
      ]
    },
    {
      "cell_type": "markdown",
      "metadata": {
        "colab_type": "text",
        "id": "hvIL5jtnZKaT"
      },
      "source": [
        "### Plot Training & Validation Accuracy with the Loss values of the Bil GRU + FastText Model"
      ]
    },
    {
      "cell_type": "code",
      "metadata": {
        "colab_type": "code",
        "id": "vmacE0G3ZF1v",
        "colab": {},
        "outputId": "b47629d0-2eba-4601-c7eb-ff9856b68632"
      },
      "source": [
        "# Plot training & validation accuracy values\n",
        "plt.plot(Bil_GRU_FastText_model_fit.history['acc'])\n",
        "plt.plot(Bil_GRU_FastText_model_fit.history['val_acc'])\n",
        "plt.title(' Bidirectional Gated Recurrent Unit (GRU) with fastText Model accuracy')\n",
        "plt.ylabel('Accuracy')\n",
        "plt.xlabel('Epoch')\n",
        "plt.legend(['Training Accuracy', 'Validation Accuracy'], loc='upper left')\n",
        "plt.show()\n",
        "\n",
        "# Plot training & validation loss values\n",
        "plt.plot(Bil_GRU_FastText_model_fit.history['loss'])\n",
        "plt.plot(Bil_GRU_FastText_model_fit.history['val_loss'])\n",
        "plt.title('Bidirectional Gated Recurrent Unit (GRU) with fastText Model loss')\n",
        "plt.ylabel('Loss')\n",
        "plt.xlabel('Epoch')\n",
        "plt.legend(['Training Loss', 'Validation Loss'], loc='lower right')\n",
        "plt.show()"
      ],
      "execution_count": 0,
      "outputs": [
        {
          "output_type": "display_data",
          "data": {
            "image/png": "[encoded data removed]",
            "text/plain": [
              "<Figure size 432x288 with 1 Axes>"
            ]
          },
          "metadata": {
            "tags": [],
            "needs_background": "light"
          }
        },
        {
          "output_type": "display_data",
          "data": {
            "image/png": "[encoded data removed]",
            "text/plain": [
              "<Figure size 432x288 with 1 Axes>"
            ]
          },
          "metadata": {
            "tags": [],
            "needs_background": "light"
          }
        }
      ]
    },
    {
      "cell_type": "markdown",
      "metadata": {
        "colab_type": "text",
        "id": "db28Tpnvejiq"
      },
      "source": [
        "# Evaluation of Experiment With fastText Pre-trained Embedding"
      ]
    },
    {
      "cell_type": "markdown",
      "metadata": {
        "colab_type": "text",
        "id": "oh7FUzQnZ7BJ"
      },
      "source": [
        "#### Computing the highest of the evaluation matrics (per model) "
      ]
    },
    {
      "cell_type": "code",
      "metadata": {
        "colab_type": "code",
        "id": "zK_Xn0hNAKJo",
        "colab": {},
        "outputId": "46ae5c53-27a7-4a28-fcfb-fc4fe0bd7baf"
      },
      "source": [
        "trace = go.Table(\n",
        "    header=dict(values=['Model', 'Loss', 'Accuracy', 'mean_pred', 'F-Measure', 'Precision', 'AUC', 'Recall'],\n",
        "                line = dict(color='#7D7F80'),\n",
        "                fill = dict(color='#a1c3d1'),\n",
        "                align = ['left'] * 5),\n",
        "    cells=dict(values=[['CNN with fastText', 'RNNs with fastText', 'LSTM with fastText', ' Bidirectional LSTM with fastText', 'GRU with fastText', 'Bidirectional GRU with fastText'],\n",
        "                       [\n",
        "                        #Loss Evaluation\n",
        "                        round(np.max(CNN_FastText_model_fit.history['loss']), 3), round(np.max(RNN_FastText_model_fit.history['loss']), 3), \n",
        "                        round(np.max(LSTM_FastText_model_fit.history['loss']), 3), round(np.max(Bil_LSTM_FastText_model_fit.history['loss']), 3), round(np.max(GRU_FastText_model_fit.history['loss']), 3),\n",
        "                        round(np.max(Bil_GRU_FastText_model_fit.history['loss']), 3)],\n",
        "                        \n",
        "                        #Accuracy Evaluation\n",
        "                        [round(np.max(CNN_FastText_model_fit.history['acc']), 3), round(np.max(RNN_FastText_model_fit.history['acc']), 3), \n",
        "                        round(np.max(LSTM_FastText_model_fit.history['acc']), 3), round(np.max(Bil_LSTM_FastText_model_fit.history['acc']), 3), round(np.max(GRU_FastText_model_fit.history['acc']), 3),\n",
        "                        round(np.max(Bil_GRU_FastText_model_fit.history['acc']), 3)],\n",
        "               \n",
        "                        #mean_pred Evaluation\n",
        "                        [round(np.max(CNN_FastText_model_fit.history['mean_pred']), 3), round(np.max(RNN_FastText_model_fit.history['mean_pred']), 3), \n",
        "                        round(np.max(LSTM_FastText_model_fit.history['mean_pred']), 3), round(np.max(Bil_LSTM_FastText_model_fit.history['mean_pred']), 3), round(np.max(GRU_FastText_model_fit.history['mean_pred']), 3),\n",
        "                        round(np.max(Bil_GRU_FastText_model_fit.history['mean_pred']), 3)],\n",
        "\t\t\t\t\t\t\n",
        "                        #F1-Measure Evaluation fmeasure\n",
        "                        [round(np.max(CNN_FastText_model_fit.history['fmeasure']), 3), round(np.max(RNN_FastText_model_fit.history['fmeasure']), 3), \n",
        "                        round(np.max(LSTM_FastText_model_fit.history['fmeasure']), 3), round(np.max(Bil_LSTM_FastText_model_fit.history['fmeasure']), 3), round(np.max(GRU_FastText_model_fit.history['fmeasure']), 3),\n",
        "                        round(np.max(Bil_GRU_FastText_model_fit.history['fmeasure']), 3)],\n",
        "\t\t\t\t\t\t             \n",
        "                        #Precision Evaluation precision\n",
        "                        [round(np.max(CNN_FastText_model_fit.history['precision']), 3), round(np.max(RNN_FastText_model_fit.history['precision']), 3), \n",
        "                        round(np.max(LSTM_FastText_model_fit.history['precision']), 3), round(np.max(Bil_LSTM_FastText_model_fit.history['precision']), 3), round(np.max(GRU_FastText_model_fit.history['precision']), 3),\n",
        "                        round(np.max(Bil_GRU_FastText_model_fit.history['precision']), 3)],\n",
        "\t\t\t\t\t\t\n",
        "                        #ROC AUC Evaluation auroc\n",
        "                        [round(np.max(CNN_FastText_model_fit.history['auroc']), 3), round(np.max(RNN_FastText_model_fit.history['auroc']), 3), \n",
        "                        round(np.max(LSTM_FastText_model_fit.history['auroc']), 3), round(np.max(Bil_LSTM_FastText_model_fit.history['auroc']), 3), round(np.max(GRU_FastText_model_fit.history['auroc']), 3),\n",
        "                        round(np.max(Bil_GRU_FastText_model_fit.history['auroc']), 3)],\n",
        "                       \n",
        "                        #Recall Evaluation\n",
        "                        [round(np.max(CNN_FastText_model_fit.history['recall']), 3), round(np.max(RNN_FastText_model_fit.history['recall']), 3), \n",
        "                        round(np.max(LSTM_FastText_model_fit.history['recall']), 3), round(np.max(Bil_LSTM_FastText_model_fit.history['recall']), 3), round(np.max(GRU_FastText_model_fit.history['recall']), 3),\n",
        "                        round(np.max(Bil_GRU_FastText_model_fit.history['recall']), 3)]],\n",
        "    line = dict(color='#7D7F80'),\n",
        "    fill = dict(color='#EDFAFF'),\n",
        "    align = ['left'] * 5))\n",
        "\n",
        "layout = dict(width=800, height=400)\n",
        "data = [trace]\n",
        "fig = dict(data=data, layout=layout)\n",
        "py.iplot(data, filename = 'fastText_trained_embedding_with the max of the evaluation matrics (per model) _table')"
      ],
      "execution_count": 0,
      "outputs": [
        {
          "output_type": "stream",
          "text": [
            "D:\\Program Files\\Anaconda\\lib\\site-packages\\IPython\\core\\display.py:689: UserWarning:\n",
            "\n",
            "Consider using IPython.display.IFrame instead\n",
            "\n"
          ],
          "name": "stderr"
        },
        {
          "output_type": "execute_result",
          "data": {
            "text/html": [
              "<iframe id=\"igraph\" scrolling=\"no\" style=\"border:none;\" seamless=\"seamless\" src=\"https://plot.ly/~hamzasharoon/11.embed\" height=\"525px\" width=\"100%\"></iframe>"
            ],
            "text/plain": [
              "<chart_studio.tools.PlotlyDisplay object>"
            ]
          },
          "metadata": {
            "tags": []
          },
          "execution_count": 65
        }
      ]
    },
    {
      "cell_type": "markdown",
      "metadata": {
        "colab_type": "text",
        "id": "T6TsVU-zZ-wi"
      },
      "source": [
        "#### Computing the mean average of the evaluation matrics (per model) "
      ]
    },
    {
      "cell_type": "code",
      "metadata": {
        "colab_type": "code",
        "id": "6zYBwkh2ZzLC",
        "colab": {},
        "outputId": "433e6fdc-a2a6-49dc-daf9-195db33a61c2"
      },
      "source": [
        "trace = go.Table(\n",
        "    header=dict(values=['Model', 'Loss', 'Accuracy', 'mean_pred', 'F-Measure', 'Precision', 'AUC', 'Recall'],\n",
        "                line = dict(color='#7D7F80'),\n",
        "                fill = dict(color='#a1c3d1'),\n",
        "                align = ['left'] * 5),\n",
        "    cells=dict(values=[['CNN with fastText', 'RNNs with fastText', 'LSTM with fastText', ' Bidirectional LSTM with fastText', 'GRU with fastText', 'Bidirectional GRU with fastText'],\n",
        "                       [\n",
        "                        #Loss Evaluation\n",
        "                        round(np.mean(CNN_FastText_model_fit.history['loss']), 3), round(np.mean(RNN_FastText_model_fit.history['loss']), 3), \n",
        "                        round(np.mean(LSTM_FastText_model_fit.history['loss']), 3), round(np.mean(Bil_LSTM_FastText_model_fit.history['loss']), 3), round(np.mean(GRU_FastText_model_fit.history['loss']), 3),\n",
        "                        round(np.mean(Bil_GRU_FastText_model_fit.history['loss']), 3)],\n",
        "                        \n",
        "                        #Accuracy Evaluation\n",
        "                        [round(np.mean(CNN_FastText_model_fit.history['acc']), 3), round(np.mean(RNN_FastText_model_fit.history['acc']), 3), \n",
        "                        round(np.mean(LSTM_FastText_model_fit.history['acc']), 3), round(np.mean(Bil_LSTM_FastText_model_fit.history['acc']), 3), round(np.mean(GRU_FastText_model_fit.history['acc']), 3),\n",
        "                        round(np.mean(Bil_GRU_FastText_model_fit.history['acc']), 3)],\n",
        "               \n",
        "                        #mean_pred Evaluation\n",
        "                        [round(np.mean(CNN_FastText_model_fit.history['mean_pred']), 3), round(np.mean(RNN_FastText_model_fit.history['mean_pred']), 3), \n",
        "                        round(np.mean(LSTM_FastText_model_fit.history['mean_pred']), 3), round(np.mean(Bil_LSTM_FastText_model_fit.history['mean_pred']), 3), round(np.mean(GRU_FastText_model_fit.history['mean_pred']), 3),\n",
        "                        round(np.mean(Bil_GRU_FastText_model_fit.history['mean_pred']), 3)],\n",
        "\t\t\t\t\t\t\n",
        "                        #F1-Measure Evaluation fmeasure\n",
        "                        [round(np.mean(CNN_FastText_model_fit.history['fmeasure']), 3), round(np.mean(RNN_FastText_model_fit.history['fmeasure']), 3), \n",
        "                        round(np.mean(LSTM_FastText_model_fit.history['fmeasure']), 3), round(np.mean(Bil_LSTM_FastText_model_fit.history['fmeasure']), 3), round(np.mean(GRU_FastText_model_fit.history['fmeasure']), 3),\n",
        "                        round(np.mean(Bil_GRU_FastText_model_fit.history['fmeasure']), 3)],\n",
        "\t\t\t\t\t\t             \n",
        "                        #Precision Evaluation precision\n",
        "                        [round(np.mean(CNN_FastText_model_fit.history['precision']), 3), round(np.mean(RNN_FastText_model_fit.history['precision']), 3), \n",
        "                        round(np.mean(LSTM_FastText_model_fit.history['precision']), 3), round(np.mean(Bil_LSTM_FastText_model_fit.history['precision']), 3), round(np.mean(GRU_FastText_model_fit.history['precision']), 3),\n",
        "                        round(np.mean(Bil_GRU_FastText_model_fit.history['precision']), 3)],\n",
        "\t\t\t\t\t\t\n",
        "                        #ROC AUC Evaluation auroc\n",
        "                        [round(np.mean(CNN_FastText_model_fit.history['auroc']), 3), round(np.mean(RNN_FastText_model_fit.history['auroc']), 3), \n",
        "                        round(np.mean(LSTM_FastText_model_fit.history['auroc']), 3), round(np.mean(Bil_LSTM_FastText_model_fit.history['auroc']), 3), round(np.mean(GRU_FastText_model_fit.history['auroc']), 3),\n",
        "                        round(np.mean(Bil_GRU_FastText_model_fit.history['auroc']), 3)],\n",
        "                       \n",
        "                        #Recall Evaluation\n",
        "                        [round(np.mean(CNN_FastText_model_fit.history['recall']), 3), round(np.mean(RNN_FastText_model_fit.history['recall']), 3), \n",
        "                        round(np.mean(LSTM_FastText_model_fit.history['recall']), 3), round(np.mean(Bil_LSTM_FastText_model_fit.history['recall']), 3), round(np.mean(GRU_FastText_model_fit.history['recall']), 3),\n",
        "                        round(np.mean(Bil_GRU_FastText_model_fit.history['recall']), 3)]\n",
        "                       ],\n",
        "               line = dict(color='#7D7F80'),\n",
        "               fill = dict(color='#EDFAFF'),\n",
        "               align = ['left'] * 5))\n",
        "\n",
        "layout = dict(width=800, height=400)\n",
        "data = [trace]\n",
        "fig = dict(data=data, layout=layout)\n",
        "py.iplot(data, filename = 'fastText_trained_embedding_with the Mean value of the evaluation matrics (per model) _table')"
      ],
      "execution_count": 0,
      "outputs": [
        {
          "output_type": "stream",
          "text": [
            "D:\\Program Files\\Anaconda\\lib\\site-packages\\IPython\\core\\display.py:689: UserWarning:\n",
            "\n",
            "Consider using IPython.display.IFrame instead\n",
            "\n"
          ],
          "name": "stderr"
        },
        {
          "output_type": "execute_result",
          "data": {
            "text/html": [
              "<iframe id=\"igraph\" scrolling=\"no\" style=\"border:none;\" seamless=\"seamless\" src=\"https://plot.ly/~hamzasharoon/9.embed\" height=\"525px\" width=\"100%\"></iframe>"
            ],
            "text/plain": [
              "<chart_studio.tools.PlotlyDisplay object>"
            ]
          },
          "metadata": {
            "tags": []
          },
          "execution_count": 66
        }
      ]
    },
    {
      "cell_type": "markdown",
      "metadata": {
        "colab_type": "text",
        "id": "2VzWx7OAbc9k"
      },
      "source": [
        "### Score Confusion Table"
      ]
    },
    {
      "cell_type": "code",
      "metadata": {
        "colab_type": "code",
        "id": "SrC8BJWCbe4_",
        "colab": {},
        "outputId": "9f9d0df4-7fd2-4555-a471-7f66653090f3"
      },
      "source": [
        "# concat all training, validation and testing accuracy scores\n",
        "\n",
        "CNN_FastText_Accuracy = ['Convolutional Neural Network (CNN) with fastText', \n",
        "                np.mean(CNN_FastText_model_fit.history['acc']), \n",
        "                np.mean(CNN_FastText_model_fit.history['val_acc']), \n",
        "                CNN_FastText_test_score[1]]\n",
        "\n",
        "RNN_FastText_Accuracy = ['Recurrent Neural Networks (RNNs) with fastText', \n",
        "                np.mean(RNN_FastText_model_fit.history['acc']), \n",
        "                np.mean(RNN_FastText_model_fit.history['val_acc']), \n",
        "                RNN_FastText_test_score[1]]\n",
        "\n",
        "LSTM_FastText_Accuracy = ['LSTM with fastText', \n",
        "                  np.mean(LSTM_FastText_model_fit.history['acc']), \n",
        "                  np.mean(LSTM_FastText_model_fit.history['val_acc']), \n",
        "                  LSTM_FastText_test_score[1]]\n",
        "\n",
        "Bidirectional_LSTM_FastText_Accuracy = ['Bidirectional LSTM with fastText', \n",
        "                    np.mean(Bil_LSTM_FastText_model_fit.history['acc']), \n",
        "                    np.mean(Bil_LSTM_FastText_model_fit.history['val_acc']), \n",
        "                    Bil_LSTM_FastText_test_score[1]]\n",
        "\n",
        "GRU_FastText_Accuracy = ['GRU with fastText', \n",
        "                    np.mean(GRU_FastText_model_fit.history['acc']), \n",
        "                    np.mean(GRU_FastText_model_fit.history['val_acc']), \n",
        "                    GRU_FastText_test_score[1]]\n",
        "\n",
        "Bidirectional_GRU_FastText_Accuracy = ['Bidirectional GRU with fastText', \n",
        "                    np.mean(Bil_GRU_FastText_model_fit.history['acc']), \n",
        "                    np.mean(Bil_GRU_FastText_model_fit.history['val_acc']), \n",
        "                    Bil_GRU_FastText_test_score[1]]\n",
        "\n",
        "\n",
        "# create dataframe\n",
        "experimentalResult = pd.DataFrame([CNN_FastText_Accuracy])\n",
        "# append all other scores\n",
        "experimentalResult = experimentalResult.append([CNN_FastText_Accuracy, RNN_FastText_Accuracy, LSTM_FastText_Accuracy, Bidirectional_LSTM_FastText_Accuracy, \n",
        "                                                GRU_FastText_Accuracy, Bidirectional_GRU_FastText_Accuracy])\n",
        "\n",
        "\n",
        "# beautify the new dataframe\n",
        "experimentalResult.columns = ['Model', 'Training Accuracy', 'Validation Accuracy', 'Testing Accuracy']\n",
        "experimentalResult.set_index(['Model'], inplace=True)\n",
        "experimentalResult\n",
        "print(experimentalResult)"
      ],
      "execution_count": 0,
      "outputs": [
        {
          "output_type": "stream",
          "text": [
            "                                                  Training Accuracy  \\\n",
            "Model                                                                 \n",
            "Convolutional Neural Network (CNN) with fastText           0.973515   \n",
            "Convolutional Neural Network (CNN) with fastText           0.973515   \n",
            "Recurrent Neural Networks (RNNs) with fastText             0.964558   \n",
            "LSTM with fastText                                         0.975110   \n",
            "Bidirectional LSTM with fastText                           0.976802   \n",
            "GRU with fastText                                          0.980857   \n",
            "Bidirectional GRU with fastText                            0.982114   \n",
            "\n",
            "                                                  Validation Accuracy  \\\n",
            "Model                                                                   \n",
            "Convolutional Neural Network (CNN) with fastText             0.975665   \n",
            "Convolutional Neural Network (CNN) with fastText             0.975665   \n",
            "Recurrent Neural Networks (RNNs) with fastText               0.964179   \n",
            "LSTM with fastText                                           0.976911   \n",
            "Bidirectional LSTM with fastText                             0.978809   \n",
            "GRU with fastText                                            0.980623   \n",
            "Bidirectional GRU with fastText                              0.981182   \n",
            "\n",
            "                                                  Testing Accuracy  \n",
            "Model                                                               \n",
            "Convolutional Neural Network (CNN) with fastText          0.972652  \n",
            "Convolutional Neural Network (CNN) with fastText          0.972652  \n",
            "Recurrent Neural Networks (RNNs) with fastText            0.962047  \n",
            "LSTM with fastText                                        0.972238  \n",
            "Bidirectional LSTM with fastText                          0.971547  \n",
            "GRU with fastText                                         0.971146  \n",
            "Bidirectional GRU with fastText                           0.970838  \n"
          ],
          "name": "stdout"
        }
      ]
    }
  ]
}